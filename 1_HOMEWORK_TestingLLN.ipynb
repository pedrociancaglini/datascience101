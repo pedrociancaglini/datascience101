{
  "nbformat": 4,
  "nbformat_minor": 0,
  "metadata": {
    "colab": {
      "name": "1.HOMEWORK-TestingLLN.ipynb",
      "provenance": [],
      "collapsed_sections": [],
      "authorship_tag": "ABX9TyOIZlc+cQGE/0fjYwwIfiaJ",
      "include_colab_link": true
    },
    "kernelspec": {
      "name": "python3",
      "display_name": "Python 3"
    },
    "language_info": {
      "name": "python"
    }
  },
  "cells": [
    {
      "cell_type": "markdown",
      "metadata": {
        "id": "view-in-github",
        "colab_type": "text"
      },
      "source": [
        "<a href=\"https://colab.research.google.com/github/pedrociancaglini/datascience101/blob/main/1_HOMEWORK_TestingLLN.ipynb\" target=\"_parent\"><img src=\"https://colab.research.google.com/assets/colab-badge.svg\" alt=\"Open In Colab\"/></a>"
      ]
    },
    {
      "cell_type": "code",
      "metadata": {
        "id": "IsuTzR4i4m_d"
      },
      "source": [
        "import numpy as np\n",
        "from numpy.random import randn"
      ],
      "execution_count": null,
      "outputs": []
    },
    {
      "cell_type": "code",
      "metadata": {
        "id": "I9doaYhS4-R7"
      },
      "source": [
        "\n",
        "def lln(num_range=0):\n",
        "  count_bt, count_gt, count_ls, ex_res = 0 , 0, 0, 0\n",
        "\n",
        "  for i in range(num_range):\n",
        "    x = randn()\n",
        "    #print(x)\n",
        "    if x > 1:\n",
        "      answer = \"Greater than 1\"\n",
        "      count_gt += 1\n",
        "      #print(answer)\n",
        "    elif x < -1:\n",
        "      answer = \"Less than -1\"\n",
        "      count_ls +=  1\n",
        "      #print(answer)\n",
        "    else: \n",
        "      answer = \"Between -1 and 1\"\n",
        "      count_bt += 1\n",
        "      #print(answer)\n",
        "\n",
        "  ex_res = count_bt/num_range\n",
        "  print('Qty of BT, GT, LS: ' , count_bt, count_gt, count_ls)\n",
        "  print('E(X) = ', count_bt/num_range)\n",
        "  return ex_res"
      ],
      "execution_count": null,
      "outputs": []
    },
    {
      "cell_type": "code",
      "metadata": {
        "colab": {
          "base_uri": "https://localhost:8080/"
        },
        "id": "IfmCrI8y9F71",
        "outputId": "8d39092f-a821-4888-b736-6e3baa6b721f"
      },
      "source": [
        "lln(10)\n",
        "lln(100)\n",
        "lln(1000)"
      ],
      "execution_count": null,
      "outputs": [
        {
          "output_type": "stream",
          "text": [
            "Qty of BT, GT, LS:  5 2 3\n",
            "E(X) =  0.5\n",
            "Qty of BT, GT, LS:  72 11 17\n",
            "E(X) =  0.72\n",
            "Qty of BT, GT, LS:  695 157 148\n",
            "E(X) =  0.695\n"
          ],
          "name": "stdout"
        }
      ]
    }
  ]
}