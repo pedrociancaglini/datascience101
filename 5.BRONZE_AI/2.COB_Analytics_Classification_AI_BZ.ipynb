{
  "nbformat": 4,
  "nbformat_minor": 0,
  "metadata": {
    "colab": {
      "name": "2.COB_Analytics - Classification_AI_BZ.ipynb",
      "provenance": [],
      "collapsed_sections": [],
      "toc_visible": true
    },
    "kernelspec": {
      "name": "python3",
      "display_name": "Python 3"
    },
    "language_info": {
      "name": "python"
    }
  },
  "cells": [
    {
      "cell_type": "markdown",
      "metadata": {
        "id": "yShrvNeWoEWx"
      },
      "source": [
        "# 0 - Analyzing Dataset from project using Classification Algorithms\n",
        "\n",
        "* Author> Pedro Ciancaglini\n",
        "* EY Badge> Artificial Intelligence Bronze\n",
        "\n",
        "## Main objective of this analysis:\n",
        "\n",
        "* Test dataset with different classification algorithms (Logistic Regression, Decision Tree, Random Forest, SVM)\n",
        "* Measuring performance using Accuracy, Recall, Precision, and F1 Score\n",
        "* Running test with one selected algorithm (potentially based on accuracy)\n",
        "* Analyze results and conclude"
      ]
    },
    {
      "cell_type": "markdown",
      "metadata": {
        "id": "s8zd7Iu3-bpt"
      },
      "source": [
        "# 1 - Preparing Notebook for Analysis\n",
        "\n",
        "Run this section to be able to run separate sections later"
      ]
    },
    {
      "cell_type": "code",
      "metadata": {
        "id": "Iw8Mc8X_-yJG"
      },
      "source": [
        "# Required Libraries\n",
        "import pandas as pd\n",
        "import numpy as np\n",
        "\n",
        "\n",
        "# Libraries for Metrics\n",
        "from sklearn.model_selection import cross_val_score\n",
        "from sklearn.model_selection import cross_val_predict\n",
        "from sklearn.metrics import precision_score, recall_score, f1_score\n",
        "from sklearn.model_selection import train_test_split\n",
        "from sklearn.metrics import r2_score, confusion_matrix, accuracy_score\n",
        "\n",
        "# Libraries for Modeling\n",
        "# 1 - Prototype with Logistic Regression\n",
        "from sklearn import linear_model\n",
        "from sklearn.linear_model import LogisticRegression\n",
        "\n",
        "\n",
        "# 2 - Prototype with RandomForest\n",
        "from sklearn.ensemble import RandomForestClassifier\n",
        "\n",
        "# 3 - SVM\n",
        "from sklearn import svm\n",
        "from sklearn.preprocessing import StandardScaler\n",
        "\n",
        "\n",
        "\n",
        "# Libraries for graphics\n",
        "import matplotlib.pyplot as plt\n",
        "import seaborn as sns"
      ],
      "execution_count": 1,
      "outputs": []
    },
    {
      "cell_type": "code",
      "metadata": {
        "id": "j3s1irJaenXC",
        "colab": {
          "base_uri": "https://localhost:8080/"
        },
        "outputId": "1dab50f6-9290-4869-8ac8-7efdc5324d3e"
      },
      "source": [
        "# Mounting Google Colab Drive\n",
        "from google.colab import drive\n",
        "drive.mount('/content/drive')\n",
        "working_directory = '/content/drive/MyDrive/Colab Notebooks/98.COB/DS_v0/'"
      ],
      "execution_count": 2,
      "outputs": [
        {
          "output_type": "stream",
          "name": "stdout",
          "text": [
            "Drive already mounted at /content/drive; to attempt to forcibly remount, call drive.mount(\"/content/drive\", force_remount=True).\n"
          ]
        }
      ]
    },
    {
      "cell_type": "code",
      "metadata": {
        "id": "19xHJ9MSIOoa"
      },
      "source": [
        "# Global Functions for this Notebook\n",
        "\n",
        "# Importing the dataset\n",
        "def importsets():\n",
        "    train = pd.read_csv(working_directory + 'Train_26_8.csv')\n",
        "    test = pd.read_csv(working_directory + 'Results_26_8.csv')\n",
        "    results = pd.read_csv(working_directory + 'Results_26_8.csv')\n",
        "    return train, test, results\n",
        "\n",
        "# Calling function to set global variables for information goals\n",
        "train_df, test_df, results_df = importsets()\n",
        "\n",
        "\n",
        "# Function to show columns of imported Datasets\n",
        "def cols(): \n",
        "    print('Train Columns> ' , train_df.columns)\n",
        "    print('Test Columns> ' , test_df.columns)\n",
        "    print('Result Columns> ' , results_df.columns)\n",
        "\n",
        "# Function to split train dataset in y column with target and the rest on X \n",
        "def create_x_y(train_df):\n",
        "    X = train_df.iloc[:, :-1].values\n",
        "    y = train_df.iloc[:, -1].values\n",
        "    return X, y\n",
        "\n",
        "# Function to measure performance of models using precision, recall and F1\n",
        "def performance(test, pred):\n",
        "    print(\"Precision Score: \\t {0:.4f}\".format(precision_score(test, \n",
        "                                                            pred, \n",
        "                                                            average='weighted')))\n",
        "    print(\"Recall Score: \\t\\t {0:.4f}\".format(recall_score(test,\n",
        "                                                        pred, \n",
        "                                                        average='weighted')))\n",
        "    print(\"F1 Score: \\t\\t {0:.4f}\".format(f1_score(test,\n",
        "                                                pred, \n",
        "                                                average='weighted')))\n",
        "\n",
        "\n",
        "\n",
        "def myfunctions(): # Running this function will return name of functions and how functions works\n",
        "    print('importsets() useful for importing datasets to new variables train, test, results')\n",
        "    print('cols() is a function to know the columns of the original datasets')\n",
        "    print('performance(y_test, y_test_pred) is a function to know the performance of the model')\n",
        "    print('create_x_y(train_df) is a function will return y target from train and X for the rest of the columns')\n",
        "\n",
        "\n"
      ],
      "execution_count": 3,
      "outputs": []
    },
    {
      "cell_type": "code",
      "metadata": {
        "colab": {
          "base_uri": "https://localhost:8080/"
        },
        "id": "d5p3jXoBMJKN",
        "outputId": "35b72c89-d48b-4119-ccf6-5d9a1dc0a838"
      },
      "source": [
        "cols()"
      ],
      "execution_count": 4,
      "outputs": [
        {
          "output_type": "stream",
          "name": "stdout",
          "text": [
            "Train Columns>  Index(['IP_ML', 'QA', 'ENG', 'TechDebt', 'ID_Area', 'ID_Type', 'SP'], dtype='object')\n",
            "Test Columns>  Index(['Work Item Id', 'IP_ML', 'QA', 'ENG', 'TechDebt', 'ID_Area', 'ID_Type',\n",
            "       'SP'],\n",
            "      dtype='object')\n",
            "Result Columns>  Index(['Work Item Id', 'IP_ML', 'QA', 'ENG', 'TechDebt', 'ID_Area', 'ID_Type',\n",
            "       'SP'],\n",
            "      dtype='object')\n"
          ]
        }
      ]
    },
    {
      "cell_type": "markdown",
      "metadata": {
        "id": "l-bFxt1Vikqq"
      },
      "source": [
        "# 2 - Prototype with Logistic Regression\n",
        "\n",
        "Using logistic regression to train and test the models"
      ]
    },
    {
      "cell_type": "markdown",
      "metadata": {
        "id": "lmAm_ZYu6aiD"
      },
      "source": [
        "## a. Preparing Data"
      ]
    },
    {
      "cell_type": "code",
      "metadata": {
        "id": "ispwLF_fiFbM"
      },
      "source": [
        "# Importing the dataset\n",
        "train_lg, results_test_lg, results_lg = importsets()\n",
        "\n",
        "# Spliting Datasets in X and Y for fitting\n",
        "X_lg = train_lg.iloc[:, :-1].values\n",
        "y_lg = train_lg.iloc[:, -1].values"
      ],
      "execution_count": 5,
      "outputs": []
    },
    {
      "cell_type": "code",
      "metadata": {
        "colab": {
          "base_uri": "https://localhost:8080/"
        },
        "id": "slAZaySx74Du",
        "outputId": "a8d59449-fad4-49c5-b150-acb6d225c374"
      },
      "source": [
        "train_lg.columns # Checking columns"
      ],
      "execution_count": 6,
      "outputs": [
        {
          "output_type": "execute_result",
          "data": {
            "text/plain": [
              "Index(['IP_ML', 'QA', 'ENG', 'TechDebt', 'ID_Area', 'ID_Type', 'SP'], dtype='object')"
            ]
          },
          "metadata": {},
          "execution_count": 6
        }
      ]
    },
    {
      "cell_type": "code",
      "metadata": {
        "colab": {
          "base_uri": "https://localhost:8080/"
        },
        "id": "yLrYAcujsEfj",
        "outputId": "fc290f36-a5b9-4932-9fc0-cfc72cae653e"
      },
      "source": [
        "cols() # Checking columns of all datasets"
      ],
      "execution_count": 7,
      "outputs": [
        {
          "output_type": "stream",
          "name": "stdout",
          "text": [
            "Train Columns>  Index(['IP_ML', 'QA', 'ENG', 'TechDebt', 'ID_Area', 'ID_Type', 'SP'], dtype='object')\n",
            "Test Columns>  Index(['Work Item Id', 'IP_ML', 'QA', 'ENG', 'TechDebt', 'ID_Area', 'ID_Type',\n",
            "       'SP'],\n",
            "      dtype='object')\n",
            "Result Columns>  Index(['Work Item Id', 'IP_ML', 'QA', 'ENG', 'TechDebt', 'ID_Area', 'ID_Type',\n",
            "       'SP'],\n",
            "      dtype='object')\n"
          ]
        }
      ]
    },
    {
      "cell_type": "code",
      "metadata": {
        "id": "9wW-9NqiiRsC"
      },
      "source": [
        "# Splitting the dataset into the Training set and Test set\n",
        "X_train, X_test, y_train, y_test = train_test_split(X_lg, y_lg, test_size = 0.2, random_state = 0)"
      ],
      "execution_count": 8,
      "outputs": []
    },
    {
      "cell_type": "markdown",
      "metadata": {
        "id": "xHbhG0Yj6WKE"
      },
      "source": [
        "## b. Training Algorithm"
      ]
    },
    {
      "cell_type": "code",
      "metadata": {
        "colab": {
          "base_uri": "https://localhost:8080/"
        },
        "id": "_8Atyy0iiXDc",
        "outputId": "f4fcc0df-36b8-4665-f2fc-f2fe5df0a04e"
      },
      "source": [
        "# Fitting Logistic Regression to the Training set\n",
        "classifier = LogisticRegression(random_state=10)\n",
        "classifier.fit(X_train, y_train)"
      ],
      "execution_count": 9,
      "outputs": [
        {
          "output_type": "stream",
          "name": "stderr",
          "text": [
            "/usr/local/lib/python3.7/dist-packages/sklearn/linear_model/_logistic.py:940: ConvergenceWarning: lbfgs failed to converge (status=1):\n",
            "STOP: TOTAL NO. of ITERATIONS REACHED LIMIT.\n",
            "\n",
            "Increase the number of iterations (max_iter) or scale the data as shown in:\n",
            "    https://scikit-learn.org/stable/modules/preprocessing.html\n",
            "Please also refer to the documentation for alternative solver options:\n",
            "    https://scikit-learn.org/stable/modules/linear_model.html#logistic-regression\n",
            "  extra_warning_msg=_LOGISTIC_SOLVER_CONVERGENCE_MSG)\n"
          ]
        },
        {
          "output_type": "execute_result",
          "data": {
            "text/plain": [
              "LogisticRegression(C=1.0, class_weight=None, dual=False, fit_intercept=True,\n",
              "                   intercept_scaling=1, l1_ratio=None, max_iter=100,\n",
              "                   multi_class='auto', n_jobs=None, penalty='l2',\n",
              "                   random_state=10, solver='lbfgs', tol=0.0001, verbose=0,\n",
              "                   warm_start=False)"
            ]
          },
          "metadata": {},
          "execution_count": 9
        }
      ]
    },
    {
      "cell_type": "code",
      "metadata": {
        "id": "GnvVD9AT2z_r"
      },
      "source": [
        "y_pred_lg = classifier.predict(X_lg)"
      ],
      "execution_count": 10,
      "outputs": []
    },
    {
      "cell_type": "code",
      "metadata": {
        "id": "GcSIBlko3OQo",
        "colab": {
          "base_uri": "https://localhost:8080/"
        },
        "outputId": "cdd70a25-7b77-44a6-bf44-37013f23308c"
      },
      "source": [
        "classifier.predict_proba(X_lg)"
      ],
      "execution_count": 11,
      "outputs": [
        {
          "output_type": "execute_result",
          "data": {
            "text/plain": [
              "array([[0.19521572, 0.12800011, 0.13675781, ..., 0.18845843, 0.09728637,\n",
              "        0.03127625],\n",
              "       [0.22507189, 0.09270988, 0.12221087, ..., 0.21326214, 0.08938819,\n",
              "        0.03036233],\n",
              "       [0.23985347, 0.07830785, 0.11465954, ..., 0.22515644, 0.08503851,\n",
              "        0.02969046],\n",
              "       ...,\n",
              "       [0.11894626, 0.15145769, 0.09218519, ..., 0.2966819 , 0.13066624,\n",
              "        0.02207903],\n",
              "       [0.02595585, 0.13444794, 0.14721271, ..., 0.26361741, 0.15794743,\n",
              "        0.05337405],\n",
              "       [0.03323927, 0.1326804 , 0.14879961, ..., 0.26002536, 0.15413338,\n",
              "        0.05129943]])"
            ]
          },
          "metadata": {},
          "execution_count": 11
        }
      ]
    },
    {
      "cell_type": "markdown",
      "metadata": {
        "id": "Wyvq9BY56htG"
      },
      "source": [
        "## c. Testing Algorithm"
      ]
    },
    {
      "cell_type": "code",
      "metadata": {
        "id": "zUxgYe3w3RXo",
        "colab": {
          "base_uri": "https://localhost:8080/",
          "height": 1000
        },
        "outputId": "7243c7f5-a319-4316-eb10-f6434441a1fc"
      },
      "source": [
        "# Visualizing Result\n",
        "pred_test = pd.DataFrame(data=y_pred_lg)\n",
        "train_test = pd.DataFrame(data=y_train)\n",
        "\n",
        "h_stack_test = pd.concat([train_test, pred_test], axis=1)\n",
        "\n",
        "h_stack_test.head(50)"
      ],
      "execution_count": 12,
      "outputs": [
        {
          "output_type": "execute_result",
          "data": {
            "text/html": [
              "<div>\n",
              "<style scoped>\n",
              "    .dataframe tbody tr th:only-of-type {\n",
              "        vertical-align: middle;\n",
              "    }\n",
              "\n",
              "    .dataframe tbody tr th {\n",
              "        vertical-align: top;\n",
              "    }\n",
              "\n",
              "    .dataframe thead th {\n",
              "        text-align: right;\n",
              "    }\n",
              "</style>\n",
              "<table border=\"1\" class=\"dataframe\">\n",
              "  <thead>\n",
              "    <tr style=\"text-align: right;\">\n",
              "      <th></th>\n",
              "      <th>0</th>\n",
              "      <th>0</th>\n",
              "    </tr>\n",
              "  </thead>\n",
              "  <tbody>\n",
              "    <tr>\n",
              "      <th>0</th>\n",
              "      <td>3.0</td>\n",
              "      <td>3</td>\n",
              "    </tr>\n",
              "    <tr>\n",
              "      <th>1</th>\n",
              "      <td>8.0</td>\n",
              "      <td>3</td>\n",
              "    </tr>\n",
              "    <tr>\n",
              "      <th>2</th>\n",
              "      <td>1.0</td>\n",
              "      <td>0</td>\n",
              "    </tr>\n",
              "    <tr>\n",
              "      <th>3</th>\n",
              "      <td>8.0</td>\n",
              "      <td>0</td>\n",
              "    </tr>\n",
              "    <tr>\n",
              "      <th>4</th>\n",
              "      <td>3.0</td>\n",
              "      <td>0</td>\n",
              "    </tr>\n",
              "    <tr>\n",
              "      <th>5</th>\n",
              "      <td>5.0</td>\n",
              "      <td>5</td>\n",
              "    </tr>\n",
              "    <tr>\n",
              "      <th>6</th>\n",
              "      <td>8.0</td>\n",
              "      <td>5</td>\n",
              "    </tr>\n",
              "    <tr>\n",
              "      <th>7</th>\n",
              "      <td>13.0</td>\n",
              "      <td>5</td>\n",
              "    </tr>\n",
              "    <tr>\n",
              "      <th>8</th>\n",
              "      <td>0.0</td>\n",
              "      <td>3</td>\n",
              "    </tr>\n",
              "    <tr>\n",
              "      <th>9</th>\n",
              "      <td>0.0</td>\n",
              "      <td>5</td>\n",
              "    </tr>\n",
              "    <tr>\n",
              "      <th>10</th>\n",
              "      <td>8.0</td>\n",
              "      <td>5</td>\n",
              "    </tr>\n",
              "    <tr>\n",
              "      <th>11</th>\n",
              "      <td>5.0</td>\n",
              "      <td>5</td>\n",
              "    </tr>\n",
              "    <tr>\n",
              "      <th>12</th>\n",
              "      <td>8.0</td>\n",
              "      <td>5</td>\n",
              "    </tr>\n",
              "    <tr>\n",
              "      <th>13</th>\n",
              "      <td>0.0</td>\n",
              "      <td>5</td>\n",
              "    </tr>\n",
              "    <tr>\n",
              "      <th>14</th>\n",
              "      <td>13.0</td>\n",
              "      <td>5</td>\n",
              "    </tr>\n",
              "    <tr>\n",
              "      <th>15</th>\n",
              "      <td>5.0</td>\n",
              "      <td>5</td>\n",
              "    </tr>\n",
              "    <tr>\n",
              "      <th>16</th>\n",
              "      <td>0.0</td>\n",
              "      <td>3</td>\n",
              "    </tr>\n",
              "    <tr>\n",
              "      <th>17</th>\n",
              "      <td>8.0</td>\n",
              "      <td>5</td>\n",
              "    </tr>\n",
              "    <tr>\n",
              "      <th>18</th>\n",
              "      <td>1.0</td>\n",
              "      <td>5</td>\n",
              "    </tr>\n",
              "    <tr>\n",
              "      <th>19</th>\n",
              "      <td>3.0</td>\n",
              "      <td>5</td>\n",
              "    </tr>\n",
              "    <tr>\n",
              "      <th>20</th>\n",
              "      <td>3.0</td>\n",
              "      <td>3</td>\n",
              "    </tr>\n",
              "    <tr>\n",
              "      <th>21</th>\n",
              "      <td>0.0</td>\n",
              "      <td>3</td>\n",
              "    </tr>\n",
              "    <tr>\n",
              "      <th>22</th>\n",
              "      <td>5.0</td>\n",
              "      <td>5</td>\n",
              "    </tr>\n",
              "    <tr>\n",
              "      <th>23</th>\n",
              "      <td>13.0</td>\n",
              "      <td>3</td>\n",
              "    </tr>\n",
              "    <tr>\n",
              "      <th>24</th>\n",
              "      <td>0.0</td>\n",
              "      <td>3</td>\n",
              "    </tr>\n",
              "    <tr>\n",
              "      <th>25</th>\n",
              "      <td>3.0</td>\n",
              "      <td>3</td>\n",
              "    </tr>\n",
              "    <tr>\n",
              "      <th>26</th>\n",
              "      <td>5.0</td>\n",
              "      <td>0</td>\n",
              "    </tr>\n",
              "    <tr>\n",
              "      <th>27</th>\n",
              "      <td>5.0</td>\n",
              "      <td>5</td>\n",
              "    </tr>\n",
              "    <tr>\n",
              "      <th>28</th>\n",
              "      <td>5.0</td>\n",
              "      <td>5</td>\n",
              "    </tr>\n",
              "    <tr>\n",
              "      <th>29</th>\n",
              "      <td>3.0</td>\n",
              "      <td>5</td>\n",
              "    </tr>\n",
              "    <tr>\n",
              "      <th>30</th>\n",
              "      <td>5.0</td>\n",
              "      <td>3</td>\n",
              "    </tr>\n",
              "    <tr>\n",
              "      <th>31</th>\n",
              "      <td>5.0</td>\n",
              "      <td>3</td>\n",
              "    </tr>\n",
              "    <tr>\n",
              "      <th>32</th>\n",
              "      <td>1.0</td>\n",
              "      <td>5</td>\n",
              "    </tr>\n",
              "    <tr>\n",
              "      <th>33</th>\n",
              "      <td>5.0</td>\n",
              "      <td>3</td>\n",
              "    </tr>\n",
              "    <tr>\n",
              "      <th>34</th>\n",
              "      <td>2.0</td>\n",
              "      <td>3</td>\n",
              "    </tr>\n",
              "    <tr>\n",
              "      <th>35</th>\n",
              "      <td>3.0</td>\n",
              "      <td>0</td>\n",
              "    </tr>\n",
              "    <tr>\n",
              "      <th>36</th>\n",
              "      <td>5.0</td>\n",
              "      <td>5</td>\n",
              "    </tr>\n",
              "    <tr>\n",
              "      <th>37</th>\n",
              "      <td>5.0</td>\n",
              "      <td>5</td>\n",
              "    </tr>\n",
              "    <tr>\n",
              "      <th>38</th>\n",
              "      <td>2.0</td>\n",
              "      <td>5</td>\n",
              "    </tr>\n",
              "    <tr>\n",
              "      <th>39</th>\n",
              "      <td>1.0</td>\n",
              "      <td>3</td>\n",
              "    </tr>\n",
              "    <tr>\n",
              "      <th>40</th>\n",
              "      <td>5.0</td>\n",
              "      <td>3</td>\n",
              "    </tr>\n",
              "    <tr>\n",
              "      <th>41</th>\n",
              "      <td>5.0</td>\n",
              "      <td>3</td>\n",
              "    </tr>\n",
              "    <tr>\n",
              "      <th>42</th>\n",
              "      <td>13.0</td>\n",
              "      <td>5</td>\n",
              "    </tr>\n",
              "    <tr>\n",
              "      <th>43</th>\n",
              "      <td>5.0</td>\n",
              "      <td>5</td>\n",
              "    </tr>\n",
              "    <tr>\n",
              "      <th>44</th>\n",
              "      <td>0.0</td>\n",
              "      <td>5</td>\n",
              "    </tr>\n",
              "    <tr>\n",
              "      <th>45</th>\n",
              "      <td>0.0</td>\n",
              "      <td>5</td>\n",
              "    </tr>\n",
              "    <tr>\n",
              "      <th>46</th>\n",
              "      <td>0.0</td>\n",
              "      <td>5</td>\n",
              "    </tr>\n",
              "    <tr>\n",
              "      <th>47</th>\n",
              "      <td>5.0</td>\n",
              "      <td>5</td>\n",
              "    </tr>\n",
              "    <tr>\n",
              "      <th>48</th>\n",
              "      <td>5.0</td>\n",
              "      <td>3</td>\n",
              "    </tr>\n",
              "    <tr>\n",
              "      <th>49</th>\n",
              "      <td>1.0</td>\n",
              "      <td>5</td>\n",
              "    </tr>\n",
              "  </tbody>\n",
              "</table>\n",
              "</div>"
            ],
            "text/plain": [
              "       0  0\n",
              "0    3.0  3\n",
              "1    8.0  3\n",
              "2    1.0  0\n",
              "3    8.0  0\n",
              "4    3.0  0\n",
              "5    5.0  5\n",
              "6    8.0  5\n",
              "7   13.0  5\n",
              "8    0.0  3\n",
              "9    0.0  5\n",
              "10   8.0  5\n",
              "11   5.0  5\n",
              "12   8.0  5\n",
              "13   0.0  5\n",
              "14  13.0  5\n",
              "15   5.0  5\n",
              "16   0.0  3\n",
              "17   8.0  5\n",
              "18   1.0  5\n",
              "19   3.0  5\n",
              "20   3.0  3\n",
              "21   0.0  3\n",
              "22   5.0  5\n",
              "23  13.0  3\n",
              "24   0.0  3\n",
              "25   3.0  3\n",
              "26   5.0  0\n",
              "27   5.0  5\n",
              "28   5.0  5\n",
              "29   3.0  5\n",
              "30   5.0  3\n",
              "31   5.0  3\n",
              "32   1.0  5\n",
              "33   5.0  3\n",
              "34   2.0  3\n",
              "35   3.0  0\n",
              "36   5.0  5\n",
              "37   5.0  5\n",
              "38   2.0  5\n",
              "39   1.0  3\n",
              "40   5.0  3\n",
              "41   5.0  3\n",
              "42  13.0  5\n",
              "43   5.0  5\n",
              "44   0.0  5\n",
              "45   0.0  5\n",
              "46   0.0  5\n",
              "47   5.0  5\n",
              "48   5.0  3\n",
              "49   1.0  5"
            ]
          },
          "metadata": {},
          "execution_count": 12
        }
      ]
    },
    {
      "cell_type": "markdown",
      "metadata": {
        "id": "ev99JwMC6m1C"
      },
      "source": [
        "## d. Measuring Performance"
      ]
    },
    {
      "cell_type": "code",
      "metadata": {
        "colab": {
          "base_uri": "https://localhost:8080/"
        },
        "id": "PQ0jQBcnPSq6",
        "outputId": "b1bf56c6-a9c0-4db7-f0d5-f73c685c29b0"
      },
      "source": [
        "performance(train_test, pred_test[:len(train_test)])"
      ],
      "execution_count": 13,
      "outputs": [
        {
          "output_type": "stream",
          "name": "stdout",
          "text": [
            "Precision Score: \t 0.1480\n",
            "Recall Score: \t\t 0.2442\n",
            "F1 Score: \t\t 0.1779\n"
          ]
        },
        {
          "output_type": "stream",
          "name": "stderr",
          "text": [
            "/usr/local/lib/python3.7/dist-packages/sklearn/metrics/_classification.py:1272: UndefinedMetricWarning: Precision is ill-defined and being set to 0.0 in labels with no predicted samples. Use `zero_division` parameter to control this behavior.\n",
            "  _warn_prf(average, modifier, msg_start, len(result))\n"
          ]
        }
      ]
    },
    {
      "cell_type": "code",
      "metadata": {
        "colab": {
          "base_uri": "https://localhost:8080/"
        },
        "id": "4jpLt66x1NOW",
        "outputId": "5aba967c-ed63-4045-f59a-3150440fbdae"
      },
      "source": [
        "cm = confusion_matrix(train_test, pred_test[:len(train_test)])\n",
        "print(cm)\n",
        "accuracy_score(train_test, pred_test[:len(train_test)])\n",
        "\n",
        "# Multiclass Matrix. \n",
        "#Each feature is compared with the possitive or negative prediction"
      ],
      "execution_count": 14,
      "outputs": [
        {
          "output_type": "stream",
          "name": "stdout",
          "text": [
            "[[ 3  2  0 16 26  0  0]\n",
            " [ 3  1  0 15 28  0  0]\n",
            " [ 2  2  0 25 27  0  0]\n",
            " [ 6  5  0 37 52  0  0]\n",
            " [ 4  7  0 38 65  0  0]\n",
            " [ 4  6  0  9 30  0  0]\n",
            " [ 0  2  0 10  9  0  0]]\n"
          ]
        },
        {
          "output_type": "execute_result",
          "data": {
            "text/plain": [
              "0.24423963133640553"
            ]
          },
          "metadata": {},
          "execution_count": 14
        }
      ]
    },
    {
      "cell_type": "markdown",
      "metadata": {
        "id": "XwUkaH544Rgq"
      },
      "source": [
        "# 3 - Prototype with Random Forest"
      ]
    },
    {
      "cell_type": "markdown",
      "metadata": {
        "id": "FQoz8Vvm61MG"
      },
      "source": [
        "## a. Preparing Data"
      ]
    },
    {
      "cell_type": "code",
      "metadata": {
        "id": "Tbo8pn1m4QtP"
      },
      "source": [
        "# importing datasets for Random Forest Analysis\n",
        "train_rf, test_rf, results_rf = importsets()"
      ],
      "execution_count": 76,
      "outputs": []
    },
    {
      "cell_type": "code",
      "metadata": {
        "id": "Lcdp-HXs4hRq"
      },
      "source": [
        "# Spliting Datasets in X and Y for fitting\n",
        "X_rf = train_rf.iloc[:, :-1].values\n",
        "y_rf = train_rf.iloc[:, -1].values\n",
        "\n",
        "# Creating Training and Testing Samples from Train Dataset\n",
        "X_train, X_test, y_train, y_test = train_test_split(X_rf, y_rf, test_size = 0.2, random_state = 0)"
      ],
      "execution_count": 77,
      "outputs": []
    },
    {
      "cell_type": "markdown",
      "metadata": {
        "id": "hT7gr_zl64H3"
      },
      "source": [
        "## b. Training algorithm"
      ]
    },
    {
      "cell_type": "code",
      "metadata": {
        "colab": {
          "base_uri": "https://localhost:8080/"
        },
        "id": "8NelRXYF4-wC",
        "outputId": "3eaac86a-c644-492d-d2cc-db198bb93299"
      },
      "source": [
        "# Initializing Random Forest Classifier. All hyperparameters from Lecture\n",
        "classifier_rf = RandomForestClassifier(n_estimators=43, \n",
        "                                        criterion='gini',\n",
        "                                        bootstrap=False,\n",
        "                                        max_depth=10,\n",
        "                                        max_features='sqrt',\n",
        "                                        min_samples_leaf=10,\n",
        "                                        min_samples_split=3,\n",
        "                                        random_state = 0,\n",
        "                                        warm_start=True, \n",
        "                                        min_impurity_decrease=0.001)\n",
        "\n",
        "\n",
        "\n",
        "classifier_rf.fit(X_train, y_train)"
      ],
      "execution_count": 78,
      "outputs": [
        {
          "output_type": "execute_result",
          "data": {
            "text/plain": [
              "RandomForestClassifier(bootstrap=False, ccp_alpha=0.0, class_weight=None,\n",
              "                       criterion='gini', max_depth=10, max_features='sqrt',\n",
              "                       max_leaf_nodes=None, max_samples=None,\n",
              "                       min_impurity_decrease=0.001, min_impurity_split=None,\n",
              "                       min_samples_leaf=10, min_samples_split=3,\n",
              "                       min_weight_fraction_leaf=0.0, n_estimators=43,\n",
              "                       n_jobs=None, oob_score=False, random_state=0, verbose=0,\n",
              "                       warm_start=True)"
            ]
          },
          "metadata": {},
          "execution_count": 78
        }
      ]
    },
    {
      "cell_type": "code",
      "metadata": {
        "id": "_MF4mvbV54Yz"
      },
      "source": [
        "y_pred_rf = classifier_rf.predict(X_test)"
      ],
      "execution_count": 79,
      "outputs": []
    },
    {
      "cell_type": "markdown",
      "metadata": {
        "id": "W7J_xwqJ7GlB"
      },
      "source": [
        "## c. Testing the algorithm"
      ]
    },
    {
      "cell_type": "code",
      "metadata": {
        "colab": {
          "base_uri": "https://localhost:8080/",
          "height": 1000
        },
        "id": "jTCRFojl7KIT",
        "outputId": "b9a2f5bc-89bc-4940-acd0-3a48c22c15e9"
      },
      "source": [
        "# Visualizing Result\n",
        "pred_test = pd.DataFrame(data=y_pred_rf)\n",
        "train_test = pd.DataFrame(data=y_train)\n",
        "\n",
        "h_stack_test = pd.concat([train_test, pred_test], axis=1)\n",
        "\n",
        "h_stack_test.head(50)"
      ],
      "execution_count": 80,
      "outputs": [
        {
          "output_type": "execute_result",
          "data": {
            "text/html": [
              "<div>\n",
              "<style scoped>\n",
              "    .dataframe tbody tr th:only-of-type {\n",
              "        vertical-align: middle;\n",
              "    }\n",
              "\n",
              "    .dataframe tbody tr th {\n",
              "        vertical-align: top;\n",
              "    }\n",
              "\n",
              "    .dataframe thead th {\n",
              "        text-align: right;\n",
              "    }\n",
              "</style>\n",
              "<table border=\"1\" class=\"dataframe\">\n",
              "  <thead>\n",
              "    <tr style=\"text-align: right;\">\n",
              "      <th></th>\n",
              "      <th>0</th>\n",
              "      <th>0</th>\n",
              "    </tr>\n",
              "  </thead>\n",
              "  <tbody>\n",
              "    <tr>\n",
              "      <th>0</th>\n",
              "      <td>3</td>\n",
              "      <td>5.0</td>\n",
              "    </tr>\n",
              "    <tr>\n",
              "      <th>1</th>\n",
              "      <td>8</td>\n",
              "      <td>8.0</td>\n",
              "    </tr>\n",
              "    <tr>\n",
              "      <th>2</th>\n",
              "      <td>1</td>\n",
              "      <td>2.0</td>\n",
              "    </tr>\n",
              "    <tr>\n",
              "      <th>3</th>\n",
              "      <td>8</td>\n",
              "      <td>0.0</td>\n",
              "    </tr>\n",
              "    <tr>\n",
              "      <th>4</th>\n",
              "      <td>3</td>\n",
              "      <td>3.0</td>\n",
              "    </tr>\n",
              "    <tr>\n",
              "      <th>5</th>\n",
              "      <td>5</td>\n",
              "      <td>5.0</td>\n",
              "    </tr>\n",
              "    <tr>\n",
              "      <th>6</th>\n",
              "      <td>8</td>\n",
              "      <td>5.0</td>\n",
              "    </tr>\n",
              "    <tr>\n",
              "      <th>7</th>\n",
              "      <td>13</td>\n",
              "      <td>3.0</td>\n",
              "    </tr>\n",
              "    <tr>\n",
              "      <th>8</th>\n",
              "      <td>0</td>\n",
              "      <td>1.0</td>\n",
              "    </tr>\n",
              "    <tr>\n",
              "      <th>9</th>\n",
              "      <td>0</td>\n",
              "      <td>8.0</td>\n",
              "    </tr>\n",
              "    <tr>\n",
              "      <th>10</th>\n",
              "      <td>8</td>\n",
              "      <td>5.0</td>\n",
              "    </tr>\n",
              "    <tr>\n",
              "      <th>11</th>\n",
              "      <td>5</td>\n",
              "      <td>3.0</td>\n",
              "    </tr>\n",
              "    <tr>\n",
              "      <th>12</th>\n",
              "      <td>8</td>\n",
              "      <td>5.0</td>\n",
              "    </tr>\n",
              "    <tr>\n",
              "      <th>13</th>\n",
              "      <td>0</td>\n",
              "      <td>5.0</td>\n",
              "    </tr>\n",
              "    <tr>\n",
              "      <th>14</th>\n",
              "      <td>13</td>\n",
              "      <td>5.0</td>\n",
              "    </tr>\n",
              "    <tr>\n",
              "      <th>15</th>\n",
              "      <td>5</td>\n",
              "      <td>2.0</td>\n",
              "    </tr>\n",
              "    <tr>\n",
              "      <th>16</th>\n",
              "      <td>0</td>\n",
              "      <td>1.0</td>\n",
              "    </tr>\n",
              "    <tr>\n",
              "      <th>17</th>\n",
              "      <td>8</td>\n",
              "      <td>0.0</td>\n",
              "    </tr>\n",
              "    <tr>\n",
              "      <th>18</th>\n",
              "      <td>1</td>\n",
              "      <td>3.0</td>\n",
              "    </tr>\n",
              "    <tr>\n",
              "      <th>19</th>\n",
              "      <td>3</td>\n",
              "      <td>5.0</td>\n",
              "    </tr>\n",
              "    <tr>\n",
              "      <th>20</th>\n",
              "      <td>3</td>\n",
              "      <td>1.0</td>\n",
              "    </tr>\n",
              "    <tr>\n",
              "      <th>21</th>\n",
              "      <td>0</td>\n",
              "      <td>5.0</td>\n",
              "    </tr>\n",
              "    <tr>\n",
              "      <th>22</th>\n",
              "      <td>5</td>\n",
              "      <td>5.0</td>\n",
              "    </tr>\n",
              "    <tr>\n",
              "      <th>23</th>\n",
              "      <td>13</td>\n",
              "      <td>5.0</td>\n",
              "    </tr>\n",
              "    <tr>\n",
              "      <th>24</th>\n",
              "      <td>0</td>\n",
              "      <td>5.0</td>\n",
              "    </tr>\n",
              "    <tr>\n",
              "      <th>25</th>\n",
              "      <td>3</td>\n",
              "      <td>3.0</td>\n",
              "    </tr>\n",
              "    <tr>\n",
              "      <th>26</th>\n",
              "      <td>5</td>\n",
              "      <td>3.0</td>\n",
              "    </tr>\n",
              "    <tr>\n",
              "      <th>27</th>\n",
              "      <td>5</td>\n",
              "      <td>2.0</td>\n",
              "    </tr>\n",
              "    <tr>\n",
              "      <th>28</th>\n",
              "      <td>5</td>\n",
              "      <td>5.0</td>\n",
              "    </tr>\n",
              "    <tr>\n",
              "      <th>29</th>\n",
              "      <td>3</td>\n",
              "      <td>5.0</td>\n",
              "    </tr>\n",
              "    <tr>\n",
              "      <th>30</th>\n",
              "      <td>5</td>\n",
              "      <td>5.0</td>\n",
              "    </tr>\n",
              "    <tr>\n",
              "      <th>31</th>\n",
              "      <td>5</td>\n",
              "      <td>5.0</td>\n",
              "    </tr>\n",
              "    <tr>\n",
              "      <th>32</th>\n",
              "      <td>1</td>\n",
              "      <td>5.0</td>\n",
              "    </tr>\n",
              "    <tr>\n",
              "      <th>33</th>\n",
              "      <td>5</td>\n",
              "      <td>5.0</td>\n",
              "    </tr>\n",
              "    <tr>\n",
              "      <th>34</th>\n",
              "      <td>2</td>\n",
              "      <td>5.0</td>\n",
              "    </tr>\n",
              "    <tr>\n",
              "      <th>35</th>\n",
              "      <td>3</td>\n",
              "      <td>3.0</td>\n",
              "    </tr>\n",
              "    <tr>\n",
              "      <th>36</th>\n",
              "      <td>5</td>\n",
              "      <td>5.0</td>\n",
              "    </tr>\n",
              "    <tr>\n",
              "      <th>37</th>\n",
              "      <td>5</td>\n",
              "      <td>5.0</td>\n",
              "    </tr>\n",
              "    <tr>\n",
              "      <th>38</th>\n",
              "      <td>2</td>\n",
              "      <td>1.0</td>\n",
              "    </tr>\n",
              "    <tr>\n",
              "      <th>39</th>\n",
              "      <td>1</td>\n",
              "      <td>3.0</td>\n",
              "    </tr>\n",
              "    <tr>\n",
              "      <th>40</th>\n",
              "      <td>5</td>\n",
              "      <td>3.0</td>\n",
              "    </tr>\n",
              "    <tr>\n",
              "      <th>41</th>\n",
              "      <td>5</td>\n",
              "      <td>5.0</td>\n",
              "    </tr>\n",
              "    <tr>\n",
              "      <th>42</th>\n",
              "      <td>13</td>\n",
              "      <td>3.0</td>\n",
              "    </tr>\n",
              "    <tr>\n",
              "      <th>43</th>\n",
              "      <td>5</td>\n",
              "      <td>3.0</td>\n",
              "    </tr>\n",
              "    <tr>\n",
              "      <th>44</th>\n",
              "      <td>0</td>\n",
              "      <td>5.0</td>\n",
              "    </tr>\n",
              "    <tr>\n",
              "      <th>45</th>\n",
              "      <td>0</td>\n",
              "      <td>3.0</td>\n",
              "    </tr>\n",
              "    <tr>\n",
              "      <th>46</th>\n",
              "      <td>0</td>\n",
              "      <td>13.0</td>\n",
              "    </tr>\n",
              "    <tr>\n",
              "      <th>47</th>\n",
              "      <td>5</td>\n",
              "      <td>3.0</td>\n",
              "    </tr>\n",
              "    <tr>\n",
              "      <th>48</th>\n",
              "      <td>5</td>\n",
              "      <td>5.0</td>\n",
              "    </tr>\n",
              "    <tr>\n",
              "      <th>49</th>\n",
              "      <td>1</td>\n",
              "      <td>3.0</td>\n",
              "    </tr>\n",
              "  </tbody>\n",
              "</table>\n",
              "</div>"
            ],
            "text/plain": [
              "     0     0\n",
              "0    3   5.0\n",
              "1    8   8.0\n",
              "2    1   2.0\n",
              "3    8   0.0\n",
              "4    3   3.0\n",
              "5    5   5.0\n",
              "6    8   5.0\n",
              "7   13   3.0\n",
              "8    0   1.0\n",
              "9    0   8.0\n",
              "10   8   5.0\n",
              "11   5   3.0\n",
              "12   8   5.0\n",
              "13   0   5.0\n",
              "14  13   5.0\n",
              "15   5   2.0\n",
              "16   0   1.0\n",
              "17   8   0.0\n",
              "18   1   3.0\n",
              "19   3   5.0\n",
              "20   3   1.0\n",
              "21   0   5.0\n",
              "22   5   5.0\n",
              "23  13   5.0\n",
              "24   0   5.0\n",
              "25   3   3.0\n",
              "26   5   3.0\n",
              "27   5   2.0\n",
              "28   5   5.0\n",
              "29   3   5.0\n",
              "30   5   5.0\n",
              "31   5   5.0\n",
              "32   1   5.0\n",
              "33   5   5.0\n",
              "34   2   5.0\n",
              "35   3   3.0\n",
              "36   5   5.0\n",
              "37   5   5.0\n",
              "38   2   1.0\n",
              "39   1   3.0\n",
              "40   5   3.0\n",
              "41   5   5.0\n",
              "42  13   3.0\n",
              "43   5   3.0\n",
              "44   0   5.0\n",
              "45   0   3.0\n",
              "46   0  13.0\n",
              "47   5   3.0\n",
              "48   5   5.0\n",
              "49   1   3.0"
            ]
          },
          "metadata": {},
          "execution_count": 80
        }
      ]
    },
    {
      "cell_type": "markdown",
      "metadata": {
        "id": "dyyfCUXF7kvU"
      },
      "source": [
        "## d. Measuring performance"
      ]
    },
    {
      "cell_type": "code",
      "metadata": {
        "colab": {
          "base_uri": "https://localhost:8080/"
        },
        "id": "K7P5Z9XM5-nn",
        "outputId": "d43ff388-ab18-4692-baf3-111fbfd7ab35"
      },
      "source": [
        "cm = confusion_matrix(y_test, y_pred_rf)\n",
        "print(cm)\n",
        "accuracy_score(y_test, y_pred_rf)"
      ],
      "execution_count": 81,
      "outputs": [
        {
          "output_type": "stream",
          "name": "stdout",
          "text": [
            "[[ 2  0  0  5  4  0  0]\n",
            " [ 0  4  2  3  3  0  0]\n",
            " [ 0  0  3  3  5  0  0]\n",
            " [ 0  1  0 10 11  0  0]\n",
            " [ 1  3  1  7 20  0  0]\n",
            " [ 0  1  0  5  9  1  2]\n",
            " [ 0  0  0  0  2  1  0]]\n"
          ]
        },
        {
          "output_type": "execute_result",
          "data": {
            "text/plain": [
              "0.3669724770642202"
            ]
          },
          "metadata": {},
          "execution_count": 81
        }
      ]
    },
    {
      "cell_type": "code",
      "metadata": {
        "colab": {
          "base_uri": "https://localhost:8080/"
        },
        "id": "IZ2DBiar74__",
        "outputId": "e313d781-0192-4250-8e04-17f54661bb7a"
      },
      "source": [
        "len(pred_test)"
      ],
      "execution_count": 82,
      "outputs": [
        {
          "output_type": "execute_result",
          "data": {
            "text/plain": [
              "109"
            ]
          },
          "metadata": {},
          "execution_count": 82
        }
      ]
    },
    {
      "cell_type": "code",
      "metadata": {
        "colab": {
          "base_uri": "https://localhost:8080/"
        },
        "id": "0AOPkK2I7oWj",
        "outputId": "e040ecd3-0daa-4344-945b-7461fa295e8b"
      },
      "source": [
        "performance(train_test[:len(pred_test)], pred_test[:len(train_test)])"
      ],
      "execution_count": 83,
      "outputs": [
        {
          "output_type": "stream",
          "name": "stdout",
          "text": [
            "Precision Score: \t 0.2522\n",
            "Recall Score: \t\t 0.2844\n",
            "F1 Score: \t\t 0.2379\n"
          ]
        }
      ]
    },
    {
      "cell_type": "code",
      "metadata": {
        "colab": {
          "base_uri": "https://localhost:8080/"
        },
        "id": "RAKYcg_E6Ccf",
        "outputId": "9c2d40fb-9c69-4456-c4a5-f983eca77a9c"
      },
      "source": [
        "print(classifier_rf.score(X_lg, y_lg))"
      ],
      "execution_count": 84,
      "outputs": [
        {
          "output_type": "stream",
          "name": "stdout",
          "text": [
            "0.427255985267035\n"
          ]
        }
      ]
    },
    {
      "cell_type": "markdown",
      "metadata": {
        "id": "e83vYG-9N7Rz"
      },
      "source": [
        "# 4 - Prototype with SVM"
      ]
    },
    {
      "cell_type": "markdown",
      "metadata": {
        "id": "vcS7fSHG_NN-"
      },
      "source": [
        "## a. Preparing Data"
      ]
    },
    {
      "cell_type": "code",
      "metadata": {
        "id": "TtPsagOcAfwG"
      },
      "source": [
        "# Importing the dataset\n",
        "train_svm, results_svm, results_test_svm = importsets()\n",
        "\n",
        "X_svm = train_svm.iloc[:, :-1].values\n",
        "y_svm = train_svm.iloc[:, -1].values\n",
        "\n",
        "X_train, X_test, y_train, y_test = train_test_split(X_svm, y_svm,\n",
        "                                                    train_size=0.8, \n",
        "                                                    random_state=0)"
      ],
      "execution_count": 24,
      "outputs": []
    },
    {
      "cell_type": "markdown",
      "metadata": {
        "id": "qUkLCYiRDwCc"
      },
      "source": [
        "## b. Feature Scaling"
      ]
    },
    {
      "cell_type": "code",
      "metadata": {
        "id": "DYGLtxdrD0-Z"
      },
      "source": [
        "sc_x = StandardScaler()\n",
        "X_std_train = sc_x.fit_transform(X_train)"
      ],
      "execution_count": 25,
      "outputs": []
    },
    {
      "cell_type": "markdown",
      "metadata": {
        "id": "wyf_bKSHHXes"
      },
      "source": [
        "## c. Training with Linear SVM Classification"
      ]
    },
    {
      "cell_type": "code",
      "metadata": {
        "id": "Rr1j6JffD193",
        "colab": {
          "base_uri": "https://localhost:8080/"
        },
        "outputId": "ae3e7aec-c665-4313-ef07-42754dd5fbd0"
      },
      "source": [
        "C = 1.0 #0.01\n",
        "clf = svm.SVC(kernel='linear', C=C)\n",
        "clf.fit(X_std_train, y_train)"
      ],
      "execution_count": 26,
      "outputs": [
        {
          "output_type": "execute_result",
          "data": {
            "text/plain": [
              "SVC(C=1.0, break_ties=False, cache_size=200, class_weight=None, coef0=0.0,\n",
              "    decision_function_shape='ovr', degree=3, gamma='scale', kernel='linear',\n",
              "    max_iter=-1, probability=False, random_state=None, shrinking=True,\n",
              "    tol=0.001, verbose=False)"
            ]
          },
          "metadata": {},
          "execution_count": 26
        }
      ]
    },
    {
      "cell_type": "code",
      "metadata": {
        "id": "TVJFKUCID8Tp",
        "colab": {
          "base_uri": "https://localhost:8080/"
        },
        "outputId": "f55f3c74-c53e-416e-d8a2-5a680b43c9ab"
      },
      "source": [
        "res = cross_val_score(clf, X_std_train, y_train, cv=10, scoring='accuracy')\n",
        "print(\"Average Accuracy: \\t {0:.4f}\".format(np.mean(res)))\n",
        "print(\"Accuracy SD: \\t\\t {0:.4f}\".format(np.std(res)))"
      ],
      "execution_count": 27,
      "outputs": [
        {
          "output_type": "stream",
          "name": "stdout",
          "text": [
            "Average Accuracy: \t 0.2929\n",
            "Accuracy SD: \t\t 0.0659\n"
          ]
        }
      ]
    },
    {
      "cell_type": "code",
      "metadata": {
        "id": "o6ma5NsjD-_Q"
      },
      "source": [
        "y_train_pred = cross_val_predict(clf, X_std_train, y_train, cv=3)"
      ],
      "execution_count": 28,
      "outputs": []
    },
    {
      "cell_type": "markdown",
      "metadata": {
        "id": "Z6dOhaZvBubi"
      },
      "source": [
        "## d. Testing algorithm"
      ]
    },
    {
      "cell_type": "code",
      "metadata": {
        "colab": {
          "base_uri": "https://localhost:8080/",
          "height": 1000
        },
        "id": "2XoUScbnByPh",
        "outputId": "3cb9b7d9-08dc-4ec8-c065-25f7e64cf757"
      },
      "source": [
        "# Visualizing Result\n",
        "pred_test = pd.DataFrame(data=y_train_pred)\n",
        "train_test = pd.DataFrame(data=y_train)\n",
        "\n",
        "h_stack_test = pd.concat([train_test, pred_test], axis=1)\n",
        "\n",
        "h_stack_test.head(50)"
      ],
      "execution_count": 29,
      "outputs": [
        {
          "output_type": "execute_result",
          "data": {
            "text/html": [
              "<div>\n",
              "<style scoped>\n",
              "    .dataframe tbody tr th:only-of-type {\n",
              "        vertical-align: middle;\n",
              "    }\n",
              "\n",
              "    .dataframe tbody tr th {\n",
              "        vertical-align: top;\n",
              "    }\n",
              "\n",
              "    .dataframe thead th {\n",
              "        text-align: right;\n",
              "    }\n",
              "</style>\n",
              "<table border=\"1\" class=\"dataframe\">\n",
              "  <thead>\n",
              "    <tr style=\"text-align: right;\">\n",
              "      <th></th>\n",
              "      <th>0</th>\n",
              "      <th>0</th>\n",
              "    </tr>\n",
              "  </thead>\n",
              "  <tbody>\n",
              "    <tr>\n",
              "      <th>0</th>\n",
              "      <td>3</td>\n",
              "      <td>5</td>\n",
              "    </tr>\n",
              "    <tr>\n",
              "      <th>1</th>\n",
              "      <td>8</td>\n",
              "      <td>5</td>\n",
              "    </tr>\n",
              "    <tr>\n",
              "      <th>2</th>\n",
              "      <td>1</td>\n",
              "      <td>3</td>\n",
              "    </tr>\n",
              "    <tr>\n",
              "      <th>3</th>\n",
              "      <td>8</td>\n",
              "      <td>5</td>\n",
              "    </tr>\n",
              "    <tr>\n",
              "      <th>4</th>\n",
              "      <td>3</td>\n",
              "      <td>5</td>\n",
              "    </tr>\n",
              "    <tr>\n",
              "      <th>5</th>\n",
              "      <td>5</td>\n",
              "      <td>5</td>\n",
              "    </tr>\n",
              "    <tr>\n",
              "      <th>6</th>\n",
              "      <td>8</td>\n",
              "      <td>5</td>\n",
              "    </tr>\n",
              "    <tr>\n",
              "      <th>7</th>\n",
              "      <td>13</td>\n",
              "      <td>5</td>\n",
              "    </tr>\n",
              "    <tr>\n",
              "      <th>8</th>\n",
              "      <td>0</td>\n",
              "      <td>3</td>\n",
              "    </tr>\n",
              "    <tr>\n",
              "      <th>9</th>\n",
              "      <td>0</td>\n",
              "      <td>3</td>\n",
              "    </tr>\n",
              "    <tr>\n",
              "      <th>10</th>\n",
              "      <td>8</td>\n",
              "      <td>5</td>\n",
              "    </tr>\n",
              "    <tr>\n",
              "      <th>11</th>\n",
              "      <td>5</td>\n",
              "      <td>3</td>\n",
              "    </tr>\n",
              "    <tr>\n",
              "      <th>12</th>\n",
              "      <td>8</td>\n",
              "      <td>5</td>\n",
              "    </tr>\n",
              "    <tr>\n",
              "      <th>13</th>\n",
              "      <td>0</td>\n",
              "      <td>3</td>\n",
              "    </tr>\n",
              "    <tr>\n",
              "      <th>14</th>\n",
              "      <td>13</td>\n",
              "      <td>5</td>\n",
              "    </tr>\n",
              "    <tr>\n",
              "      <th>15</th>\n",
              "      <td>5</td>\n",
              "      <td>5</td>\n",
              "    </tr>\n",
              "    <tr>\n",
              "      <th>16</th>\n",
              "      <td>0</td>\n",
              "      <td>3</td>\n",
              "    </tr>\n",
              "    <tr>\n",
              "      <th>17</th>\n",
              "      <td>8</td>\n",
              "      <td>3</td>\n",
              "    </tr>\n",
              "    <tr>\n",
              "      <th>18</th>\n",
              "      <td>1</td>\n",
              "      <td>5</td>\n",
              "    </tr>\n",
              "    <tr>\n",
              "      <th>19</th>\n",
              "      <td>3</td>\n",
              "      <td>3</td>\n",
              "    </tr>\n",
              "    <tr>\n",
              "      <th>20</th>\n",
              "      <td>3</td>\n",
              "      <td>5</td>\n",
              "    </tr>\n",
              "    <tr>\n",
              "      <th>21</th>\n",
              "      <td>0</td>\n",
              "      <td>3</td>\n",
              "    </tr>\n",
              "    <tr>\n",
              "      <th>22</th>\n",
              "      <td>5</td>\n",
              "      <td>5</td>\n",
              "    </tr>\n",
              "    <tr>\n",
              "      <th>23</th>\n",
              "      <td>13</td>\n",
              "      <td>5</td>\n",
              "    </tr>\n",
              "    <tr>\n",
              "      <th>24</th>\n",
              "      <td>0</td>\n",
              "      <td>5</td>\n",
              "    </tr>\n",
              "    <tr>\n",
              "      <th>25</th>\n",
              "      <td>3</td>\n",
              "      <td>3</td>\n",
              "    </tr>\n",
              "    <tr>\n",
              "      <th>26</th>\n",
              "      <td>5</td>\n",
              "      <td>5</td>\n",
              "    </tr>\n",
              "    <tr>\n",
              "      <th>27</th>\n",
              "      <td>5</td>\n",
              "      <td>3</td>\n",
              "    </tr>\n",
              "    <tr>\n",
              "      <th>28</th>\n",
              "      <td>5</td>\n",
              "      <td>5</td>\n",
              "    </tr>\n",
              "    <tr>\n",
              "      <th>29</th>\n",
              "      <td>3</td>\n",
              "      <td>5</td>\n",
              "    </tr>\n",
              "    <tr>\n",
              "      <th>30</th>\n",
              "      <td>5</td>\n",
              "      <td>5</td>\n",
              "    </tr>\n",
              "    <tr>\n",
              "      <th>31</th>\n",
              "      <td>5</td>\n",
              "      <td>3</td>\n",
              "    </tr>\n",
              "    <tr>\n",
              "      <th>32</th>\n",
              "      <td>1</td>\n",
              "      <td>5</td>\n",
              "    </tr>\n",
              "    <tr>\n",
              "      <th>33</th>\n",
              "      <td>5</td>\n",
              "      <td>3</td>\n",
              "    </tr>\n",
              "    <tr>\n",
              "      <th>34</th>\n",
              "      <td>2</td>\n",
              "      <td>3</td>\n",
              "    </tr>\n",
              "    <tr>\n",
              "      <th>35</th>\n",
              "      <td>3</td>\n",
              "      <td>5</td>\n",
              "    </tr>\n",
              "    <tr>\n",
              "      <th>36</th>\n",
              "      <td>5</td>\n",
              "      <td>3</td>\n",
              "    </tr>\n",
              "    <tr>\n",
              "      <th>37</th>\n",
              "      <td>5</td>\n",
              "      <td>5</td>\n",
              "    </tr>\n",
              "    <tr>\n",
              "      <th>38</th>\n",
              "      <td>2</td>\n",
              "      <td>5</td>\n",
              "    </tr>\n",
              "    <tr>\n",
              "      <th>39</th>\n",
              "      <td>1</td>\n",
              "      <td>3</td>\n",
              "    </tr>\n",
              "    <tr>\n",
              "      <th>40</th>\n",
              "      <td>5</td>\n",
              "      <td>5</td>\n",
              "    </tr>\n",
              "    <tr>\n",
              "      <th>41</th>\n",
              "      <td>5</td>\n",
              "      <td>3</td>\n",
              "    </tr>\n",
              "    <tr>\n",
              "      <th>42</th>\n",
              "      <td>13</td>\n",
              "      <td>5</td>\n",
              "    </tr>\n",
              "    <tr>\n",
              "      <th>43</th>\n",
              "      <td>5</td>\n",
              "      <td>3</td>\n",
              "    </tr>\n",
              "    <tr>\n",
              "      <th>44</th>\n",
              "      <td>0</td>\n",
              "      <td>5</td>\n",
              "    </tr>\n",
              "    <tr>\n",
              "      <th>45</th>\n",
              "      <td>0</td>\n",
              "      <td>3</td>\n",
              "    </tr>\n",
              "    <tr>\n",
              "      <th>46</th>\n",
              "      <td>0</td>\n",
              "      <td>5</td>\n",
              "    </tr>\n",
              "    <tr>\n",
              "      <th>47</th>\n",
              "      <td>5</td>\n",
              "      <td>3</td>\n",
              "    </tr>\n",
              "    <tr>\n",
              "      <th>48</th>\n",
              "      <td>5</td>\n",
              "      <td>3</td>\n",
              "    </tr>\n",
              "    <tr>\n",
              "      <th>49</th>\n",
              "      <td>1</td>\n",
              "      <td>3</td>\n",
              "    </tr>\n",
              "  </tbody>\n",
              "</table>\n",
              "</div>"
            ],
            "text/plain": [
              "     0  0\n",
              "0    3  5\n",
              "1    8  5\n",
              "2    1  3\n",
              "3    8  5\n",
              "4    3  5\n",
              "5    5  5\n",
              "6    8  5\n",
              "7   13  5\n",
              "8    0  3\n",
              "9    0  3\n",
              "10   8  5\n",
              "11   5  3\n",
              "12   8  5\n",
              "13   0  3\n",
              "14  13  5\n",
              "15   5  5\n",
              "16   0  3\n",
              "17   8  3\n",
              "18   1  5\n",
              "19   3  3\n",
              "20   3  5\n",
              "21   0  3\n",
              "22   5  5\n",
              "23  13  5\n",
              "24   0  5\n",
              "25   3  3\n",
              "26   5  5\n",
              "27   5  3\n",
              "28   5  5\n",
              "29   3  5\n",
              "30   5  5\n",
              "31   5  3\n",
              "32   1  5\n",
              "33   5  3\n",
              "34   2  3\n",
              "35   3  5\n",
              "36   5  3\n",
              "37   5  5\n",
              "38   2  5\n",
              "39   1  3\n",
              "40   5  5\n",
              "41   5  3\n",
              "42  13  5\n",
              "43   5  3\n",
              "44   0  5\n",
              "45   0  3\n",
              "46   0  5\n",
              "47   5  3\n",
              "48   5  3\n",
              "49   1  3"
            ]
          },
          "metadata": {},
          "execution_count": 29
        }
      ]
    },
    {
      "cell_type": "markdown",
      "metadata": {
        "id": "1LwghiSXCYHV"
      },
      "source": [
        "## e. Measuring Performance"
      ]
    },
    {
      "cell_type": "code",
      "metadata": {
        "id": "T0QlQ-DrEDZy",
        "colab": {
          "base_uri": "https://localhost:8080/"
        },
        "outputId": "6c74df39-026e-431e-9459-81f778039738"
      },
      "source": [
        "print(confusion_matrix(y_train, y_train_pred))\n",
        "print(accuracy_score(y_train, y_train_pred))\n",
        "# cm = confusion_matrix(y_test, y_pred_rf)\n",
        "# print(cm)\n",
        "print(accuracy_score(y_test[:len(y_train_pred)], y_train_pred[:len(y_test)]))"
      ],
      "execution_count": 30,
      "outputs": [
        {
          "output_type": "stream",
          "name": "stdout",
          "text": [
            "[[ 0  1  0 27 18  0  1]\n",
            " [ 0  7  0 17 23  0  0]\n",
            " [ 0  8  0 34 14  0  0]\n",
            " [ 0  7  0 54 38  0  1]\n",
            " [ 0 10  0 41 61  0  2]\n",
            " [ 0  5  0 16 25  0  3]\n",
            " [ 0  1  0  0 19  0  1]]\n",
            "0.2834101382488479\n",
            "0.28440366972477066\n"
          ]
        }
      ]
    },
    {
      "cell_type": "code",
      "metadata": {
        "id": "Pj2KS_TyEFaZ",
        "colab": {
          "base_uri": "https://localhost:8080/"
        },
        "outputId": "a6738b42-7f7c-4bb3-c85e-43f7bd6d48f4"
      },
      "source": [
        "performance(y_train, y_train_pred)"
      ],
      "execution_count": 31,
      "outputs": [
        {
          "output_type": "stream",
          "name": "stdout",
          "text": [
            "Precision Score: \t 0.1722\n",
            "Recall Score: \t\t 0.2834\n",
            "F1 Score: \t\t 0.2098\n"
          ]
        },
        {
          "output_type": "stream",
          "name": "stderr",
          "text": [
            "/usr/local/lib/python3.7/dist-packages/sklearn/metrics/_classification.py:1272: UndefinedMetricWarning: Precision is ill-defined and being set to 0.0 in labels with no predicted samples. Use `zero_division` parameter to control this behavior.\n",
            "  _warn_prf(average, modifier, msg_start, len(result))\n"
          ]
        }
      ]
    },
    {
      "cell_type": "markdown",
      "metadata": {
        "id": "Xs9wSLwDEQat"
      },
      "source": [
        "**Cross validation with Test Set**"
      ]
    },
    {
      "cell_type": "code",
      "metadata": {
        "id": "zXR3FAY8ETAZ"
      },
      "source": [
        "y_test_pred = cross_val_predict(clf, sc_x.transform(X_test), y_test, cv=3)"
      ],
      "execution_count": 32,
      "outputs": []
    },
    {
      "cell_type": "code",
      "metadata": {
        "id": "IGfmy0bkEThJ",
        "colab": {
          "base_uri": "https://localhost:8080/"
        },
        "outputId": "c8c8b07a-0ae1-4f90-872c-256974edb6a6"
      },
      "source": [
        "print(confusion_matrix(y_test, y_test_pred))\n",
        "print(accuracy_score(y_test, y_test_pred))"
      ],
      "execution_count": 33,
      "outputs": [
        {
          "output_type": "stream",
          "name": "stdout",
          "text": [
            "[[ 2  0  0  2  6  1  0]\n",
            " [ 0  2  0  1  8  1  0]\n",
            " [ 1  1  1  0  8  0  0]\n",
            " [ 2  1  0  3 13  3  0]\n",
            " [ 2  2  1  4 19  4  0]\n",
            " [ 2  0  0  3  9  4  0]\n",
            " [ 0  0  0  0  3  0  0]]\n",
            "0.28440366972477066\n"
          ]
        }
      ]
    },
    {
      "cell_type": "code",
      "metadata": {
        "id": "DKSQGwgGEVbo",
        "colab": {
          "base_uri": "https://localhost:8080/"
        },
        "outputId": "bb43cc5f-ab80-4c04-e10f-45d44d3d945d"
      },
      "source": [
        "performance(y_test, y_test_pred)"
      ],
      "execution_count": 34,
      "outputs": [
        {
          "output_type": "stream",
          "name": "stdout",
          "text": [
            "Precision Score: \t 0.2915\n",
            "Recall Score: \t\t 0.2844\n",
            "F1 Score: \t\t 0.2512\n"
          ]
        },
        {
          "output_type": "stream",
          "name": "stderr",
          "text": [
            "/usr/local/lib/python3.7/dist-packages/sklearn/metrics/_classification.py:1272: UndefinedMetricWarning: Precision is ill-defined and being set to 0.0 in labels with no predicted samples. Use `zero_division` parameter to control this behavior.\n",
            "  _warn_prf(average, modifier, msg_start, len(result))\n"
          ]
        }
      ]
    },
    {
      "cell_type": "markdown",
      "metadata": {
        "id": "5RuSO9c9EdVj"
      },
      "source": [
        "## f. Changing from linear to polynomial kernel"
      ]
    },
    {
      "cell_type": "code",
      "metadata": {
        "id": "5Unsf2S6EgZn",
        "colab": {
          "base_uri": "https://localhost:8080/"
        },
        "outputId": "5a59625f-32e3-4eb6-ecb2-65709d8db6ec"
      },
      "source": [
        "C = 1.0\n",
        "clf = svm.SVC(kernel='poly', degree=3, C=C, gamma='auto')\n",
        "clf.fit(X_std_train, y_train)"
      ],
      "execution_count": 35,
      "outputs": [
        {
          "output_type": "execute_result",
          "data": {
            "text/plain": [
              "SVC(C=1.0, break_ties=False, cache_size=200, class_weight=None, coef0=0.0,\n",
              "    decision_function_shape='ovr', degree=3, gamma='auto', kernel='poly',\n",
              "    max_iter=-1, probability=False, random_state=None, shrinking=True,\n",
              "    tol=0.001, verbose=False)"
            ]
          },
          "metadata": {},
          "execution_count": 35
        }
      ]
    },
    {
      "cell_type": "code",
      "metadata": {
        "id": "bMUfZrwXEX83",
        "colab": {
          "base_uri": "https://localhost:8080/"
        },
        "outputId": "2f0e02bf-ad0a-4870-8397-88eccc34a902"
      },
      "source": [
        "res = cross_val_score(clf, X_std_train, y_train, cv=10, scoring='accuracy')\n",
        "print(\"Average Accuracy: \\t {0:.4f}\".format(np.mean(res)))\n",
        "print(\"Accuracy SD: \\t\\t {0:.4f}\".format(np.std(res)))"
      ],
      "execution_count": 36,
      "outputs": [
        {
          "output_type": "stream",
          "name": "stdout",
          "text": [
            "Average Accuracy: \t 0.2811\n",
            "Accuracy SD: \t\t 0.0602\n"
          ]
        }
      ]
    },
    {
      "cell_type": "code",
      "metadata": {
        "id": "mre-r35iGaKP"
      },
      "source": [
        "y_train_pred = cross_val_predict(clf, X_std_train, y_train, cv=3)"
      ],
      "execution_count": 37,
      "outputs": []
    },
    {
      "cell_type": "code",
      "metadata": {
        "id": "Zpo-mriQGcOI",
        "colab": {
          "base_uri": "https://localhost:8080/"
        },
        "outputId": "325656fe-f829-4198-8e11-45f8d8034783"
      },
      "source": [
        "confusion_matrix(y_train, y_train_pred)"
      ],
      "execution_count": 38,
      "outputs": [
        {
          "output_type": "execute_result",
          "data": {
            "text/plain": [
              "array([[ 3,  0,  1, 16, 27,  0,  0],\n",
              "       [ 0,  3,  2, 14, 28,  0,  0],\n",
              "       [ 0,  2,  3, 27, 24,  0,  0],\n",
              "       [ 2,  1,  4, 37, 56,  0,  0],\n",
              "       [ 0,  5,  0, 44, 62,  2,  1],\n",
              "       [ 0,  4,  0, 12, 29,  3,  1],\n",
              "       [ 0,  0,  0,  0, 19,  0,  2]])"
            ]
          },
          "metadata": {},
          "execution_count": 38
        }
      ]
    },
    {
      "cell_type": "code",
      "metadata": {
        "id": "CH71o8iGGe47",
        "colab": {
          "base_uri": "https://localhost:8080/"
        },
        "outputId": "c6b3554f-a3f5-480a-837a-c6b4ce40a1c1"
      },
      "source": [
        "performance(y_train, y_train_pred)"
      ],
      "execution_count": 39,
      "outputs": [
        {
          "output_type": "stream",
          "name": "stdout",
          "text": [
            "Precision Score: \t 0.3406\n",
            "Recall Score: \t\t 0.2604\n",
            "F1 Score: \t\t 0.2139\n"
          ]
        }
      ]
    },
    {
      "cell_type": "code",
      "metadata": {
        "id": "ZhNRy7rYGhPe"
      },
      "source": [
        "y_test_pred = cross_val_predict(clf, sc_x.transform(X_test), y_test, cv=3)"
      ],
      "execution_count": 40,
      "outputs": []
    },
    {
      "cell_type": "code",
      "metadata": {
        "id": "jpHK3uGnGlKe",
        "colab": {
          "base_uri": "https://localhost:8080/"
        },
        "outputId": "c48b25eb-2e59-4fc5-f317-42e7112d55d2"
      },
      "source": [
        "confusion_matrix(y_test, y_test_pred)"
      ],
      "execution_count": 41,
      "outputs": [
        {
          "output_type": "execute_result",
          "data": {
            "text/plain": [
              "array([[ 0,  0,  0,  0, 11,  0,  0],\n",
              "       [ 0,  0,  0,  0, 12,  0,  0],\n",
              "       [ 0,  0,  0,  0, 11,  0,  0],\n",
              "       [ 0,  0,  1,  0, 20,  0,  1],\n",
              "       [ 0,  1,  0,  1, 28,  1,  1],\n",
              "       [ 0,  0,  0,  1, 17,  0,  0],\n",
              "       [ 0,  0,  0,  0,  3,  0,  0]])"
            ]
          },
          "metadata": {},
          "execution_count": 41
        }
      ]
    },
    {
      "cell_type": "code",
      "metadata": {
        "id": "4EiaiC3TGm7x",
        "colab": {
          "base_uri": "https://localhost:8080/"
        },
        "outputId": "963611bd-2427-4f50-eee0-21b18a4cb4c9"
      },
      "source": [
        "performance(y_test, y_test_pred)"
      ],
      "execution_count": 42,
      "outputs": [
        {
          "output_type": "stream",
          "name": "stdout",
          "text": [
            "Precision Score: \t 0.0806\n",
            "Recall Score: \t\t 0.2569\n",
            "F1 Score: \t\t 0.1227\n"
          ]
        },
        {
          "output_type": "stream",
          "name": "stderr",
          "text": [
            "/usr/local/lib/python3.7/dist-packages/sklearn/metrics/_classification.py:1272: UndefinedMetricWarning: Precision is ill-defined and being set to 0.0 in labels with no predicted samples. Use `zero_division` parameter to control this behavior.\n",
            "  _warn_prf(average, modifier, msg_start, len(result))\n"
          ]
        }
      ]
    },
    {
      "cell_type": "markdown",
      "metadata": {
        "id": "Ygue6O9IG4my"
      },
      "source": [
        "**CONCLUSION>**\n",
        "\n",
        "There is a small improvement in Precision, Recall and F1 score agaist other algorithms but there is no significant improvement and uncertainty is still big. \n",
        "\n"
      ]
    },
    {
      "cell_type": "markdown",
      "metadata": {
        "id": "gRRYaNH59NId"
      },
      "source": [
        "## g. Experimenting with Radial Basis Function"
      ]
    },
    {
      "cell_type": "code",
      "metadata": {
        "id": "3tDJaBgyHw8m"
      },
      "source": [
        "train_gaus, test_gaus, result_gaus = importsets()"
      ],
      "execution_count": 43,
      "outputs": []
    },
    {
      "cell_type": "code",
      "metadata": {
        "id": "tHHVF7TWT2qd"
      },
      "source": [
        "X_gs, y_gs = create_x_y(train_gaus)"
      ],
      "execution_count": 44,
      "outputs": []
    },
    {
      "cell_type": "code",
      "metadata": {
        "id": "gCnXTslsT_Nl"
      },
      "source": [
        "X_train, X_test, y_train, y_test = train_test_split(X_gs, y_gs,\n",
        "                                                    train_size=0.8, \n",
        "                                                    random_state=0) #0.6"
      ],
      "execution_count": 45,
      "outputs": []
    },
    {
      "cell_type": "code",
      "metadata": {
        "id": "O2T7Ir1FUJ4U"
      },
      "source": [
        "sc_x = StandardScaler()\n",
        "X_std_train = sc_x.fit_transform(X_train)"
      ],
      "execution_count": 46,
      "outputs": []
    },
    {
      "cell_type": "code",
      "metadata": {
        "id": "jiqlfvngUMhs",
        "colab": {
          "base_uri": "https://localhost:8080/"
        },
        "outputId": "02eafc2d-611b-40b8-ea14-d46cfb7cb22e"
      },
      "source": [
        "C = 1.0\n",
        "clf = svm.SVC(kernel='rbf', gamma=0.7, C=C)\n",
        "clf.fit(X_std_train, y_train)"
      ],
      "execution_count": 47,
      "outputs": [
        {
          "output_type": "execute_result",
          "data": {
            "text/plain": [
              "SVC(C=1.0, break_ties=False, cache_size=200, class_weight=None, coef0=0.0,\n",
              "    decision_function_shape='ovr', degree=3, gamma=0.7, kernel='rbf',\n",
              "    max_iter=-1, probability=False, random_state=None, shrinking=True,\n",
              "    tol=0.001, verbose=False)"
            ]
          },
          "metadata": {},
          "execution_count": 47
        }
      ]
    },
    {
      "cell_type": "code",
      "metadata": {
        "id": "ciJvnhfsUOSK",
        "colab": {
          "base_uri": "https://localhost:8080/"
        },
        "outputId": "fb620c62-824d-4daa-c3be-54b822909aaf"
      },
      "source": [
        "res = cross_val_score(clf, X_std_train, y_train, cv=10, scoring='accuracy')\n",
        "print(\"Average Accuracy: \\t {0:.4f}\".format(np.mean(res)))\n",
        "print(\"Accuracy SD: \\t\\t {0:.4f}\".format(np.std(res)))"
      ],
      "execution_count": 48,
      "outputs": [
        {
          "output_type": "stream",
          "name": "stdout",
          "text": [
            "Average Accuracy: \t 0.2834\n",
            "Accuracy SD: \t\t 0.0557\n"
          ]
        }
      ]
    },
    {
      "cell_type": "code",
      "metadata": {
        "id": "5S-FqV_lURMy"
      },
      "source": [
        "y_train_pred = cross_val_predict(clf, X_std_train, y_train, cv=3)"
      ],
      "execution_count": 49,
      "outputs": []
    },
    {
      "cell_type": "code",
      "metadata": {
        "id": "igmL-pQTUTWO",
        "colab": {
          "base_uri": "https://localhost:8080/"
        },
        "outputId": "8f4bb75b-4edb-4fbf-9199-618e72921283"
      },
      "source": [
        "confusion_matrix(y_train, y_train_pred)"
      ],
      "execution_count": 50,
      "outputs": [
        {
          "output_type": "execute_result",
          "data": {
            "text/plain": [
              "array([[ 3,  2,  2, 14, 26,  0,  0],\n",
              "       [ 0,  7,  4,  8, 28,  0,  0],\n",
              "       [ 1,  5, 12, 19, 17,  2,  0],\n",
              "       [ 3,  2,  7, 33, 52,  1,  2],\n",
              "       [ 2,  8,  0, 38, 60,  3,  3],\n",
              "       [ 1,  2,  3, 10, 27,  4,  2],\n",
              "       [ 1,  1,  0,  0, 14,  1,  4]])"
            ]
          },
          "metadata": {},
          "execution_count": 50
        }
      ]
    },
    {
      "cell_type": "code",
      "metadata": {
        "id": "QvC7BLhkUU3L",
        "colab": {
          "base_uri": "https://localhost:8080/"
        },
        "outputId": "938886e2-769a-4fc1-d329-e46495bf4a86"
      },
      "source": [
        "performance(y_train, y_train_pred)"
      ],
      "execution_count": 51,
      "outputs": [
        {
          "output_type": "stream",
          "name": "stdout",
          "text": [
            "Precision Score: \t 0.3042\n",
            "Recall Score: \t\t 0.2834\n",
            "F1 Score: \t\t 0.2575\n"
          ]
        }
      ]
    },
    {
      "cell_type": "markdown",
      "metadata": {
        "id": "MUCzGXAbUzBS"
      },
      "source": [
        "## h. Grid Search"
      ]
    },
    {
      "cell_type": "code",
      "metadata": {
        "id": "Ihxzktv7UmvT"
      },
      "source": [
        "from sklearn.pipeline import Pipeline \n",
        "from sklearn.model_selection import train_test_split, GridSearchCV "
      ],
      "execution_count": 52,
      "outputs": []
    },
    {
      "cell_type": "code",
      "metadata": {
        "id": "jeYqgGxLU5la"
      },
      "source": [
        "pipeline = Pipeline([('clf', svm.SVC(kernel='rbf', C=1, gamma=0.1))]) "
      ],
      "execution_count": 53,
      "outputs": []
    },
    {
      "cell_type": "code",
      "metadata": {
        "id": "zV7wo4BzU7Zj"
      },
      "source": [
        "params = {'clf__C':(0.1, 0.5, 1, 2, 5, 10, 20), \n",
        "          'clf__gamma':(0.001, 0.01, 0.1, 0.25, 0.5, 0.75, 1)} "
      ],
      "execution_count": 54,
      "outputs": []
    },
    {
      "cell_type": "code",
      "metadata": {
        "id": "zkaBLoJLVBIC"
      },
      "source": [
        "svm_grid_rbf = GridSearchCV(pipeline, params, n_jobs=-1,\n",
        "                            cv=3, verbose=1, scoring='accuracy') "
      ],
      "execution_count": 55,
      "outputs": []
    },
    {
      "cell_type": "code",
      "metadata": {
        "id": "BqGE6SUBVEy6",
        "colab": {
          "base_uri": "https://localhost:8080/"
        },
        "outputId": "25fbc006-108e-4086-ef8d-20a507fe3ea5"
      },
      "source": [
        "svm_grid_rbf.fit(X_train, y_train)"
      ],
      "execution_count": 56,
      "outputs": [
        {
          "output_type": "stream",
          "name": "stdout",
          "text": [
            "Fitting 3 folds for each of 49 candidates, totalling 147 fits\n"
          ]
        },
        {
          "output_type": "stream",
          "name": "stderr",
          "text": [
            "[Parallel(n_jobs=-1)]: Using backend LokyBackend with 2 concurrent workers.\n",
            "[Parallel(n_jobs=-1)]: Done 147 out of 147 | elapsed:    2.4s finished\n"
          ]
        },
        {
          "output_type": "execute_result",
          "data": {
            "text/plain": [
              "GridSearchCV(cv=3, error_score=nan,\n",
              "             estimator=Pipeline(memory=None,\n",
              "                                steps=[('clf',\n",
              "                                        SVC(C=1, break_ties=False,\n",
              "                                            cache_size=200, class_weight=None,\n",
              "                                            coef0=0.0,\n",
              "                                            decision_function_shape='ovr',\n",
              "                                            degree=3, gamma=0.1, kernel='rbf',\n",
              "                                            max_iter=-1, probability=False,\n",
              "                                            random_state=None, shrinking=True,\n",
              "                                            tol=0.001, verbose=False))],\n",
              "                                verbose=False),\n",
              "             iid='deprecated', n_jobs=-1,\n",
              "             param_grid={'clf__C': (0.1, 0.5, 1, 2, 5, 10, 20),\n",
              "                         'clf__gamma': (0.001, 0.01, 0.1, 0.25, 0.5, 0.75, 1)},\n",
              "             pre_dispatch='2*n_jobs', refit=True, return_train_score=False,\n",
              "             scoring='accuracy', verbose=1)"
            ]
          },
          "metadata": {},
          "execution_count": 56
        }
      ]
    },
    {
      "cell_type": "code",
      "metadata": {
        "id": "i_fPQfdmVHg6",
        "colab": {
          "base_uri": "https://localhost:8080/"
        },
        "outputId": "0589becd-59fc-46ae-8fec-81e2849bbba2"
      },
      "source": [
        "svm_grid_rbf.best_score_"
      ],
      "execution_count": 57,
      "outputs": [
        {
          "output_type": "execute_result",
          "data": {
            "text/plain": [
              "0.26267560664112394"
            ]
          },
          "metadata": {},
          "execution_count": 57
        }
      ]
    },
    {
      "cell_type": "code",
      "metadata": {
        "id": "LfBWY_NjVK4j"
      },
      "source": [
        "best = svm_grid_rbf.best_estimator_.get_params() "
      ],
      "execution_count": 58,
      "outputs": []
    },
    {
      "cell_type": "code",
      "metadata": {
        "id": "AA1KcybLVNQa",
        "colab": {
          "base_uri": "https://localhost:8080/"
        },
        "outputId": "9a6c1b9c-e4df-4e04-8689-f45b26a57879"
      },
      "source": [
        "for k in sorted(params.keys()): \n",
        "    print('\\t{0}: \\t {1:.2f}'.format(k, best[k]))"
      ],
      "execution_count": 59,
      "outputs": [
        {
          "output_type": "stream",
          "name": "stdout",
          "text": [
            "\tclf__C: \t 0.10\n",
            "\tclf__gamma: \t 0.00\n"
          ]
        }
      ]
    },
    {
      "cell_type": "markdown",
      "metadata": {
        "id": "Horhn6ItVR8D"
      },
      "source": [
        "**validating in testing set**"
      ]
    },
    {
      "cell_type": "code",
      "metadata": {
        "id": "cAdKSJHHVUpC"
      },
      "source": [
        "y_test_pred = svm_grid_rbf.predict(X_test)"
      ],
      "execution_count": 60,
      "outputs": []
    },
    {
      "cell_type": "code",
      "metadata": {
        "id": "VDxvtXmDVWHK",
        "colab": {
          "base_uri": "https://localhost:8080/"
        },
        "outputId": "a27ab487-7e19-4840-d588-bad2309a1b49"
      },
      "source": [
        "confusion_matrix(y_test, y_test_pred)"
      ],
      "execution_count": 61,
      "outputs": [
        {
          "output_type": "execute_result",
          "data": {
            "text/plain": [
              "array([[ 0,  0,  0,  0, 11,  0,  0],\n",
              "       [ 0,  0,  0,  0, 12,  0,  0],\n",
              "       [ 0,  0,  0,  0, 11,  0,  0],\n",
              "       [ 0,  0,  0,  0, 22,  0,  0],\n",
              "       [ 0,  0,  0,  0, 32,  0,  0],\n",
              "       [ 0,  0,  0,  0, 18,  0,  0],\n",
              "       [ 0,  0,  0,  0,  3,  0,  0]])"
            ]
          },
          "metadata": {},
          "execution_count": 61
        }
      ]
    },
    {
      "cell_type": "code",
      "metadata": {
        "id": "qa7cZi2aVXzq",
        "colab": {
          "base_uri": "https://localhost:8080/"
        },
        "outputId": "56e49690-12e4-4cde-ddb4-8adaa800fca0"
      },
      "source": [
        "performance(y_test, y_test_pred)"
      ],
      "execution_count": 62,
      "outputs": [
        {
          "output_type": "stream",
          "name": "stdout",
          "text": [
            "Precision Score: \t 0.0862\n",
            "Recall Score: \t\t 0.2936\n",
            "F1 Score: \t\t 0.1333\n"
          ]
        },
        {
          "output_type": "stream",
          "name": "stderr",
          "text": [
            "/usr/local/lib/python3.7/dist-packages/sklearn/metrics/_classification.py:1272: UndefinedMetricWarning: Precision is ill-defined and being set to 0.0 in labels with no predicted samples. Use `zero_division` parameter to control this behavior.\n",
            "  _warn_prf(average, modifier, msg_start, len(result))\n"
          ]
        }
      ]
    },
    {
      "cell_type": "markdown",
      "metadata": {
        "id": "bcgBZzhe6spA"
      },
      "source": [
        "# 5 - Final Results\n",
        "\n",
        "Training and testing Random Forest with real data, compare results, take conclusions. \n",
        "\n",
        "Random Forest was the model with best overall performance, comparing 40% accuracy agains 20% and 25%. Additionally, F1, Precision and Recall are also better than other algorithms. Thus Random Forest is the one selected for the final training and testing purpose. \n",
        "\n",
        "As I did in Regression, I will consider all predictions higher than real data as good results. \n",
        "\n"
      ]
    },
    {
      "cell_type": "markdown",
      "metadata": {
        "id": "vs8COdBkrSK8"
      },
      "source": [
        "## a. Testing the hypothesis\n",
        "\n",
        "How many predictions are higher than real estimation. \n",
        "\n",
        "More predictions higher than estimations, the better. "
      ]
    },
    {
      "cell_type": "code",
      "metadata": {
        "colab": {
          "base_uri": "https://localhost:8080/",
          "height": 206
        },
        "id": "dnH2hUYVqvR9",
        "outputId": "8f2e5229-50b6-4cd2-cb2a-73113329ea84"
      },
      "source": [
        "# Visualizing Result\n",
        "pred_test = pd.DataFrame(data=y_pred_rf)\n",
        "train_test = pd.DataFrame(data=y_train)\n",
        "\n",
        "h_stack_test = pd.concat([train_test, pred_test], axis=1)\n",
        "h_stack_test.head(5)"
      ],
      "execution_count": 105,
      "outputs": [
        {
          "output_type": "execute_result",
          "data": {
            "text/html": [
              "<div>\n",
              "<style scoped>\n",
              "    .dataframe tbody tr th:only-of-type {\n",
              "        vertical-align: middle;\n",
              "    }\n",
              "\n",
              "    .dataframe tbody tr th {\n",
              "        vertical-align: top;\n",
              "    }\n",
              "\n",
              "    .dataframe thead th {\n",
              "        text-align: right;\n",
              "    }\n",
              "</style>\n",
              "<table border=\"1\" class=\"dataframe\">\n",
              "  <thead>\n",
              "    <tr style=\"text-align: right;\">\n",
              "      <th></th>\n",
              "      <th>0</th>\n",
              "      <th>0</th>\n",
              "    </tr>\n",
              "  </thead>\n",
              "  <tbody>\n",
              "    <tr>\n",
              "      <th>0</th>\n",
              "      <td>3</td>\n",
              "      <td>5.0</td>\n",
              "    </tr>\n",
              "    <tr>\n",
              "      <th>1</th>\n",
              "      <td>8</td>\n",
              "      <td>8.0</td>\n",
              "    </tr>\n",
              "    <tr>\n",
              "      <th>2</th>\n",
              "      <td>1</td>\n",
              "      <td>2.0</td>\n",
              "    </tr>\n",
              "    <tr>\n",
              "      <th>3</th>\n",
              "      <td>8</td>\n",
              "      <td>0.0</td>\n",
              "    </tr>\n",
              "    <tr>\n",
              "      <th>4</th>\n",
              "      <td>3</td>\n",
              "      <td>3.0</td>\n",
              "    </tr>\n",
              "  </tbody>\n",
              "</table>\n",
              "</div>"
            ],
            "text/plain": [
              "   0    0\n",
              "0  3  5.0\n",
              "1  8  8.0\n",
              "2  1  2.0\n",
              "3  8  0.0\n",
              "4  3  3.0"
            ]
          },
          "metadata": {},
          "execution_count": 105
        }
      ]
    },
    {
      "cell_type": "code",
      "metadata": {
        "colab": {
          "base_uri": "https://localhost:8080/",
          "height": 206
        },
        "id": "EIH3mcx9rBQF",
        "outputId": "7d863d92-4dea-4e60-8fcc-1e21bf07fd1a"
      },
      "source": [
        "# comparing results (Real versus prediction)\n",
        "h_stack_test.columns = ['REAL','PRED'] \n",
        "h_stack_test.head(5)"
      ],
      "execution_count": 106,
      "outputs": [
        {
          "output_type": "execute_result",
          "data": {
            "text/html": [
              "<div>\n",
              "<style scoped>\n",
              "    .dataframe tbody tr th:only-of-type {\n",
              "        vertical-align: middle;\n",
              "    }\n",
              "\n",
              "    .dataframe tbody tr th {\n",
              "        vertical-align: top;\n",
              "    }\n",
              "\n",
              "    .dataframe thead th {\n",
              "        text-align: right;\n",
              "    }\n",
              "</style>\n",
              "<table border=\"1\" class=\"dataframe\">\n",
              "  <thead>\n",
              "    <tr style=\"text-align: right;\">\n",
              "      <th></th>\n",
              "      <th>REAL</th>\n",
              "      <th>PRED</th>\n",
              "    </tr>\n",
              "  </thead>\n",
              "  <tbody>\n",
              "    <tr>\n",
              "      <th>0</th>\n",
              "      <td>3</td>\n",
              "      <td>5.0</td>\n",
              "    </tr>\n",
              "    <tr>\n",
              "      <th>1</th>\n",
              "      <td>8</td>\n",
              "      <td>8.0</td>\n",
              "    </tr>\n",
              "    <tr>\n",
              "      <th>2</th>\n",
              "      <td>1</td>\n",
              "      <td>2.0</td>\n",
              "    </tr>\n",
              "    <tr>\n",
              "      <th>3</th>\n",
              "      <td>8</td>\n",
              "      <td>0.0</td>\n",
              "    </tr>\n",
              "    <tr>\n",
              "      <th>4</th>\n",
              "      <td>3</td>\n",
              "      <td>3.0</td>\n",
              "    </tr>\n",
              "  </tbody>\n",
              "</table>\n",
              "</div>"
            ],
            "text/plain": [
              "   REAL  PRED\n",
              "0     3   5.0\n",
              "1     8   8.0\n",
              "2     1   2.0\n",
              "3     8   0.0\n",
              "4     3   3.0"
            ]
          },
          "metadata": {},
          "execution_count": 106
        }
      ]
    },
    {
      "cell_type": "code",
      "metadata": {
        "colab": {
          "base_uri": "https://localhost:8080/"
        },
        "id": "QLN8FKSbrJVv",
        "outputId": "38264fab-f96b-4e42-d296-feb1e122cf8c"
      },
      "source": [
        "# Counting the number of predictions higher than real estimation\n",
        "\n",
        "pos_pred = 0\n",
        "neg_pred = 0\n",
        "comp = False\n",
        "\n",
        "for i in range(0, len(pred_test)):\n",
        "\n",
        "  comp = h_stack_test.iloc[i].REAL < h_stack_test.iloc[i].PRED\n",
        "\n",
        "  if comp == True:\n",
        "    #print(comp)\n",
        "    pos_pred += 1\n",
        "  else:\n",
        "    #print(comp)\n",
        "    neg_pred += 1\n",
        "\n",
        "\n",
        "print('Predictions are higher than real estimation: ', pos_pred)\n",
        "print('Predictions are lower than real estimation: ', neg_pred)"
      ],
      "execution_count": 104,
      "outputs": [
        {
          "output_type": "stream",
          "name": "stdout",
          "text": [
            "Predictions are higher than real estimation:  42\n",
            "Predictions are lower than real estimation:  67\n"
          ]
        }
      ]
    },
    {
      "cell_type": "markdown",
      "metadata": {
        "id": "GGP_w8ItsP3Y"
      },
      "source": [
        "## b. Making an exportable final result\n",
        "\n",
        "If results were acceptable, like accuracy higher than 70%, algorithms could be tested against datasets without target variable and return predictions in a new column to be used. "
      ]
    },
    {
      "cell_type": "code",
      "metadata": {
        "id": "kPde9NCu4RNK"
      },
      "source": [
        "del results_rf['Work Item Id']\n",
        "del results_rf['SP']"
      ],
      "execution_count": 86,
      "outputs": []
    },
    {
      "cell_type": "code",
      "metadata": {
        "colab": {
          "base_uri": "https://localhost:8080/",
          "height": 424
        },
        "id": "XOwjU_BQ4ZK6",
        "outputId": "732cc0c1-8e23-4aea-c850-20ca6ab20ddc"
      },
      "source": [
        "results_rf"
      ],
      "execution_count": 87,
      "outputs": [
        {
          "output_type": "execute_result",
          "data": {
            "text/html": [
              "<div>\n",
              "<style scoped>\n",
              "    .dataframe tbody tr th:only-of-type {\n",
              "        vertical-align: middle;\n",
              "    }\n",
              "\n",
              "    .dataframe tbody tr th {\n",
              "        vertical-align: top;\n",
              "    }\n",
              "\n",
              "    .dataframe thead th {\n",
              "        text-align: right;\n",
              "    }\n",
              "</style>\n",
              "<table border=\"1\" class=\"dataframe\">\n",
              "  <thead>\n",
              "    <tr style=\"text-align: right;\">\n",
              "      <th></th>\n",
              "      <th>IP_ML</th>\n",
              "      <th>QA</th>\n",
              "      <th>ENG</th>\n",
              "      <th>TechDebt</th>\n",
              "      <th>ID_Area</th>\n",
              "      <th>ID_Type</th>\n",
              "    </tr>\n",
              "  </thead>\n",
              "  <tbody>\n",
              "    <tr>\n",
              "      <th>0</th>\n",
              "      <td>11</td>\n",
              "      <td>0</td>\n",
              "      <td>0</td>\n",
              "      <td>0</td>\n",
              "      <td>1</td>\n",
              "      <td>1</td>\n",
              "    </tr>\n",
              "    <tr>\n",
              "      <th>1</th>\n",
              "      <td>11</td>\n",
              "      <td>0</td>\n",
              "      <td>0</td>\n",
              "      <td>0</td>\n",
              "      <td>1</td>\n",
              "      <td>1</td>\n",
              "    </tr>\n",
              "    <tr>\n",
              "      <th>2</th>\n",
              "      <td>11</td>\n",
              "      <td>0</td>\n",
              "      <td>0</td>\n",
              "      <td>0</td>\n",
              "      <td>1</td>\n",
              "      <td>1</td>\n",
              "    </tr>\n",
              "    <tr>\n",
              "      <th>3</th>\n",
              "      <td>11</td>\n",
              "      <td>0</td>\n",
              "      <td>0</td>\n",
              "      <td>0</td>\n",
              "      <td>1</td>\n",
              "      <td>1</td>\n",
              "    </tr>\n",
              "    <tr>\n",
              "      <th>4</th>\n",
              "      <td>11</td>\n",
              "      <td>0</td>\n",
              "      <td>0</td>\n",
              "      <td>0</td>\n",
              "      <td>1</td>\n",
              "      <td>1</td>\n",
              "    </tr>\n",
              "    <tr>\n",
              "      <th>...</th>\n",
              "      <td>...</td>\n",
              "      <td>...</td>\n",
              "      <td>...</td>\n",
              "      <td>...</td>\n",
              "      <td>...</td>\n",
              "      <td>...</td>\n",
              "    </tr>\n",
              "    <tr>\n",
              "      <th>632</th>\n",
              "      <td>22</td>\n",
              "      <td>1</td>\n",
              "      <td>1</td>\n",
              "      <td>0</td>\n",
              "      <td>2</td>\n",
              "      <td>1</td>\n",
              "    </tr>\n",
              "    <tr>\n",
              "      <th>633</th>\n",
              "      <td>26</td>\n",
              "      <td>0</td>\n",
              "      <td>0</td>\n",
              "      <td>0</td>\n",
              "      <td>1</td>\n",
              "      <td>4</td>\n",
              "    </tr>\n",
              "    <tr>\n",
              "      <th>634</th>\n",
              "      <td>26</td>\n",
              "      <td>0</td>\n",
              "      <td>0</td>\n",
              "      <td>0</td>\n",
              "      <td>1</td>\n",
              "      <td>5</td>\n",
              "    </tr>\n",
              "    <tr>\n",
              "      <th>635</th>\n",
              "      <td>26</td>\n",
              "      <td>1</td>\n",
              "      <td>0</td>\n",
              "      <td>0</td>\n",
              "      <td>1</td>\n",
              "      <td>5</td>\n",
              "    </tr>\n",
              "    <tr>\n",
              "      <th>636</th>\n",
              "      <td>26</td>\n",
              "      <td>1</td>\n",
              "      <td>0</td>\n",
              "      <td>0</td>\n",
              "      <td>1</td>\n",
              "      <td>5</td>\n",
              "    </tr>\n",
              "  </tbody>\n",
              "</table>\n",
              "<p>637 rows × 6 columns</p>\n",
              "</div>"
            ],
            "text/plain": [
              "     IP_ML  QA  ENG  TechDebt  ID_Area  ID_Type\n",
              "0       11   0    0         0        1        1\n",
              "1       11   0    0         0        1        1\n",
              "2       11   0    0         0        1        1\n",
              "3       11   0    0         0        1        1\n",
              "4       11   0    0         0        1        1\n",
              "..     ...  ..  ...       ...      ...      ...\n",
              "632     22   1    1         0        2        1\n",
              "633     26   0    0         0        1        4\n",
              "634     26   0    0         0        1        5\n",
              "635     26   1    0         0        1        5\n",
              "636     26   1    0         0        1        5\n",
              "\n",
              "[637 rows x 6 columns]"
            ]
          },
          "metadata": {},
          "execution_count": 87
        }
      ]
    },
    {
      "cell_type": "code",
      "metadata": {
        "id": "zy5pK-Bc4bki"
      },
      "source": [
        "real_pred = classifier_rf.predict(results_rf)"
      ],
      "execution_count": 89,
      "outputs": []
    },
    {
      "cell_type": "code",
      "metadata": {
        "id": "E-ZpgQkJ4qKo"
      },
      "source": [
        "final_result = pd.concat([results_rf, pd.DataFrame(real_pred)], axis=1)"
      ],
      "execution_count": 90,
      "outputs": []
    },
    {
      "cell_type": "code",
      "metadata": {
        "colab": {
          "base_uri": "https://localhost:8080/",
          "height": 424
        },
        "id": "Cpa0QBDC44jH",
        "outputId": "780b68cf-e3d1-488a-bced-95a45b0b228a"
      },
      "source": [
        "final_result"
      ],
      "execution_count": 91,
      "outputs": [
        {
          "output_type": "execute_result",
          "data": {
            "text/html": [
              "<div>\n",
              "<style scoped>\n",
              "    .dataframe tbody tr th:only-of-type {\n",
              "        vertical-align: middle;\n",
              "    }\n",
              "\n",
              "    .dataframe tbody tr th {\n",
              "        vertical-align: top;\n",
              "    }\n",
              "\n",
              "    .dataframe thead th {\n",
              "        text-align: right;\n",
              "    }\n",
              "</style>\n",
              "<table border=\"1\" class=\"dataframe\">\n",
              "  <thead>\n",
              "    <tr style=\"text-align: right;\">\n",
              "      <th></th>\n",
              "      <th>IP_ML</th>\n",
              "      <th>QA</th>\n",
              "      <th>ENG</th>\n",
              "      <th>TechDebt</th>\n",
              "      <th>ID_Area</th>\n",
              "      <th>ID_Type</th>\n",
              "      <th>0</th>\n",
              "    </tr>\n",
              "  </thead>\n",
              "  <tbody>\n",
              "    <tr>\n",
              "      <th>0</th>\n",
              "      <td>11</td>\n",
              "      <td>0</td>\n",
              "      <td>0</td>\n",
              "      <td>0</td>\n",
              "      <td>1</td>\n",
              "      <td>1</td>\n",
              "      <td>3</td>\n",
              "    </tr>\n",
              "    <tr>\n",
              "      <th>1</th>\n",
              "      <td>11</td>\n",
              "      <td>0</td>\n",
              "      <td>0</td>\n",
              "      <td>0</td>\n",
              "      <td>1</td>\n",
              "      <td>1</td>\n",
              "      <td>3</td>\n",
              "    </tr>\n",
              "    <tr>\n",
              "      <th>2</th>\n",
              "      <td>11</td>\n",
              "      <td>0</td>\n",
              "      <td>0</td>\n",
              "      <td>0</td>\n",
              "      <td>1</td>\n",
              "      <td>1</td>\n",
              "      <td>3</td>\n",
              "    </tr>\n",
              "    <tr>\n",
              "      <th>3</th>\n",
              "      <td>11</td>\n",
              "      <td>0</td>\n",
              "      <td>0</td>\n",
              "      <td>0</td>\n",
              "      <td>1</td>\n",
              "      <td>1</td>\n",
              "      <td>3</td>\n",
              "    </tr>\n",
              "    <tr>\n",
              "      <th>4</th>\n",
              "      <td>11</td>\n",
              "      <td>0</td>\n",
              "      <td>0</td>\n",
              "      <td>0</td>\n",
              "      <td>1</td>\n",
              "      <td>1</td>\n",
              "      <td>3</td>\n",
              "    </tr>\n",
              "    <tr>\n",
              "      <th>...</th>\n",
              "      <td>...</td>\n",
              "      <td>...</td>\n",
              "      <td>...</td>\n",
              "      <td>...</td>\n",
              "      <td>...</td>\n",
              "      <td>...</td>\n",
              "      <td>...</td>\n",
              "    </tr>\n",
              "    <tr>\n",
              "      <th>632</th>\n",
              "      <td>22</td>\n",
              "      <td>1</td>\n",
              "      <td>1</td>\n",
              "      <td>0</td>\n",
              "      <td>2</td>\n",
              "      <td>1</td>\n",
              "      <td>5</td>\n",
              "    </tr>\n",
              "    <tr>\n",
              "      <th>633</th>\n",
              "      <td>26</td>\n",
              "      <td>0</td>\n",
              "      <td>0</td>\n",
              "      <td>0</td>\n",
              "      <td>1</td>\n",
              "      <td>4</td>\n",
              "      <td>3</td>\n",
              "    </tr>\n",
              "    <tr>\n",
              "      <th>634</th>\n",
              "      <td>26</td>\n",
              "      <td>0</td>\n",
              "      <td>0</td>\n",
              "      <td>0</td>\n",
              "      <td>1</td>\n",
              "      <td>5</td>\n",
              "      <td>3</td>\n",
              "    </tr>\n",
              "    <tr>\n",
              "      <th>635</th>\n",
              "      <td>26</td>\n",
              "      <td>1</td>\n",
              "      <td>0</td>\n",
              "      <td>0</td>\n",
              "      <td>1</td>\n",
              "      <td>5</td>\n",
              "      <td>3</td>\n",
              "    </tr>\n",
              "    <tr>\n",
              "      <th>636</th>\n",
              "      <td>26</td>\n",
              "      <td>1</td>\n",
              "      <td>0</td>\n",
              "      <td>0</td>\n",
              "      <td>1</td>\n",
              "      <td>5</td>\n",
              "      <td>3</td>\n",
              "    </tr>\n",
              "  </tbody>\n",
              "</table>\n",
              "<p>637 rows × 7 columns</p>\n",
              "</div>"
            ],
            "text/plain": [
              "     IP_ML  QA  ENG  TechDebt  ID_Area  ID_Type  0\n",
              "0       11   0    0         0        1        1  3\n",
              "1       11   0    0         0        1        1  3\n",
              "2       11   0    0         0        1        1  3\n",
              "3       11   0    0         0        1        1  3\n",
              "4       11   0    0         0        1        1  3\n",
              "..     ...  ..  ...       ...      ...      ... ..\n",
              "632     22   1    1         0        2        1  5\n",
              "633     26   0    0         0        1        4  3\n",
              "634     26   0    0         0        1        5  3\n",
              "635     26   1    0         0        1        5  3\n",
              "636     26   1    0         0        1        5  3\n",
              "\n",
              "[637 rows x 7 columns]"
            ]
          },
          "metadata": {},
          "execution_count": 91
        }
      ]
    },
    {
      "cell_type": "code",
      "metadata": {
        "colab": {
          "base_uri": "https://localhost:8080/"
        },
        "id": "9m3I6VJ45C4X",
        "outputId": "3061edd0-c36f-45fa-850e-7138d3be30f6"
      },
      "source": [
        "print(r2_score(y_lg, y_pred_lg))\n",
        "print(r2_score(y_train, y_pred_lg[:len(y_train)]))"
      ],
      "execution_count": 92,
      "outputs": [
        {
          "output_type": "stream",
          "name": "stdout",
          "text": [
            "-0.026205369026836234\n",
            "-0.25551563287947543\n"
          ]
        }
      ]
    },
    {
      "cell_type": "code",
      "metadata": {
        "colab": {
          "base_uri": "https://localhost:8080/"
        },
        "id": "FgHq6uqjzHCp",
        "outputId": "1f74cc63-c812-4af3-97b3-797bb6032eb3"
      },
      "source": [
        "confusion_matrix(y_train, y_pred_lg[:len(y_train)])\n",
        "#pred_test = pd.DataFrame(data=y_pred_lg)\n",
        "#train_test = pd.DataFrame(data=y_train)"
      ],
      "execution_count": 93,
      "outputs": [
        {
          "output_type": "execute_result",
          "data": {
            "text/plain": [
              "array([[ 3,  2,  0, 16, 26,  0,  0],\n",
              "       [ 3,  1,  0, 15, 28,  0,  0],\n",
              "       [ 2,  2,  0, 25, 27,  0,  0],\n",
              "       [ 6,  5,  0, 37, 52,  0,  0],\n",
              "       [ 4,  7,  0, 38, 65,  0,  0],\n",
              "       [ 4,  6,  0,  9, 30,  0,  0],\n",
              "       [ 0,  2,  0, 10,  9,  0,  0]])"
            ]
          },
          "metadata": {},
          "execution_count": 93
        }
      ]
    },
    {
      "cell_type": "code",
      "metadata": {
        "colab": {
          "base_uri": "https://localhost:8080/"
        },
        "id": "RfYDzB3V2fuQ",
        "outputId": "c172763b-3011-4d97-f219-76d9035aa2d7"
      },
      "source": [
        "len(y_lg)"
      ],
      "execution_count": 94,
      "outputs": [
        {
          "output_type": "execute_result",
          "data": {
            "text/plain": [
              "543"
            ]
          },
          "metadata": {},
          "execution_count": 94
        }
      ]
    },
    {
      "cell_type": "code",
      "metadata": {
        "colab": {
          "base_uri": "https://localhost:8080/"
        },
        "id": "pBBqRU3FzzaY",
        "outputId": "ee12188a-998e-4a5e-94cc-8e022d7cb12a"
      },
      "source": [
        "print(classifier.score(X_lg, y_lg))"
      ],
      "execution_count": 95,
      "outputs": [
        {
          "output_type": "stream",
          "name": "stdout",
          "text": [
            "0.427255985267035\n"
          ]
        }
      ]
    },
    {
      "cell_type": "code",
      "metadata": {
        "colab": {
          "base_uri": "https://localhost:8080/"
        },
        "id": "Lan2ZIzFPrTV",
        "outputId": "1f3ad041-dad4-4a3a-9eac-0206572720af"
      },
      "source": [
        "performance(y_lg, y_pred_lg)"
      ],
      "execution_count": 96,
      "outputs": [
        {
          "output_type": "stream",
          "name": "stdout",
          "text": [
            "Precision Score: \t 0.2024\n",
            "Recall Score: \t\t 0.2910\n",
            "F1 Score: \t\t 0.2243\n"
          ]
        },
        {
          "output_type": "stream",
          "name": "stderr",
          "text": [
            "/usr/local/lib/python3.7/dist-packages/sklearn/metrics/_classification.py:1272: UndefinedMetricWarning: Precision is ill-defined and being set to 0.0 in labels with no predicted samples. Use `zero_division` parameter to control this behavior.\n",
            "  _warn_prf(average, modifier, msg_start, len(result))\n"
          ]
        }
      ]
    },
    {
      "cell_type": "code",
      "metadata": {
        "id": "sYHtk8hD5peb"
      },
      "source": [
        "final_result = final_result.rename(columns={'Work Item Id': 'WIID', 0: 'SP_Pred'})"
      ],
      "execution_count": 97,
      "outputs": []
    },
    {
      "cell_type": "markdown",
      "metadata": {
        "id": "G-KoTZQKs12z"
      },
      "source": [
        "## c. This is the final result, exportable to a CSV"
      ]
    },
    {
      "cell_type": "code",
      "metadata": {
        "colab": {
          "base_uri": "https://localhost:8080/",
          "height": 424
        },
        "id": "0_zbXxdHqfvX",
        "outputId": "8c0f20ff-aa4b-4573-bc45-bfc916b1ba25"
      },
      "source": [
        "final_result"
      ],
      "execution_count": 100,
      "outputs": [
        {
          "output_type": "execute_result",
          "data": {
            "text/html": [
              "<div>\n",
              "<style scoped>\n",
              "    .dataframe tbody tr th:only-of-type {\n",
              "        vertical-align: middle;\n",
              "    }\n",
              "\n",
              "    .dataframe tbody tr th {\n",
              "        vertical-align: top;\n",
              "    }\n",
              "\n",
              "    .dataframe thead th {\n",
              "        text-align: right;\n",
              "    }\n",
              "</style>\n",
              "<table border=\"1\" class=\"dataframe\">\n",
              "  <thead>\n",
              "    <tr style=\"text-align: right;\">\n",
              "      <th></th>\n",
              "      <th>IP_ML</th>\n",
              "      <th>QA</th>\n",
              "      <th>ENG</th>\n",
              "      <th>TechDebt</th>\n",
              "      <th>ID_Area</th>\n",
              "      <th>ID_Type</th>\n",
              "      <th>SP_Pred</th>\n",
              "    </tr>\n",
              "  </thead>\n",
              "  <tbody>\n",
              "    <tr>\n",
              "      <th>0</th>\n",
              "      <td>11</td>\n",
              "      <td>0</td>\n",
              "      <td>0</td>\n",
              "      <td>0</td>\n",
              "      <td>1</td>\n",
              "      <td>1</td>\n",
              "      <td>3</td>\n",
              "    </tr>\n",
              "    <tr>\n",
              "      <th>1</th>\n",
              "      <td>11</td>\n",
              "      <td>0</td>\n",
              "      <td>0</td>\n",
              "      <td>0</td>\n",
              "      <td>1</td>\n",
              "      <td>1</td>\n",
              "      <td>3</td>\n",
              "    </tr>\n",
              "    <tr>\n",
              "      <th>2</th>\n",
              "      <td>11</td>\n",
              "      <td>0</td>\n",
              "      <td>0</td>\n",
              "      <td>0</td>\n",
              "      <td>1</td>\n",
              "      <td>1</td>\n",
              "      <td>3</td>\n",
              "    </tr>\n",
              "    <tr>\n",
              "      <th>3</th>\n",
              "      <td>11</td>\n",
              "      <td>0</td>\n",
              "      <td>0</td>\n",
              "      <td>0</td>\n",
              "      <td>1</td>\n",
              "      <td>1</td>\n",
              "      <td>3</td>\n",
              "    </tr>\n",
              "    <tr>\n",
              "      <th>4</th>\n",
              "      <td>11</td>\n",
              "      <td>0</td>\n",
              "      <td>0</td>\n",
              "      <td>0</td>\n",
              "      <td>1</td>\n",
              "      <td>1</td>\n",
              "      <td>3</td>\n",
              "    </tr>\n",
              "    <tr>\n",
              "      <th>...</th>\n",
              "      <td>...</td>\n",
              "      <td>...</td>\n",
              "      <td>...</td>\n",
              "      <td>...</td>\n",
              "      <td>...</td>\n",
              "      <td>...</td>\n",
              "      <td>...</td>\n",
              "    </tr>\n",
              "    <tr>\n",
              "      <th>632</th>\n",
              "      <td>22</td>\n",
              "      <td>1</td>\n",
              "      <td>1</td>\n",
              "      <td>0</td>\n",
              "      <td>2</td>\n",
              "      <td>1</td>\n",
              "      <td>5</td>\n",
              "    </tr>\n",
              "    <tr>\n",
              "      <th>633</th>\n",
              "      <td>26</td>\n",
              "      <td>0</td>\n",
              "      <td>0</td>\n",
              "      <td>0</td>\n",
              "      <td>1</td>\n",
              "      <td>4</td>\n",
              "      <td>3</td>\n",
              "    </tr>\n",
              "    <tr>\n",
              "      <th>634</th>\n",
              "      <td>26</td>\n",
              "      <td>0</td>\n",
              "      <td>0</td>\n",
              "      <td>0</td>\n",
              "      <td>1</td>\n",
              "      <td>5</td>\n",
              "      <td>3</td>\n",
              "    </tr>\n",
              "    <tr>\n",
              "      <th>635</th>\n",
              "      <td>26</td>\n",
              "      <td>1</td>\n",
              "      <td>0</td>\n",
              "      <td>0</td>\n",
              "      <td>1</td>\n",
              "      <td>5</td>\n",
              "      <td>3</td>\n",
              "    </tr>\n",
              "    <tr>\n",
              "      <th>636</th>\n",
              "      <td>26</td>\n",
              "      <td>1</td>\n",
              "      <td>0</td>\n",
              "      <td>0</td>\n",
              "      <td>1</td>\n",
              "      <td>5</td>\n",
              "      <td>3</td>\n",
              "    </tr>\n",
              "  </tbody>\n",
              "</table>\n",
              "<p>637 rows × 7 columns</p>\n",
              "</div>"
            ],
            "text/plain": [
              "     IP_ML  QA  ENG  TechDebt  ID_Area  ID_Type  SP_Pred\n",
              "0       11   0    0         0        1        1        3\n",
              "1       11   0    0         0        1        1        3\n",
              "2       11   0    0         0        1        1        3\n",
              "3       11   0    0         0        1        1        3\n",
              "4       11   0    0         0        1        1        3\n",
              "..     ...  ..  ...       ...      ...      ...      ...\n",
              "632     22   1    1         0        2        1        5\n",
              "633     26   0    0         0        1        4        3\n",
              "634     26   0    0         0        1        5        3\n",
              "635     26   1    0         0        1        5        3\n",
              "636     26   1    0         0        1        5        3\n",
              "\n",
              "[637 rows x 7 columns]"
            ]
          },
          "metadata": {},
          "execution_count": 100
        }
      ]
    },
    {
      "cell_type": "code",
      "metadata": {
        "id": "uoZDr2QkqZNg"
      },
      "source": [
        "# comparing results (Real versus prediction)\n",
        "h_stack_test = pd.concat([train_test, pred_test], axis=1)\n",
        "h_stack_test.columns = ['REAL','PRED'] \n",
        "h_stack_test.head(20)"
      ],
      "execution_count": null,
      "outputs": []
    },
    {
      "cell_type": "code",
      "metadata": {
        "colab": {
          "base_uri": "https://localhost:8080/"
        },
        "id": "K9cwpBTS2mPi",
        "outputId": "57d754ec-4754-4969-df8b-ad47506b4f41"
      },
      "source": [
        "len(final_result[final_result['SP_Pred']== 0])"
      ],
      "execution_count": 98,
      "outputs": [
        {
          "output_type": "execute_result",
          "data": {
            "text/plain": [
              "3"
            ]
          },
          "metadata": {},
          "execution_count": 98
        }
      ]
    },
    {
      "cell_type": "code",
      "metadata": {
        "colab": {
          "base_uri": "https://localhost:8080/"
        },
        "id": "iHdZAVB92-Nr",
        "outputId": "21b1c1da-3ba9-464f-d912-760afaa936e5"
      },
      "source": [
        "len(final_result)"
      ],
      "execution_count": 99,
      "outputs": [
        {
          "output_type": "execute_result",
          "data": {
            "text/plain": [
              "637"
            ]
          },
          "metadata": {},
          "execution_count": 99
        }
      ]
    },
    {
      "cell_type": "markdown",
      "metadata": {
        "id": "StTbYCbNQLG1"
      },
      "source": [
        "**RESULTS**\n",
        "\n",
        "Results are not good with these two examples. Similar to regression,  performance of the algorithm is bad. \n",
        "\n",
        "Algorithms will be refined with Data Science and AI Silver badges with more deeper experience and knowledge of application. "
      ]
    }
  ]
}