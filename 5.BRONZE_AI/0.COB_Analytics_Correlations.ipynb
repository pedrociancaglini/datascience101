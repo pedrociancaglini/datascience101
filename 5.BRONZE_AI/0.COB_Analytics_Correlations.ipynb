{
  "nbformat": 4,
  "nbformat_minor": 0,
  "metadata": {
    "colab": {
      "name": "COB_Analytics_Correlations.ipynb",
      "provenance": [],
      "collapsed_sections": []
    },
    "kernelspec": {
      "name": "python3",
      "display_name": "Python 3"
    },
    "language_info": {
      "name": "python"
    }
  },
  "cells": [
    {
      "cell_type": "markdown",
      "metadata": {
        "id": "E3uo0BMXXlKF"
      },
      "source": [
        "# COB Explanatory Data Analysis\n",
        "## Analyzing correlations, preparing Data for further investigation\n",
        "\n",
        "Author> Pedro Ciancaglini"
      ]
    },
    {
      "cell_type": "code",
      "metadata": {
        "id": "Iw8Mc8X_-yJG"
      },
      "source": [
        "# Importing the requiered libraries for this Notebook\n",
        "import pandas as pd\n",
        "import numpy as np\n",
        "import matplotlib.pyplot as plt\n",
        "from matplotlib.lines import Line2D\n",
        "import seaborn as sns\n",
        "%matplotlib inline"
      ],
      "execution_count": null,
      "outputs": []
    },
    {
      "cell_type": "code",
      "metadata": {
        "id": "j3s1irJaenXC",
        "colab": {
          "base_uri": "https://localhost:8080/"
        },
        "outputId": "5d1bb694-f175-4adf-bdad-550588275133"
      },
      "source": [
        "# Mounting Drive to access to Datasets\n",
        "from google.colab import drive\n",
        "drive.mount('/content/drive')"
      ],
      "execution_count": null,
      "outputs": [
        {
          "output_type": "stream",
          "name": "stdout",
          "text": [
            "Mounted at /content/drive\n"
          ]
        }
      ]
    },
    {
      "cell_type": "code",
      "metadata": {
        "id": "ispwLF_fiFbM"
      },
      "source": [
        "# Importing the dataset\n",
        "train_df = pd.read_csv('/content/drive/MyDrive/Colab Notebooks/COB/Train_26_8.csv')\n",
        "#test_df = pd.read_csv('/content/drive/MyDrive/Colab Notebooks/COB/Test_188.csv')\n",
        "results_df = pd.read_csv('/content/drive/MyDrive/Colab Notebooks/COB/Results_26_8.csv')\n",
        "results_test = pd.read_csv('/content/drive/MyDrive/Colab Notebooks/COB/Results_26_8.csv')"
      ],
      "execution_count": null,
      "outputs": []
    },
    {
      "cell_type": "code",
      "metadata": {
        "id": "g591uFwPXT89"
      },
      "source": [
        "pd.options.display.float_format = '{:,.2f}'.format # Setting float format to 2 decimals"
      ],
      "execution_count": null,
      "outputs": []
    },
    {
      "cell_type": "markdown",
      "metadata": {
        "id": "76tvpwfkbwM8"
      },
      "source": [
        "# Feature Analaysis"
      ]
    },
    {
      "cell_type": "markdown",
      "metadata": {
        "id": "0gT4oQNQvBbW"
      },
      "source": [
        "**Analysis without Members**\n",
        "\n",
        "The following analysis will be performed on a cleaned dataset without team members to analyze the correlation with the dependant variable, SP. "
      ]
    },
    {
      "cell_type": "code",
      "metadata": {
        "colab": {
          "base_uri": "https://localhost:8080/",
          "height": 268
        },
        "id": "MiRFEONoXF_c",
        "outputId": "da908bc6-0eb5-4ba9-eefb-8fee26bc90f4"
      },
      "source": [
        "train_df.corr() # Analyzing Matrix Correlation"
      ],
      "execution_count": null,
      "outputs": [
        {
          "output_type": "execute_result",
          "data": {
            "text/html": [
              "<div>\n",
              "<style scoped>\n",
              "    .dataframe tbody tr th:only-of-type {\n",
              "        vertical-align: middle;\n",
              "    }\n",
              "\n",
              "    .dataframe tbody tr th {\n",
              "        vertical-align: top;\n",
              "    }\n",
              "\n",
              "    .dataframe thead th {\n",
              "        text-align: right;\n",
              "    }\n",
              "</style>\n",
              "<table border=\"1\" class=\"dataframe\">\n",
              "  <thead>\n",
              "    <tr style=\"text-align: right;\">\n",
              "      <th></th>\n",
              "      <th>IP_ML</th>\n",
              "      <th>QA</th>\n",
              "      <th>ENG</th>\n",
              "      <th>TechDebt</th>\n",
              "      <th>ID_Area</th>\n",
              "      <th>ID_Type</th>\n",
              "      <th>SP</th>\n",
              "    </tr>\n",
              "  </thead>\n",
              "  <tbody>\n",
              "    <tr>\n",
              "      <th>IP_ML</th>\n",
              "      <td>1.00</td>\n",
              "      <td>-0.01</td>\n",
              "      <td>-0.02</td>\n",
              "      <td>-0.19</td>\n",
              "      <td>-0.29</td>\n",
              "      <td>-0.04</td>\n",
              "      <td>-0.08</td>\n",
              "    </tr>\n",
              "    <tr>\n",
              "      <th>QA</th>\n",
              "      <td>-0.01</td>\n",
              "      <td>1.00</td>\n",
              "      <td>0.18</td>\n",
              "      <td>-0.02</td>\n",
              "      <td>-0.09</td>\n",
              "      <td>0.14</td>\n",
              "      <td>0.18</td>\n",
              "    </tr>\n",
              "    <tr>\n",
              "      <th>ENG</th>\n",
              "      <td>-0.02</td>\n",
              "      <td>0.18</td>\n",
              "      <td>1.00</td>\n",
              "      <td>0.11</td>\n",
              "      <td>-0.21</td>\n",
              "      <td>0.03</td>\n",
              "      <td>0.22</td>\n",
              "    </tr>\n",
              "    <tr>\n",
              "      <th>TechDebt</th>\n",
              "      <td>-0.19</td>\n",
              "      <td>-0.02</td>\n",
              "      <td>0.11</td>\n",
              "      <td>1.00</td>\n",
              "      <td>-0.13</td>\n",
              "      <td>-0.12</td>\n",
              "      <td>0.06</td>\n",
              "    </tr>\n",
              "    <tr>\n",
              "      <th>ID_Area</th>\n",
              "      <td>-0.29</td>\n",
              "      <td>-0.09</td>\n",
              "      <td>-0.21</td>\n",
              "      <td>-0.13</td>\n",
              "      <td>1.00</td>\n",
              "      <td>0.07</td>\n",
              "      <td>-0.02</td>\n",
              "    </tr>\n",
              "    <tr>\n",
              "      <th>ID_Type</th>\n",
              "      <td>-0.04</td>\n",
              "      <td>0.14</td>\n",
              "      <td>0.03</td>\n",
              "      <td>-0.12</td>\n",
              "      <td>0.07</td>\n",
              "      <td>1.00</td>\n",
              "      <td>0.06</td>\n",
              "    </tr>\n",
              "    <tr>\n",
              "      <th>SP</th>\n",
              "      <td>-0.08</td>\n",
              "      <td>0.18</td>\n",
              "      <td>0.22</td>\n",
              "      <td>0.06</td>\n",
              "      <td>-0.02</td>\n",
              "      <td>0.06</td>\n",
              "      <td>1.00</td>\n",
              "    </tr>\n",
              "  </tbody>\n",
              "</table>\n",
              "</div>"
            ],
            "text/plain": [
              "          IP_ML    QA   ENG  TechDebt  ID_Area  ID_Type    SP\n",
              "IP_ML      1.00 -0.01 -0.02     -0.19    -0.29    -0.04 -0.08\n",
              "QA        -0.01  1.00  0.18     -0.02    -0.09     0.14  0.18\n",
              "ENG       -0.02  0.18  1.00      0.11    -0.21     0.03  0.22\n",
              "TechDebt  -0.19 -0.02  0.11      1.00    -0.13    -0.12  0.06\n",
              "ID_Area   -0.29 -0.09 -0.21     -0.13     1.00     0.07 -0.02\n",
              "ID_Type   -0.04  0.14  0.03     -0.12     0.07     1.00  0.06\n",
              "SP        -0.08  0.18  0.22      0.06    -0.02     0.06  1.00"
            ]
          },
          "metadata": {},
          "execution_count": 5
        }
      ]
    },
    {
      "cell_type": "markdown",
      "metadata": {
        "id": "qXS2d5STvX7h"
      },
      "source": [
        "**Correlation Matrix using visualization technique**\n"
      ]
    },
    {
      "cell_type": "code",
      "metadata": {
        "colab": {
          "base_uri": "https://localhost:8080/",
          "height": 596
        },
        "id": "GVYKrumVYUDz",
        "outputId": "8f262ce1-9e31-436c-d4e1-74fa14c7f4eb"
      },
      "source": [
        "plt.figure(figsize=(16,10))\n",
        "sns.heatmap(train_df.corr(), annot=True)\n",
        "plt.show()"
      ],
      "execution_count": null,
      "outputs": [
        {
          "output_type": "display_data",
          "data": {
            "image/png": "[encoded data removed]",
            "text/plain": [
              "<Figure size 1152x720 with 2 Axes>"
            ]
          },
          "metadata": {
            "needs_background": "light"
          }
        }
      ]
    },
    {
      "cell_type": "code",
      "metadata": {
        "colab": {
          "base_uri": "https://localhost:8080/"
        },
        "id": "jsQcXxr1ZT5t",
        "outputId": "5df4189b-216c-4793-dca2-c63d186b4238"
      },
      "source": [
        "train_df.columns"
      ],
      "execution_count": null,
      "outputs": [
        {
          "output_type": "execute_result",
          "data": {
            "text/plain": [
              "Index(['IP_ML', 'QA', 'ENG', 'TechDebt', 'ID_Area', 'ID_Type', 'SP'], dtype='object')"
            ]
          },
          "metadata": {},
          "execution_count": 7
        }
      ]
    },
    {
      "cell_type": "code",
      "metadata": {
        "colab": {
          "base_uri": "https://localhost:8080/",
          "height": 595
        },
        "id": "l_Vi7Zf8ZQtm",
        "outputId": "2c3f776e-ceb2-4dc3-d7d3-21b07e0316a4"
      },
      "source": [
        "plt.figure(figsize=(16,10))\n",
        "sns.heatmap(train_df[['QA', 'ENG', 'SP']].corr(), annot=True)\n",
        "plt.show()"
      ],
      "execution_count": null,
      "outputs": [
        {
          "output_type": "display_data",
          "data": {
            "image/png": "[encoded data removed]",
            "text/plain": [
              "<Figure size 1152x720 with 2 Axes>"
            ]
          },
          "metadata": {
            "needs_background": "light"
          }
        }
      ]
    },
    {
      "cell_type": "markdown",
      "metadata": {
        "id": "1Mq7MInRwEVQ"
      },
      "source": [
        "**Conclusion**\n",
        "\n",
        "As seen in the previous correlation matrix, there is a weak correlation between the dependant variable and the independent variables. Only category variables show a small correlation, QA and ENG, which is not enough to be considered for a good model performance. (from Corr > 0.5).\n"
      ]
    },
    {
      "cell_type": "markdown",
      "metadata": {
        "id": "UxEu1HV-wH9c"
      },
      "source": [
        "# Feature analysis with Team Members included\n",
        "\n",
        "In the following experiment, we are going to visualize if there is a correlation with the dependant variable SP and Team Members, and the correlation between Team Members and the rest of the variables. \n",
        "\n",
        "The intention of the experiment is to analyze if depending on the team member, we can predict the SPs, and if with work to be done, we can predict Team Members to do the job (Recommendation algorithm)"
      ]
    },
    {
      "cell_type": "code",
      "metadata": {
        "id": "N4-UrWgCwsxZ"
      },
      "source": [
        "# Loading the datasets containing the team members variable\n",
        "train_df_team = pd.read_csv('/content/drive/MyDrive/Colab Notebooks/COB/LAB/Train_3_Sep_Members.csv')"
      ],
      "execution_count": null,
      "outputs": []
    },
    {
      "cell_type": "code",
      "metadata": {
        "colab": {
          "base_uri": "https://localhost:8080/",
          "height": 205
        },
        "id": "doWJBhBTyF45",
        "outputId": "a4bab8ee-5ba6-4377-f1d1-8eb27c0c455d"
      },
      "source": [
        "train_df_team.head()"
      ],
      "execution_count": null,
      "outputs": [
        {
          "output_type": "execute_result",
          "data": {
            "text/html": [
              "<div>\n",
              "<style scoped>\n",
              "    .dataframe tbody tr th:only-of-type {\n",
              "        vertical-align: middle;\n",
              "    }\n",
              "\n",
              "    .dataframe tbody tr th {\n",
              "        vertical-align: top;\n",
              "    }\n",
              "\n",
              "    .dataframe thead th {\n",
              "        text-align: right;\n",
              "    }\n",
              "</style>\n",
              "<table border=\"1\" class=\"dataframe\">\n",
              "  <thead>\n",
              "    <tr style=\"text-align: right;\">\n",
              "      <th></th>\n",
              "      <th>IP_ML</th>\n",
              "      <th>QA</th>\n",
              "      <th>ENG</th>\n",
              "      <th>TechDebt</th>\n",
              "      <th>ID_Area</th>\n",
              "      <th>ID_Type</th>\n",
              "      <th>ID_Member</th>\n",
              "      <th>SP</th>\n",
              "    </tr>\n",
              "  </thead>\n",
              "  <tbody>\n",
              "    <tr>\n",
              "      <th>0</th>\n",
              "      <td>11</td>\n",
              "      <td>0</td>\n",
              "      <td>0</td>\n",
              "      <td>0</td>\n",
              "      <td>4</td>\n",
              "      <td>1</td>\n",
              "      <td>35</td>\n",
              "      <td>0</td>\n",
              "    </tr>\n",
              "    <tr>\n",
              "      <th>1</th>\n",
              "      <td>11</td>\n",
              "      <td>0</td>\n",
              "      <td>0</td>\n",
              "      <td>0</td>\n",
              "      <td>5</td>\n",
              "      <td>1</td>\n",
              "      <td>35</td>\n",
              "      <td>0</td>\n",
              "    </tr>\n",
              "    <tr>\n",
              "      <th>2</th>\n",
              "      <td>11</td>\n",
              "      <td>1</td>\n",
              "      <td>1</td>\n",
              "      <td>0</td>\n",
              "      <td>5</td>\n",
              "      <td>1</td>\n",
              "      <td>35</td>\n",
              "      <td>0</td>\n",
              "    </tr>\n",
              "    <tr>\n",
              "      <th>3</th>\n",
              "      <td>11</td>\n",
              "      <td>0</td>\n",
              "      <td>0</td>\n",
              "      <td>0</td>\n",
              "      <td>5</td>\n",
              "      <td>1</td>\n",
              "      <td>35</td>\n",
              "      <td>5</td>\n",
              "    </tr>\n",
              "    <tr>\n",
              "      <th>4</th>\n",
              "      <td>11</td>\n",
              "      <td>0</td>\n",
              "      <td>0</td>\n",
              "      <td>0</td>\n",
              "      <td>5</td>\n",
              "      <td>1</td>\n",
              "      <td>35</td>\n",
              "      <td>8</td>\n",
              "    </tr>\n",
              "  </tbody>\n",
              "</table>\n",
              "</div>"
            ],
            "text/plain": [
              "   IP_ML  QA  ENG  TechDebt  ID_Area  ID_Type  ID_Member  SP\n",
              "0     11   0    0         0        4        1         35   0\n",
              "1     11   0    0         0        5        1         35   0\n",
              "2     11   1    1         0        5        1         35   0\n",
              "3     11   0    0         0        5        1         35   5\n",
              "4     11   0    0         0        5        1         35   8"
            ]
          },
          "metadata": {},
          "execution_count": 42
        }
      ]
    },
    {
      "cell_type": "code",
      "metadata": {
        "colab": {
          "base_uri": "https://localhost:8080/"
        },
        "id": "s1AnrGJByJbn",
        "outputId": "590b4c65-9137-43d9-b958-56b5c0b9aaa8"
      },
      "source": [
        "train_df_team.info()"
      ],
      "execution_count": null,
      "outputs": [
        {
          "output_type": "stream",
          "name": "stdout",
          "text": [
            "<class 'pandas.core.frame.DataFrame'>\n",
            "RangeIndex: 512 entries, 0 to 511\n",
            "Data columns (total 8 columns):\n",
            " #   Column     Non-Null Count  Dtype\n",
            "---  ------     --------------  -----\n",
            " 0   IP_ML      512 non-null    int64\n",
            " 1   QA         512 non-null    int64\n",
            " 2   ENG        512 non-null    int64\n",
            " 3   TechDebt   512 non-null    int64\n",
            " 4   ID_Area    512 non-null    int64\n",
            " 5   ID_Type    512 non-null    int64\n",
            " 6   ID_Member  512 non-null    int64\n",
            " 7   SP         512 non-null    int64\n",
            "dtypes: int64(8)\n",
            "memory usage: 32.1 KB\n"
          ]
        }
      ]
    },
    {
      "cell_type": "code",
      "metadata": {
        "colab": {
          "base_uri": "https://localhost:8080/",
          "height": 299
        },
        "id": "RmyYrZNLw8rY",
        "outputId": "06e27393-4127-4540-e504-adf4309046ab"
      },
      "source": [
        "# Running correlation Matrix using observations with coming Dtype\n",
        "train_df_team.corr() # Analyzing Matrix Correlation"
      ],
      "execution_count": null,
      "outputs": [
        {
          "output_type": "execute_result",
          "data": {
            "text/html": [
              "<div>\n",
              "<style scoped>\n",
              "    .dataframe tbody tr th:only-of-type {\n",
              "        vertical-align: middle;\n",
              "    }\n",
              "\n",
              "    .dataframe tbody tr th {\n",
              "        vertical-align: top;\n",
              "    }\n",
              "\n",
              "    .dataframe thead th {\n",
              "        text-align: right;\n",
              "    }\n",
              "</style>\n",
              "<table border=\"1\" class=\"dataframe\">\n",
              "  <thead>\n",
              "    <tr style=\"text-align: right;\">\n",
              "      <th></th>\n",
              "      <th>IP_ML</th>\n",
              "      <th>QA</th>\n",
              "      <th>ENG</th>\n",
              "      <th>TechDebt</th>\n",
              "      <th>ID_Area</th>\n",
              "      <th>ID_Type</th>\n",
              "      <th>ID_Member</th>\n",
              "      <th>SP</th>\n",
              "    </tr>\n",
              "  </thead>\n",
              "  <tbody>\n",
              "    <tr>\n",
              "      <th>IP_ML</th>\n",
              "      <td>1.00</td>\n",
              "      <td>-0.07</td>\n",
              "      <td>-0.00</td>\n",
              "      <td>-0.23</td>\n",
              "      <td>-0.35</td>\n",
              "      <td>-0.09</td>\n",
              "      <td>-0.01</td>\n",
              "      <td>-0.13</td>\n",
              "    </tr>\n",
              "    <tr>\n",
              "      <th>QA</th>\n",
              "      <td>-0.07</td>\n",
              "      <td>1.00</td>\n",
              "      <td>0.24</td>\n",
              "      <td>0.00</td>\n",
              "      <td>-0.03</td>\n",
              "      <td>0.14</td>\n",
              "      <td>0.01</td>\n",
              "      <td>0.31</td>\n",
              "    </tr>\n",
              "    <tr>\n",
              "      <th>ENG</th>\n",
              "      <td>-0.00</td>\n",
              "      <td>0.24</td>\n",
              "      <td>1.00</td>\n",
              "      <td>0.06</td>\n",
              "      <td>-0.19</td>\n",
              "      <td>0.12</td>\n",
              "      <td>-0.04</td>\n",
              "      <td>0.26</td>\n",
              "    </tr>\n",
              "    <tr>\n",
              "      <th>TechDebt</th>\n",
              "      <td>-0.23</td>\n",
              "      <td>0.00</td>\n",
              "      <td>0.06</td>\n",
              "      <td>1.00</td>\n",
              "      <td>-0.10</td>\n",
              "      <td>-0.10</td>\n",
              "      <td>-0.05</td>\n",
              "      <td>0.05</td>\n",
              "    </tr>\n",
              "    <tr>\n",
              "      <th>ID_Area</th>\n",
              "      <td>-0.35</td>\n",
              "      <td>-0.03</td>\n",
              "      <td>-0.19</td>\n",
              "      <td>-0.10</td>\n",
              "      <td>1.00</td>\n",
              "      <td>-0.03</td>\n",
              "      <td>-0.03</td>\n",
              "      <td>-0.00</td>\n",
              "    </tr>\n",
              "    <tr>\n",
              "      <th>ID_Type</th>\n",
              "      <td>-0.09</td>\n",
              "      <td>0.14</td>\n",
              "      <td>0.12</td>\n",
              "      <td>-0.10</td>\n",
              "      <td>-0.03</td>\n",
              "      <td>1.00</td>\n",
              "      <td>-0.01</td>\n",
              "      <td>0.07</td>\n",
              "    </tr>\n",
              "    <tr>\n",
              "      <th>ID_Member</th>\n",
              "      <td>-0.01</td>\n",
              "      <td>0.01</td>\n",
              "      <td>-0.04</td>\n",
              "      <td>-0.05</td>\n",
              "      <td>-0.03</td>\n",
              "      <td>-0.01</td>\n",
              "      <td>1.00</td>\n",
              "      <td>-0.00</td>\n",
              "    </tr>\n",
              "    <tr>\n",
              "      <th>SP</th>\n",
              "      <td>-0.13</td>\n",
              "      <td>0.31</td>\n",
              "      <td>0.26</td>\n",
              "      <td>0.05</td>\n",
              "      <td>-0.00</td>\n",
              "      <td>0.07</td>\n",
              "      <td>-0.00</td>\n",
              "      <td>1.00</td>\n",
              "    </tr>\n",
              "  </tbody>\n",
              "</table>\n",
              "</div>"
            ],
            "text/plain": [
              "           IP_ML    QA   ENG  TechDebt  ID_Area  ID_Type  ID_Member    SP\n",
              "IP_ML       1.00 -0.07 -0.00     -0.23    -0.35    -0.09      -0.01 -0.13\n",
              "QA         -0.07  1.00  0.24      0.00    -0.03     0.14       0.01  0.31\n",
              "ENG        -0.00  0.24  1.00      0.06    -0.19     0.12      -0.04  0.26\n",
              "TechDebt   -0.23  0.00  0.06      1.00    -0.10    -0.10      -0.05  0.05\n",
              "ID_Area    -0.35 -0.03 -0.19     -0.10     1.00    -0.03      -0.03 -0.00\n",
              "ID_Type    -0.09  0.14  0.12     -0.10    -0.03     1.00      -0.01  0.07\n",
              "ID_Member  -0.01  0.01 -0.04     -0.05    -0.03    -0.01       1.00 -0.00\n",
              "SP         -0.13  0.31  0.26      0.05    -0.00     0.07      -0.00  1.00"
            ]
          },
          "metadata": {},
          "execution_count": 44
        }
      ]
    },
    {
      "cell_type": "code",
      "metadata": {
        "colab": {
          "base_uri": "https://localhost:8080/",
          "height": 299
        },
        "id": "L2Wt4PndxD1X",
        "outputId": "773c8b94-0eab-48e0-e3d1-228d45927253"
      },
      "source": [
        "train_df_team.describe()\n"
      ],
      "execution_count": null,
      "outputs": [
        {
          "output_type": "execute_result",
          "data": {
            "text/html": [
              "<div>\n",
              "<style scoped>\n",
              "    .dataframe tbody tr th:only-of-type {\n",
              "        vertical-align: middle;\n",
              "    }\n",
              "\n",
              "    .dataframe tbody tr th {\n",
              "        vertical-align: top;\n",
              "    }\n",
              "\n",
              "    .dataframe thead th {\n",
              "        text-align: right;\n",
              "    }\n",
              "</style>\n",
              "<table border=\"1\" class=\"dataframe\">\n",
              "  <thead>\n",
              "    <tr style=\"text-align: right;\">\n",
              "      <th></th>\n",
              "      <th>IP_ML</th>\n",
              "      <th>QA</th>\n",
              "      <th>ENG</th>\n",
              "      <th>TechDebt</th>\n",
              "      <th>ID_Area</th>\n",
              "      <th>ID_Type</th>\n",
              "      <th>ID_Member</th>\n",
              "      <th>SP</th>\n",
              "    </tr>\n",
              "  </thead>\n",
              "  <tbody>\n",
              "    <tr>\n",
              "      <th>count</th>\n",
              "      <td>512.00</td>\n",
              "      <td>512.00</td>\n",
              "      <td>512.00</td>\n",
              "      <td>512.00</td>\n",
              "      <td>512.00</td>\n",
              "      <td>512.00</td>\n",
              "      <td>512.00</td>\n",
              "      <td>512.00</td>\n",
              "    </tr>\n",
              "    <tr>\n",
              "      <th>mean</th>\n",
              "      <td>27.38</td>\n",
              "      <td>0.62</td>\n",
              "      <td>0.68</td>\n",
              "      <td>0.05</td>\n",
              "      <td>3.65</td>\n",
              "      <td>2.51</td>\n",
              "      <td>16.27</td>\n",
              "      <td>4.26</td>\n",
              "    </tr>\n",
              "    <tr>\n",
              "      <th>std</th>\n",
              "      <td>13.91</td>\n",
              "      <td>0.49</td>\n",
              "      <td>0.47</td>\n",
              "      <td>0.22</td>\n",
              "      <td>1.43</td>\n",
              "      <td>2.56</td>\n",
              "      <td>9.35</td>\n",
              "      <td>2.87</td>\n",
              "    </tr>\n",
              "    <tr>\n",
              "      <th>min</th>\n",
              "      <td>11.00</td>\n",
              "      <td>0.00</td>\n",
              "      <td>0.00</td>\n",
              "      <td>0.00</td>\n",
              "      <td>1.00</td>\n",
              "      <td>1.00</td>\n",
              "      <td>1.00</td>\n",
              "      <td>0.00</td>\n",
              "    </tr>\n",
              "    <tr>\n",
              "      <th>25%</th>\n",
              "      <td>14.00</td>\n",
              "      <td>0.00</td>\n",
              "      <td>0.00</td>\n",
              "      <td>0.00</td>\n",
              "      <td>2.00</td>\n",
              "      <td>1.00</td>\n",
              "      <td>8.00</td>\n",
              "      <td>2.00</td>\n",
              "    </tr>\n",
              "    <tr>\n",
              "      <th>50%</th>\n",
              "      <td>25.00</td>\n",
              "      <td>1.00</td>\n",
              "      <td>1.00</td>\n",
              "      <td>0.00</td>\n",
              "      <td>4.00</td>\n",
              "      <td>1.00</td>\n",
              "      <td>15.00</td>\n",
              "      <td>3.00</td>\n",
              "    </tr>\n",
              "    <tr>\n",
              "      <th>75%</th>\n",
              "      <td>42.00</td>\n",
              "      <td>1.00</td>\n",
              "      <td>1.00</td>\n",
              "      <td>0.00</td>\n",
              "      <td>5.00</td>\n",
              "      <td>4.00</td>\n",
              "      <td>25.00</td>\n",
              "      <td>5.00</td>\n",
              "    </tr>\n",
              "    <tr>\n",
              "      <th>max</th>\n",
              "      <td>46.00</td>\n",
              "      <td>1.00</td>\n",
              "      <td>1.00</td>\n",
              "      <td>1.00</td>\n",
              "      <td>5.00</td>\n",
              "      <td>10.00</td>\n",
              "      <td>35.00</td>\n",
              "      <td>13.00</td>\n",
              "    </tr>\n",
              "  </tbody>\n",
              "</table>\n",
              "</div>"
            ],
            "text/plain": [
              "       IP_ML     QA    ENG  TechDebt  ID_Area  ID_Type  ID_Member     SP\n",
              "count 512.00 512.00 512.00    512.00   512.00   512.00     512.00 512.00\n",
              "mean   27.38   0.62   0.68      0.05     3.65     2.51      16.27   4.26\n",
              "std    13.91   0.49   0.47      0.22     1.43     2.56       9.35   2.87\n",
              "min    11.00   0.00   0.00      0.00     1.00     1.00       1.00   0.00\n",
              "25%    14.00   0.00   0.00      0.00     2.00     1.00       8.00   2.00\n",
              "50%    25.00   1.00   1.00      0.00     4.00     1.00      15.00   3.00\n",
              "75%    42.00   1.00   1.00      0.00     5.00     4.00      25.00   5.00\n",
              "max    46.00   1.00   1.00      1.00     5.00    10.00      35.00  13.00"
            ]
          },
          "metadata": {},
          "execution_count": 45
        }
      ]
    },
    {
      "cell_type": "code",
      "metadata": {
        "id": "7_R9ojOuzzXg"
      },
      "source": [
        ""
      ],
      "execution_count": null,
      "outputs": []
    }
  ]
}
