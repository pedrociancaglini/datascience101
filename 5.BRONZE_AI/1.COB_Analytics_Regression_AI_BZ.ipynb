{
  "nbformat": 4,
  "nbformat_minor": 0,
  "metadata": {
    "colab": {
      "name": "1.COB_Analytics - Regression_AI_BZ.ipynb",
      "provenance": [],
      "collapsed_sections": [],
      "toc_visible": true
    },
    "kernelspec": {
      "name": "python3",
      "display_name": "Python 3"
    },
    "language_info": {
      "name": "python"
    }
  },
  "cells": [
    {
      "cell_type": "markdown",
      "metadata": {
        "id": "pL45YxR0dixy"
      },
      "source": [
        "# 0 - Analyzing Datasets from project using Regression algorithms\n",
        "\n",
        "* Author> Pedro Ciancaglini\n",
        "* EY Badge> Artificial Intelligence Bronze\n",
        "\n",
        "## Main objective of this analysis:\n",
        "\n",
        "* Understand the correlation between current variables (Dependant and independant)\n",
        "* Test machine learning algorithms with SP as target\n",
        "* Measure performance of each algorithm\n",
        "* Compare performance and conclude  "
      ]
    },
    {
      "cell_type": "markdown",
      "metadata": {
        "id": "s8zd7Iu3-bpt"
      },
      "source": [
        "# 1 - Preparing Notebook for Analysis"
      ]
    },
    {
      "cell_type": "code",
      "metadata": {
        "id": "Iw8Mc8X_-yJG"
      },
      "source": [
        "# importing required libraries for this notebook\n",
        "import pandas as pd\n",
        "import numpy as np\n",
        "from sklearn.model_selection import train_test_split\n",
        "from sklearn.metrics import r2_score\n",
        "from sklearn.metrics import confusion_matrix\n",
        "from sklearn import linear_model\n",
        "import matplotlib.pyplot as plt\n",
        "import seaborn as sns"
      ],
      "execution_count": 83,
      "outputs": []
    },
    {
      "cell_type": "code",
      "metadata": {
        "id": "j3s1irJaenXC",
        "colab": {
          "base_uri": "https://localhost:8080/"
        },
        "outputId": "d6f6db04-110b-4e26-f774-95811a776057"
      },
      "source": [
        "# Importing library and connecting to cloud drive to access to datasets\n",
        "from google.colab import drive\n",
        "drive.mount('/content/drive')\n",
        "working_directory = '/content/drive/MyDrive/Colab Notebooks/98.COB/DS_v0/'"
      ],
      "execution_count": 84,
      "outputs": [
        {
          "output_type": "stream",
          "name": "stdout",
          "text": [
            "Drive already mounted at /content/drive; to attempt to forcibly remount, call drive.mount(\"/content/drive\", force_remount=True).\n"
          ]
        }
      ]
    },
    {
      "cell_type": "markdown",
      "metadata": {
        "id": "G-epEiUSiQiG"
      },
      "source": [
        "# 2 - Multi-Linear Analysis\n",
        "\n",
        "Considering this dataset with many independent variables, this section will test who Multi-linear analysis will perform with all variables"
      ]
    },
    {
      "cell_type": "code",
      "metadata": {
        "id": "4s5sIRKdiPwQ"
      },
      "source": [
        "# Importing the dataset\n",
        "train_df_MLR = pd.read_csv(working_directory + 'Train_26_8.csv')\n",
        "results_df_MLR = pd.read_csv(working_directory + 'Results_26_8.csv')\n",
        "results_test_MLR = pd.read_csv(working_directory + 'Results_26_8.csv')\n",
        "\n",
        "pd.options.display.float_format = '{:,.2f}'.format # Setting float format to 2 decimals\n",
        "\n",
        "# Spliting dataset into independent variable (X) and dependent variable (y)\n",
        "X_MLR = train_df_MLR.iloc[:, :-1].values\n",
        "y_MLR = train_df_MLR.iloc[:, -1].values\n"
      ],
      "execution_count": 85,
      "outputs": []
    },
    {
      "cell_type": "code",
      "metadata": {
        "colab": {
          "base_uri": "https://localhost:8080/",
          "height": 206
        },
        "id": "IL1hE_GvX6Qt",
        "outputId": "d9c663ff-556d-4dc4-a45c-4e0a05add70c"
      },
      "source": [
        "# Explaining Dataset\n",
        "# IP_ML is the iteration path of the business requirement. 11 corresponds to Q1 Sprint 1. Qs from 1 to 4. Sprints from 1 to 6\n",
        "# QA is a binary column which represents if the business requirement requires additional Quality Assurance Testing (1) or not (2)\n",
        "# ENG is a binary column which represents if the business requirement requires Engineering (1) or not (0)\n",
        "# TechDebt is a binary column representing if the business requirement is a technical debt (1) or not (0)\n",
        "# ID_Area is the project classification. In the product, there are 5 workstreams/projects/areas. 5 represents management, and from 1 to 4, each project\n",
        "# ID_Type is the work classification. Each business requirement requires a type of work to be done. (1) Development, (2) Deployment (3) Research\n",
        "# SP stands for Story Points, the amount of effort required for each business requirement. \n",
        "#       In waterfall projects, this estimation is usally provided by the project manager in hours. \n",
        "#       In Agile, the estimation is performed by the development team during refinements. Architects and leaders estimate business requirements during creation. \n",
        "#                 Development team finally concludes based on their understanding and skills to solve the business requirement\n",
        "train_df_MLR.head()"
      ],
      "execution_count": 86,
      "outputs": [
        {
          "output_type": "execute_result",
          "data": {
            "text/html": [
              "<div>\n",
              "<style scoped>\n",
              "    .dataframe tbody tr th:only-of-type {\n",
              "        vertical-align: middle;\n",
              "    }\n",
              "\n",
              "    .dataframe tbody tr th {\n",
              "        vertical-align: top;\n",
              "    }\n",
              "\n",
              "    .dataframe thead th {\n",
              "        text-align: right;\n",
              "    }\n",
              "</style>\n",
              "<table border=\"1\" class=\"dataframe\">\n",
              "  <thead>\n",
              "    <tr style=\"text-align: right;\">\n",
              "      <th></th>\n",
              "      <th>IP_ML</th>\n",
              "      <th>QA</th>\n",
              "      <th>ENG</th>\n",
              "      <th>TechDebt</th>\n",
              "      <th>ID_Area</th>\n",
              "      <th>ID_Type</th>\n",
              "      <th>SP</th>\n",
              "    </tr>\n",
              "  </thead>\n",
              "  <tbody>\n",
              "    <tr>\n",
              "      <th>0</th>\n",
              "      <td>11</td>\n",
              "      <td>0</td>\n",
              "      <td>0</td>\n",
              "      <td>0</td>\n",
              "      <td>5</td>\n",
              "      <td>1</td>\n",
              "      <td>0</td>\n",
              "    </tr>\n",
              "    <tr>\n",
              "      <th>1</th>\n",
              "      <td>11</td>\n",
              "      <td>0</td>\n",
              "      <td>0</td>\n",
              "      <td>0</td>\n",
              "      <td>5</td>\n",
              "      <td>3</td>\n",
              "      <td>0</td>\n",
              "    </tr>\n",
              "    <tr>\n",
              "      <th>2</th>\n",
              "      <td>11</td>\n",
              "      <td>0</td>\n",
              "      <td>0</td>\n",
              "      <td>0</td>\n",
              "      <td>5</td>\n",
              "      <td>4</td>\n",
              "      <td>0</td>\n",
              "    </tr>\n",
              "    <tr>\n",
              "      <th>3</th>\n",
              "      <td>11</td>\n",
              "      <td>0</td>\n",
              "      <td>0</td>\n",
              "      <td>0</td>\n",
              "      <td>5</td>\n",
              "      <td>5</td>\n",
              "      <td>0</td>\n",
              "    </tr>\n",
              "    <tr>\n",
              "      <th>4</th>\n",
              "      <td>11</td>\n",
              "      <td>0</td>\n",
              "      <td>0</td>\n",
              "      <td>0</td>\n",
              "      <td>5</td>\n",
              "      <td>11</td>\n",
              "      <td>0</td>\n",
              "    </tr>\n",
              "  </tbody>\n",
              "</table>\n",
              "</div>"
            ],
            "text/plain": [
              "   IP_ML  QA  ENG  TechDebt  ID_Area  ID_Type  SP\n",
              "0     11   0    0         0        5        1   0\n",
              "1     11   0    0         0        5        3   0\n",
              "2     11   0    0         0        5        4   0\n",
              "3     11   0    0         0        5        5   0\n",
              "4     11   0    0         0        5       11   0"
            ]
          },
          "metadata": {},
          "execution_count": 86
        }
      ]
    },
    {
      "cell_type": "code",
      "metadata": {
        "id": "eV6LKLr7i2tz"
      },
      "source": [
        "# importing Required Libraries for this section\n",
        "import statsmodels.api as sm\n",
        "import statsmodels.formula.api as smf"
      ],
      "execution_count": 87,
      "outputs": []
    },
    {
      "cell_type": "code",
      "metadata": {
        "id": "8KgDSskmjeYN"
      },
      "source": [
        "X_constant = sm.add_constant(X_MLR) # Inserting constant using statsmodel to analyze multilinearity  between variables"
      ],
      "execution_count": 88,
      "outputs": []
    },
    {
      "cell_type": "code",
      "metadata": {
        "id": "YEOIFxLpjvvl",
        "colab": {
          "base_uri": "https://localhost:8080/",
          "height": 424
        },
        "outputId": "66eae55f-9d2e-4f8f-8071-0add74fa85ff"
      },
      "source": [
        "# Visualizing how constant was created in the column 0\n",
        "pd.DataFrame(X_constant)"
      ],
      "execution_count": 89,
      "outputs": [
        {
          "output_type": "execute_result",
          "data": {
            "text/html": [
              "<div>\n",
              "<style scoped>\n",
              "    .dataframe tbody tr th:only-of-type {\n",
              "        vertical-align: middle;\n",
              "    }\n",
              "\n",
              "    .dataframe tbody tr th {\n",
              "        vertical-align: top;\n",
              "    }\n",
              "\n",
              "    .dataframe thead th {\n",
              "        text-align: right;\n",
              "    }\n",
              "</style>\n",
              "<table border=\"1\" class=\"dataframe\">\n",
              "  <thead>\n",
              "    <tr style=\"text-align: right;\">\n",
              "      <th></th>\n",
              "      <th>0</th>\n",
              "      <th>1</th>\n",
              "      <th>2</th>\n",
              "      <th>3</th>\n",
              "      <th>4</th>\n",
              "      <th>5</th>\n",
              "      <th>6</th>\n",
              "    </tr>\n",
              "  </thead>\n",
              "  <tbody>\n",
              "    <tr>\n",
              "      <th>0</th>\n",
              "      <td>1.00</td>\n",
              "      <td>11.00</td>\n",
              "      <td>0.00</td>\n",
              "      <td>0.00</td>\n",
              "      <td>0.00</td>\n",
              "      <td>5.00</td>\n",
              "      <td>1.00</td>\n",
              "    </tr>\n",
              "    <tr>\n",
              "      <th>1</th>\n",
              "      <td>1.00</td>\n",
              "      <td>11.00</td>\n",
              "      <td>0.00</td>\n",
              "      <td>0.00</td>\n",
              "      <td>0.00</td>\n",
              "      <td>5.00</td>\n",
              "      <td>3.00</td>\n",
              "    </tr>\n",
              "    <tr>\n",
              "      <th>2</th>\n",
              "      <td>1.00</td>\n",
              "      <td>11.00</td>\n",
              "      <td>0.00</td>\n",
              "      <td>0.00</td>\n",
              "      <td>0.00</td>\n",
              "      <td>5.00</td>\n",
              "      <td>4.00</td>\n",
              "    </tr>\n",
              "    <tr>\n",
              "      <th>3</th>\n",
              "      <td>1.00</td>\n",
              "      <td>11.00</td>\n",
              "      <td>0.00</td>\n",
              "      <td>0.00</td>\n",
              "      <td>0.00</td>\n",
              "      <td>5.00</td>\n",
              "      <td>5.00</td>\n",
              "    </tr>\n",
              "    <tr>\n",
              "      <th>4</th>\n",
              "      <td>1.00</td>\n",
              "      <td>11.00</td>\n",
              "      <td>0.00</td>\n",
              "      <td>0.00</td>\n",
              "      <td>0.00</td>\n",
              "      <td>5.00</td>\n",
              "      <td>11.00</td>\n",
              "    </tr>\n",
              "    <tr>\n",
              "      <th>...</th>\n",
              "      <td>...</td>\n",
              "      <td>...</td>\n",
              "      <td>...</td>\n",
              "      <td>...</td>\n",
              "      <td>...</td>\n",
              "      <td>...</td>\n",
              "      <td>...</td>\n",
              "    </tr>\n",
              "    <tr>\n",
              "      <th>538</th>\n",
              "      <td>1.00</td>\n",
              "      <td>46.00</td>\n",
              "      <td>1.00</td>\n",
              "      <td>1.00</td>\n",
              "      <td>0.00</td>\n",
              "      <td>3.00</td>\n",
              "      <td>7.00</td>\n",
              "    </tr>\n",
              "    <tr>\n",
              "      <th>539</th>\n",
              "      <td>1.00</td>\n",
              "      <td>46.00</td>\n",
              "      <td>1.00</td>\n",
              "      <td>1.00</td>\n",
              "      <td>0.00</td>\n",
              "      <td>3.00</td>\n",
              "      <td>9.00</td>\n",
              "    </tr>\n",
              "    <tr>\n",
              "      <th>540</th>\n",
              "      <td>1.00</td>\n",
              "      <td>46.00</td>\n",
              "      <td>0.00</td>\n",
              "      <td>1.00</td>\n",
              "      <td>0.00</td>\n",
              "      <td>4.00</td>\n",
              "      <td>5.00</td>\n",
              "    </tr>\n",
              "    <tr>\n",
              "      <th>541</th>\n",
              "      <td>1.00</td>\n",
              "      <td>46.00</td>\n",
              "      <td>1.00</td>\n",
              "      <td>1.00</td>\n",
              "      <td>0.00</td>\n",
              "      <td>1.00</td>\n",
              "      <td>1.00</td>\n",
              "    </tr>\n",
              "    <tr>\n",
              "      <th>542</th>\n",
              "      <td>1.00</td>\n",
              "      <td>46.00</td>\n",
              "      <td>1.00</td>\n",
              "      <td>1.00</td>\n",
              "      <td>0.00</td>\n",
              "      <td>2.00</td>\n",
              "      <td>1.00</td>\n",
              "    </tr>\n",
              "  </tbody>\n",
              "</table>\n",
              "<p>543 rows × 7 columns</p>\n",
              "</div>"
            ],
            "text/plain": [
              "       0     1    2    3    4    5     6\n",
              "0   1.00 11.00 0.00 0.00 0.00 5.00  1.00\n",
              "1   1.00 11.00 0.00 0.00 0.00 5.00  3.00\n",
              "2   1.00 11.00 0.00 0.00 0.00 5.00  4.00\n",
              "3   1.00 11.00 0.00 0.00 0.00 5.00  5.00\n",
              "4   1.00 11.00 0.00 0.00 0.00 5.00 11.00\n",
              "..   ...   ...  ...  ...  ...  ...   ...\n",
              "538 1.00 46.00 1.00 1.00 0.00 3.00  7.00\n",
              "539 1.00 46.00 1.00 1.00 0.00 3.00  9.00\n",
              "540 1.00 46.00 0.00 1.00 0.00 4.00  5.00\n",
              "541 1.00 46.00 1.00 1.00 0.00 1.00  1.00\n",
              "542 1.00 46.00 1.00 1.00 0.00 2.00  1.00\n",
              "\n",
              "[543 rows x 7 columns]"
            ]
          },
          "metadata": {},
          "execution_count": 89
        }
      ]
    },
    {
      "cell_type": "code",
      "metadata": {
        "id": "sCEZHsXIudxi"
      },
      "source": [
        "# Getting help to analyze how to implement model using sm.OLS (Ordinary Least Squares)\n",
        "sm.OLS?"
      ],
      "execution_count": 90,
      "outputs": []
    },
    {
      "cell_type": "code",
      "metadata": {
        "id": "Op7mskrsuji7"
      },
      "source": [
        "# Running the first model OLS\n",
        "model = sm.OLS(y_MLR, X_constant)"
      ],
      "execution_count": 91,
      "outputs": []
    },
    {
      "cell_type": "code",
      "metadata": {
        "id": "vG5ZZnkzu0kq"
      },
      "source": [
        "# Fitting the model \n",
        "lr = model.fit()"
      ],
      "execution_count": 92,
      "outputs": []
    },
    {
      "cell_type": "markdown",
      "metadata": {
        "id": "1zW0bnLG_Hpp"
      },
      "source": [
        "## a. Data analaysis after regression is applied"
      ]
    },
    {
      "cell_type": "code",
      "metadata": {
        "id": "kPivSmt9u6ob",
        "colab": {
          "base_uri": "https://localhost:8080/",
          "height": 558
        },
        "outputId": "4b2f1d72-8182-46aa-fd87-f0e69380930b"
      },
      "source": [
        "# Analyzing results of multilinearity correlation between variables. \n",
        "# Similar to the previous notebook, correlation is poor with the current variables\n",
        "# Coef column represents the coefficient of correlation between variables. \n",
        "# Coef > 0.5 is good correlation\n",
        "# Coef < 0.5 is poor correlation\n",
        "\n",
        "# Covariance indicates how strong is correlation between variables. In this case> Non Robust. \n",
        "# Coef is the residuals between independent and dependent variables using the constant as the target function\n",
        "# Residuals are the difference between the observation (independent and dependent variable, or y = mx + b)\n",
        "\n",
        "lr.summary()"
      ],
      "execution_count": 93,
      "outputs": [
        {
          "output_type": "execute_result",
          "data": {
            "text/html": [
              "<table class=\"simpletable\">\n",
              "<caption>OLS Regression Results</caption>\n",
              "<tr>\n",
              "  <th>Dep. Variable:</th>            <td>y</td>        <th>  R-squared:         </th> <td>   0.078</td>\n",
              "</tr>\n",
              "<tr>\n",
              "  <th>Model:</th>                   <td>OLS</td>       <th>  Adj. R-squared:    </th> <td>   0.068</td>\n",
              "</tr>\n",
              "<tr>\n",
              "  <th>Method:</th>             <td>Least Squares</td>  <th>  F-statistic:       </th> <td>   7.547</td>\n",
              "</tr>\n",
              "<tr>\n",
              "  <th>Date:</th>             <td>Sun, 03 Oct 2021</td> <th>  Prob (F-statistic):</th> <td>8.75e-08</td>\n",
              "</tr>\n",
              "<tr>\n",
              "  <th>Time:</th>                 <td>20:21:44</td>     <th>  Log-Likelihood:    </th> <td> -1351.7</td>\n",
              "</tr>\n",
              "<tr>\n",
              "  <th>No. Observations:</th>      <td>   543</td>      <th>  AIC:               </th> <td>   2717.</td>\n",
              "</tr>\n",
              "<tr>\n",
              "  <th>Df Residuals:</th>          <td>   536</td>      <th>  BIC:               </th> <td>   2747.</td>\n",
              "</tr>\n",
              "<tr>\n",
              "  <th>Df Model:</th>              <td>     6</td>      <th>                     </th>     <td> </td>   \n",
              "</tr>\n",
              "<tr>\n",
              "  <th>Covariance Type:</th>      <td>nonrobust</td>    <th>                     </th>     <td> </td>   \n",
              "</tr>\n",
              "</table>\n",
              "<table class=\"simpletable\">\n",
              "<tr>\n",
              "    <td></td>       <th>coef</th>     <th>std err</th>      <th>t</th>      <th>P>|t|</th>  <th>[0.025</th>    <th>0.975]</th>  \n",
              "</tr>\n",
              "<tr>\n",
              "  <th>const</th> <td>    2.7280</td> <td>    0.643</td> <td>    4.244</td> <td> 0.000</td> <td>    1.465</td> <td>    3.991</td>\n",
              "</tr>\n",
              "<tr>\n",
              "  <th>x1</th>    <td>   -0.0121</td> <td>    0.010</td> <td>   -1.232</td> <td> 0.218</td> <td>   -0.031</td> <td>    0.007</td>\n",
              "</tr>\n",
              "<tr>\n",
              "  <th>x2</th>    <td>    0.8898</td> <td>    0.263</td> <td>    3.379</td> <td> 0.001</td> <td>    0.373</td> <td>    1.407</td>\n",
              "</tr>\n",
              "<tr>\n",
              "  <th>x3</th>    <td>    1.2019</td> <td>    0.265</td> <td>    4.534</td> <td> 0.000</td> <td>    0.681</td> <td>    1.723</td>\n",
              "</tr>\n",
              "<tr>\n",
              "  <th>x4</th>    <td>    0.5822</td> <td>    0.671</td> <td>    0.867</td> <td> 0.386</td> <td>   -0.737</td> <td>    1.901</td>\n",
              "</tr>\n",
              "<tr>\n",
              "  <th>x5</th>    <td>    0.0519</td> <td>    0.102</td> <td>    0.508</td> <td> 0.612</td> <td>   -0.149</td> <td>    0.253</td>\n",
              "</tr>\n",
              "<tr>\n",
              "  <th>x6</th>    <td>    0.0346</td> <td>    0.045</td> <td>    0.764</td> <td> 0.445</td> <td>   -0.054</td> <td>    0.124</td>\n",
              "</tr>\n",
              "</table>\n",
              "<table class=\"simpletable\">\n",
              "<tr>\n",
              "  <th>Omnibus:</th>       <td>64.832</td> <th>  Durbin-Watson:     </th> <td>   0.539</td>\n",
              "</tr>\n",
              "<tr>\n",
              "  <th>Prob(Omnibus):</th> <td> 0.000</td> <th>  Jarque-Bera (JB):  </th> <td>  86.140</td>\n",
              "</tr>\n",
              "<tr>\n",
              "  <th>Skew:</th>          <td> 0.899</td> <th>  Prob(JB):          </th> <td>1.97e-19</td>\n",
              "</tr>\n",
              "<tr>\n",
              "  <th>Kurtosis:</th>      <td> 3.760</td> <th>  Cond. No.          </th> <td>    180.</td>\n",
              "</tr>\n",
              "</table><br/><br/>Warnings:<br/>[1] Standard Errors assume that the covariance matrix of the errors is correctly specified."
            ],
            "text/plain": [
              "<class 'statsmodels.iolib.summary.Summary'>\n",
              "\"\"\"\n",
              "                            OLS Regression Results                            \n",
              "==============================================================================\n",
              "Dep. Variable:                      y   R-squared:                       0.078\n",
              "Model:                            OLS   Adj. R-squared:                  0.068\n",
              "Method:                 Least Squares   F-statistic:                     7.547\n",
              "Date:                Sun, 03 Oct 2021   Prob (F-statistic):           8.75e-08\n",
              "Time:                        20:21:44   Log-Likelihood:                -1351.7\n",
              "No. Observations:                 543   AIC:                             2717.\n",
              "Df Residuals:                     536   BIC:                             2747.\n",
              "Df Model:                           6                                         \n",
              "Covariance Type:            nonrobust                                         \n",
              "==============================================================================\n",
              "                 coef    std err          t      P>|t|      [0.025      0.975]\n",
              "------------------------------------------------------------------------------\n",
              "const          2.7280      0.643      4.244      0.000       1.465       3.991\n",
              "x1            -0.0121      0.010     -1.232      0.218      -0.031       0.007\n",
              "x2             0.8898      0.263      3.379      0.001       0.373       1.407\n",
              "x3             1.2019      0.265      4.534      0.000       0.681       1.723\n",
              "x4             0.5822      0.671      0.867      0.386      -0.737       1.901\n",
              "x5             0.0519      0.102      0.508      0.612      -0.149       0.253\n",
              "x6             0.0346      0.045      0.764      0.445      -0.054       0.124\n",
              "==============================================================================\n",
              "Omnibus:                       64.832   Durbin-Watson:                   0.539\n",
              "Prob(Omnibus):                  0.000   Jarque-Bera (JB):               86.140\n",
              "Skew:                           0.899   Prob(JB):                     1.97e-19\n",
              "Kurtosis:                       3.760   Cond. No.                         180.\n",
              "==============================================================================\n",
              "\n",
              "Warnings:\n",
              "[1] Standard Errors assume that the covariance matrix of the errors is correctly specified.\n",
              "\"\"\""
            ]
          },
          "metadata": {},
          "execution_count": 93
        }
      ]
    },
    {
      "cell_type": "code",
      "metadata": {
        "id": "amgt5u81x424",
        "colab": {
          "base_uri": "https://localhost:8080/"
        },
        "outputId": "3518a2bc-777a-4ccc-e5dd-70669df514d8"
      },
      "source": [
        "# Refreshing columns names to include in the model\n",
        "train_df_MLR.columns"
      ],
      "execution_count": 94,
      "outputs": [
        {
          "output_type": "execute_result",
          "data": {
            "text/plain": [
              "Index(['IP_ML', 'QA', 'ENG', 'TechDebt', 'ID_Area', 'ID_Type', 'SP'], dtype='object')"
            ]
          },
          "metadata": {},
          "execution_count": 94
        }
      ]
    },
    {
      "cell_type": "code",
      "metadata": {
        "id": "Jl3FvX7lxFTR"
      },
      "source": [
        "# Training OLS model using all independent variables\n",
        "# smf allow model to be trained selecting the independent variables. \n",
        "# sm trains the model with all variables \n",
        "form_lr = smf.ols(formula = 'y_MLR ~ IP_ML + QA + ENG + TechDebt + ID_Area + ID_Type', data=train_df_MLR)\n",
        "mlr = form_lr.fit()"
      ],
      "execution_count": 95,
      "outputs": []
    },
    {
      "cell_type": "code",
      "metadata": {
        "id": "OP_jRFN2x2-O",
        "colab": {
          "base_uri": "https://localhost:8080/",
          "height": 558
        },
        "outputId": "3c09d463-0016-4ccd-f6fa-a8ba5bb363ea"
      },
      "source": [
        "# Analyzing results of OLS based on dataset columns without constant\n",
        "# Detecting strong correlation between ENG, QA and TechDebt. \n",
        "# Week correlation with the Iteration Path. \n",
        "#     This confirms hypothesis that independently on the moment of the year or month \n",
        "#     where the business requierement is being developed, effort is consistently the same \n",
        "mlr.summary()"
      ],
      "execution_count": 96,
      "outputs": [
        {
          "output_type": "execute_result",
          "data": {
            "text/html": [
              "<table class=\"simpletable\">\n",
              "<caption>OLS Regression Results</caption>\n",
              "<tr>\n",
              "  <th>Dep. Variable:</th>          <td>y_MLR</td>      <th>  R-squared:         </th> <td>   0.078</td>\n",
              "</tr>\n",
              "<tr>\n",
              "  <th>Model:</th>                   <td>OLS</td>       <th>  Adj. R-squared:    </th> <td>   0.068</td>\n",
              "</tr>\n",
              "<tr>\n",
              "  <th>Method:</th>             <td>Least Squares</td>  <th>  F-statistic:       </th> <td>   7.547</td>\n",
              "</tr>\n",
              "<tr>\n",
              "  <th>Date:</th>             <td>Sun, 03 Oct 2021</td> <th>  Prob (F-statistic):</th> <td>8.75e-08</td>\n",
              "</tr>\n",
              "<tr>\n",
              "  <th>Time:</th>                 <td>20:21:45</td>     <th>  Log-Likelihood:    </th> <td> -1351.7</td>\n",
              "</tr>\n",
              "<tr>\n",
              "  <th>No. Observations:</th>      <td>   543</td>      <th>  AIC:               </th> <td>   2717.</td>\n",
              "</tr>\n",
              "<tr>\n",
              "  <th>Df Residuals:</th>          <td>   536</td>      <th>  BIC:               </th> <td>   2747.</td>\n",
              "</tr>\n",
              "<tr>\n",
              "  <th>Df Model:</th>              <td>     6</td>      <th>                     </th>     <td> </td>   \n",
              "</tr>\n",
              "<tr>\n",
              "  <th>Covariance Type:</th>      <td>nonrobust</td>    <th>                     </th>     <td> </td>   \n",
              "</tr>\n",
              "</table>\n",
              "<table class=\"simpletable\">\n",
              "<tr>\n",
              "      <td></td>         <th>coef</th>     <th>std err</th>      <th>t</th>      <th>P>|t|</th>  <th>[0.025</th>    <th>0.975]</th>  \n",
              "</tr>\n",
              "<tr>\n",
              "  <th>Intercept</th> <td>    2.7280</td> <td>    0.643</td> <td>    4.244</td> <td> 0.000</td> <td>    1.465</td> <td>    3.991</td>\n",
              "</tr>\n",
              "<tr>\n",
              "  <th>IP_ML</th>     <td>   -0.0121</td> <td>    0.010</td> <td>   -1.232</td> <td> 0.218</td> <td>   -0.031</td> <td>    0.007</td>\n",
              "</tr>\n",
              "<tr>\n",
              "  <th>QA</th>        <td>    0.8898</td> <td>    0.263</td> <td>    3.379</td> <td> 0.001</td> <td>    0.373</td> <td>    1.407</td>\n",
              "</tr>\n",
              "<tr>\n",
              "  <th>ENG</th>       <td>    1.2019</td> <td>    0.265</td> <td>    4.534</td> <td> 0.000</td> <td>    0.681</td> <td>    1.723</td>\n",
              "</tr>\n",
              "<tr>\n",
              "  <th>TechDebt</th>  <td>    0.5822</td> <td>    0.671</td> <td>    0.867</td> <td> 0.386</td> <td>   -0.737</td> <td>    1.901</td>\n",
              "</tr>\n",
              "<tr>\n",
              "  <th>ID_Area</th>   <td>    0.0519</td> <td>    0.102</td> <td>    0.508</td> <td> 0.612</td> <td>   -0.149</td> <td>    0.253</td>\n",
              "</tr>\n",
              "<tr>\n",
              "  <th>ID_Type</th>   <td>    0.0346</td> <td>    0.045</td> <td>    0.764</td> <td> 0.445</td> <td>   -0.054</td> <td>    0.124</td>\n",
              "</tr>\n",
              "</table>\n",
              "<table class=\"simpletable\">\n",
              "<tr>\n",
              "  <th>Omnibus:</th>       <td>64.832</td> <th>  Durbin-Watson:     </th> <td>   0.539</td>\n",
              "</tr>\n",
              "<tr>\n",
              "  <th>Prob(Omnibus):</th> <td> 0.000</td> <th>  Jarque-Bera (JB):  </th> <td>  86.140</td>\n",
              "</tr>\n",
              "<tr>\n",
              "  <th>Skew:</th>          <td> 0.899</td> <th>  Prob(JB):          </th> <td>1.97e-19</td>\n",
              "</tr>\n",
              "<tr>\n",
              "  <th>Kurtosis:</th>      <td> 3.760</td> <th>  Cond. No.          </th> <td>    180.</td>\n",
              "</tr>\n",
              "</table><br/><br/>Warnings:<br/>[1] Standard Errors assume that the covariance matrix of the errors is correctly specified."
            ],
            "text/plain": [
              "<class 'statsmodels.iolib.summary.Summary'>\n",
              "\"\"\"\n",
              "                            OLS Regression Results                            \n",
              "==============================================================================\n",
              "Dep. Variable:                  y_MLR   R-squared:                       0.078\n",
              "Model:                            OLS   Adj. R-squared:                  0.068\n",
              "Method:                 Least Squares   F-statistic:                     7.547\n",
              "Date:                Sun, 03 Oct 2021   Prob (F-statistic):           8.75e-08\n",
              "Time:                        20:21:45   Log-Likelihood:                -1351.7\n",
              "No. Observations:                 543   AIC:                             2717.\n",
              "Df Residuals:                     536   BIC:                             2747.\n",
              "Df Model:                           6                                         \n",
              "Covariance Type:            nonrobust                                         \n",
              "==============================================================================\n",
              "                 coef    std err          t      P>|t|      [0.025      0.975]\n",
              "------------------------------------------------------------------------------\n",
              "Intercept      2.7280      0.643      4.244      0.000       1.465       3.991\n",
              "IP_ML         -0.0121      0.010     -1.232      0.218      -0.031       0.007\n",
              "QA             0.8898      0.263      3.379      0.001       0.373       1.407\n",
              "ENG            1.2019      0.265      4.534      0.000       0.681       1.723\n",
              "TechDebt       0.5822      0.671      0.867      0.386      -0.737       1.901\n",
              "ID_Area        0.0519      0.102      0.508      0.612      -0.149       0.253\n",
              "ID_Type        0.0346      0.045      0.764      0.445      -0.054       0.124\n",
              "==============================================================================\n",
              "Omnibus:                       64.832   Durbin-Watson:                   0.539\n",
              "Prob(Omnibus):                  0.000   Jarque-Bera (JB):               86.140\n",
              "Skew:                           0.899   Prob(JB):                     1.97e-19\n",
              "Kurtosis:                       3.760   Cond. No.                         180.\n",
              "==============================================================================\n",
              "\n",
              "Warnings:\n",
              "[1] Standard Errors assume that the covariance matrix of the errors is correctly specified.\n",
              "\"\"\""
            ]
          },
          "metadata": {},
          "execution_count": 96
        }
      ]
    },
    {
      "cell_type": "code",
      "metadata": {
        "id": "7eu3k3-sxvG-",
        "colab": {
          "base_uri": "https://localhost:8080/",
          "height": 494
        },
        "outputId": "f98a29c5-5462-4448-ada2-6a7ff86e9822"
      },
      "source": [
        "# Training model removing some independent variables with low linear correlation\n",
        "# Removing independent variables with low linear correlation can improve the model\n",
        "form_lr = smf.ols(formula = 'y_MLR ~ QA + ENG + TechDebt',  data=train_df_MLR)\n",
        "mlr = form_lr.fit()\n",
        "mlr.summary()"
      ],
      "execution_count": 97,
      "outputs": [
        {
          "output_type": "execute_result",
          "data": {
            "text/html": [
              "<table class=\"simpletable\">\n",
              "<caption>OLS Regression Results</caption>\n",
              "<tr>\n",
              "  <th>Dep. Variable:</th>          <td>y_MLR</td>      <th>  R-squared:         </th> <td>   0.072</td>\n",
              "</tr>\n",
              "<tr>\n",
              "  <th>Model:</th>                   <td>OLS</td>       <th>  Adj. R-squared:    </th> <td>   0.067</td>\n",
              "</tr>\n",
              "<tr>\n",
              "  <th>Method:</th>             <td>Least Squares</td>  <th>  F-statistic:       </th> <td>   14.00</td>\n",
              "</tr>\n",
              "<tr>\n",
              "  <th>Date:</th>             <td>Sun, 03 Oct 2021</td> <th>  Prob (F-statistic):</th> <td>8.40e-09</td>\n",
              "</tr>\n",
              "<tr>\n",
              "  <th>Time:</th>                 <td>20:21:45</td>     <th>  Log-Likelihood:    </th> <td> -1353.3</td>\n",
              "</tr>\n",
              "<tr>\n",
              "  <th>No. Observations:</th>      <td>   543</td>      <th>  AIC:               </th> <td>   2715.</td>\n",
              "</tr>\n",
              "<tr>\n",
              "  <th>Df Residuals:</th>          <td>   539</td>      <th>  BIC:               </th> <td>   2732.</td>\n",
              "</tr>\n",
              "<tr>\n",
              "  <th>Df Model:</th>              <td>     3</td>      <th>                     </th>     <td> </td>   \n",
              "</tr>\n",
              "<tr>\n",
              "  <th>Covariance Type:</th>      <td>nonrobust</td>    <th>                     </th>     <td> </td>   \n",
              "</tr>\n",
              "</table>\n",
              "<table class=\"simpletable\">\n",
              "<tr>\n",
              "      <td></td>         <th>coef</th>     <th>std err</th>      <th>t</th>      <th>P>|t|</th>  <th>[0.025</th>    <th>0.975]</th>  \n",
              "</tr>\n",
              "<tr>\n",
              "  <th>Intercept</th> <td>    2.7123</td> <td>    0.229</td> <td>   11.832</td> <td> 0.000</td> <td>    2.262</td> <td>    3.163</td>\n",
              "</tr>\n",
              "<tr>\n",
              "  <th>QA</th>        <td>    0.9129</td> <td>    0.260</td> <td>    3.506</td> <td> 0.000</td> <td>    0.401</td> <td>    1.424</td>\n",
              "</tr>\n",
              "<tr>\n",
              "  <th>ENG</th>       <td>    1.1765</td> <td>    0.260</td> <td>    4.529</td> <td> 0.000</td> <td>    0.666</td> <td>    1.687</td>\n",
              "</tr>\n",
              "<tr>\n",
              "  <th>TechDebt</th>  <td>    0.6454</td> <td>    0.643</td> <td>    1.004</td> <td> 0.316</td> <td>   -0.618</td> <td>    1.909</td>\n",
              "</tr>\n",
              "</table>\n",
              "<table class=\"simpletable\">\n",
              "<tr>\n",
              "  <th>Omnibus:</th>       <td>69.149</td> <th>  Durbin-Watson:     </th> <td>   0.534</td>\n",
              "</tr>\n",
              "<tr>\n",
              "  <th>Prob(Omnibus):</th> <td> 0.000</td> <th>  Jarque-Bera (JB):  </th> <td>  93.921</td>\n",
              "</tr>\n",
              "<tr>\n",
              "  <th>Skew:</th>          <td> 0.933</td> <th>  Prob(JB):          </th> <td>4.03e-21</td>\n",
              "</tr>\n",
              "<tr>\n",
              "  <th>Kurtosis:</th>      <td> 3.820</td> <th>  Cond. No.          </th> <td>    6.84</td>\n",
              "</tr>\n",
              "</table><br/><br/>Warnings:<br/>[1] Standard Errors assume that the covariance matrix of the errors is correctly specified."
            ],
            "text/plain": [
              "<class 'statsmodels.iolib.summary.Summary'>\n",
              "\"\"\"\n",
              "                            OLS Regression Results                            \n",
              "==============================================================================\n",
              "Dep. Variable:                  y_MLR   R-squared:                       0.072\n",
              "Model:                            OLS   Adj. R-squared:                  0.067\n",
              "Method:                 Least Squares   F-statistic:                     14.00\n",
              "Date:                Sun, 03 Oct 2021   Prob (F-statistic):           8.40e-09\n",
              "Time:                        20:21:45   Log-Likelihood:                -1353.3\n",
              "No. Observations:                 543   AIC:                             2715.\n",
              "Df Residuals:                     539   BIC:                             2732.\n",
              "Df Model:                           3                                         \n",
              "Covariance Type:            nonrobust                                         \n",
              "==============================================================================\n",
              "                 coef    std err          t      P>|t|      [0.025      0.975]\n",
              "------------------------------------------------------------------------------\n",
              "Intercept      2.7123      0.229     11.832      0.000       2.262       3.163\n",
              "QA             0.9129      0.260      3.506      0.000       0.401       1.424\n",
              "ENG            1.1765      0.260      4.529      0.000       0.666       1.687\n",
              "TechDebt       0.6454      0.643      1.004      0.316      -0.618       1.909\n",
              "==============================================================================\n",
              "Omnibus:                       69.149   Durbin-Watson:                   0.534\n",
              "Prob(Omnibus):                  0.000   Jarque-Bera (JB):               93.921\n",
              "Skew:                           0.933   Prob(JB):                     4.03e-21\n",
              "Kurtosis:                       3.820   Cond. No.                         6.84\n",
              "==============================================================================\n",
              "\n",
              "Warnings:\n",
              "[1] Standard Errors assume that the covariance matrix of the errors is correctly specified.\n",
              "\"\"\""
            ]
          },
          "metadata": {},
          "execution_count": 97
        }
      ]
    },
    {
      "cell_type": "markdown",
      "metadata": {
        "id": "2t8qDuBS_Ng8"
      },
      "source": [
        "## b. Analyzing using correlation matrix"
      ]
    },
    {
      "cell_type": "code",
      "metadata": {
        "id": "5_viK4dsyeug",
        "colab": {
          "base_uri": "https://localhost:8080/",
          "height": 269
        },
        "outputId": "cc79b530-85fa-4d91-8275-2d9108279e33"
      },
      "source": [
        "# Analyzing multicolliniarity using a correlation matrix. \n",
        "# We need to find troublemakers. \n",
        "# Values grather than 0.6 will cause multicolliniarity in our model\n",
        "\n",
        "pd.options.display.float_format = '{:,.2f}'.format\n",
        "corr_matrix = train_df_MLR.corr()\n",
        "corr_matrix"
      ],
      "execution_count": 98,
      "outputs": [
        {
          "output_type": "execute_result",
          "data": {
            "text/html": [
              "<div>\n",
              "<style scoped>\n",
              "    .dataframe tbody tr th:only-of-type {\n",
              "        vertical-align: middle;\n",
              "    }\n",
              "\n",
              "    .dataframe tbody tr th {\n",
              "        vertical-align: top;\n",
              "    }\n",
              "\n",
              "    .dataframe thead th {\n",
              "        text-align: right;\n",
              "    }\n",
              "</style>\n",
              "<table border=\"1\" class=\"dataframe\">\n",
              "  <thead>\n",
              "    <tr style=\"text-align: right;\">\n",
              "      <th></th>\n",
              "      <th>IP_ML</th>\n",
              "      <th>QA</th>\n",
              "      <th>ENG</th>\n",
              "      <th>TechDebt</th>\n",
              "      <th>ID_Area</th>\n",
              "      <th>ID_Type</th>\n",
              "      <th>SP</th>\n",
              "    </tr>\n",
              "  </thead>\n",
              "  <tbody>\n",
              "    <tr>\n",
              "      <th>IP_ML</th>\n",
              "      <td>1.00</td>\n",
              "      <td>-0.01</td>\n",
              "      <td>-0.02</td>\n",
              "      <td>-0.19</td>\n",
              "      <td>-0.29</td>\n",
              "      <td>-0.04</td>\n",
              "      <td>-0.08</td>\n",
              "    </tr>\n",
              "    <tr>\n",
              "      <th>QA</th>\n",
              "      <td>-0.01</td>\n",
              "      <td>1.00</td>\n",
              "      <td>0.18</td>\n",
              "      <td>-0.02</td>\n",
              "      <td>-0.09</td>\n",
              "      <td>0.14</td>\n",
              "      <td>0.18</td>\n",
              "    </tr>\n",
              "    <tr>\n",
              "      <th>ENG</th>\n",
              "      <td>-0.02</td>\n",
              "      <td>0.18</td>\n",
              "      <td>1.00</td>\n",
              "      <td>0.11</td>\n",
              "      <td>-0.21</td>\n",
              "      <td>0.03</td>\n",
              "      <td>0.22</td>\n",
              "    </tr>\n",
              "    <tr>\n",
              "      <th>TechDebt</th>\n",
              "      <td>-0.19</td>\n",
              "      <td>-0.02</td>\n",
              "      <td>0.11</td>\n",
              "      <td>1.00</td>\n",
              "      <td>-0.13</td>\n",
              "      <td>-0.12</td>\n",
              "      <td>0.06</td>\n",
              "    </tr>\n",
              "    <tr>\n",
              "      <th>ID_Area</th>\n",
              "      <td>-0.29</td>\n",
              "      <td>-0.09</td>\n",
              "      <td>-0.21</td>\n",
              "      <td>-0.13</td>\n",
              "      <td>1.00</td>\n",
              "      <td>0.07</td>\n",
              "      <td>-0.02</td>\n",
              "    </tr>\n",
              "    <tr>\n",
              "      <th>ID_Type</th>\n",
              "      <td>-0.04</td>\n",
              "      <td>0.14</td>\n",
              "      <td>0.03</td>\n",
              "      <td>-0.12</td>\n",
              "      <td>0.07</td>\n",
              "      <td>1.00</td>\n",
              "      <td>0.06</td>\n",
              "    </tr>\n",
              "    <tr>\n",
              "      <th>SP</th>\n",
              "      <td>-0.08</td>\n",
              "      <td>0.18</td>\n",
              "      <td>0.22</td>\n",
              "      <td>0.06</td>\n",
              "      <td>-0.02</td>\n",
              "      <td>0.06</td>\n",
              "      <td>1.00</td>\n",
              "    </tr>\n",
              "  </tbody>\n",
              "</table>\n",
              "</div>"
            ],
            "text/plain": [
              "          IP_ML    QA   ENG  TechDebt  ID_Area  ID_Type    SP\n",
              "IP_ML      1.00 -0.01 -0.02     -0.19    -0.29    -0.04 -0.08\n",
              "QA        -0.01  1.00  0.18     -0.02    -0.09     0.14  0.18\n",
              "ENG       -0.02  0.18  1.00      0.11    -0.21     0.03  0.22\n",
              "TechDebt  -0.19 -0.02  0.11      1.00    -0.13    -0.12  0.06\n",
              "ID_Area   -0.29 -0.09 -0.21     -0.13     1.00     0.07 -0.02\n",
              "ID_Type   -0.04  0.14  0.03     -0.12     0.07     1.00  0.06\n",
              "SP        -0.08  0.18  0.22      0.06    -0.02     0.06  1.00"
            ]
          },
          "metadata": {},
          "execution_count": 98
        }
      ]
    },
    {
      "cell_type": "code",
      "metadata": {
        "id": "tsmY5JWM0OZi",
        "colab": {
          "base_uri": "https://localhost:8080/",
          "height": 488
        },
        "outputId": "67a6d06d-d3ca-49c6-eb7e-4002f0d1fbe5"
      },
      "source": [
        "plt.figure(figsize=(12,8))\n",
        "sns.heatmap(corr_matrix, annot=True, cmap='YlGnBu')\n",
        "plt.show()"
      ],
      "execution_count": 99,
      "outputs": [
        {
          "output_type": "display_data",
          "data": {
            "image/png": "[encoded data removed]",
            "text/plain": [
              "<Figure size 864x576 with 2 Axes>"
            ]
          },
          "metadata": {
            "needs_background": "light"
          }
        }
      ]
    },
    {
      "cell_type": "markdown",
      "metadata": {
        "id": "X-h_MsDD_UE6"
      },
      "source": [
        "## c. Analyzing collinearity"
      ]
    },
    {
      "cell_type": "code",
      "metadata": {
        "id": "KY6Uidaf1paZ",
        "colab": {
          "base_uri": "https://localhost:8080/"
        },
        "outputId": "3fae637e-f7c0-4692-e547-a18cfa728451"
      },
      "source": [
        "# Detecting Collinearity with Eigenvectors\n",
        "\n",
        "eigenvalues, eigenvectors = np.linalg.eig(train_df_MLR.corr())\n",
        "pd.options.display.float_format = '{:,.4f}'.format\n",
        "pd.Series(eigenvalues).sort_values()"
      ],
      "execution_count": 100,
      "outputs": [
        {
          "output_type": "execute_result",
          "data": {
            "text/plain": [
              "3   0.5526\n",
              "5   0.7356\n",
              "6   0.7908\n",
              "4   0.8626\n",
              "2   1.2205\n",
              "1   1.3245\n",
              "0   1.5134\n",
              "dtype: float64"
            ]
          },
          "metadata": {},
          "execution_count": 100
        }
      ]
    },
    {
      "cell_type": "markdown",
      "metadata": {
        "id": "9bET559Y2O17"
      },
      "source": [
        "Small value represents presence of **collinearity**. In this case, index 3, 5, 6 are the smallest agaist the others"
      ]
    },
    {
      "cell_type": "code",
      "metadata": {
        "id": "URtNrKtv3aJk",
        "colab": {
          "base_uri": "https://localhost:8080/"
        },
        "outputId": "8e8ff589-07ce-42f6-a083-fe1e07c28897"
      },
      "source": [
        "print(train_df_MLR.columns[3], train_df_MLR.columns[5],train_df_MLR.columns[6])"
      ],
      "execution_count": 101,
      "outputs": [
        {
          "output_type": "stream",
          "name": "stdout",
          "text": [
            "TechDebt ID_Type SP\n"
          ]
        }
      ]
    },
    {
      "cell_type": "code",
      "metadata": {
        "id": "qr03Tuvf2g7o",
        "colab": {
          "base_uri": "https://localhost:8080/"
        },
        "outputId": "b775071b-3bdb-4126-a96b-5cfda1b45df1"
      },
      "source": [
        "np.abs(pd.Series(eigenvectors[:,6])).sort_values(ascending=False) # Detecting using large vectors"
      ],
      "execution_count": 102,
      "outputs": [
        {
          "output_type": "execute_result",
          "data": {
            "text/plain": [
              "1   0.7997\n",
              "5   0.4200\n",
              "2   0.3270\n",
              "6   0.2630\n",
              "0   0.0758\n",
              "4   0.0409\n",
              "3   0.0257\n",
              "dtype: float64"
            ]
          },
          "metadata": {},
          "execution_count": 102
        }
      ]
    },
    {
      "cell_type": "markdown",
      "metadata": {
        "id": "8wb4ktu7245p"
      },
      "source": [
        "Note that index 1 and 5 have very high loading when compared against the rest"
      ]
    },
    {
      "cell_type": "code",
      "metadata": {
        "id": "J5K2YliL2mag",
        "colab": {
          "base_uri": "https://localhost:8080/"
        },
        "outputId": "972bde93-4d0a-43e4-bf9d-d7dd680d0d43"
      },
      "source": [
        "print(train_df_MLR.columns[1], train_df_MLR.columns[5])"
      ],
      "execution_count": 103,
      "outputs": [
        {
          "output_type": "stream",
          "name": "stdout",
          "text": [
            "QA ID_Type\n"
          ]
        }
      ]
    },
    {
      "cell_type": "markdown",
      "metadata": {
        "id": "HHsULzjT1Ajj"
      },
      "source": [
        "**Conclusion**\n",
        "\n",
        "**good news>** In the colliniarity analysis, there are no independent variables with high level of collinearity. Another interesting conclusion is that ID_Type (Type of work, in this case, Research, validation, Deployment, Implementation, Testing) is highly correlated with SP (the quantity of effort to perform that task)\n",
        "\n",
        "**bad news>** the correlation between independent and dependent variables is weak. "
      ]
    },
    {
      "cell_type": "markdown",
      "metadata": {
        "id": "oGSnXBLH4V9m"
      },
      "source": [
        "# 3 - Revisiting Features Analysis"
      ]
    },
    {
      "cell_type": "markdown",
      "metadata": {
        "id": "GBuatf9K_gMx"
      },
      "source": [
        "## a. Quick Data Refresher"
      ]
    },
    {
      "cell_type": "code",
      "metadata": {
        "id": "XDkBvW-D0Y9w",
        "colab": {
          "base_uri": "https://localhost:8080/",
          "height": 206
        },
        "outputId": "c18512e3-103b-4282-a4f5-54bacb428fd1"
      },
      "source": [
        "train_df_MLR.head()"
      ],
      "execution_count": 104,
      "outputs": [
        {
          "output_type": "execute_result",
          "data": {
            "text/html": [
              "<div>\n",
              "<style scoped>\n",
              "    .dataframe tbody tr th:only-of-type {\n",
              "        vertical-align: middle;\n",
              "    }\n",
              "\n",
              "    .dataframe tbody tr th {\n",
              "        vertical-align: top;\n",
              "    }\n",
              "\n",
              "    .dataframe thead th {\n",
              "        text-align: right;\n",
              "    }\n",
              "</style>\n",
              "<table border=\"1\" class=\"dataframe\">\n",
              "  <thead>\n",
              "    <tr style=\"text-align: right;\">\n",
              "      <th></th>\n",
              "      <th>IP_ML</th>\n",
              "      <th>QA</th>\n",
              "      <th>ENG</th>\n",
              "      <th>TechDebt</th>\n",
              "      <th>ID_Area</th>\n",
              "      <th>ID_Type</th>\n",
              "      <th>SP</th>\n",
              "    </tr>\n",
              "  </thead>\n",
              "  <tbody>\n",
              "    <tr>\n",
              "      <th>0</th>\n",
              "      <td>11</td>\n",
              "      <td>0</td>\n",
              "      <td>0</td>\n",
              "      <td>0</td>\n",
              "      <td>5</td>\n",
              "      <td>1</td>\n",
              "      <td>0</td>\n",
              "    </tr>\n",
              "    <tr>\n",
              "      <th>1</th>\n",
              "      <td>11</td>\n",
              "      <td>0</td>\n",
              "      <td>0</td>\n",
              "      <td>0</td>\n",
              "      <td>5</td>\n",
              "      <td>3</td>\n",
              "      <td>0</td>\n",
              "    </tr>\n",
              "    <tr>\n",
              "      <th>2</th>\n",
              "      <td>11</td>\n",
              "      <td>0</td>\n",
              "      <td>0</td>\n",
              "      <td>0</td>\n",
              "      <td>5</td>\n",
              "      <td>4</td>\n",
              "      <td>0</td>\n",
              "    </tr>\n",
              "    <tr>\n",
              "      <th>3</th>\n",
              "      <td>11</td>\n",
              "      <td>0</td>\n",
              "      <td>0</td>\n",
              "      <td>0</td>\n",
              "      <td>5</td>\n",
              "      <td>5</td>\n",
              "      <td>0</td>\n",
              "    </tr>\n",
              "    <tr>\n",
              "      <th>4</th>\n",
              "      <td>11</td>\n",
              "      <td>0</td>\n",
              "      <td>0</td>\n",
              "      <td>0</td>\n",
              "      <td>5</td>\n",
              "      <td>11</td>\n",
              "      <td>0</td>\n",
              "    </tr>\n",
              "  </tbody>\n",
              "</table>\n",
              "</div>"
            ],
            "text/plain": [
              "   IP_ML  QA  ENG  TechDebt  ID_Area  ID_Type  SP\n",
              "0     11   0    0         0        5        1   0\n",
              "1     11   0    0         0        5        3   0\n",
              "2     11   0    0         0        5        4   0\n",
              "3     11   0    0         0        5        5   0\n",
              "4     11   0    0         0        5       11   0"
            ]
          },
          "metadata": {},
          "execution_count": 104
        }
      ]
    },
    {
      "cell_type": "code",
      "metadata": {
        "id": "hjbzZA7T4e46",
        "colab": {
          "base_uri": "https://localhost:8080/",
          "height": 317
        },
        "outputId": "9979515e-e70c-45f9-bb5c-83e281d3a260"
      },
      "source": [
        "# Using histogram, we can see how Types are distributed. \n",
        "# There is a clear unnormal distribution. most of observations are between 0 and 1. \n",
        "plt.hist(train_df_MLR['ID_Type'])"
      ],
      "execution_count": 105,
      "outputs": [
        {
          "output_type": "execute_result",
          "data": {
            "text/plain": [
              "(array([312.,  19.,  23.,  25.,  49.,  22.,  48.,   1.,  22.,  22.]),\n",
              " array([ 1.,  2.,  3.,  4.,  5.,  6.,  7.,  8.,  9., 10., 11.]),\n",
              " <a list of 10 Patch objects>)"
            ]
          },
          "metadata": {},
          "execution_count": 105
        },
        {
          "output_type": "display_data",
          "data": {
            "image/png": "[encoded data removed]",
            "text/plain": [
              "<Figure size 432x288 with 1 Axes>"
            ]
          },
          "metadata": {
            "needs_background": "light"
          }
        }
      ]
    },
    {
      "cell_type": "code",
      "metadata": {
        "id": "u8dW9QLn4qwf",
        "colab": {
          "base_uri": "https://localhost:8080/",
          "height": 404
        },
        "outputId": "6f81a2c8-337a-4474-b422-7b220734d154"
      },
      "source": [
        "# With Boxplots, we can understand the percentiles of the distribution. \n",
        "# In this case, the 75% of the types are located between 0 and 5.\n",
        "# Only 25% represents types between 6 to 11, becoming rare\n",
        "plt.boxplot(train_df_MLR['ID_Type'])"
      ],
      "execution_count": 106,
      "outputs": [
        {
          "output_type": "execute_result",
          "data": {
            "text/plain": [
              "{'boxes': [<matplotlib.lines.Line2D at 0x7f847c703150>],\n",
              " 'caps': [<matplotlib.lines.Line2D at 0x7f847c757510>,\n",
              "  <matplotlib.lines.Line2D at 0x7f847c6b4bd0>],\n",
              " 'fliers': [<matplotlib.lines.Line2D at 0x7f847c6ef5d0>],\n",
              " 'means': [],\n",
              " 'medians': [<matplotlib.lines.Line2D at 0x7f847c6b4290>],\n",
              " 'whiskers': [<matplotlib.lines.Line2D at 0x7f847c7575d0>,\n",
              "  <matplotlib.lines.Line2D at 0x7f847c757950>]}"
            ]
          },
          "metadata": {},
          "execution_count": 106
        },
        {
          "output_type": "display_data",
          "data": {
            "image/png": "[encoded data removed]",
            "text/plain": [
              "<Figure size 432x288 with 1 Axes>"
            ]
          },
          "metadata": {
            "needs_background": "light"
          }
        }
      ]
    },
    {
      "cell_type": "code",
      "metadata": {
        "id": "GdPCT0zn4-Lr",
        "colab": {
          "base_uri": "https://localhost:8080/"
        },
        "outputId": "0f6a5a28-754d-4006-8ab0-a81a9f5f8b4b"
      },
      "source": [
        "train_df_MLR['ID_Type'].describe()"
      ],
      "execution_count": 107,
      "outputs": [
        {
          "output_type": "execute_result",
          "data": {
            "text/plain": [
              "count   543.0000\n",
              "mean      3.0571\n",
              "std       2.8418\n",
              "min       1.0000\n",
              "25%       1.0000\n",
              "50%       1.0000\n",
              "75%       5.0000\n",
              "max      11.0000\n",
              "Name: ID_Type, dtype: float64"
            ]
          },
          "metadata": {},
          "execution_count": 107
        }
      ]
    },
    {
      "cell_type": "markdown",
      "metadata": {
        "id": "TKyCcR3r5pf8"
      },
      "source": [
        "## b. Standardize Variables to identify Key Features\n",
        "\n",
        "### Correlation can also be analyzed using a Linear Regression. \n"
      ]
    },
    {
      "cell_type": "code",
      "metadata": {
        "id": "qjH6kwsb58Kh"
      },
      "source": [
        "from sklearn.linear_model import LinearRegression"
      ],
      "execution_count": 108,
      "outputs": []
    },
    {
      "cell_type": "code",
      "metadata": {
        "id": "SqJrsz7-6Bs6",
        "colab": {
          "base_uri": "https://localhost:8080/"
        },
        "outputId": "c058f8b7-4ab1-4ddc-eac5-423470716b44"
      },
      "source": [
        "model = LinearRegression()\n",
        "model.fit(X_MLR, y_MLR)"
      ],
      "execution_count": 109,
      "outputs": [
        {
          "output_type": "execute_result",
          "data": {
            "text/plain": [
              "LinearRegression(copy_X=True, fit_intercept=True, n_jobs=None, normalize=False)"
            ]
          },
          "metadata": {},
          "execution_count": 109
        }
      ]
    },
    {
      "cell_type": "code",
      "metadata": {
        "id": "R5RJxmPo6MQU",
        "colab": {
          "base_uri": "https://localhost:8080/",
          "height": 269
        },
        "outputId": "44cb8023-cf8b-47a8-c585-5e1bafc7e7ca"
      },
      "source": [
        "result_lr_MLR = pd.DataFrame(list(zip(model.coef_, train_df_MLR.columns)), columns=['coefficient', 'name']).set_index('name')\n",
        "np.abs(result_lr_MLR).sort_values(by='coefficient', ascending=False)"
      ],
      "execution_count": 110,
      "outputs": [
        {
          "output_type": "execute_result",
          "data": {
            "text/html": [
              "<div>\n",
              "<style scoped>\n",
              "    .dataframe tbody tr th:only-of-type {\n",
              "        vertical-align: middle;\n",
              "    }\n",
              "\n",
              "    .dataframe tbody tr th {\n",
              "        vertical-align: top;\n",
              "    }\n",
              "\n",
              "    .dataframe thead th {\n",
              "        text-align: right;\n",
              "    }\n",
              "</style>\n",
              "<table border=\"1\" class=\"dataframe\">\n",
              "  <thead>\n",
              "    <tr style=\"text-align: right;\">\n",
              "      <th></th>\n",
              "      <th>coefficient</th>\n",
              "    </tr>\n",
              "    <tr>\n",
              "      <th>name</th>\n",
              "      <th></th>\n",
              "    </tr>\n",
              "  </thead>\n",
              "  <tbody>\n",
              "    <tr>\n",
              "      <th>ENG</th>\n",
              "      <td>1.2019</td>\n",
              "    </tr>\n",
              "    <tr>\n",
              "      <th>QA</th>\n",
              "      <td>0.8898</td>\n",
              "    </tr>\n",
              "    <tr>\n",
              "      <th>TechDebt</th>\n",
              "      <td>0.5822</td>\n",
              "    </tr>\n",
              "    <tr>\n",
              "      <th>ID_Area</th>\n",
              "      <td>0.0519</td>\n",
              "    </tr>\n",
              "    <tr>\n",
              "      <th>ID_Type</th>\n",
              "      <td>0.0346</td>\n",
              "    </tr>\n",
              "    <tr>\n",
              "      <th>IP_ML</th>\n",
              "      <td>0.0121</td>\n",
              "    </tr>\n",
              "  </tbody>\n",
              "</table>\n",
              "</div>"
            ],
            "text/plain": [
              "          coefficient\n",
              "name                 \n",
              "ENG            1.2019\n",
              "QA             0.8898\n",
              "TechDebt       0.5822\n",
              "ID_Area        0.0519\n",
              "ID_Type        0.0346\n",
              "IP_ML          0.0121"
            ]
          },
          "metadata": {},
          "execution_count": 110
        }
      ]
    },
    {
      "cell_type": "markdown",
      "metadata": {
        "id": "lb95n_l17Lle"
      },
      "source": [
        "Same coefficients comparing with previous analysis, image down below.\n",
        " "
      ]
    },
    {
      "cell_type": "markdown",
      "metadata": {
        "id": "kqaUjLTk7a0i"
      },
      "source": [
        "![image.png](data:image/png;base64,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)"
      ]
    },
    {
      "cell_type": "markdown",
      "metadata": {
        "id": "_Mp-0rSO70p9"
      },
      "source": [
        "**conclusion**\n",
        "\n",
        "* ENG, QA and TechDebt have better coefficients then other variables. This represents that when running an algorithm, the dependent variable will be directly affected by those 3, rather than the other. \n",
        "\n",
        "* In future analysis, we will try to expose how QA is better estimating than ENG. "
      ]
    },
    {
      "cell_type": "markdown",
      "metadata": {
        "id": "LPhaAwYa89Ub"
      },
      "source": [
        "## c. Analyzing features using $R^2$\n",
        "\n",
        "* Compare $R^2$ of model against $R^2$ of model without a feature. \n",
        "\n",
        "* A significant change in $R^2$ signify the importance of the feature."
      ]
    },
    {
      "cell_type": "code",
      "metadata": {
        "id": "CH4WIIkX7z5A",
        "colab": {
          "base_uri": "https://localhost:8080/"
        },
        "outputId": "8597962a-7f2a-4412-9fd9-e4ac3a51f05f"
      },
      "source": [
        "linear_reg = smf.ols(formula = 'SP ~ IP_ML + QA + ENG + TechDebt + ID_Area + ID_Type', data=train_df_MLR)\n",
        "benchmark = linear_reg.fit()\n",
        "r2_score(y_MLR, benchmark.predict(train_df_MLR))"
      ],
      "execution_count": 111,
      "outputs": [
        {
          "output_type": "execute_result",
          "data": {
            "text/plain": [
              "0.07789942053733001"
            ]
          },
          "metadata": {},
          "execution_count": 111
        }
      ]
    },
    {
      "cell_type": "code",
      "metadata": {
        "colab": {
          "base_uri": "https://localhost:8080/"
        },
        "id": "FPRRfyUZi8bl",
        "outputId": "406591ee-45e4-49cc-ce06-b2a7adbcb0e1"
      },
      "source": [
        "linear_reg = smf.ols(formula = 'SP ~ QA + ENG + TechDebt + ID_Area ', data=train_df_MLR)\n",
        "benchmark = linear_reg.fit()\n",
        "r2_score(y_MLR, benchmark.predict(train_df_MLR))"
      ],
      "execution_count": 112,
      "outputs": [
        {
          "output_type": "execute_result",
          "data": {
            "text/plain": [
              "0.07415184861970892"
            ]
          },
          "metadata": {},
          "execution_count": 112
        }
      ]
    },
    {
      "cell_type": "code",
      "metadata": {
        "id": "fL6xgDId9xUe",
        "colab": {
          "base_uri": "https://localhost:8080/"
        },
        "outputId": "a24669b6-0e40-4be2-ae80-cc0cdf6e5147"
      },
      "source": [
        "linear_reg = smf.ols(formula = 'SP ~ IP_ML + TechDebt + ID_Area + ID_Type', data=train_df_MLR)\n",
        "benchmark = linear_reg.fit()\n",
        "r2_score(y_MLR, benchmark.predict(train_df_MLR))"
      ],
      "execution_count": 113,
      "outputs": [
        {
          "output_type": "execute_result",
          "data": {
            "text/plain": [
              "0.0128379395073277"
            ]
          },
          "metadata": {},
          "execution_count": 113
        }
      ]
    },
    {
      "cell_type": "code",
      "metadata": {
        "id": "iIj12A5Z96sm",
        "colab": {
          "base_uri": "https://localhost:8080/"
        },
        "outputId": "0870adcf-409d-457a-bba8-684d4d8a09fa"
      },
      "source": [
        "linear_reg = smf.ols(formula = 'SP ~ IP_ML + QA + ENG + ID_Area + ID_Type', data=train_df_MLR)\n",
        "benchmark = linear_reg.fit()\n",
        "r2_score(y_MLR, benchmark.predict(train_df_MLR))"
      ],
      "execution_count": 114,
      "outputs": [
        {
          "output_type": "execute_result",
          "data": {
            "text/plain": [
              "0.07660561245694242"
            ]
          },
          "metadata": {},
          "execution_count": 114
        }
      ]
    },
    {
      "cell_type": "code",
      "metadata": {
        "id": "NTUmLfkH6zzK",
        "colab": {
          "base_uri": "https://localhost:8080/"
        },
        "outputId": "81072cff-0498-430a-de7d-1c7269edfc21"
      },
      "source": [
        "linear_reg = smf.ols(formula = 'SP ~ IP_ML + ID_Area + ID_Type', data=train_df_MLR)\n",
        "benchmark = linear_reg.fit()\n",
        "r2_score(y_MLR, benchmark.predict(train_df_MLR))"
      ],
      "execution_count": 115,
      "outputs": [
        {
          "output_type": "execute_result",
          "data": {
            "text/plain": [
              "0.010783048474123147"
            ]
          },
          "metadata": {},
          "execution_count": 115
        }
      ]
    },
    {
      "cell_type": "code",
      "metadata": {
        "id": "Kna6NdPj-DhP",
        "colab": {
          "base_uri": "https://localhost:8080/"
        },
        "outputId": "4ca7dec1-e56b-4a45-8a73-cacf447aab83"
      },
      "source": [
        "linear_reg = smf.ols(formula = 'SP ~  ID_Area + ID_Type', data=train_df_MLR)\n",
        "benchmark = linear_reg.fit()\n",
        "r2_score(y_MLR, benchmark.predict(train_df_MLR))"
      ],
      "execution_count": 116,
      "outputs": [
        {
          "output_type": "execute_result",
          "data": {
            "text/plain": [
              "0.0037375407983973874"
            ]
          },
          "metadata": {},
          "execution_count": 116
        }
      ]
    },
    {
      "cell_type": "markdown",
      "metadata": {
        "id": "jaK1iH2njN_I"
      },
      "source": [
        "### CONCLUSION: \n",
        "\n",
        "* Removing features increase or decrease R2 Score\n",
        "* Featrues removed can improve importance of other independepent variables\n",
        "* Removing or leaving features can improve or reduce the importance of independent variables. \n",
        "\n",
        "It's important to  measure all combinations"
      ]
    },
    {
      "cell_type": "markdown",
      "metadata": {
        "id": "5bYKi9betNFG"
      },
      "source": [
        "# 4 - Classification Algorithms with regressors\n",
        "\n",
        "Algorithms to use:\n",
        "* Decision Tree Regressor\n",
        "* Random Forest Regressor\n",
        "* AdaBoost\n",
        "\n",
        "Classification algorithms can be used as regressors. The decisions are based on values in each axis. \n",
        "\n",
        "The following example ilustrates how the decision tree split the observations based on a combination of values with X1 and X2. \n",
        "\n",
        "Random Forest and AdaBoost are ENSEMBLE algorithms, which means that there is a combination of other algorithms to improve the performance of the algorithm. \n",
        "\n",
        "For example, a Random Forest will use various decision Trees to conclude on a prediction. \n",
        "\n",
        "![image.png](data:image/png;base64,iVBORw0KGgoAAAANSUhEUgAAA2IAAAHYCAYAAAAvYVuoAAAgAElEQVR4Aey9ccwVVZrnD/n1aztNfDfEXhwTyE8laYzNEg0RMWrTYWiZDpqRCJ3IuGsTW+LKBHV+b8KkYYyaEGxwdNuWXQiESIj+wRBIhIQYFJE2qyJZI2PIYpA1E8liBpsYEJ0Z5PzyqeK877l1T91bde+pe6vqfp/kcuvWPXXqnG/VfTmfep7znHFGJgWkgBSQAlJACkgBKSAFpIAUkAI9VWBcT8+mk0kBKSAFpIAUkAJSQApIASkgBaSAEYjpJpACUkAKSAEpIAWkgBSQAlJACvRYAYFYjwXX6aSAFJACUkAKSAEpIAWkgBSQAgIx3QNSQApIASkgBaSAFJACUkAKSIEeKyAQ67HgOp0UkAJSQApIASkgBaSAFJACUkAgpntACkgBKSAFpIAUkAJSQApIASnQYwUEYj0WXKeTAlJACkgBKSAFpIAUkAJSQAoIxHQPSAEpIAWkgBSQAlJACkgBKSAFeqyAQKzHgut0UkAKSAEpIAWkgBSQAlJACkgBgZjuASkgBaSAFJACUkAKSAEpIAWkQI8VEIj1WHCdTgpIASkgBaSAFJACUkAKSAEpIBDTPSAFpIAUkAJSQApIASkgBaSAFOixAgKxHguu00kBKSAFpIAUkAJSQApIASkgBQRiugekgBSQAlJACkgBKSAFpIAUkAI9VkAg1mPBdTopIAWkgBSQAlJACkgBKSAFpIBATPeAFJACUkAKSAEpIAWkgBSQAlKgxwoIxHosuE4nBaSAFJACUkAKSAEpIAWkgBQQiOkekAJSQApIASkgBaSAFJACUkAK9FgBgViPBdfppIAUkAJSQApIASkgBaSAFJACAjHdA1JACkgBKSAFpIAUkAJSQApIgR4rIBDrseA6nRSQAlJACkgBKSAFpIAUkAJSQCCme0AKSAEpIAWkgBSQAlJACkgBKdBjBQRiPRZcp5MCUkAKSAEpIAWkgBSQAlJACgjEdA9IASkgBaSAFJACUkAKSAEpIAV6rIBArMeC63RSQApIASkgBaSAFJACUkAKSAGBmO4BKSAFpIAUkAI5FLh48aI5ffq0OXXqlPm3f/u3HEeqqBSQAlJACkiBMQUEYmNaaEsKSAEpIAWkgFeBEydOmCeeeMJMnjzZjB8/3owbN270xT6+O378uPdY7ZQCUkAKSAEp4FNAIOZTpSL7Pv/8czM8PGzmzp1rLl261NDqCxcumGnTppmpU6eab86fj77jKe66devM7bNnmwkTJkTfrV+/vpAnurt37zazZs2K2nfnXXeaw4cPN7Qv+eHrr782K1asMNddd5258sorzc0zbjbbtm1LFjPt6s3SR+pwB1F2e8mSJU3nYwfazp8/39x///0N3/MkHP3Q2bb5tddeayijD1JAClRfgQ8++MAMDQ1FELZ8+XKzceNGs2PHjujFNhB2ww03RH/v2v2tq74a6oEUkAJSQAqEUkAgFkrJPtWzadOmCCq2bt3a0IJVq1ZH+999993R/U899VS0b+nSpWb79u0R+AAhlA1p+/bti87zq8WLzebNm82cOXMiUOGJcpoBQQx0aCMw88ADD0R17Ny5c/SQLPVm6eMLL7xoJk6cGEEUIGVfe/fuHT2Xu4G26JQEsWeffTbaPzIyEun50H/5z01tduvRthSQAtVUgIdJ/B2zD7V8vfjuu+/MwoULowdjvu+1TwpIASkgBaRAUgGBWFKRin3GWzNv3rwILJizgB09ejQKnQEQrDFIwHsGhLlGGcJs+D6U0R4GLninsHPnzkVPknlq7LOzZ89GAPOHl14a/Zp+TZ8+PRrY2J3t6s3aRzxvtC+L/fM//3OkG9olQYxwpGXLlo1WQ5vxNuI9k0kBKVAfBfj981Cpne3Zsyf6e9GuXDffEynw3HPP6SUNdA/oHtA9ULJ7IMv/E8m//wKxpCIV/EyIIqGGeJEIl5s5c6a58cabDOGJ1j777LMIdpKhcwwc8PYcO3bMFu3q3ULVhg0bGuohnAdw8RmesgULFphPPvmk4WtCLtmPZak3ax+p0wJpq4n2FnLx1vE0PAlikyZNavIm8kScsjIpIAXqowB/U/Hw24dLvp7x94K/czyMKco4P3+vV65cqVeJNXj00UcN/z/oOuk+1T0wWPcAjg137J3l/wKBWBaVKlDGhigCAtwIyXkK3BjAVjK0hj8SlAd0shplCe/73e9+13QIMMVA4eDBgw3fMY+C87QayHAAXi3AjHBAQhUJocSy1Ju1j0AqsMTcLtrKvDSeMCfbhqb8Z3rmzBkviOHh43v6yhw3wihpcydPRBrE0gcpIAVKpYCdV4onnYdM/OaJPODFNn8r8ITz98QNpw7dCQtioetVfWEV4KEgcwZlUkAKDJYC5AtIjrPbKSAQa6dQRb7naSxwYZ+WZmk2kAMc8fQui/GfC2F9NtEHg5Ok7d+/P2oDAxTXmNhO22z4pPudu818Lcrx+s3DD4/CUaf1JvvIQAZYYo4YAyrmhfEUm/O5c+VOnjwZ9dP20ecRw5tGQhLbXt6tp83tk7algBSovgLMUSU82v29u9t48ClTpAnEilQ3XN0CsXBaqiYpUCUFBGJVulqB24qXitA/BgY8mQXM0oy1bwizoSzvreaHUc+hQ4eiuVpAG3UDL0nvkT1XO2Di3K2M7w8cOGDWrl0bJfgAkrC89ab1EXgCrgAt15jrBaChBX1jUOVmUUyCGLoQqohHDG/f22+/bdasWRO1mSQeMikgBeqpAH9r8dDzN4kXD53wmvfCBGK9ULn7cwjEutdQNUiBKiogEKviVQvUZjwxTCjHywNgESrjMzxTeIMIxyOEphWwsSYOcyOoF09YljVyGJRwfuDNNWCF/a3mZLnl2SYDIvCHmzdPvXn6aM9pMzJyHsIi0YgQSQZdvAhJuvfee6NtYI1wJPqTzLRIuCZt7tXAzLZf71JACvRfARIT8feiKBOIFaVs2HrrDGL//u/GHDhgzMaNxhAU06NnEGEvUNG1IdKnnxrzr/9a9JlUfx4Fvv/emM8/N+bLL/MclausQCyXXPUpDAwABTZBBl4uwgdJ4uGaDQ8kzXqWyYSsncNNRfZCMnW18pzZ8wAgtCUJgsynSkvWQQIRwBDYc42wQuqizqz1tusjnjK8V0mPngUxNCOTJOdNe9Eu9OD7ZKgl3jz2HzlyxO2KtqWAFBgABfCk8/vvxPCy8Xez1cs+0Oqkfh3TOwXqCmKsVz5jhjEzZxpDAuZ77jHm6h8b88orvdO2yDMRLZNn/dOGtnz/fZRcbPtPf2rMj64y5pprjBn6gTEP/dq8vW1b23q7OndDQ/ShSQEA7Pe/H7suXJ/p0415//2mot3uEIh1q2AFj+fp67XXXhtl6rJwARzg0WFQYPcBUYTR4Tlr5QVLSgAAEXLHOTgeL1USPpLHcF43PJJzs7B0Wvr6t956Kxq8kGjENeaIcU5r7erN0keb9CPpySI0kT6iDZ4wYM19scA04Ynso/+AFgOuZBZKu45Z3smato96lwJSoLoKMMeVv1udGAMx/g61elF3p6DXSZt0TGcK1BHEcO7cOM2Yl19u1IRkxzDHe+817q/aJ/swlgfZWdc/dfvIMX+8ajh6GTsF46uvzGd/sdB8NjQUTQNJq7fbc7vt0LZHgZUrjbn1VmPc7OA7dhhz9dXBYUwg5tG/7rsefPDBKBQOwHDNLkJsvWQWdvhP3i5g7L63C6cBcvAEEapI6B3nJYzPZ/aPCh4u0uMDWIQ3uqGNnBuwIpQHWMRbxg28bt266Dx2wGHbz3na1Zu1j0AioMo8NDxb9MUHVW7ffHPECFXE8wh8oQ3z2dCGTJQyKSAFpEBoBQjtFoiFVjV8fXUEsTfeMOa2lJUZXnwx9pCFV7K7GgmdXLLEmF/MM4YlPz/8ML2+duuUph9pDOuN/vWfXRkBV3KZG+oF0Mzzz0dV+NZV7ebcrdql74wxX30Ve8J84YhbtxpzeYmkUFoJxEIpWZF6eILKf8q+5BB4dgAdQIH/FAh3oWzaK5m8Ik0C6mV+FHCVDCV0j2H+mXXx045kOn0LWhYASYdPWnkAiRsZ4MPblPTetao3ax+BSmDppptuivRh3Z+kh8ztC9tJEGMfXi8yLeLto82EcAKO1guZrEOfpYAUkALdKCAQ60a93h1bRxDDE/bYY34N33nHmJ/d5f+uL3svxQBGGOWWLcbs3WvMunWx5w5oTBrjEMZG7oNfyvBwNW1Kha2DMQogRUgiLzeyx9b7+t/+rTGLFttDGuq1ZTo592iF2khXgKWU7rjD/z2eS9y5AU0gFlBMVdVegSzzzNrXEpfAZd8K7LLWo3JSQApIgboqIBCrxpWtI4i9+qoxixb59SfKi/liZTE8Ycxju3ChsUVffBHPaTtxonG/nbLAQ2bXsqx/ygNgplD8aeS3EYi5HjFb77EVfx+T4eXK3XptmU7O7bZV2ykKvPtuHJbo+5o8CgIxnzLaN4gKCMQG8aqrz1JACuRRoPIgxjprhG4/8kg8ef7cuTzdr0zZOoLY6dN+iCFBIN4wPE9lMRKJkNXRZ4QoJue5tVseJ21efMN6o2++2RSaaOs9e/cvjdmwYbQ5NqkY9doyyakebpnRA7WRXwH+xpCcI5G8LqqIBB6OpzJ/5c1HyCPWrIn2VEQBgVhFLpSaKQUGUAFClPK8ipKosiBGpgcGPD/5iTHPPBNDGJ8nTzGmhhlm6whi3NPAFg6ENWvicD+yJeJ5whsGkJXFaA9eMZ+tWmXM0083ftMOhnzrnzIFgWkX7nqjo8k6LieFIFvihuFhY66/3phvvx09qYUs6u3k3KMVaSObAgAXf3vefDO+UYEz5uxxM7sJPLLV1rKUQCwhDxMoeWKhV/k1IHEGGR11rcp/rbhGX3/9deLXpo9SoL4KMKeU+avMIyEMadq0aS1fRSlRWRBj0HP3/OZ1lYhpY4BUplF8gItXVxBDGvKC4VUiAQaJMAhZNJcCiBawipGRZtiy1QNpUZvtDmNyrVNqD0tbbzRKX88An9T1P7oqArEje/bYw6J3uwwFv+c8a6Q2VKIP+RTgbw0p6/GO8SJJR2AIo0ECMeeykCo9LTGF9qcn7ZA20ibLPUB2SJkUGCQFWNaC+56Mr/2yyoLYLbcYw1wNnxW0no/vVL3aV2cQ65WG3ZwHWGR9s2SWRABsyhRjkhGxWdcpddvUbr1RQC1LvVnKuOfVdrkVEIg514dFi3lqKauGAgpNrMZ1opV2cnF1WqyWSoEwCtx5150CsU6kJATRN0eDungy/frrndRa2mMEYv2/NIQm4pjCc8ecMVLvsw7aRx/520aYYZ71T7OsN8qZstSbpYy/1dpbNgUEYs4VEYg5YlRgUyBWgYt0uYkCsepcK7U0rAKHDh2KHkSErTV7bZX1iLGYKvMzkkZIG6GJH3+c/KbSnwVi5bh8Z8/Gc8VI3ME6aExVTLN265RynLv+qa8e3zI3WerNUsZ3vtz7WEuLByLff5/7UB2QTQGBmKOTQMwRowKbArEKXKTLTRSIVedaqaX1UqCyIEbGONbyScaEsZ+wxZLNMer2rhGIdatgf45vtU4pLUquf5pspQ/EKNOu3qxlkufL/JmHIIQAX311/OCDOVJr19ZubmZmPQosKBBzxBWIOWJUYFMgVoGLdLmJArHqXCu1tF4KVBbEAC1S1hOi+OSTceZEkneQTe7TT+t1kYwxArHaXdLqdoi10YjRdMN/+c3xYITfoiyoAgIxR06BmCNGBTYFYhW4SJebKBCrzrVSS+ulQGVBzF6G99+Pn8SvXm3M9u0NKb1tkTq8C8TqcBVr0gceePBbSxphinjGvvoq+Y0+d6GAQMwRTyDmiFGBTYFYBS7S5SYKxKpzrdTSeilQeRCr1+VI7Y1ALFUafdFrBfCGnTrlPyteMTxmsmAKCMQcKQVijhgV2BSIVeAiXW6iQKw610otrZcCArFqXE+BWDWu00C0EhBLy1hKEp20ZSUGQpzwnRSIOZoKxBwxtCkFAiogEAsopqqSAjkUKDWIMe+EpABpT99z9LPqRQVivbuCX3xhzIsvxotMr1tnDJ9ljgKLFhvDgupJYzFjknd8+23yG33uQgGBmCOeQMwRQ5tSIKACArGAYqoqKZBDgVKCGKnnCXHiyTvvzDth8DfAQHbs2DEzNDRkZs6cqVeBGlxzzT+YoR9+Za6csMewzTuf2Zb28b13++zZ5rOhIbNheNiwPWvWLPN3t98+uk86hf2Njh8/3nxz/nyOv+rGjMtVukKFBWIVulhqaqUUEIhV6nKpsTVSoHQgxoR/AGzTprG1iXjCTjIO0mW3WripRtcl2RU8YpMnTzZHjhzRqyANdu36xEy4yhjeXZ35fPWPm/e7ZQZue88ec/buX8YesKEfmD9Nv82cWvdyg24Dp0lB9yUPYARil/8iCsSS/zXosxQIo4BALIyOqkUK5FWgdCD2zDPG/M1yfzd+/nNjduzwf1eRvXAkiwLnNYUm5lUsf/k1a4x5/HH/catWGcNr4I1lI2q2Rl/Zr6lCE50rJBBzxNCmFAiogEAsoJiqSgrkUKB0IEYIYhps4RXjVUH78ENjfnaXMVdcEb+mTDFm48bsg1qBWPEX/bHH4rlhvjNt2WLM0qW+b7RPChSrgEDM0Vcg5oihTSkQUAGBWEAxVZUUyKFA6UDsoV/HYYm+PrBY7Nq1vm9Kve+jj+Joy1deGYusBMxmzjQGL0wWE4hlUam7MlwLYMxnIyPyiPl00b7iFRCIORoLxBwxtCkFAiogEAsopqqSAjkUKBrECMUjA92MGSaaf3PjtBg+LlxIaSQLxRKCmAx/OnfOmMlTjDlyJOXA8u6+557L3q9EE0+fjjXJEqooEEuI53z89383Zu9eY8hwiJfx+HHnyxybJ06YaC7YJ580HpS2v7GUPkmBYhQQiDm6CsQcMbQpBQIqIBALKKaqkgI5FCgKxAAwlhO6bXbs+XnnHWMADzxBgAlhepcuJWnLGMOoGhC7e368MCyZEl9/3ZhbbjHmkUdy9Kw8RVstu4QOaNPOBGJ+hYAkIJ/7jPldhA+SWCOaz+W5vfy1jO3Fa8nx1GNT2POZ0ESZFOiHAgIxR3WBmCOGNqVAQAUEYgHFVFVSIIcCRYAYADZ1avwiCx1eMAbLhOhhABgA8uqrKQ2F4n7/+xi+WJeIFPbMG+tgYJ1yhp7ubgViAIRArLPLwX3EfQUwuXbmTHy/AVWdmF1HjDDFUOuIrVy50ixfnpKEJtHI3bt3Rynhh4eHzZ133WkOHz6cKGFMqDJNFWtH6RQQiDmXRCDmiKFNKRBQAYFYQDFVlRTIoUBoEGMQiweBUDG8Ek8/HTcG6AJIbBjeyy/HC+bmaGpliy5aZAz9TRpaAapEXbYzecSaFcK7CuT7jPsP2C+Dce0mTZqUCcT27dtnxo0bZ361eLHZvHmzmTNnjmEgfgLX32ULVcbWp/dyKyAQc66PQMwRQ5tSIKACArGAYqoqKZBDgdAg5iY8IMGBm4wCIIkyBZo41GtQstAx5wgIHU3WcSkO0cSbg8cliwnEmlXavTsOc23+xhi4hcyU/bR333038mixIC9wlcUjNm/evOiYixcvRk0/d+5ctH7cE088MdqVUGVGK9RGqRUQiDmXRyDmiKFNKRBQAYFYQDFVlRTIoUBoEAOubEgYXrBfzBtrDNABnGFLljSHlLE/S8hVXEP8L+UZ5CZfSziBY1nqzVLGqTLXptLX55IrU2FCYMk86TPCPQn7pAzzu4hsxQPZS+P/tfXr10evLB6xs2fPRvfxhg0bGpoJwLGYNxaqTMMJ9KHUCgjEnMsjEHPE0KYUCKiAQCygmKpKCuRQIDSI2Xk1NIGpXoSOEZ7INhDGNnN68FbYMEXb3CwhV7asfX/hhRfNxIkTRwe8duC7l9i0y5al3ixlbH3dvKNDllDE5DnkEUsqEt9T3EdvvNH4HfleCEtkniL3H/ck3lhCZl0PbeNRxX6aNm1aW4+Y/X/w4MGDDY3ZuHGjwauGlyxUmYYT6EOpFRCIOZdHIOaIoU0pEFAB+59LwCpVlRSQAhkUCA1iDIoZ/Nr09HghyJLIXCgWM+adQbIvxXiWkKtkl1asWBGFciX3u5+z1JuljFtnV9u7dhmzYEGcjOS++4zZt69tdQIxv0R4vAAsYAsPLHPx8JJxnzFH0c3M+fnn8b2Ztl64/wxh9mYBsf3790cesaNHjzacdMeOHdH+06dPm1BlGk6gD6VWQCDmXB6BmCOGNqVAQAUEYgHFVFVSIIcCoUGMUxOeyGCYAe9778Whingn2J8WHpYl5MrXrQULFpilVGyMoS9Jy1JvljLJejv+TAr+n/wkFuf9941h3bTrrzdm5cqWVQrEGuXB62WNZRHwtBKNumxZPO+O+82FMFuWeWVuuKzdX/R7CBA7depUWxDLWqbo/qr+cAoIxBwtBWKOGNqUAgEVEIgFFFNVSYEcChQBYqSZxzuBJwwg492JFPS2zv4NaBWW5TvwxhtvijLLMdBlnth1111nnnvuuSiMi/JZ6s1Sxnfu3PvwfE2fbsy33zYe+tVXbRerFojFktm5X9a7ClQlF2AuYxKPLCCGJ4x7+NChQw33B6GJ7Oe3GqpMwwn0odQKCMScyyMQc8TQphQIqIAdCAWsUlVJASmQQYFCQCzDeZNFsoRcJY9hzszQ0FA0R4wEB8wLI7EBg9ZVq1ZHxbPUm6VM8twdff6b5cY8/7z/UDxizzzj/84YIxCL4Z7sk3hamWfHHENCEQlNxPNqDVgjIyVARqgsHjNrrRJ82DJFvGcBsTNnzkT37qZNmxqaQMZEm6wjVJmGE+hDqRUQiDmXRyDmiKFNKRBQAYFYQDFVlRTIoUBVQIyQq6TRdjIdnjx5suGrZcuWRYD23XfflSuU66FfG7N1a0NbRz8AaE8+OfoxuZEVxAjZI3U7WRqTyVCSdYb+DPAAPng/XfgJcR7CDEnMQb+SRpZOG27I3ERCFPGYkTWR/YAaGTupA++sXdsuWU+Rn7OAGOefO3eumT9//mhYJffw1KlTjZu+PlSZIvurusMpIBBztBSIOWJoUwoEVEAgFlBMVSUFcihQFhDLEnKVtVs2AyJ1ZqnXltm16xPz0UdxNj7O5YaEZT13y3J4vPCK+WzRYmMSacvdYllA7MCBOBkFwIJHiIQVJLGwiVPc+oJuX4rhBuABfCz8kCXTncvVzTlbrQtG/wAvQAsIY8ogMEh7aAPp69GEeWO0rXA9PB1NAzGyfAJWrBeG2XuXJDR79uwxCxcuNMPDw+a4k90mVBlPM7WrhAoIxJyLIhBzxNCmFAiogEAsoJiqSgrkUKAsIJYl5CrZLbxkb7/99uh8MPu9Hah+/vnnJku977xzwQz/h+MRuFiAefxxYxgM25AwW3dX73j1iK17/fXGakjYMXmKMcwVS7F2IIanCPBw5+KdOROnbSd1e5GGtwnvk5uIBY8Y0EPmwhAGhwBSPmNJAECM8wOfFrT4zPnxgtEWYMyXwMNXZ+h9aSD2m4cfjsIRSRhjbefOnWbWrFkRgAFphw8ftl+NvocqM1qhNkqrgEDMuTQCMUcMbUqBgAoIxAKKqaqkQA4FygJiNDlLyJXbNft3w10zjO8JTbz22mtHB92t6iXRA2x0zTX/MBoSxgAeeLlywp6GkDD33B1vM0mJrIm33moMoYok7+D18cctq2wHYniCWJ8taUAJ/cOjVIhdiutPJszgXOgIHAJK3Rp1UJevH8AnSWGYJwYQ+gyHE5BWJaPN/QgxrZJGg9BWgZhzlQVijhjalAIBFbADqoBVqiopIAUyKFAmELOerFZhWclQLubTsKDz2rVrzbZt28yDDz4YeRhee+210d63qpd05yzy6ysz9MOvDOGKwQ2qAMjIOkEK+wzxe+1AjLXbfDBE24HKotbOwpHTCnDwQrF+VwgDNPFYuv0kHJNzAGPsT/OaAXAAaRUMTyb3JV4+riv64tVzohOr0A21MZACAjFHSIGYI4Y2pUBABQRiAcVUVVIghwJlAjGa3S7kKhnKRTKDlStXmptuuslMmDDB3D57dpQ9MSlBWr3Wk+I791/95b8YEkGUwdqBGIDiS2RB2wnLI4NgEWbDAm04oHsO+BKIACxC2caNsWcM4AKseB/t26X4MwlDksZcMeAmqH35ZUyZl8LVimbck7TVRiuiMeGfAGdILcO1WjUVqYBAzFFXIOaIoU0pEFABgVhAMVWVFMihQNlALEfTgxQllA2vis/wJLEeWhmsHYgxpw3YSJoNDwydxdA9D6BHGvmkoV1aqGCybK7Pl+KwR1+fSF1PCCNeTraBMpJ3AGy+8rnOawsfPBiHl/7oqpgGr746PRumPSbjuw2zZC2+pNEP+iUbLAUEYs71Fog5YmhTCgRUQCAWUExVJQVyKDAoIIbHBo8R0OWGypHMgcyCScPzwIDeLZssg6cCAAE28Fb87K7L4OYZRCePzfu5FYjhRcFThPcJzxjeE7wpDOoJbeNzkUZIIN4pYJB5WryAQvRL89IV2R7CEIEWrgvXhGt8OSlh96d98824s27CFeb3Mc8vbY24HGcltX5aghPCS4tOvJKjqSraIwUEYo7QAjFHDG1KgYAKCMQCiqmqpEAOBQYBxAASQAkoYWAOIDCgBVYALr4DxpiDw4Cd8gBN2oAYecm+hyeIF14XjiVEzoaV5bgEmYqSvpw05iQicV8PPfT/RRkfyfp48807o23mFvGy+9zyRW3TDnt+e172FXW+ftX72dCQ2f7Tnzb1i5BZM/SDpv1524mGvHzHsX/mf/rf3u985bWv8bdSVT3Gjx9vvjl/PtPfCVtonN2o27tArG5XVP0piwICsbJcCbVj0BSoO4jhkcFbQ5iaNbxjzMEBojBgDBADyAAYYCpKbtHCs8X3QF0yzwZ1U09oTxAgNmnSJLNp06aGFwPz+fMPN+yjDPv4Llm+qM+sufb6327Y+5IAACAASURBVP5t9PrDSy/17LxF9SetXmBrw4YN3v6d+/MpUf/Tjs2y/7e/3WtIEoOeyfJczyVL/qlpf7KcPjf+Rqqux9DQkEDM/vEWiFkl9C4FwiogEAurp2qTAlkVqDuIpaV1B6CYN8QCzp0YoW++eVHURVhe6Lk8vtBE+pCWDMOmaw8WktdKJNZBg3ZJyX/3fGOYM0Vq/p6cvFXDCviOeWFp672xLEGbZQiytIh7FsgnxJPwV7yt7OMBgS8pSpY6Vaa6Cig00bl2AjFHDG1KgYAKCMQCiqmqpEAOBeoOYq2yCTK47TQZR6tjgbCGsEay6+FC27TJGOYYff99jisUF/WBWC9Tx6c2eN++eDHqI0fGigBgCLRo8di+umwBmlu3Nvfm2LEYQCGnLs3O+SOUFg8tDwyYOxaca7lmGzbEc9u4L1t4gLvskg7vQgGBmCOeQMwRQ5tSIKACArGAYqoqKZBDgbqDGAkb3LBEVxrWZhpNfe5+kWEb2EpLh07I4yjgAV94iBYsGFvA+ZZbjPn00wxnGSviAzHrEfNlA2TQjrescA8KYBLFcY61Ndr69tu4362ynSQOqcRH1n3jegIwiAx4kbjj+utj0K5CJ7hxHnkkBmje/2Z5nGzkjjuM4aGBbEwBHprg5eQeB1y5r3tsAjFHcIGYI4Y2pUBABQRiAcVUVVIghwJ1BzE8U4QRJg0+IGmHD2KSZX2fOY5ovFHgMvF8MTIU4sGIAAgvAwN0F7rwOpBdjyx7DIgzmg/EOBQYpH9uVSQSIYMhTqnCbXKLFZuBNDxmdTMG5vSNMEVegLWbRbHs/X3mmbj9rosN4HjyyfiBQdnb36v28bsFTgk5ve+++DqzzWLsPTSBmCO2QMwRQ5tSIKACArGAYqoqKZBDgbqDGOF7hHgBJSTQYF0t4ImEGi++mEMoT1HqI/QR8GJOD3XyTvr0yAjN84Wx8SWDd0Ato6WBGP3DA0c7CF/DU8dcItrRk8V/W82LYs4Ya27JyqUADwd8c9nw7gGW8orFni+etADcq1fHoM1DFICb/T309ArEnJ+PQMwRQ5tSIKACArGAYqoqKZBDgbqDGFLw4B/PGIACNAEuaYs455AuKor3iXW0qI+kCg0GbBHK5jOSWaRBmqd8GojZoqTcB8R4sd2z+T6EtfFKGmFchPD1IZQr2RR9Tigw9IM4pDKxO/rY6p71la/jPv5g4LEGSleujEEMXfCOkajF7utR3wVijtACMUcMbUqBgAoIxAKKqaqkQA4FBgHEcsgRtihP09NC1pgztmtX5vO1A7HMFYUuiPcErxhgCXSStIL5U3gNfHPHQp9f9eVXIM2jg8cn7bv8Z6nuETxYALzwhFkjdJP9uNa5rwlV7JEJxByhBWKOGNqUAgEVEIgFFFNVSYEcCgjEcoiVtyhAAoy5E7iog7AwvEVpadA95yktiNFWPAh4CRi82vk0vtA3T7+0qw8KABSAczJLIvcr4aSDbPxW8YQxjy7p6eU+5zt0Qr8emUDMEVog5oihTSkQUAGBWEAxVZUUyKGAQCyHWHmLMqjD80VIE2ttkbiCAR4QltNbVGoQy6uLyvdXAYCCe5IXWT0JkcXTw9wxPJqDbDwcAbbQAe9g8mEJyWl44MDvuUcmEHOEFog5YmhTCgRUQCAWUExVJQVyKCAQyyFWJ0UJaWKgS+IOvGM8Ze9gsNsEYgwQk562TtqnY/wKMLeNhAxJr5G/dPX22vsSzw4QtnZt7NmsXk/Ctth6xPh94eUFTvn98pvl4Qnz6/gdo1+PTCDmCC0Qc8TQphQIqIBALKCYqkoK5FCgdCDGAAivEeDCGkc8ee7hoCeHdD0tCohNJdMI81Z4Ys+LQSE69TCDW0873Y+TkbIcLyba4hHBewmkKOlIP65Gf84JnNqwRLzY3A+E3AJlhG72+O+RQMy5DQRijhjalAIBFRCIBRRTVUmBHAqUCsRYn4fBLwBGIgueRNsQKsKpBthOnDhh/njVcJwkwIIXmgBmDBCTIVQDrFXHXUdX7j/WebPgBZjhAcFrJBsMBUhAA3Dxt4d7gdfPfx5nUjx1qucaCMQcyQVijhjalAIBFRCIBRRTVUmBHAqUBsR4ysxT52QmQULDGAQTJjTAduof/9F8NjTkTzvOE3y8NrLuFGBBY999BpQxN6iDkNLuGqSj+6YAIYp447kn8I6x3adQYIGYcxcIxBwxtCkFAiogEAsopqqSAjkUKA2IkWUPEPNZq+985Wu4708jvzUbhof9PQNeCZ+SdacAHpC0BaiBXTy0MinQYwUEYo7gAjFHDG1KgYAKCMQCiqmqpEAOBUoDYm++GYf/+NpOqBBzdQbY+gZihGIBIHjcSFZgQ/bqeC1agRheWYFYHa966fskEHMukUDMEUObUiCgAgKxgGKqKimQQ4HSgBhzcQj/8oX/4KUY8PWNRkMTffowp44EJ6EN8ACAgRBCtJgng9fyyJHQZypHfYQl0s+kMRePuWMKTUwqo889UEAg5ogsEHPE0KYUCKiAQCygmKpKCuRQoDQgRpsZ6DMYdrOS2YnzrHc0wEbWxChZBxqR1AQgKzJZB+fwzYtirgz765g8Be8ffSMBiu0f0ImnDNiVSYE+KCAQc0QXiDliaFMKBFRAIBZQTFVVeQXOnDljjhw5Yr45f77wvpQKxBgIAxosmMoEeQa/eCIYGNd1Pac2V/jSpUtxOCBeKVKq46Hi3b6KSl+P9r//vb91ZBFMJlXxl6zeXu5B5oPZJQLISLlhg99TW73eqcUVVEAg5lw0gZgjhjalQEAFBGIBxVRVlVFgx44dZv78+WbOnDlm8+bNUbufffZZM378eDNu3LjofeXKlebixYuF9alUIEYvAS7W7iFlNANghYNFa4WdvfuXZtq0aWP3AfO1gDISmRRhADHXwWeE73F96mx4Za1XrM79VN9Kr4BAzLlEAjFHDG1KgYAKCMQCiqmqKqHA9u3bI9i6ffZss3Dhwgi6li5davhPd926debAgQNm1arVUZkNAElBVjoQK6ifla0WEJ08xRw/ftzccMMNjd0AhvDeFGGtklPghVPiiiJUV51SoEkBgZgjiUDMEUObUiCgAgKxgGKqqkoocPOMmw3gFYWeGRLS7Yiga21iPahHH33UULYo6wrE/vVfjWHuFjDAwB0wkBch7KXC87VosWGOWBOI4Q2bPj3s+WxtnJcQ0eT1BAwJF2XunkwKSIHCFRCIORILxBwxtCkFAiogEAsopqqqhAL854pXzNrZs2cjEDuYWMeIMpQtyjoGsa++igfqzBcCxvCQAGO+BA9FNX4Q6r28RpgXxEioUWQ2SeaJkSWRuWKvvx7P1SMc0rlvB+ESqI9SoJ8KCMQc9QVijhjalAIBFRCIBRRTVVVCgalTpxrmf1kDwJgXtnHjRrsreic88cYbb2rYF/JDxyDGIN2X6hsoI8ucLIwCl9dQ+7//8381e8RIaOLcQ2FOmKiF9d04D+GInItlBmRSQAr0TAGBmCO1QMwRQ5tSIKACArGAYqqqSijAPDCScixbtiyaCzZp0iQza9Ysw/vevXvN6dOnzWuvvWYmTJhgnnrqqcL61DGI4Rkhw1zSSKue9l2yrD5nU4Bw1euvN3/9Z1fGmhMeCByR0U8hgtk0VCkpUFEFBGLOhROIOWJoUwoEVEAgFlBMVVUJBQAgMiROnjw5gq+RkZEoO+L9998fecbwjvG69957zYULFwrrU0cgBmyRPj0tpTzzlorK5leYEuWu+NS6l+N1xIBcAAwQE4SV+6KpdVIggAICMUdEgZgjhjalQEAFBGIBxVRVlVaA5B2EKW7bti1aS8wm8yiqUx2BGI1JmwtGcgfWYGIOmSyYAidPnmwOTQxWuyqqnAKk1yebKg89+L3xTrIcHpLIaqWAQMy5nAIxRwxtSoGACgjEAoqpqmqlwLlz5wyJPIqyjkHsmWeMIVGHm1WPQaCdT1RUgwe0Xm+yjgHVQt02cWIc5mKSsIUQYebv4S0Fyu67z5hE0h9pVl0FBGLOtROIOWJoUwoEVEAgFlBMVVUrBebOnRuFKHbSKbwopMVv9WIeGiGQrcr4vuO4z/5ioTn351Oid7v9p+m3RXPbfMdUdR993bTpj9GrX334w0svRWGsndwHOqZmCpBAhWyW335rDEtIsPi2XYCbJQfs/EEelsgqr4BAzLmEAjFHDG1KgYAKCMQCiqmqaqXA+vXrzW8efrijPpH6/leLF7d82Tlp7cqlff93t99utv/0p9GL7bRyVd1/8807zdAPv2p43XLLSM/7uWDBAjNx4sSO7gMdVDMFVq+OlxKgW2QpxTNt52uy1AAZTS9n21SWy+pfe4GYcw0FYo4Y2pQCARUQiAUUU1VJgRwKdByamOMcVS26bp0xM2YY88knYz04cMCYKVOM2bt3bF8vthSa2AuVK3IOwhDtwu+EIbL4tjXW82OBdYx35pHJKq2AQMy5fAIxRwxtSoGACgjEAoqpqiqpwMWLF6OU9adOnTLAUa+sLiC2e7cxP7srhqTbZhvz8svGdJPohIivq39szIkTzVcCCOMcvTSBWC/VLvm5WFAbLxjG+759Yw0GvkjagbHOn90eK6EtVwEglrBOMpGyODp68eMvkQnEnIshEHPE0KYUCKiAQCygmKqqMgqcOHHCPPHEE9HcH9YUsynreSetPd8dP3680P7UAcRGRoy5cZoxwBhyvfFGDGX33NM5jOEFo06fMU674oruE9SxKsHTT8dtnTrVmEWLjHnvPd8ZjRGI+XWJ9pIkZteu2EtEqF7dF51mbhhzxJgDxnwwQhXRgLBEspnajKWAhQtpLSQcyK8AVbJNcu+wNh9z7xYsiBekLxGMCcScu1Mg5oihTSkQUAGBWEAxVVUlFPjggw/M0NBQBFzLly83GzduHE2YwTYQdsMNN5jh4WFz+PDhwvpUdRD78MPYC5ZMLMm4FK/Vq692Jh1ABxz5DIACxEbn5fgKtdlHewl7BL5IfMf5tmwx5pprjNm4sfngPCCGJ5C6Zs40ZsJVMVCuWtWY4LL5DCXbA0wAGQyUyQZok1Ekmwl0UYYMggys8QhRvu6JKj7/PIYGsiSyph/vaIQeQAT9Rxd+CLJmBVjnEGh1s75Sirl2eBkB+pKYQMy5EAIxRwxtSoGACgjEAoqpqiqhwJ133WnmzJljvjl/PrW93333nVm4cKEhc2JRVnUQYx7X44/71QFoli71f9duL+NXoOijj5pLAneEQXZjgJGvbYRCEhKZBMs8IEa9QOg77xgDNOLdW7IkBr8C1wbvRo7GY0k0gceHpBN4KkjPjteC8DE31I61tICN5Dwojme/O3eq8Qz1+YQ2aII29BmPDjcu78CazK8A3kNA32eEfi5a7PumL/sEYo7sAjFHDG1KgYAKCMQCiqmqKqEAnq7Nmze3beuePXsir1jbgh0WqDqIATSE9/mMcTgep04N4CIxByGPPDgHjqzXKi2EMOu5LCj5yv9iXnxO97usIGY9hD7gIlSTuXOlNzxbvkEyYIG3y4bevf9+DB++DnHxgZFBMbxg6GHD7KrSb35YtJuwQAC6V0ayE5Ke+Oz110t17wjEnIskEHPE0KYUCKiAQCygmKqqEgrMnDkzSoFOko40I8SMsMXbZxeXGaLqIAYsAS4+e+yxdEjzlfftY74ZIX6EIhLmx7l8XjLfsa32EZaYVg/wmAypzApiL75oDP32GXV2A6a+OgvZx1pYDM59BlwBG1grzwWeNLxqsjAKELIXGpTwZALWhJUSDsg2AM4cuKIN2OK8PuNBAPPuSmICMedCCMQcMbQpBQIqIBALKKaqqoQCu3fvjpJzEKK4YcMGc/DgQXP06NHoxfamTZvM/PnzozI7d+4srE9VBzE8P8zlIkTRnQ4DdBCh9cUXhUnXVcUAkW8uGH3AC5eEtKwghg4kL/EZnj28YqU3QuyYw+MzQsZsyCFelLTBNEkqmDMl604BPFbAEXPQ7AtQSc6tynsWIBpQBpit4ekkHT8hqUUbHkSAn7l07h8OIJ8/HCUK6xSIOTeDQMwRQ5tSIKACArGAYqqqyiiwb98+M2/evIZsiW7mROaGUaZIqzqIoQ3zqmzqekCDbId4nAjTK6uRoIPxHu/WgEq8WT4PX1YQsx48XyKREB5C29ZC35nQxhyepDF4JsGCHbzjOeEzQOYaA2sgzFeHW07brRVAbzIvkgDFesOYk8b1AYBdgGldU/O3QFDyulEKGAP4bPhp85Hh9tAXPHH8ELlfAENe7o8y3Nk6rkkg5kgnEHPE0KYUCKiAQCygmKqqcgqcPXvW8BvYv39/9MIzdubMmZ70ow4gZoUiKQVeHwCsmzGira/od9qK94vQRwCSJB2McX2XPiuIEc7K/LNly8acFuxjbhjjzdOni+5VgPqPHIkb6z6EYGCOOHhMXGMwb0Pa8LIAXwzyKQdIyDpXAD19XkXCFAEx65lsdwauHdfU9aIBW+5ntw7gLy001S0XaptMk9xHeGFL+IdDIOZcaIGYI4Y2pUBABQRiAcVUVVIghwKdghjemzVrYu8NIEGmPkBIlk8BdOQBPFDWKhoqK4hxdkCO68GcNjyDAB4ew0pdHwbGeCfIBsign4E7IXK+wTueDeb0AGqEtdk5ZPkuhUonFUDvNK8imRoJUWxlAA4gBygTbso15BrhXWMf181nyZBFXxlgkKyZA2ACMeciC8QcMbQpBQIqIBALKKaqkgI5FOgExBjoE/7HPKcDB+L5TMxNYsCfTDKRoykq2kKBPCBmq+E6MdesFeDZsqV8xztBGOLBg70JVSulCH1sVDcgBmwRNgqwWc8knjFAGY8XQOZb6w0A57g0yOKpBXAH1PEC0jmmxiYQcy6uQMwRQ5tSIKACArGAYqoqKZBDgU5AjHW7fJn5CAkk/A0vjyysAp2AWNgWqLaBU2Dr1ngOla/jwBChi2kGZPmSbuDJAsSoG+AC9ghDJCwQaMNT5oakuvWznz8wnBfPKHMECY9kX9YwSbe+imwLxJwLJRBzxNCmFAiogEAsoJiqSgrkUKATEMMblszqZ0/Zan0sW6af7yT2IESPeVNVMoFYla5WTdoK6BBSCCzZ5Bl4uqxXy3q6fN1ljl4aHBFGCqhRJ+GNgBnnISmITcTiq5O5f6SdTxoeU0JYa2oCMefCCsQcMbQpBQIqIBALKKaqkgI5FOgExEgwkRbuRtKJvXtzNKBHRe2Dc1LdA5LMn4oWN64IjwnEenSj6DSNCthwQsIA8Tzx7oJZY+mxT4QepnnMgC8WVM5jQOHQD9KTabSac5bnPCUsKxBzLopAzBFDm1IgoAICsYBiqiopkEOBTkCM9Oq+h908IGeshtepTEZbAbB33hlrFR49Elkwt60KJhCrwlWqcRt5YGG9Ylm6yWLNLL6dNIAK71XerIiEIgJivgcnJP0AxNLWnku2oWKfBWLOBROIOWJoUwoEVEAgFlBMVSUFcijQCYjh8UouOsy8MDL1lXHBYDxgLoRZeY4fjxOMlDBjtW3i6LtAbFQKbVRBAYCLUEI8YwASnwkhJLkG+zoxwhfdxBw2KyNeOiCNd+AvzV3fyTlLcIxAzLkIAjFHDG1KgYAKCMQCiqmqpEAOBToBMap/5ZXY+0VadOALTxjjq7Nnc5y8B0Xx0l1xRfqcMDxlAFnZTSBW9iuk9jUpgBeL+WB4wAAlQGrTpvTwwqYKEjtYlsAu4E3d1EuYJO8k/+DHztwz0t8DfjUxgZhzIQVijhjalAIBFRCIBRRTVUmBHAp0CmKcgvTob7wRr4FV1jWq8HYBYmmZHAHIKjxArz2IkQSCC5GWtjzHPa2iNVaAZB2AlvWCAWHJOGm8YoBZTUwg5lxIgZgjhjalQEAFBGIBxVRVUiCHAt2AWI7T9LUoXjs8eEkjXBGPGBkUWf+MhalZC419IyPl8u7VFsQINcNTwsDaJoMgjbmALHm7Nn9mzlYV4mqbW979HjIscp/4jP3tFpv2HVfSfQIx58IIxBwxtCkFAiogEAsopqqSAjkUGAQQe++9GLBefNGYL76IPXlbtsT7du82hnXRSNyBdw/PGaGKy5bFQFaWUMtaghiL8wJfbkpy5v0wj4iQNlmzAoTcEX5HcgrrFSJVfBXcus296XwPIYlpIIY+K1d2XnfJjhSIORdEIOaIoU0pEFABgVhAMVWVFMihwCCAGHIAV4sWxWnrSV1P5kcAjQyPsIAPuJjztmZNDjELLFpJEGMeD2CVtt4UIWS+FOdkwQMyOF7WqMCixXFCCnTF0IhU8MydQjdraE6ZPJkO7bH9fCcrIkk9mEtGyKHbJ7ddzBdj/bGkR5B+J5N6uMdVcFsg5lw0gZgjhjalQEAFBGIBxVRVUiCHAoMCYmmS4BlLS+JGdkiArQxWKRDDO3P3/DhBA4BAogZCxZJghVeHuWE+wyuGx0w2psCRIzFw+cAWDxFeIDxmaI3mVnu0rEJqd+4bd3FnPH3cI7///ZgGdovQVUCeF6nwuY+4X37+c2OA1RqZQMy5mAIxRwxtSoGACgjEAoqpqqRADgUGHcQ2bozDEH2SHThgDPPLymCVATEGxLgY8dJYbwX7GBwDZ65RLs3jQerzvGtNuXVXfdtq5/YDL9Ejj7h7xraZa2chBICxgAuwcBxAU+bwRTxhXHPCCt21wvDqkZBj376xvtotoJP7DA8Y/eOdcEUfqNpjKvguEHMumkDMEUObUiCgAgKxgGKqKimQQ4FegxihgMzFYkHlMoyXCE8kOYdv3LtqVTx/LIechRWtDIgxtwvvTNIQmGx3rpcLOPN5Oxh8M7CuUQrypBzez8AT7ln6jkcLvdzQTYCKJBU+A8TwJuEF8/2w8JaVOYEF0E1/XQiz/UQD4HJATSDmXHiBmCOGNqVAQAUEYgHFVFVSIIcCvQIxkmTY9cbwMrHIMgCE16nfRvhhwxpol8bWSQMcy2CVATFCxdzkG654yQQLx47F0AGMASGAF54PBuQbNrhHdrdNvYTmcT4fpHRXe5ij8QwCUQAT27SZuVJ4eWziEvpAGR+goi3ap4GaXUw5TGvD1wJspYUU0m90GFATiDkXXiDmiKFNKRBQAYFYQDFVlRTIoUAvQAxnCKnh8TC542DmYJEuvtsFlZl6RN3AHYk4OBchhz4vl08ajidLIseSPZGIOerAa1cW84IYYuIlYQDLIJywrOQ8rF53gHaQSMFnwELSAwYccYzNAEh4WnJdKF9dWfbhXUETPEzAHSFuXNwyrjGFt8qX6Q9Apf02hBPQIgQR3TCuN6AGoKFt2oRHPGbMFSurAeD0y2dlb7uvzQH3CcQcMQVijhjalAIBFRCIBRRTVUmBHAr0AsTwegE2Pus2/A8WoW7Gn4DT6dOxl+222elzv3ztYB8LVFNHNJXGFyKVdmAP9jeBGAN0vATMuwJcgB9EYEBuB+k9aFfTKZiz4/PK4MUBhEg40SsDwgA7m2GQ8+JdSYb89ao9rc7Tak6cC7c8XbBwaeEVEAfU6Ceg6YNxINgHeq3a1MvvaDNtT94fzHEjLJE+D6gJxJwLLxBzxNCmFAiogEAsoJiqSgrkUKAXIMb6XY895m8U88W6yUyI54uQx+TcEsZ1U6aUy6vlVyDb3iYQA3Z8A2s8ZMwV6pchPKCDhwc4AGiBH7wdPkArqp0AC54kF8LsuZinRhvLZEA1OvkM0PJ5CX0LOgNceL6Yc8VTCq4B9wkQXPZU9jxM4JqRsIPwVsIV6Qv3ji8c06dVDfcJxJyLKhBzxNCmFAiogEAsoJiqSgrkUKAXIAYsLV3qbxTjywik/F+33cvaYK++6i8G/AGBdbAmEMMb4htY40FwQ9n60Xm8dWT3ox20EwjAo+HGpRbdLtyaeAd9BhySDMPnOfKV78U+INXn9QFA8BT5gNLXLgCU+XWAJn3kGlC3DW30HVOmffQTmMTTC4ASRpo1xrhM/QjYFoGYI6ZAzBFDm1IgoAICsYBiqiopkEOBXoAYCS+YC0boX4NdiiHs5Zcb9ub6AMTt3u0/ZGSkPAsy+1uYfW8DiAE0DLLTjEF4P8MT09rVy/2ABxDiM6tfL8HQ1w53H9cL4MILZMNi6QNhib30JLpt0nYpFBCIOZdBIOaIoU0pEFABgVhAMVWVFMihQC9AjObYZBp4wEjOwbwxIIq5XN2Mh1vNMaNuEoLUwRpAjA6lzQXDy4MXqkzenn5dAICURA9JsyFvyf39/sz8KMJKAUjaznUkEUc3P5B+90nn71oBgZgjoUDMEUObUiCgAgKxgGKqKimQQ4FegRhNwnPFfDDS1gNJa9YYc+FCjsZ6ipKcA0fCli1j88SoE28YSTzqEtXUBGLMoyF8yw1PJIwN74k8KPGdQiY+bg7mzRGqyIvMguwr82LRXFPaWpeb1/O7rewuHnBw7wD4PQr3FIg5d4tAzBFDm1IgoAICsYBiqiopkEOBXoJYjmblKkqmQ8CO8EfSz5OGnrljQFpdrAnEGKQzlwaoALyYk4WXjHk18oaNXXa8TIT3oRP6kIFv0MM2x9TRVh4FmK/GfUSGS5KI4LnkN1hwIhGBmHORBGKOGNqUAgEVEIgFFFNVSYEcCtQBxGx3cSJ8+KFnLpotUOH3JhCzfSG5AR4fEjQkU3/bMnrvmwK7d+82s2bNMsPDw+bOu+40hw8fztyWlStXmuXLlzeVv3jxolm3bp25ffZsM2HCBDN16lSzfv16w2/Z2tdff21WrFhhrrvuOsNA/uYZN5tt27bZrzt/Z/4aIIu3kXc7n63zGqtxJBkdSTrjZrbEcwnY8xCkQBOIOeIKxBwxtCkFAiogEAsopqqSAjkUqBOI5eh25YqmgljlejI4Dd63b58ZN26c+dXixWbz5s1mzpw5ERSdIHtNG+N6T5o0yQtiTz31VFTv0qVLzfbt2yPg4jyrVq0erXXJkiVmaGjIUPa1114zDzzwQHTMzp07R8vk3gC8aKE51QAAIABJREFUmMOGZ5GU8oAJnwfBw4gHzLdQOTCWlsE0t8D+AwRiji4CMUcMbUqBgAoIxAKKqaqkQA4FBGI5xOpjUYFYH8Xv8NTz5s2LvGB4sLBz586ZyZMnmyeeeCK1xnfffTc6Zvz48RE4JT1i3333XeRdA8JcGxkZMRzD92fPno2O/cNLL40WuXTpkpk+fbpZuHDh6L5cGwAHAIbn1XrBeOcz+/m+zkYYYlofgbSDB7P1njXsCCUGYG16fqtnSg0CMUcYgZgjhjalQEAFBGIBxVRVUiCHAgKxHGL1sahArI/id3BqC0MbABXHACtgLM34v5AwQ14+jxj3Ad4vvFyu7dmzJ9p/7Ngxg8dtwYIFhrpcmzt3brTf3Zd5m34ADj5bsiQGMt93ddkHbBL77DMW484SFkyiGOohlJiEH3jYADLCG1skZhGIOaILxBwxtCkFAiogEAsopqqSAjkUEIjlEKuPRQVifRS/g1Pb/9MOJjwlGzdujDxX1kvWqupp06Y1hSZeuHDBAFvfnD/fcCjzyfCIAYCu4SEDzLZu3RqFKhLK2JGRlAKQ8BmQVvA8Kd9pe7oPLxaZSpMGgJHAo90SA0AcXrVkpkUADI8aiUBSTCDmCCMQc8TQphQIqID9TytglapKCkiBDAoIxDKIVIIiArESXIQcTdi/f3/koTp69GjDUTt27Ij2n86Q0tMHYg2VXf4AXAFhjz76aNPXeNbwoPH6zcMPmywA2FQJO5580pi1a71fRfv5vs4GSOHNop94s5gXB4ACYb65Y0kt8IKlLSsBHKd5G42J5hUmwTtZffLzuOSOunwWiNXlSqofZVNAIFa2K6L2DIoCArFqXGmBWDWuk21lOxA7lfSM2AOd93YgRh0kAgGyeMf7lTTKHDhwwKxduzYa0CfnnCXLp34mSyIheEnPD5/Zz/d1ty+/jNPVk76eBbcJKcwSkoguzz8fQ5xPI7RjTcAUk0fMEUYg5oihTSkQUAGBWEAxVZUUyKGAQCyHWH0sKhDro/gdnBpPGIB06NChhqMJTWQ/v7t21grE8KxNnDgxSk9PJsS9e+O181jEnClb5IRIGhkU8Zzl9a6M1oPXhjA6wAGQ5J3PLbw5o8cO+gZeMzJN+oyQR0I/U0wg5ggjEHPE0KYUCKiAQCygmKpKCuRQQCCWQ6w+FhWI9VH8Dk595syZCLg2EZLmGBkTWyXrcIqaNBCz4Y2MSZkzRgLFG6cZs2VLDGBLlvyTGfrhV2bVKrc2E6W6BwJpW0f2/fdxogngi9T1vNM/9staK4DnEC8a8+xcvSBmwhtbLAEgEHOkFYg5YmhTCgRUQCAWUExVJQVyKFBFEDt3zpgLF3J0sgZFCwcxFoZmkLh6dTznJRmCVgMNe90FshTOnz/fkDoeI3SQxZdbpa932+gDMeogmyLp66kXTxgQ5v4e3nrrLTN+/BRz9Y+NcRMnMkeMY2V9UsCuwwaQ4bYEZJl39vrrLRskEHPkEYg5YmhTCgRUQCAWUExVJQVyKFAlENu9Ox50XnGFMbxmzDDmjTdydLbCRQsFMeCLjG5kvmObASKDxY8/rrBi/W+6XdB5xYoVhvTyrOE1PDxsjh8/Pto4kmkAbKwxljQfiAFZeLWWLVsWpbif+Z/+t5k///BoynuyJpKQY+bMmeaaa/4h+o5kHkAYxyXT6SfPqc8FKwCTk+yDLImEdnque7IFAjFHEYGYI4Y2pUBABQRiAcVUVVIghwJVAbFXXzVm6lRjDhyIl9wh6zNgNmWKibwCObpcyaKFgdiOHXGyBRIRuEbIGTDWYn0jt7i2/Qowf2vWrFkRgAFchw8fbihoASmZdp5CPhAj1BGgsq8rJ+wxEybcM/r55MmTUf1kZbz55p0RjDGQB8xYe8x65xoaoQ+lVkAg5lwegZgjhjalQEAFBGIBxVRVUiCHApUAsUsxcH34YXPHCM0iQUHdrTAQW7DAGGDMZ2SHS6yD5SumfT1UwCbIwIN5/fXms79YaEYe+T/eBixaFM8b836pnZVRQCDmXCqBmCOGNqVAQAUEYgHFVFVSIIcCVQCxL76I57P7uoXDhjBFd46Mr1zV93lBjLAmMq7demucPIEU2AzU8xipx9NCEJnH0ukCwHnaoLLZFGDdKpJkAM5kLfz0U/Onkd+aU0P/rzn4+ucNdeBBXjn83+NsfGTk4zrKu9mgUVU+CMScKyUQc8TQphQIqIBALKCYqkoK5FBAIJZDrD4WbQIxIAyPFanD8VqRCIDBNgP1tIV3fe0npXYavLX6zldX3fd99VWclhC92e6lcb3xgrGwsDXmG33/vTm24u/NP/7H/2p+Mc9EGRT/6i//JYKzP02/LV6/ijWsuJYAezIE1dal99IqIBBzLo1AzBFDm1IgoAICsYBiqiopkEOBKoCYUWiiaQIxYAuPVdIYqP/oqjitOJkQ2xleFpJzfPttY8k334zdkMn9jaUG5xMZJQEhYIYX21wDNxV5kWpwPbhOSQPGgPDrr4/mT5LC/uzdvzRm5cpkydg79tCvm/drT6kVEIg5l0cg5oihTSkQUAGBWEAxVZUUyKFAJUDMGEOoFYk5ksk6WIKHeWJ1tyYQ83mr8GzhEQPE8JYhzn33xWFsaQIRrgbQcRyeE7xqZE/kWAb/sjitP3q6az0BvAAZoaG9MK4toac+oy2kQccAZ66/LxsfXjy+6/fSBLT3ySdjsGSOIpDb7zb5dA21j2vCAw9+VwBymgc65XwCMUcYgZgjhjalQEAFBGIBxVRVUiCHAlUBMbqk9PU3jF1ZvCMsBmuNeV54aRjkMeAj6yEDQAZ+QEQ7zw3QxeAYKAPIeh16Z/tRxncg9ciR5pYBFGieZe4VnisgF/DgegDIbdaPajghc8I4lw+wSIVOfRjlLJQ1VHD5A3X0MzyR+5M2cF9yz+3aFWvCXMU63nOXvZXR9QE48aLadcSy3DfGGIGYcyMLxBwxtCkFAiogEAsopqqSAjkUqBKI2W6RmKPuyTlsX+17k0cM2HLngtnPABcDPQtpAAADf3m3rJT53gEfvEhpBvQAZO0MwOU6kGiDdaSAMq4T8JvVuMaAnAtSXFe8l9SJtfKIcRx9yQgAWZuVuRznRS/fvUjf8miR+aR9LMhvD8DkoYhrXCO8m+7v1/0+sS0QcwQRiDliaFMKBFRAIBZQTFUlBXIoUEUQy9G92hRtAjHrAbODWhuqaEO+GARaI2seT+PbGV4fBoeE29l62x1T9+8JmRv6QfMcOvoN9GbxMOH5AsIYgLsG5OFtsxDlfufbpi1cX2CKAT5Qw/HJUDfmgXHNXS8o28AOr34Z/aTdPuN+BkzrZK361EqLhAYCMUcQgZgjhjalQEAFBGIBxVRVUiCHAgKxHGJ1U/SS6Wox3SYQoy0MwBmIM4AFCBigE6LmekwohzeG8LU0Y4DP4J2BPQN4wsYYMBP+mKwrrY5W+xmQcn68QO48q1bHlOk7INenH2F1AFY7awXCaJ13nhkAh6YkY/F5twjx49rRNurmxTb96Gf4H3BPG3zGfcY9XCcL1F+BmHNTCMQcMbQpBQIqIBALKKaqkgI5FBCI5RCrg6IffWTMPfcYM+Gq+MU2+/KaF8SoBIjCk8Vgn0Gu6wnjezu3qFX4HAN1Qt7c+UcM8PG+2LlHeRtMeeojvT6AhycG2COMjm3aXRUDemg3OgGSABCeQ8DBhoC26gv99oEcx1BPESF53Ad44iyIJb1mrdpb1Hfcg+jou/a0z5cVsqi29KJeOz/Mdy7umywQrzlijeoJxBr10CcpEEoBgVgoJVWPFMingEAsn155SpPh8eofG/Pyy8acPh2/2GbfG2/kqck0p69PHk7YGwNZgCrvumKAks9TZecbdeoVA7jwxrkheXhkmB+zenWyB+X+DEQAVHgK8UDSryzLA9ArYAtQ9hmgmwZpvvJV38f9iRbuPYGO6IrHtE4GDANbZEx0jb7z0ISkOBlMHjFHJIGYI4Y2pUBABQRiAcVUVVIghwICsRxi5Sw6c2ac6TF5GOn2Z8xI7m39OdUj5h6Gp8Eu3gssMMhvN9eLwSJzoHwhbtTNQNKXMdA9r28bbxihkr5QOAbeeEYGxfBK0l8SdVhDdwbohJa6nkj7fV3fuR+slxSw5R7Fs5hlDmMVNeEBB79FHj7w2+QBBNcckE/7zSX6KRBzBBGIOWJoUwoEVEAgFlBMVVVpBS5cuGCOHj1qTp48aS5evFh4XwRixUh89mwciugba126dCkKVaRMVssEYlkrS5YDEnyhizYZBSCR14AtBpxpBqQNEoCQnIEBOWALfOABYh0ynycyTbM67affeMCYZ9epx7UqevCAhL7iCQTEsoSzOn0TiDliCMQcMbQpBQIqIBALKKaqqoQCQNazzz5r7r333qi9ANHKlSvN0NCQGTduXPSaNGmS2bZtW6H9EYgVI++ZMzGIpdVOeCLhilmtUBBjgIh3ws2yR8PwUnQ6bwfPB7DlI1H7XfJ8WcWoajkG5AzCbQp7nzZV7ZvaXZgCAjFHWoGYI4Y2pUBABQRiAcVUVZVQ4KmnnopgC/jC+Dx+/HgzMjJi9u/fb/bu3Wv4Pwco2+GGNAXunUAssKC2ukvGTJlizIcf2h1j7yTr4LumxBpjRZq2CgUxwAjgwkMDfLHuEXN58GhlnQfV1GITz4NJzo+hHF4BwtMyGvyybp0xhHoCsD+7qzHKL2M1KiYFKqmAQMy5bAIxRwxtSoGACgjEAoqpqiqhwOTJk82KFStG23rttddGMDa64/IG/+/MZARakAnEChLWGLNlizE3TjPmvffGzsE2+zZuHNuXZatQEKMBzFkC+G12Q2DMTaiQpZHJMoSfkQgEbxshaNQPgBGilzHcEQi7bXaceRJn0hdfxPPu0PDxx5Mn1GcpUD8FBGLONRWIOWJoUwoEVEAgFlBMVVUJBSZOnGi2Xs6WRpgiIYl4wZJGmeHh4eTuYJ8FYsGk9Fb0yiux92vqVGN44QljX14rHMTyNihreeaB4QHDw8bcKDII5gA8gPUX85q9h8yvY2rbJ59kbYjKSYFqKiAQc66bQMwRQ5tSIKACArGAYqqqSiiwcOFCs2DBgtGEHHPmzDFPPPFEQ9tJ6vCrxYvN7bNnN+wP+WHgQAwXCwDMvCjWb2ISfdFzdS4Zc/x4/MoTjuhe58qCmNuJDrYXLTLm1Vf9By5bZsyLL/q/014p0LUCJLDBM8zDAzy6/O3ogwnEHNEFYo4Y2pQCARUQiAUUU1VVQoFjx44ZvGJ33nVnlJBj+/bthv9wly9fbvbt22d2795tgDXmiO3cubOwPg0UiBEOR7Y65kMRggeIsU0mu5JnbhtUEGMB7N27/bf/yIgxa9b4v9NeKdCVAsAXafUJq8Wjy7pfhNR2spRDVw0x0f8L35w/n6uWcblKV6iwQKxCF0tNrZQCArFKXS41NpACwNjSpUuj/2htpkT3fdasWRGQBTqdt5qqgRghaXhB8IYwEM+1MDJr+TCYIqaNUDkAjIQUbLOuT4mtMBAjdDBPGnlg9vXXYw+BL+V9YA1XrYqvs69a5o55onl9RbVPCmRXgPvbN48R7zl/L3KE1mY/aXpJecQcbQRijhjalAIBFRCIBRRTVVVOAdYOO378uDl06FA0T+zw4cPmVMZkBt12tkogRqILGApmevllY55+Op53lWltVGCDhYsJSXQHUgcPxk++Wy1q3K3IAY4PDmIMNvEOkmKeF9uEX6UZqebJ8ImXAKDlxTZ6FhjaCetxzaN5dSQUMcZcuBDDGTlsCjx1mhIDvZ+fEb/DAwfyLb9QKdGYy3h5/m5Tu/Gg79vXtLvIHQIxR12BmCOGNqVAQAUEYgHFVFW1UuDcuXPmbJ6Vf3P2viogxvQMkl0kw9TYTzpzwKylARnAlm/tKlK28x1p3EtqQUGM7IVkM2RAiR4ADts87eepv88I1WIQ6oZwohdAdnkJBt9hIfaxBMCMGfH151qTwp6QRTIoynqnADAMFAPAeCO5Dngs+zR1qriOs4wDC3D7jJBm5o310ARijtgCMUcMbUqBgAoIxAKKqapqpcDcuXOjeWKddAqAO3LkSMvXBx980HH9nbSp02NIXZ6WxZ/wRAaGLY3BE7DlC8MDQtIgrWWlvfuyKxCjzwAWMMWTfoALT2DSEJnvLnueRr/mM+BGOvqk4bnFM1b0aPySMSdO1NwTk9S2RJ9hdx6EuOvisSA5GS0fe6xEDQ3RFEKV07zDPHhI+y7EuT11CMQcUQRijhjalAIBFRCIBRRTVdVKgfXr15vfPPxwR33asGFDtAYZ65C1ejEvrewWLUG1yN9KBugMElua9QLxRNuNZwMgmIgPaJTYOgYxgAu4YnBJchLCroBO9PAZUOV6vSiD54vwxTRDux7MF0s7vfYXrwAPOnzzMXHWT7jKmAKd9sV3LnkGHlbgFXNDmCnDgwpcgr6HOck6An4WiDliCsQcMbQpBQIqIBALKKaqkgI5FKhKaCLzUghP8xkJGwhZa2nABZBhsySSCY2QOuZGMbjCW1Ri6wjEbJ/dOS0MIoEqtPB5uHwgBqwCb8mBKXoBtdRX4rDOEl/WyjQN2ErjDzzV/D5rY4Trki2RhB2ELeNN5iEGvw33t9SjDgvEHKEFYo4Y2pQCARUQiAUUU1VVUgEWdT59+nSUpAM46pVVBcRYU+3GacZs2dKoDINDBoKZFklmUIX3Bq8YSSbI8sGTb15po8zG0/XtU0cgRjimLxsk8Mn+5NwuvGcMPn1GSNaGDc3fMEhFP1mtFWA+WNqcPH6XtVxY+803YwDjt8KDmh4lUEreSAIxRxGBmCOGNqVAQAUEYgHFVFWVUeDEiRPRIs6TJ08248ePj+Zq2fT17GOBZ7IpFmlVATE0YLA3ZUqcqIGMiY8/Hn/mvWleU5poTMJftDgGDkISgbOi5zeltSXH/o5ADNDyefrImIgXC+8gHi1e7ANS0+a/4D3Dc4hngBAtdKR+9vVhbaUc0qloAAVgkXXrmivCE8Zv0o32bS6lPd0oIBBz1BOIOWJoUwoEVEAgFlBMVVUJBUiSMTQ0ZAAuFnHeuHGj2bFjR/RiGwi74YYbzPDwsCGdfVFWJRBDA1KX4/0iWxuL+brJA4rSqAz1dgRizz8fe/58HcAjCEQBZLzwauEBaGWEOtpFsIE46uiTl6BVM/VdeAWYh8ntwtp9PBDhM5lK2ae13MLr7dYoEHPUEIg5YmhTCgRUQCAWUExVVQkF7rzrTjNnzhzzzfnzqe397rvvzMKFCw2ZE4uyqoFYUTqUvd6OQOzTT+ORcjKRBvO5CEEkFJF5X765X2UXpEX78M4AC6x1VaskEi363IuvyJJIhkTmahKOuGiRMR991Isz1+AceN15MGLX7uOdzxl+ewIx5/oLxBwxtCkFAiogEAsopqqqhAJ4ujZv3ty2rXv27Im8Ym0LdlhAINahcD0+rCMQo43M68Jt8cwzcfghgz9CEJPzw3rcn6JOR2Y/MmgCCnbNMeCh5FMAi5JD9ZZBAZJ/EAbNPEtCeoEvwnn5zH7f2oZOuwVijhgCMUcMbUqBgAoIxAKKqaoqoQDp5H+1eLEhSUeakaCCsMXbZ7dbJCuthvb7BWLtNSpDiY5BjMYzv4uQQubGEU7IHK8ams0u7qZZP3Mm9tzgvZFJgb4owLxLQn+TE+n4zP60eZmXGysQc66aQMwRQ5tSIKACArGAYqqqSiiwe/fuKDkHIYqs93Xw4EFz9OjR6MX2pk2bzPz586MyO3fuLKxPArHCpA1acVcgFrQl5a0M2Epm1aS1zCvEKVhw3pvyCqOW9VcBHoL4kubQKjzUfN/Cugaxzz//PAqrIMadp3uuXbhwwUybNs1MnTrVGye/cuXK6Gmge0zIbf4jnDVrVtQ+/jNsNyH6wQcfNJMmTYrajDA3z7jZvPbaa01NylJvljK24iw6pJX5+uuvzYoVK8x1111nbJu3bdtmq9Z7hRWo02+LASjZ4vh7YO/T5G+LASOL27Yqk+V+twNgm53Ovi9x0jyHqqfCt5ea3gMF9u3bZ+bNm9eQLdHej7zz/yZlijSBWJHqhqu7NiBGjGCGeTGdKEdIYhps3XNP+hrWnZxLx0iBzArghSY7q8/Yz/ctrGsQo26e7PGfylZWq3Zs1arV0f53PW5y/ugAPYRlFGH850abCA0hTp9J03SWdMJpBnhxzMjIiNm+fbvBQ8Zn92lllnqzlLFtyKJDqzIMLsnM9dRTT0XQ+MADDzS12Z5L79VToC6/LR4WtPttPfvss23LZLnfX3jhRTNx4sQI6gA7+9rrpH4KVU/17ii1uB8KnD171uAV3r9/f/TiwcQZYqp6YAKxHogc4BSVBzEeKJAghIWhed1yS/AQSZJIpGXR/MU8ZfcLcBuqik4UgH3uu89/JPtZ76+FBQExPGE89WPww4KVGP/RsG4KUOMaUIZ3yq6pUhSI0R7OY+Pzz507F6URJmVwmk2YMCHqg/2efhG7T/iItSz1ZimTRYd2ZfjPncHtH156yTYv8kpOnz49ysQ1ulMblVWgLr+ta6+9NrpX7YXw/bZI871s2TJbJLqX3d9f1vsd6OO3n2ah6kmrX/ulQJkUCA1iJOhjXS8GvoSKkeK6Ast0lemSeNtSaRBj0WcShABjzIvhtWNHHC8Y0OPLcJLEHEnj+ToLEiuDYlIZfe6JAniBeQixevXYH0P+KJJAh/1tMskEATE6ShgVIINHhj/8TFS+8cabDOGJrvFU0D6hLsojZgdaxOW7BvQx2EszPEvApGukFsabhmWpN0sZ6sqiQ7syePcWLFgQ1eW2mXAX9svqoUAdflv8rnho4Jr722I/fw/worvmlsl6v3PvL126NKqGv0VJC1VPsl59lgJlVCAkiJEunAEvA2IczK++GgPZzJnFDoIZaDOuJ7imrtBXWRBjRgoQ5lv0mUWk8YwFMp7zs7gwf97xjPFQgDXn2McDAZkU6JsCrLfHuPvqq+MU9rzzOcM6fMFAjM7bMCoGT3i82s3JYi5Ipx4xgIcQpN/97ndNugMwDPqYEO0ai2jSLuslc79j+6abboq+5zjmkBCSCJzZFMRZ6s1SJnneLDq0K8N6NAwwCQ+lzYRWyuqjQNV/WzbMN+23xZXCWw2MtSpjr2ir+50HQDw84TfD3wHmTz733HPe332oemy79C4FyqZAKBADgBjwAmNJY2CcCH5JFunoMwNvvG4kYmAOEKFptGH37o6qK/VBlQUxaIgL5DM8Y4QpBpwzhteLe4309fa+eOcd38m1Twr0QQHAi4cSGQDMti4oiBFuxACIwQ/JJdpZO7jwHc8fK0KP8L6RBISJ+UkjDp82EB7p2o4dO6L9NnzS/Y5tknUAMRxrX/bJOt9nqTdLmeR5s+jQrgxeRtvm3zz8sHfQmTyvPldHgar/tmyyDnuP8u7+trgSDBhJrtOqjL1iafc7D1msZxuPOPPCeNhDnUlvG3WFqse2S+9SoGwKhAKx996LQcjXPxZ9ZWAc2lgnijBIN7CGQTcDcNpTJ6s0iOER81kBIOY7jfZJgZ4owELppKJnztebbzanq++wEUFBDC8VoX8MephXxeCxlbWDC3ss9Rw6dCia94RHi7oZYKV5ttrB0CkPqXIOnpxTP56zt99+26xZsyZK8EESASxLvVnK2H7Z9yw6tCtDnw4cOGDWrl0btblTT6Ntk97LpUDVf1vMm+TvQtpvi9/f/fffH3nE0sq4VyTtfmfQycOZkydPusWjuWcAGh4w10LV49apbSlQJgVCgRhrNzEvzGdffJHuFPGVz7KP0DOy5PnGEYShOUlQs1RX+jKVBTEWqwXEPv64WWPmh02f3rxfe6RA1RQgyoxwQxZpfujX8fpg3Nus4delBQUxnnAPDw9Ha6Yw6CKcqpW1gwuOPX78eDTfjHrxhPG5ndmn78CbawzwaBf/MSWNcCi+S84hI/QROCPDVZZ6s5RJnjuLDlnK2HrJoEibvzl/3u7Se8UVqMNvi9+Xa+5vy/7+3MyGlHXLuMe621nud5vJlN9nmoWqJ61+7ZcC/VAgFIgxTwtPFE6OpDFfDO9VSGPuTxpsAWmEKdbJKgtiXAQGqddfH3sJeP4OnDE/zCbwqNOFUl8GTwFCDfnjl3zYQLZE7vEuQ2+DgRgDKAZaNkEGaeMJHyTRQJplgYsPPvgg8vCQCZD1sZJPtH11A020JQmCzEFJgpY9nro5hnBH1/Aysf/IkSMRjLWrt5NzZ9HBV4Z1mEiKkgRL5ofRzl6lR3b10nZ4Bery2+KedM39bdnfXzJs2C2T5X7Hw4U3O+kttyDG36NQ9bh90bYUKKsCoUCM/uERY36OC2N4wwhLJHFHSGPWAfPCfMY8tdDg5ztPL/dVGsQQipAtMsT96Kr4RZIOwrdkUqDqCjzySLwws68fP/95fO/7vsu4LwiIETZFempSTdsBEAMqMqWRwc/uS7bJBxfJMnwGKAgT5BxM5ufJdXLAljyO87rhkQAckJWWvh7QYqDIOVzjXOy33qUs9WYp454jiw6+Mm+99VbUNsIhXWOOGDrJqq9AnX5bSRBzf1v295dc5Nktk+V+t8lykp410uLz2ybMKVQ91b+71INBUCAkiLH0GQDE80oSdJBIgyyKa9aEV5JzUbdv6U/OW8Q5w/cie42VBzHb1QIXdLan0LsU6KkChCOmLcPw5JPpkJaxkUFAjCQXhMIxCHKNDH4MvqyXzP2ObR9cJMu4n4EpvD14gTgf500LNbJPwAln3LNnTzS/jPBGN7SRifpAE2uMMUCz89sY/HEe5llxHjfxSJZ6s5Rx+5VFB18ZABctgK5169ZFbQbCWmnunlfb5VegLr8tfmfcl2m/LX5/9957b+RFTyuT9X7nAQwPgZgviacNDTm3hbxQ9ZT/7lELpUCcBIf7P6SRRn7LljilfIugl65PyVwwIoJ4Z3jBPDW8ZKTLb7M0T9fdihKPAAAgAElEQVTn7nUFtQGxXgun80mBohVYtDgOv/Wdh/hpQhS7sK5BjInx/JG3CS3ctjC4YgBGiCJ/ZJLmg4tkGd9n6mVOCWnyAa00I/08WdgAMNqRTKdvoQWvA7ZkyZJoAIfnDGEIhwQikx69dvVSV5Yytt1ZdEgrg2eQ1OAMPGkzYMaAE41k1VagTr8t6/Fq9dvC60xmw1ZlstzvPLDh4QnLUfC3B0990kMWqp5q32Fq/SAoENIj1g+9mA+GB4zwR7xxL75Yz7XESg9iZIyDut241H7cEDpnfRXg3vr00/LdY8yBvPXW5rlgtJUEHp4EgHkuUtcgludkRZRNLhjdzTkAGoBHJgWkACmjGxdj70YTGzLYTR06VgpIgfwKVB3E8ve4mkeUFsRwfzLfi7lfJCbg/ZlnyjdYruZlV6tR4MsvjWEeFvcWLnDe/2a5McB/GYzkM3i++B3g/SJMce3auK1desPoXuVBLOQ1EoiFVFN1SYExBQRiY1poSwr0UoE6gpj1kjFXrS5eslKCGNnieOK/Y8fYLYtXjAQFDJRlUqBbBcg4SBp4F7wsmAE+rCRfBiPIjN8BQMacMcAxmUWxw3YKxBzhBGKOGNqUAgEVEIgFFFNVSYEcCtQNxOo6b6yUIMbcmA0bmu82PBV4LRgwy6RANwrgUQJsfAbwuw8BfGVqsK/UIEZiDeZ30chevEjMwXy3XpyLczB/hbXNZIOjAOuB9er+Ktt5evnbKlPf+Z2/8MKLg3OTq6elUqBOIFbnTIqlBDHWBmMejM9aZZLzle9gH9P3WaqARC2amtaBgFU4BE/Y73/vb+nzzxtDVsKaG+MVm5k9a1fDpl9qcVaSFQBHZDDsxYt1x/7w0ks9ORf9IZ02XjjZ4ChAAgmSR/Tifi7bOWxmz7K1q+j2kI31/vvvH5ybXD0tlQJ1ArFWa4uRUbHKa4uVFsSOHfPfz3grClonjIyYjz1mzISrjLltdrxcAslauMayminQCsSYhyUQ817wnoLY0NCQtxF12EliEIFYHa5k9j4AYg888ED2A1Sy8grcPONmgVjlr2J1O1AnEHvllXiKhu9qMG9sxgzfN9XYV0oQe+jXcVKCpIRkiSM0saBkCmTJZCoOHlBrQBh5HN57z+7Rey0UICMhUJ805mTdcYdCE5O6XP4sEEsRJu9ugVhexapfXiBW/WuYtwcCsbyK5SvPeo95Xvlqr37pOoEYg3A8I77lWZg7xuC9qlZKECMsEfrBM8F8MBIr4AUjuQL7CrDjx42ZMsWfo4GZHECarNwKkHDZ/h6XLTMGT7ZJW1GJZBykhufHa9PAkxCG+YmA2ADEpJY+NFEesXL/4NS6fAoIxPLpVYfSArFiryJrxrGOInMQWdyeB1ytXsW2pny11wnEUJfww8cfZ3mNMa3feSfmBbxiVbVSghhiAmP33Rd7wIZ+EEMYXoyCjNwMLNrtM+aKAeKy8irANQKkuYaAM+v+sQA7v9vURdj5YuXKOEOnTWG/enWLA0rQf5Z12LQp9thZgOywWQKxDoULcZg8YiFUrFYdArFqXa8QrRWIhVCxdR0nTpyI5hOvX7++dcEB/LZuIHb6dOwVwVHDYI9wRAZ+0VP3Cl/f0oJYjzXdu9eYX8zznxSPaJXDT/29qtde5vThDXMNDzYOr5ERd2/KdiqtpZTv9W6gi0Q1P/mJMYTu8pCCJR7SEo5kaJ9ALINIRRURiBWlbHnrFYiV99oU1TKBWFHKNtZ75113GoFYoyZ8qhuI2R6eOBHDFw+my7LUkG1bJ+8CsVg1MiVe/WNjiE5LGgk8Mg3mkwfqc08U4JrxgMQXOmxDTnvSkCJPQrgk3jsbMnnwYDzHDW8xWUb5LidMCsSKvGBt6haItRGohl8LxGp4Udt0SSDWRqBAXx86dMiwXp2sUYG6glhjL6v/SSA2dg0JZ8PLSXIWBveEnC5dGmdPdBN4jB2hrTIogMeSMESfEUp8xRW+byq0jwyiwJaFMEITJ0+JF6PGQwaM4R3jlSNcUSDWx3tAINZH8ft0aoFYn4Tv42kFYn0UX6eurUesbpeWdVM3DA8bc8st8UCOd99iynXreEp/mPdH6CkeFuaFrVplDN4yWXkV+OKL2Jvp81B/9FEM0uVtfYaW7dplzIIFcUEyhgJcjzwShynyW+VmJZkNsAag+YTwnEYg5hGlV7sEYr1SujznEYiV51r0qiUCsWKVzrMQJl6HQTN5xCpwxRmw3XKL+eNVw/HTdZuwgCfsbL/+evedIGsdYVQskrt1qzFp64N1fybVMMAKML8PaHazJOINY//TT1dcGH4/ZHjE+E0Spgh8AWXvvx8/ROE74qX53eIxy2ACsQwiFVVEIFaUsuWtVyBW3mtTVMsEYkUpG9c7depU8y7/8bWwixcvmg0bNhj+wxs0E4hV4IoDRnfcEXvEGNxZSGKuCU/dGezt29d5R0g9z1pNeNlYQJen+NTJfJa0tOKdn01HDrACeMVI2MEL8GJO39SpcWipjeirrDws34Cni/9vSO/J74nfEr8hspE880zcNX6/lCORRwYTiGUQqagiArGilC1vvQKx8l6bolomECtK2bhe/o6Sun5kZMRccHOaXz7t559/bubOnRuV4X3QTCBWgSu+aLE5te7leI5Jcm4J4ER2NgCtUwPC3AQD1AOc8XR/gMMfO5VTx7VWgGQdZL8ExNatq9ki3DwQ4eEIv0u8XoQqkkWR36dN0oEnjM/sz2ACsQwiFVVEIFaUsuWtVyBW3mtTVMsEYkUpG9cLfK1atTpKX3/jjTeZw4cPR18wGNi0aZOZMGFCtM7Y1q1bvdm8im1d/2sXiPX/GrRtwX33mT+N/NZ8NjTUXBSAYk0lwhQ7MZvKzueOINSKp/o+Y1D58cfxOmIZ57r4qtE+KVA7BfhNWRDjd0nqevv7wluGt5mHJ08+manrArFMMhVTSCBWjK5lrlUgVuarU0zbBGLF6Jqs9ejRo2bmzJkRkLHI8/z58yMv2K8WLzanWXxqQE0gVoELv3q1OXv3L/0gxpN1FlDm6XuKMS4kwyDZBpuidEkegEfMZ8xtSdbLgBLwYz8eM7LBEWZV4CLOvqZpnxQovQI2YQcwxu90+vT4t8LvB68ZP8wMJhDLIFJRRQRiRSlb3noFYuW9NkW1TCBWlLLN9QId9957bwRghCsyL2zQrQgQw0HCSgFkQvNEgw665Pn7TzgiAzcGdHihMOaj4A3DY8UTd5utLVE74V+su8UUFdbZIsPgz+4yhrk6kVEfMOUz33c8xQfc3EEkiQjIBEfWOJkUyKgAUQm1z3TJb5ffC79ffqv81njhbc5oArGMQhVRTCBWhKrlrlMgVu7rU0TrBGJFqNpcJ14vvF8AGHPBJk+ebIaHhyMYI1nHoFpoEHv11Tjyhgn4DPqBgJdfbsyS1pXWeGQA6EWL4zkWgIELBV1VXr6DAVq8Wbsf3h17xIAxBnJ2/gkwxiDPAprTBY6bMcOBLhNHSJEgARiL7Pvv4/qSmRdJMED4FPVbIxyR8zJ/LGkcbzPGJb/T51oowM9s2bL4nuK3DdyzEHNeox6OnXBV/OJvxcaNY9F7eeurRPlPP41T1/M7tWGKGRsuEMsoVBHFBGJFqFruOgVi5b4+RbROIFaEqmN18tSV+V8TJ06MwIt5YfGT2LNm6dKlEZjdeded5pjNRDd26EBshQQxBv4Mqlhg1xogAQwwKb9rAwQY7DPJnVA4Bv8WRLrJGth1w8JXgCeRwSoLF7NY8V/95b+YoR9+Zf7b9E3m3J9Pib1jP7oqCll8e9s2s3///qYXg+WXVhxt2k9ZAHnTpj9G333whz9EgPXZXyw0x1b8ffT60/TbDK+9e/eOHk85zu071z70H/qB9ztf+Vb7XnvttSD1tDqHvmu+X1ppwr0Se1b/Kbpv+DzyyP+JYMreR62Ot9/t2vXJaD323uJ47lXucVtO72PXZ2hoyORZhoW/RuPC/0ny17h7925DA+tqArG6Xtn0fgnE0rWp6zcCsWKvrM2IOG/ePEOGxKQxGLj22muj/0ueffbZ5Ne1/xwSxBhMNc1BMvFTcwZxOR8EN2tP+mc8YcmU6oT55Fggtbni8u0hjHDRorFEazwoGD9+ihn+D8fNzTfvNNzP7V6AG3MhfeWo55ZbRhq+2/7Tn0ZrlbFe2d/dfnvDd/yO2EfCEF997APE0r7Lup/zjB8/vut6sp5P5drfR2jE/XLNNf/QdF24h/guq45XTtiTev+2ul+z1l/HcvweSgtiEDMuu7ra9OnTzaOPPlrX7qlfHgUEYh5Rar5LIFbsBSb80HrB0s509uxZ8+CDD0besbQydd0fCsTw4FxxRXoIIp6dEye6VJE5FsxH8hmeMh8F+sqWfB9z7AjbcnPIsNj4DTfcEEVhArV4ddsZYMw8PZ/hpXQ9lxHculWy7X42xkQhvACv7xqwEHTGdZF87bH7yHJa53Gd7WeV3rnX+G1753teisOPR+cctukY64el/Ux58EBos6xRgVKHJtLUM2fONLa4Rp++/vpr891339WoR+pKOwUEYu0Uqt/3ArFir6nPC5Z2RqIsBs1CgRjwwGAtLZM5GZuzDtZSrwEQ4PFqRuVJVpGc55RaUbm/QCf0cs2CGPsAsSxDn1Wr4vDGJFCxhhNg3JGHkoQcNI5FpklEwNwXssCxj+0uTSDWpYAFHN7uIQvhyFnnirUCMUJxBWLNF7D0INbcZO2RAtVVQCBW3WvXacsFYp0qp+NCKBAKxGgLCSB8A6kDB+LEHV23l+xjPtgi4QRZ+2oyz4+pcHjEXKi1IMagOPldmq7UwzVh8Mt1AcAIeQTk3nkn7agM+48cib1fgDGJQx55JIayDIe2KyIQa6dQf74Htt57r/ncPDTgfnLv1eZSY3u4/3hAkDTua1g+K9Alj6/zZ4FYna+u+lY6BQRipbskhTdIIFa4xDpBCwVCghihbgymWK+KsDq8NmRDY98bb7RoRNavduyI1+LBE2MNtw4embS1sGy5sr5fige46IRGwBP2i3mNCU4siK1ZY8w992TvDGFlQBjeBo4jnX0Wb1r2M4QtKRALq2eo2rg/CWd1w4uBMEDfB1Zp58Whbf9G2FBH4Iv7naQ0smYFgoEYIR+zZs2KslaRoerw4cPNZ3P28J/D+vXrDQkraASDFTLpJK1VvcwhI1Vx2mu7swBhq3qS50x+znss5X1tWsJfSsey1BuqjHNabfZRAYFYH8Xv06kFYn0SXqeNFAgJYlRIlkTmehD6xoCLwX/DXKQ03S+ZbGsKrV0bp2tnPhLp1fHIAGEunKWdo2T7GYAykGUuF//9s41uRMgy4GWbwSmf/8f/OG1IdIBnIi06s2Td66g5ArGOZOvJQTxgwfs1c2bsZWUbCMsb4sp9z98FQpn5G0E9ZFXN6lXrSWdLdJIgIEZaU8CDNVw2b95s5syZE8HVCRetE50mexXHjIyMGIDpof/yn6PPO3fuHC3Zrl7mBgBzyddvHn44quvo0aNRXe3qGT2hZ6OTY1944cUolXKyXWTvspal3lBl7Dn13n8FBGL9vwa9boFArNeK63yuAqFBzK07yzaeM2CDcDsGZsAHA76WgzKgC+8Y85TSZv5nOXkfy9A/oIoBqJt4g+4wOCXJBt4xPFgMWvEYkLXOehH62HTvqekPbcar12Jo5z3W3SkQc9Uo3zYLMHOPEtrarWeVezl6qJBIClO+XvtbBIDyZwgYxVNNCHYRFgTESCeJF8wumnnu3LloMc0nnngitc0strmMleMuG3+obp89O0rFavd1Ui9toC0AnrVO6unm2BUrVkRtsHX43rO0KVQZ3/m1rz8KCMT6o3s/zyoQ66f6Onc/QYyBHODFf8dRhsBLsfcMz1Bdw5QYyNJfC5684w1zE5kAZ87wJ7pJeXBN1sQyGoNyvHq8uHbWE+r2KWu7BWJZlVK5fioAQBKqyf3O75UHJtz/PDQJ/bCkaxAjLTCerQ0bNjRotnz58gjGGnY6HyZNmmRWrVrt7DFm4cKFkTeNnZ3Wi0du6tSpozn5O62nmzYsWLAgWkiUOvhPMGlZ2hSqTPLc+txfBQRi/dW/H2cXiPVDdZ3TKtBPEGPwkgQO2sVABkAjzLFWdikeuAFe9J3EBRbM8I6xjfFknQGea3aOmLuvDNuEmQFeTkBP5M3ES8BANW/YmkCsDFdVbWinAB5qfsOu4RUmLNvx87hfd7zdNYh98sknEYgdZMFFxzZu3Bgt2me9ZM5X0SbeMmCM40jjTkgiizcDUlgn9QIvEydONDvwJV62Turp9tgbb7wpAkrmvwGp1113nXnuuedGPYZZ2hSqjO2L3suhgECsHNehl60QiPVSbZ0rqUA/QYzBjDuAd9sGoL38srun+tuE7QEnRPi88srl1PKXuwWcEZKJMUThybprZQWxxx9PT9ZAtsa06+v2zd0WiLlqDPA28Y8sScEcUNYPXLnSmK++KoUgeO/TMkXyYGLl8H835o474kyuzF8lH0UX4Zddg5hNmGHnY1kVgSEg5HQUj2D3jr3znwPJPShjX0udWIVO6n3qqacMiyS78NdJPbaVnRzLuQFKgBAvIfPC8A7SR+sBzFJvqDK2L3ovhwICsXJch162QiDWS7V1rqQC/QaxtGyKdQQx5pHYDHM27bdNvEFmQ56m40HCG7ZlS+OVKiuIAdNp1xBII2wrjwnE8qhV07LM/WRpBN5ZkgIoY4kEoKwEMMZcSB6oNBk/3rvnm7f+n18a8+abcQKhfftikORJS4dWOIid8mQ64mnR/fffH3nE8Jy9/fbbZs2aNVGCD5J4YO1AJFkv3rDh4eGmzIt563F17ORY/tMj0+HJkyfdqqL5cAAaCzhnqTdUmYZG6EPfFRCI9f0S9LwBArGeS64TOgr0E8SAEgbrSbOJLDJlW0weXOLPLojRTDx+hPXhCSPMCQ8SGenwhiVD+soKYsCjE2TUoD7Pzkl7nsdGQSwpQJ5KVLa6CpCh5uqr/WsCAmN4xvps9iFK0y3KD+HWW6Ow6oYmfvtt7B0DKDuwrkEMTxjenkOHDjWcHsBiP/8JJI1wRL5zswhS5ne/+10UznjmzBmTt94/vPRS5IXiR+5a3npCHevWw7bNgEh7srQpVJlkO/S5vwoIxPqrfz/OLhDrh+o6p1WgnyBGQAwgAqDY/5rJuAeIMMCvlV2K534l503xdB1gIdSJ7yKo8YQxlRXEAC28YsnQK3ttc2dQ3LXL/PGqYWOGfmDMj66KPAzm449rdSuoMy0UwJOUtiYgC4lPn97i4N59hdeav1sN9sgj5r9N3+SfIwZAPvNMQ/GsH7oGMaAJqNq0aVPDOZkDRmZEn23bti06Jhm2eODAgWj/kSNHTN56Z86c2ZCF0Z43bz32ON47ORZPHR4+NzySuiyIkXI/S72hyrj90Xb/FRCI9f8a9LoFArFeK67zuQq0AjGyGjLxnEEH3hqSS9hQOreObrYZqANddk0hsgjiHbJg1k3dpTv2UgyZgKbVkQQd6ErGNbuYs6/dZQUxvJfcH8AYSUaYIwNMknwkmczA16+Gfcyluf5689d/dmUsBmFojB2h9fffbyiqDzVVYNeueG6Yr3uffhp7lnzf9XifzZrIfY9HGyj7x//4XyMQ8/7tYv3DDr15XYMY2sydOzdKO2/XyiD8jsyFaenrAS3gLbmAM3O82P/N+fOR5FnrJe0rxwE7PstaT4hjbZKNpLePVP3XXnvt6HoiWdoUqoyvX9rXHwUEYv3RvZ9nFYj1U32dOw3EACQyFwIJDLBJUU4oIZ6b994LrxuDFwY3dpwQ/gzlqJF+oiPAaVPY4xFrtyZTWUEMVekTA1FgHQBjcMoi1LkMoiMk7ciRaBpKw7EAWpqXpKGgPrRV4Pvv4+QRzFkiGQZemhLMuxptN7AFeBPOlzTmjLGQe0mMWxaPMH8jeWB1bMXfx3PZfO1Da+7jDiwIiFlvD+tn7dmzJ0pDz3yt4zw6uWwsbgxYsMYYf4jvvfdeM2HCBAN8saAzCS3Gjx9vVjpEmaVeqrdhkMwT81nWejo91u0bdcyfPz8Kk1y7dq3B+/fggw82gWeWNoUq4+uX9vVHAYFYf3Tv51kFYv1UX+dOAzG8NjaLn6sS3g7vRHW3kLYzKcCQJCt4lhnEMnW2XSGSMvzkJ2Z0jphbHlchoYqy7hRAR7L58QJq8D4x7wrw6XD+UncNSjka2Hro140uYjyitDORgT2lhv7s/vLLOMkIXlwbXsxEMrxhJBrxwWWGlgYBMc5D+nmyIAJgANfhw4cbTv+bhx+OYMTCEl4vsgjiOaMRZDsky2AypK9dvZzkV4sXGwa4rSxLPWnHtzs22Tc8ggAlbQI2Wag66SHjXO3qDVkmrW/a31sFBGK91bsMZxOIleEqDG4bvCB2KQ4V9D67vBR7xTpZrHdwVe6+57UHMeaBTZ/uBzEGsICYHdx2L+dg1oAjA09YUkeADFDAW1YGAxgBMTykQCPzwsiiGE2gLEMDU9qArjxQuPXWsdT1tPvu+WOxyCmHttodDMRanUTfSQEpECsgEBu8O0EgNnjXvEw99oEYITfM2WoasF1uOOFnTkBLmbpT27bUHsRsaOKxY82hiYACA3JZdwoAW2mJT1p9191ZOz+arOp4wEjS0aE3qfOTd3EkQIvOJB4BzLo0gViXAupwKZBHAYFYHrXqUVYgVo/rGLIXRE0Qkp9MWBXyHLYuH4jxHbBFRr+kkQ2PuU3eCenJwvocTIHagxhKPf985P2YNTQ0phuDWbwKvMu6UwAPE+FzPmMOnjT2KdP3fQKxvl8CNWCQFBCIDdLVjvsqEBu8a96ux4Tok2CKDLtFWxqIMT+M5AtuCCKhiswdY2K6rLcKDASIIenzz5vPADHmA5G+Hk9NSqK13l6BGpztllv8c6yYx4TeNpVnDbpapy4IxOp0NdWX0isgECv9JQreQIFYcEkrUeH9999v0l4kqwLE5syZM1qmqE6lgRhhif9/e+8feleR53krO3H66WCGYG9cIfJEA0YkK0rotE3r2LjZyS5p2Qlqg1m77eAYXG38wRPIMhHRQIh+49OujplNUIIS2j+yYsAEpLEToxvWNoaRzhPCptEgMuFJs/ZIiJ12e+zU8jon9f3WrW+dc8+9t87vd8HNPff8qFP1qvM9qXd9PvUpGyWRKHgIMCImrltnDF5kStUS6IsQmw7WgVtalvWmWvTdudu2ben8JZcrIoy5Y8xjalKy860Q4bj3NWX+Wg2MJMRqgK5b9peAhFj/2l5CrH9tTo2JnovYIoAVgsv93HzLzckxng27vyxKmULswg2xiO3bl4Yjr2XA/Hw6UP/hh8YEg4eUBaZh+XZNiLE8AiHvEfasN3bsWAp8Wog1jH8nioO4QXRh/SJa4k8fMgYrGW6Jrjiru7KEsGdOIC6plO2qq9JyZs1vq7u8Jd9fQqxkwMp+cgIsgm2jcfqhgHmpL1myJIm+adefc+9I9EqWRigr7dmzZzpaKJ0rP1qof19XiFEXOmuMmruJjhNLIlAv/kDprPlr7p05c8awXMSiRYumz2GpBDcRgXRqaiqJ2kn0TiKUki/5h1IWK+pIh9L/rCE6U0mpS21O+9Hu11573fRz/N577w2QK8K4aHseP348WUJk/vz5ZuHChckSIX40Wnvz0DP49ttvz2prt+2Z26Q0nABsX3rppaTN+Vv53FlIqgmuicNrUP4ZrFdGqHz6jXwzN401t/ooyLokxF5+ObWuPvKIMS++mLq6Ym2dmmLu4bnZwTrKf9T6dQeEDuHrn38+dVX0oyjWSYOIiQgvymatYJSP8vIiqGvNM9wAarq3hFidD6TuXZjAjh07ks7hTv5YncQSCHQSDwXWyOA/tgULFpQmxOw6byyfQIeLkW3+oFhgPCu5Qoy6UHZfiG3atCnZv379+mRC/70//lHym+UObKJjN2fOnKSTjUi7++67Z51jF0hfu3Ztkg/CjfvBzE95rH72s+eSdfEQce4ntCSDn+8kv7vS5ggi1ki0aybS3rTdBx98MI2nCOMi7YkI45lH4PNMMghBm/NMhVLoGUQEu+1st+0yHUePHg1lpX0ZBOC5YsWKpF0Q3CQJMWN4TdI5//nPZ8DRR0OI4SrZt9QVIUa70p/2/xvE8soC4u++KyHWt2d7oL704bIWbSakPQFdqkyIVtw2WT6BOYs8vO46YRWURUKsAsi6xeQEGF2mM0On1kYao0NIBxfB4iZEGdYpjtEJLcsiRnm4j7U2sFg5FohHH33ULc7AthVin332WTJSjqXPF2LksQ5/jguJurMWHZ1rku3E/d0LL9hTkkVDWYtv9erVyT6ispE3IsxNsIILx0lFWCHgqGfVqQttzqL2PIPLli2bxke9aEvEs03DGBdtT9rbfSbJH0snc5L8lPcM+ufyjJOv/7fmn6ffYQK0+fbt25N1JRlEYbCG56LOYB3hkla3F2sJc9T8xJSWa5cYg7WsT6krQgyr14MPhlsOF0XanY6nUk8JPPZYtthCpCHGqkqIMIQX4s+GzyeUPu6cj88esC6rWBJiZZFVvtEJMLKMix0dWNzr6Nzi7oWrg5uOHTs2PaJflkXMiiEWIXcTog8hlZWsEEPE0SHDiuYLMcrsW60QWJxLohO3atUqQz3dxELq7CfxnzodPd+lce/evcl+LCekIqzI0wq6LLfGJLMS/ml7m+/evTvhbdvFIuK5wSpGB500jHGR9rQuP9ZF1Q4Q2Hu631bkZj2D7rlsY13DtTXk/uufq9/ZBE6ePGn4O2VAqa9CzLpzf2PuXnPjjeuD7tyMQ+HSRiriqs15Nl8GoBg0cN3E2+Bu2xUhxrgoYiyUXnklXW9YQixEpyf7EDhZIgdBxLy2IYkuH1FfmR3BWDPvirECDCH6tmyZfTfm0+UtBTD7ion2SIhNhE8XV03AuqshTLDsuP/ZhsrCPKtxLTHJgLwAACAASURBVGKILVzGnnnmmVlZI2DoSB1kMUInMepNubI6wQix5cuXJ25KzBkJCTEsaogx8mYuGC6JdNrpDPsJSwnCDBczzrHzd+iUI7b8jjPWEcpH3fyUxQqxSzk5Tp2Zl/b0009n1tHPd9LfbW7zAwcOJMysiLYsaGNY2nYYxrhIe1rrG88A9+N5sHPEfAENU56xrGfQlpNvyohwQFQqTU6AdwN/r1gX89yYJ79TmgNtz7PWhOS6cy/71/8zEWJ0QnwOdLCYZ0Qq4qrt5htyE2+Du21XhBgdZMehY+CxwwKKUJMQG8DSrx/0mViywFqgbO0xhX/728awuHdOwuWVNRDvvDN9R/CeIOIrVnR3KY6cLGYOUY6sBZlxV3zzzZlzS9ySECsRrrKOT4CRfDqZdCwQFcNSlrjIu47/EHEVswEu7LwO9xo7wurPl7EWEOs+6V7DNlYFhJDNk7r4FjE6Tog16mg/1iLl58f8HXsOc3iyBCDX0UHn3g888ICfTfI7xIr86NDTEceKw7wwO+/It9oFM42ws81tjhCGH6P0zAk7deqUQQSxj3ZDPI3L2G9PAoCQJy91hB5txbwy2tz9W8Eqw7Od9wy6zUYeuL3mPVvu+doejQAuzVaQj3ZlsbObJMRcd24i6iG4fHduxojwFjpxIq3fMFdtznLz5XcRN3Ge5ya523ZFiNEZZu4fUTDdRHvSruyXEHPJ9HAbSxSii9D1LGPAQtNET2Tu2JDAIogu3h1+QuCPHD8sT4jhXSQh5mPWbxFIR+f5j5kOJ/NsrGtXFpuQuAidSz50ZK2ljbzpyGZ1PocJMTrcfiIvOsBYlGzyhRjlQJhhrcC6xhySzZs3J/9xhQIucB+sLlu2bEnOCVn/OIeAIjDj284Ps2Ww3yFWdOLosNN5dxNz2BATWXm55066TSe1rW1O3eGKEIM/n6uvvjoRSGwj2EdlnNWePK/k6T8DWF5sW/EM4hqHS6JN/jNo9/MNe8ruu7i652h7MgK0B+02TsJSSgc+72MtpePkH/ManiXqad25CczBKDaWsblzf2BwN/rFL9Loie6032Gu2n6+tsz8HfCuZQQ95LZUxN2WMuL2xJ8L854I819W6ooQgw8xaRBjuI3ZEPb8xjXRulCXxVH5toAA0RKZD2ZD1xPKnmkeWMVyEoM0RFYN/T3bY0OyGMw9KzgI0RNxTQz04wYziPNLFrE4HJVLRQSwDNEx5D9z/lPHupCXQuLCP5+OCvPNyBdLGL+HJSxh3N8PQ454Yj+daz/hjoR1gsAJdB74MCJrfyNqcEfkejrVbsI9kmvdENjucbat9cN1R8RChzWLDgkujnnCtQgre0/rCuRbBO3xmN9tbnM42HXEELM8W7QBgVZo5yyhz3UhxnntiZsueXKdm9xBA55BngdcwbKeQfdaysn5dJ6UyiGAVRtr9jgJ12mE/bAPz0XdKeTOTedp5crDZt5fnEg67sS0SaIoOqPiWHcvv/z/NRz7zk2Iov/PXHzxldOu2qF8EV8IvEsuSSP18Y27HPcj8ezzXOe52370UXqtdYFi3hMh9onoWMafQ5eEGIxPn54JXY+7ol2jTkIsfQb17+gEeIaIvJmVEGn2bzzrnIH9NlgHItCqO9YyQxgW8LgayGuCHxJiE8DTpdUSsCP+dkQV6w4WJvz/s1IRcYHLGH8IuF8R6KCIlQdBROfGF4J0GrDehBKWCa7J+uBqxv057rs22rlGR44cSawTCEdf7HE911qxZt0kCX9fpCMdYoX1BaucLxisSMhjH2Iw6r62tznccUf1oxbec889iaUMHkUZD2tP8qH9rcuhZW0ZIgSLPIP2Or55ztwInu4xbbeDAO8Jnou6kzsg4JbFPtf+O49zbMhzAntgNeODKJvz57+bdn3z82W5NjprCDb7LqVzhhBDyDEQMtTd9nxqrXND61MeRtsRZkT/i526JsSy+IwtxDBPPvVUakXBrQ1rRtb8nqyba3+rCTAAkiW2eFdwbJhr4ywACC8sczZ0Pf6zdo0znjl/LtusDCbfISE2OUPlUAEBRjCvuOKKJIy7FQX8x82oJq49dp9flJC48M/hN+IFF0DugSsM/1GHOgbutdzXdY9EwNHpRoyFElYILFNch7jhg7UE1zC2uR9Ci86D7wpGediPtWv//v3JNh0QNzGqTtlJlIVtrEl5VjD3+hArO9rsW+jonMOqaN7ufYpud6HN6QRjyXTdURFMWF8JeEIqwrhoezK3EPdat10Q4jwL/I3wDNpnz377z6BtH87lmfMtbPa4vkcjAH/+xml/fxBltJxGO3tsIUYHhAAtRBXDjShnwKtIiXzBZK+xQgwufsIl8IYbXk+eX9dVG0GGGCP5+VpXuFn5nmdgIa3SMHdbAtISECCUmOOES2XsJCGWQ5Qodszn4YHA4s+6oTyXuI95HgA5uehQBwjg7srHGrCoEtsMkLguzSNXlUwQXqRdu9LnjecLgUY4e+axlZQkxEoCq2zjEsCCQIeWTqubcLWis2itZO4xtkPiwj/H/U2HF8sSlgDux32z3O+sVQh3RsLC0wHmP3jXtRG3I4QXk8dJNny9vac/P4cONNYTLH2IL8rCXAfKYgMu0KGjfHSup6amknPsYruWgxVrCCa7IK/7jcjxUxYrxCaCl3loWOxgEhKLfn6T/u5Km9NO8KI9aR8iJCJireUSTsMYF21PrGHcC2sxbYUQ5zfbWcl/Bu151s029KzYc/SdTwAxa63k/A3TFvaD5Zxj7vsiP7fxjo4lxH71K2Ouuipd6JRQ01gf6JRMsNjqOO7cjHDjhugPBDGIgRDDfdDPlw4Z+tE+v67oJWofrpC57ra//rX55N+sNqfm/N/pSDkdfmdUHItbMvI+XnNkXiUhlokmDWkeCmtOBL6FVw6dW5STsw61jABdKRslEeHFunQ2imIUl2HcFBH9PFvcjHceroos+Mwz6LwLYqGTEItFUvmURsB2LkPBKhAuCB2EC/+R+SlLXPjn+b/Jl/laiCuEVlZi3hVWCAQY5fDD6VuBZDuzw4QY98HqRURCrGvWZZIOvGv1Y2QdSwcdCs5BmGFFs5YQXCZthy/07Qff4L5ZrBCniEDKDmcWl/Y7Rll8xt3fpTbH4mTFFwIMgek/q8MYj9KePJO0EW1ln4u8dsgSYog52lxpPAK4PBMkBcHFYArCACsNH7YRYczt4t3hvzfGu2P4qpGFGB0NOrf+cgVYxBBnY44Mj+rOjRsgc7t4f/neCbhqM6/sjTeOJQManGPdxBFiuBRaAexSoeOGa2Omuy0j4Zdfbk5NvZjMMUvqSiS3pUuNYQK/SY0xzBWLnSTEcojy3GW5IdI2LMKr1CsC776briVGMJ1oi7/z0mHAiWfNvu/uvCv1CECEYR1DpAWs95PAlxCbhJ6u7QWBIvOrioLwhVjR63RetQRitrkN1lFtDXS3ugkQiAeR6wbP8cuEAGewh0GcstLIQoyQzcyZCCWCIzkRN0On5O2jnqO4czPXC4vYgKv2eZMMVGERIyAEyc2Xjhkj5r6bOJ5H5IdbY9DdltFvOmHMGTHG/OUtF8JkEzgEi+CGDUkgAPYTfCJ2khDLIUq74J4YSjyrYw4OhLLTvh4TIHgHop9E+Hp3sWdeIFjFCOIxwTswRFdCLERF+0SgJAISYiWBbXC2EmINbpwSi4alK7QIu39L3Jo5t6w0shDDNSfkBkYBcdfBTWfMNKo7N4IHyxdizLpq33vv/2MI3kFURJvcfLGmcw3nHHzz02T+CC6MCCiuwXpmPRTs9cn3L39p/mnpd5KoiLg6YfVCuDGv7IWHjyauiszjJ4y99TwYuH7CHxJiOQDtmlP+KVhvEWkTzl/0s9XvnhKwQoxBGaxfrhsi2wgxLOMcGylOfj5PCbF8PjoqAlEJSIhFxdmKzCTEWtFM0QuJWyjuna5LsX8TOvS4LeJKWlYaWYjhkog7Xijhupd1LHR+YN9I7tzn0wn4WL8QVnzYRlDRV3KTn+9/+Hf/K1lA2IawR9RludvSp9pz3x6z/1/8+8QjkwhsxINILWupEDv7r6403hRl9/YTb0uI5SDkmcQljI6yTXSM77/fGFzHlEQgBgFeBIy2EAAG92w38QzaQSiE2AVXZfeUcbclxMYlp+saRYDIWczHYEJ8kz92vlaTy0jZeDGcOXOmUW0cqzDMJamSf9Vtzt8B0TeV6iVg5zniosgcT+acEliCD9s8h7jp8XwgIspKIwsxu5gpATvchPIhehhirOKEMKIfxNwv1giLnVg6MrGw0fnCBcmm86kYQ6Qlrkp2fwnfEmJDoBJSHOvXX61MXcNoK0SYr8iHZKPDIpBLgAixuCdascX74MLc0cQjgPlhPIfOWoe5+RU4KCFWAJJOaT4BFjzGvYcOTpM/BLlANDa5jJSNzmHZ0dzqeqoeeOCBJGphVW2A2xSfqu6HEMuLklgX9z7el3ZfsWJF8vdkBbn7zdwmzikzjSzEKAzzxOhsPPZY2gkhchidEywQETsgZdZ7lLy3b09DYiedfOrouCS9//f/kEZQLHkekoRYgRZjnhh/L2+8kR28o0A2OkUEcgnw/kOI4YrIB9dYBqZ4LyD+eS9GTBJiEWEqq/oIIMSIIKgUh0DXhZi7rlccYs3JhWiJEmLNaQ9Kwpwklt5gEIYPVjF3+YIySzuWEKNAjPwyMZ2OB3PGShYiZTIYljdui4TBTtyNqC/WFlwwCQRx2WXmvyzdMSyLiY9LiE2MUBmIQDwCWFqxvuISy/uPARoGo3g/OAM1MW4oIRaDovKonYCEWNwmkBCLy7PK3CTEqqTd/HuNLcSaX7VoJTxwIA3KMW3tI/gDVpeDBw1rjyUiLdrdwhlJiIW5aG/HCRClFIs76xViifrTn5pVYQIU4RbLx3fXjlRSCbFIIJVNvQQkxOLylxCLy7PK3CTEqqTd/HvVLcSY34XQ+fBDY6IsuFoCcubof+emVHC5ZWReGnP3y5iX5ldDQswnot+dJoDgwtLEHxjfCDFcAPn0LAqmhFinn/T+VE5CLG5bS4jF5VllbhJiVdJu/r3qEmIIGkK9X/atNHQ84eDpc+3Z00xmrEnGYtCUkVD3hLC/dknExWKHVFtCbAggHe4WASxMRCF0ow8y//Spp2aiE3arxpm1kRDLRKMDbSIgIRa3tSTE4vKsMjcJsSppN/9edQkx1jxF2Hz++QwjQsKzNtcvfjGzr2lbCDIseERSnHZVrKCQtQixiGshFUV07ty5JCpv0fN1XkcJEIEVtz8/YSljjqa7VIF/Tsd+S4h1rEH7Wh0JsbgtLyEWl2eVuUmIVUm7+feqQ4jhjoglzHXzs6QIQf9vV9hf+rYEKhNiBCHADYzAA0SEW7rUmB07oi5Qa+sU+pYQC1Hp4T6ishIFM5QIktPh4EB+lSXEfCL63UoCEmJxm01CLC7PKnOTEKuSdvPvVYcQw+KVJbYQabj/KQ0SqESIEe0NSwTmSiwOrJFEAAJcxNhXQZIQqwByG25BNMKs9S45RhCPniQJsZ40dNerKSEWt4UlxOLyrDI3CbEqaTf/XrGFGFYuXAyZ65U1p/7dd9PgFyE6x46l869Cx/q8rxIhtm1bGpbfB41Aw0JWUlQ493YSYi6NHm9jlWWJCM899tTUi8m6fQzkMDZAwJwqXYTraBEJsTqo657RCUiIxUUqIRaXZ5W5SYhVSbv594opxOgUMcdr2TJjfvCD1P2QzpI7DwwiiDVcExFdflq/3ph16/y9+l2JEGMNpF27wrBZpHbLlvCxCHsR7jwzBG35xty9vehgR8A2PAtENO6mbUuUm3W6sNAyQLBrl/nk36xORNgLDx81DObgxmzfNZ5ea1ttc8srIZaLRwfbQkBCLG5LSYjF5VllbhJiVdJu/r1iCTEbaINvm+j/ERkx5IZIJwoXxJdfTi1nH32UnouQIyBG7ERwDe7F4swE22jbKHolQgwLRGJiCNBn8W4i1pWQeEaIQMkz8e6758zcuT9IBNnatSXcrC9Z4tZHqHfm+fHBnY+176pMk6ojoiTyPBK+fs0as2He36dBcpw64D1LFNNXXnF2dmxTQqxjDdrX6kiIxW15CbG4PKvMTUKsStrNv1csIUYERISOn+iLEeodoeWn999PrSB0whnZxhrmW8/8a8b5zaLLiD469iy+jNWFzhvz0dqSKhFiCK3775+NhA4xlom33pp9bMI9PAOI7y++SDOyromIeJ6LRDRPeI/eXc5oCA881k2UCpEGCW6BeymBV8pMzC3EDE6wjW9eagyBNULRD0csA++W6WmK3qLOCHjeP11NEmJdbdme1UtCLG6DS4jF5VllbhJiVdJu/r1iCTE6zSFXQwjQSaKzVEfavj0Vea6V7fz58wZxhhhrS6pEiBGljtDgzz6bduCBwzpOiDMCdngd4BjsaAc+Nlkhxu/Nm1PhbI/puyABxE/Isnn8eCqQJrVUZRUDKxzii0ibuBUi7BF+VhRmXVdgP5ZsBlFCieA/bfpbDtUhb5+EWB4dHWsNAQmxuE0lIRaXZ5W5SYhVSbv594olxL5zE25l4frimrhvX/hY2XspV8iqQl8US8zHH5ddgjj5ly3ECKzy4ovGMP/mn5Z+Z6ZDjVsbQsxdWDdOlZJc6FzTybbJFWJYQeSeaMkU/MZ6SZtlzQvDRRFBFjudOjXzzGCJQwgy5xBhj0skYmwCAcj7I0tsTU11e16phFjsh1X51UJAQiwudgmxuDyrzE1CrErazb9XLCH25JPhTjNzswjMYV3PqibCvV1rmHt/BGKTF492y1qmEEMIwQnRQzvCBQvn+3//D9kderdwE2wj/qZdzpJALjMLOhO0hU620ggEigixMkK/04gIQF+wP/986p44Ych5PCxxcU5EO3W8kD78MNV4fHc1SYh1tWV7Vi8JsbgNLiEWl2eVuUmIVUm7+feKJcQQWsy9IvId4gY3RTpNDISH5o5VRQZBkdVJyztWVfmK3qcsIUZb0cH1lxrAoIHFMLTodtEyFzmP54ZnxLquWosYURTZnyWii+Td23NwIw25JjJ/i7lbqJqYCWGES2LIEse9rLti1rpgBcvCoA5zSfkwaMCAAc8Iz0qXk4RYl1u3R3WTEIvb2BJicXlWmZuEWJW0m3+vWEKMmtLnwoKBCxEih0HyUJCOKqkw/yixuDij6NyfzhsCZAJvqdxqEAgEdyqETowAJBMLMYI1MG+HjjhzeFin6ezZhA3z6EKJjm4VnVyeEZ4XK+Tn/cWJ1CL3fqhU2jeUAG2NQkGM2QecAB5YpbBQxU64QSLCiNL45puzcydICGIsy11y9hWZe6gOf1MM7vBsxvjbyrxZQw5IiDWkIVSMyQhIiE3Gz79aQswn0p7fEmLtaasqShpTiFVR3lHvQd8PYchcMdt5w+UNV7ysOW2j3sM9n44i0R/JH+sgYoZtAk9MEjJ/IiHG+l90humYE5AD1zTU6TXXmP/w7/5XcA4ddSKsvDt/y61n7G24EUERyxjh62MbbWKXt/H5EakQYYQAQnzT/llrxMWoDMKPwBzMCXOja7IIOCKN5Q+UxiIgITYWNl3UNAISYnFbREIsLs8qc5MQq5J28+/VdSFGCxAlkQ4+2gNxxDyoskbSEWGIL9elDrc/3KkmETVjCzGEFx1xgin46f77zX/7l/9p2i3QPwwr6zLoHyvrt3VNLCv/3uXLnC2egbITFtZVq1Kxj+UN4ce3tZSVEHGz7Co1JX8Jsaa0hMoxEQEJsYnwzbpYQmwWktbskBBrTVNVUtA+CLFKQF5wzZx76aAIs/fG/Y45V+OmsYUYVjAWag6lgweTCIm4BPpeY1insOSVJVhDxWGfhFgWmYbvx4RJdE0sY/f+JI2YyDaRE/2Hq+FVaVrxJMSa1iIqz1gEJMTGwpZ5kYRYJprGH5AQa3wTVVpACbF4uAmFz7yzrHTJJeP3SccWYrijJZPkAqUieMKNNyYuiIhE5vdhAcMlERFWxfwwv1QSYj6Rlv0mND4uitu2pS6wLSt+E4srIdbEVlGZRiYgITYystwLuizEjh49al599dXc+rf5IH8LX9QVS7zN4DpadgmxeA2LOyICBldIP2EUQIjZ2An+8WG/xxZizAfDTSx0YxZuxnph0vlZuFWi2ZjP5rpWDitbzOMSYjFpKq8uEJAQ60Irqg5GQizuQ9BlIRaXlHITgWYTkBCL2z7MBQtFDmd+GHOuxk1jCzFuyNwdBJe7xhPR7XAdK2NNqXErKdfECcjp0q4SkBDrasv2rF4SYnEbXEIsLk/lJgJ1EZAQi0ueKOFYxQibz/pl/MbVD83DOkjjpomEGAKM+TtE0GONKSxkhLAnzHnDkixiDWsQFad2AhJitTeBChCDgIRYDIozeUiIzbDQlgi0mYCEWPzWYw0xxBdBMLCQ4fI3adALX4jhaUj4fdYAO3Cg4Bq9CDLCmjOPp+Qodng/M8eM8rHuU9Fw9BJi8Z9H5dhuAhJi7W4/lf4CAQmxuI9C04TYhg0bzEMPPVSoknv27DHLly838+bNMzffcrM5fPjwrOuqPGfWzS/sKFKGrGuZo7Jy5Upzxx13zDqlSL6xzpl1c+1oHAEJscY1SbBArhDD0obI48OcLsQeCyKXsS5asDBDduKaiQWQMP5r16ZruFG+Iot7S4gNgavDvSMgIda7Ju9mhSXE4rZrk4QYHZQFCxYUEmJvvfWWoew/vOsu89JLL5lbb73V8JL7mHBnF1KV59h7+t9FyuBf4/7euXNnUk9fiBXJN9Y5bnm03VwCEmLNbRu3ZFaIYWlC5Pjz0PbtS10iscbVmY4dS8uHWHQT0Rgp97BI5hJiLjVti4BJ+ii///LLkVBcNNLZOlkEKiAgIRYXchOE2KFDhxKL1sUXX5yIjiIWsRUrViTXfP311wmQs2fPmoULF5pHH310GlCV50zf1NsoUgbvkumfn332WWLtw+LnC7Ei+cY6Z7pA2mg0gSYKMSL24W7HWlbDOu6NhhuxcFaIvfhidjT6devSiIcRbztyVo88ki6YHbqwyALREmIhctrXZwKyiPW59TtUdwmxuI3ZBCF27Ngxs3Xr1uRTxCJGyHbKvY31TZyEgEOMkao8xynCwGaRMgxc4PzAJREhtWbNmsTa5wqxIvnGOscpkjYbTqBJQox5RHYNq7+8JXW5w4ry8ssjQES5bdmSLmJMtMDHHx+MFjhCVk061QoxhA4RGEMJTrgC1pkQW1nrjxHA5Mkn80snIZbPR0f7R0BCrH9t3skaS4jFbdYmCDG3RkuWLBnqmohwo9wHmazupO3btxusaljJqjzHKcLAZpEyDFzg/NixY0fipvn555/PEmJF8o11jlMkbTacQJOEGBadO+9kQGQGGq5uLJLsu+LNnOFsnTqVRgRk4hQXvPGGMT99KPWJa1iYdqfUhTatEEPIIGhCiQWZEWp1JoQgATpCiWNY9PKShFgeHR3rIwEJsT62egfrLCEWt1HbKMTefvvtRIixYLObdu/enew/ffq0qfIctwzudpEyuOfb7ZMnT5q5c+caAm2QmP/mWsSK5BvrHFsmfTefQFOEGO6Icy8NuyIy/+k7NxVgiQDDAuanHTvSsO3+/hb9tkKMuVdXXjkoVqnGuXNpwA5cOutMvH4IIkJ53PTpp+kcNr7zkoRYHh0dG4UAxnEGLbCu8/5gIGCSJSRGuXfMcyXEYtJUXrURkBCLi76LQuzUqVNDhVjMc7JaZJgYogx+wpp32223JS6J9tioQqyKutmy6bs5BJoixFhvK0tsYSFDpOWm8yZdJ8tdtNheQKz3yy4z5re/tXta922FGAUnHD5iDOsS3LBAYTXEolh7Op92eBFjuEoiorHU4WI6zBpG2SXEam/BThSAgR3+JhBfLJ/A38nmzelgAL/blCTE2tRaKmsmAQmxTDRjHWijEMMSRrnfe++9gTrjmsh+OqRVnjNQCOdHkTI4pyebREmcP39+Ev2ReV58CM1/++23J9tfffVVI+rml1u/6yfQFCFGaHNCnIcSVhQ68rnpD38wZs6fZZ9yzTXp+lnZZzT6iCvEKCih6jEAIl75blrnEssY5SKEPQLRj6KYBbuIEGNNNvJLrGsIcCUR8AjwzIVcePm7YRCDsZm2JAmxtrSUyplLQEIsF8/IB9soxJg3RbmZR+UmIibaYB1VnuOWwd0uUgb3fLbXr1+f1I36hT67du0yRfKNdY5fPv1uLoGmCDE6RogtIiX6iQ4VI9tD08Irw2ILK9k3M/weh2bajBN8IdaMUsUvRZ4QwzJKBxvrKBY3nhfWUCuyPln8kirHJhPg2XBWpRkoaqE17fBr/M1vjGGAp+YkIVZzA+j2cQhIiMXhaHNpoxCj7LjvsdAx0QVJWIoWL148EL6+ynMsT/+7SBnca1gH7Z133hn43HD9Dck8MfYz/41UJN9Y57jl03ZzCTRFiEEINzY6ULiwEaQDqwfBJxjBLrQ+1lNPGfP97w9GSaQjdeddxtx/fzMa4XwaVRBxSeCNopas3gux8zMLRE8Hczmfuj/yzAybe9aMxlcpqiKAWJ9+TrybYkXGVTGYcP3/679OresM7GBlJ+BPyOU5mEH8nRJi8ZkqxxoISIjFhd4WIUZ4e4QF64WR7GLFDz/8sNm7d69ZvXp1subWCWcGb5XnZLVKkTL4dfPz8ueIVV1/vzz63UwCTRJiEEJ8ETmRUWusHoSzvzCOMBwgZjUbJRHxhW8cnSm2L7wDhmdS3hl0DG1YfoQYH+pJff3gFn4p+i7E6DjDyg6iuXzgyLw5JRGwBBBboUEOXgOXfSvjncLBq65KA/5YSxgC7N6fpMF+avJnlBCzrarvVhOQEIvbfG0RYn9z332Jqx5zpmx6/fXXzfLlyxMBhkg7fPiwPTT9XeU50zf1NoaVIVQ3N4uQEOP4sHxjnuOWR9vNJNA0IRaF0vHjxuzaZczOncY0KGw9xsNnwAAAIABJREFUggth6fbnWDuN/cPCzvddiGElzQpGQocbgaskApbAz3+eCnfXUspgB2MzmW7Ozz6bnmAzsd840Hz728a8+abdU+m3hFiluHWzsghIiMUl2zQhFrd2yk0E+kOgk0LMbT46T7grEjXxxhvTxZ7taLd7XsnbDLZnhefH7ZJRepMTeKJKIca4FcKQqHOUi3lYdGzzyhcLX9YcMSJDZnWgcWklKIiSCLgEWPic55dng4XGcWFFiGVanznIAE4osSxGaGmM0LmR90mIRQaq7OohICEWl7uEWFyeyk0E6iLQaSG2YYMxREtkcWfmfuDfxvwPBFnFrop4PyNsslLenBauqUqIIcJwAcT6xDw93EKxOOEmWoX7X5YQgx8dace5YRol/WdCkyuJgE/APr9E8XRmIPinpb95kLCihxIijDmoNSQJsRqg65bxCUiIxWUqIRaXp3ITgboIdFaIEfEsa+0wxBhuSBUmBARiC1dEP9FZ5FiexakqIUYAkZDlifJjXciKROfXadzfWUKM/BCCWOdYtBqrBh1ryopwrFhXj1s9XddkAtu2pQM1fhnxJV661Jhf/tI/UslvCbFKMOsmZROQEItLWEIsLk/lJgJ1EeisEGNkmxHuUHrjDWNWrQodKXUf7lGzLDfn03ljIfHjFqYqIYYbVyjIAWUB5yuvuKWKv50nxBCq3B/r3CWXpNE0EWchK1n8kinHzhPAZRlrORFW7eQy5pvyrmDwpqYkIVYTeN02LgEJsbg8JcTi8lRuIlAXgVYKsV/9Kp3rhavQwYNhdM8/n0ZQDB1lZJt5YxUn5oJhvUHsMOeJABREd+PDIsV5qSohRtALFr0NJcQi5S4z5QqxMm8cK2+i7PFM4gZbY8jzWNXpXT602WOPpX6whK4n6irvmRrmlVr2EmKWhL5bTUBCLG7zSYjF5ancRKAuAq0SYnSGCEVPiGk6S3YO2F+tnN3ppTOMO1EoAAbzPQhzX0PCNfHll1MrGAExCIIRCsnuF60qIUZUR9wT/YR3FnPcWF6gzNRaIfanP6XBHHCHJcIeH7a3bCkTl/LuAQEJsR40ch+qKCEWt5UlxOLyVG4iUBeBVgkxxBdCzB2dRiHgSuS7IdIx/t73UsFlJxAhygjcQQeZOWQTJOZ1IahwNSTLzEhsE9zDvXRUIbZnz57pZTpuvuXm4DIdbv48B6xNOHfuD8ycP/+dufHG9ea1115LTsH1D2vYsn/9P5PlQHj/u581F9i//fbbA/vdc9jelRWRzilIpUKMAC4sbxCauOeUqdAmVhOeN/K0Cfc2XN2wzlacRm3/M2fOGNbXXLRokaHjf8P1N5hXX311oNSxzhnIVD+GEpAQG4pIJ7SBgIRY3FbiP1V3EeS4uSs3ERCBqgi0SoghoNyOroWE0PrmpbMjNvz2t6lw4zpcEbGkEUURt7EJElYsAlew/hdzlHA1LNtaNIoQswvC//Cuu8xLL71kWFOQztzHOZE2Nm3alIio9evXm7/9231m3l+cSATZlVemgUQQYj/72XNm/vz5iWBDtNnPPuLHG6bVfDq9zx7j2655ePTo0aHUKxFiWEt5DnA7w2rKs4OVdFxBxmBAlrhH6PHcVZjGaX/E9Jw5c8wTTzyRCPC77747eR5Yd9KmWOfY/PRdjICEWDFOOqvhBCTE4jaQhFhcnspNBOoi0BohZsVWFig6u1lWLgQZnW+Oh1wVs/IM7Mc1jzDqhHZ3E1axrPDq7nnjbo8ixFasWGGwgn399dfJ7c6ePWsWLlxoHn300czbc3yds2Iy2oI8sIzZYBhYTNg3SqIMXIPAK5JKF2LML6Sh3MV5Efe4t2JZHSdh+ULUZSWEXoXzxUZt/y+++CIRXX/3wgvTNcBddunSpWb16tXJvljnTN9AG4UJSIgVRqUTm0xAQixu60iIxeWp3ESgLgKtEWIIKDq0iCo/4apYUWeXOVSzIh9eKA9REZOFj/3yRfhdVIjZDvM2QnE76aGHHkrEmLNrYHPBggVm48bHB/bRCceaZtOqVavMWkxjxhiemyIJi9zixYvN77/8ssjppnQhRvS7HTtmlwWhn2VxnX324B6eSZ4/3GH9xLNJ0AfXndY/J+LvcdofSylte8wbXbjtttuS/RQv1jkRq9qbrCTEetPU3a6ohFjc9pUQi8tTuYlAXQRaI8QAdO9P0jlfvlWL+TkVhaNHbLE4bCht3BgOdDFwrp2nxnw3AoYgCgp00osKMTrTvJ8PYgF00vbt283FF188bSVzDiWbWMsQY1zHXCBc0nBVQ0jZdO211yXCbMmSJck9mE/09NNPZ+aJKMCVcTfmwoKpdCGWZznFKuZaygqWOTmNuWAsi+AnllGoMELnuO1vi/3VV18lomvnzp1J+4fm9cU6x95T3/kEJMTy+ehoSwhIiMVtKAmxuDyVmwjURaBVQgzLA9HoCIpAAASsPnSeme9j1/0pGSQGoawQ7nnHkmJhdaFTTh2Ipsei0gjIAuUvKsRswAx/PhZiiPf2aaKMBBLPwfLly5NzOI+PtX5xOi6GCDOEFdY25oVhZeM835Jms2e+Ee5t1kXS7s/7Ll2IwZq1oUKJthl30V7mHWJRo11xgeUeDBDgBsk8sYrSuO1vi8ecPtv+zO0LtV2sc+w99Z1PQEIsn4+OtoSAhFjchuJFrWAdcZkqNxGog0CrhBiAcP8i+h7zebCQYXEYN8jCGMCxhrGgMJrKTcTBIIBHrh7ECkaZfYseggxBmZNiCbFTgWAnzAe64447EosYlrN33nnHbN68OQnwQRAPEs8JkfhOnjw5UErmlSHQsJK4CWvYvHnzpiMvusfytksXYjw3BObwEw2HkJpkLhcCjAiSBADhQ1vnPhB+ISb/PUyIhdrfvSvHDxw4YLZs2ZK0P2LbT7HO8fPV7zABCbEwF+1tGQEJsbgNJiEWl6dyE4G6CLROiNUFyt73vDHEtCBK4nPPGUPAQFwSEWFZljJ7adLRD3XMbdS90Py3CxcXFWJYwng/v/fee9O3ZQOBxX7a20+4I3LMRj+0x/l/E3fGz3NWm7YR+nwLHIEfsJ4hrEZJpQsx+GOlYg06tlHUuBTisoggbnkap/2zqoxFk/bPm98X65ysMmi/SQRxXhuEGF0U2ql9IlAnAQmxuPQlxOLyVG79JYAl4fjx4wYLQiix37dChM4bd5+E2HjkDhxIBRmh61mY+cSJIfkgtgja4FvD7GVYUHJc2IoKMUQT7+cdXkAK5oARGTGUWC+Ka3y3RSwj7D9y5IjBCoKlzHdVs0KM0PVuWrZs2UAURvdY3nbpQoybYxXEWoUgo01wdX3rrbxitebYOO3PenG0ly/SmR9G+5NnrHNaA7JBBZVFrEGNUXVReLHiWkDkHFwX3MTLkgm7bjQkXtBTU1PmuzfdZObOnZscw5fY/+N28xl3e9TFCl0hRl1WrlyZuGL496dDRKQoRvL4T4vRHv8/nljn5NXBuhfwEgx9QhNo/bqU+ZsyyTWxTMLKu+sEeC8yt4YRZ/6e+H7ggQdmuXjZ+Rhl8ZAQK4tsIF9CnOO+5qcCUR+LCjGy5v9s/o+z/28j9vm/Oit8PUKLZ9Au4GyLx/9/7Gc03gaB8K1muCZeccUV0/fiWiLscR0ibdQ0IMQQr0ojExi1/ffv35+0F/0ONzFHjAAupFjnuPn3dZvHGlfmjz6a7eIcYiIhFqLSo32MqvFCJYKOm+hAsP+QszCmfWkzwRehwJojnJM1kdfNb5RtOwI3ymKVrhCjLpQLn3g3IbB46fAfGJGi7ERk6yPPubHOGVaHGAtjunWLvQ0/CbHYVJVfnwgwaMXfEesr7d2712zYsCERYyykajvQ8JAQm+ypICI3QTSWLUsXXib0/IjecpMVwL0adzjCp7tz2hjjZP+QqI+jCDH7/wv/B/NsMbjIoKr7zua5osPOGmM8b7fffnsygMr/4/z/zf9/DA7wXNrE/40MUjJ/CCvaPffckzzDvoCzbpBZVl6bX/D700/Ntnnz0vlaWKtwGSQwi0RZEFdo56jtz2AzFjH6P7yXaH+7CLddBiHWOaHy9mkflnTcmlko/dol6WLpuDa7rwSfh4SYT6Rnv3lBszggL1/rtoAPMi9od4FGRtx40btRlkDFOZzrT+SdBOOoixVyLyvEPvvss6SclNUXYpTdXQST6/hPiP+gbIp1zjh14EU4ysKYtsxlfEuIlUFVefaJABYKOspuogPE3xahw22SELMkRv8msAZzt6amjGHM8Be/SGMp0AHKmfY0+o2KXoHlCyFG5D4EDkEjcIsj9HkgiIab7ShCjOt4hoiCaL1aDh8+7GY33dG2YgmrF4OmPJd0/Ih2SCfc9Qjh/3H+T7zuuusS0Yb3i28h4yYMknLOyIlAGVddlQoxXB3pnR45kkaaHHex5ZEL0Y0LRm1/+nf3/vhHSV+P9keYIbDdQaGh5/zzP5v//3/8g/nP3/1uIuqy8ukG4dFrwTsIb1jmldr0j/+YDhBdWJ7P7h74lhAbwNHPH1hncDVkpBY3Fv5AWU8EFwKb+E+CDoQ/MsZoHPuxJMVI/KdBfnaUxubJ6F2W/zvnWCGGAFqzZk2yFoorxKw7BKN8JPc/H3uPWOeMW4dRF8a05S7jmzZwR1fLuIfyFIEuE+CdivDyE51Y1mey71cJMZ9Qsd/04en0fPjh7PNZlJl5XbUlQqQT2hwhxhpboYWAvcKNKsS8y9vxEyb3/iQRggMFRsDi1pkzh27gfP2ongBuqFgvaSfmO7LANVFCC6yRV31h498RQYVl684707mjDPr4iTUIX37Z35u6JzJgRB6hJCEWotLDfdZFERcHLFz+6BqdBsSWH9nFutvYUbci6Dj3Zz97LhFP/vnWT33UxSoRYnR8ML0z8fTWW28dsIghKhAXdIw4RjheO0fMznGLdc44dYAJVslRFsb02cX8LSEWk6by6iMBrAm4//iJoAj8rWN9ZzRaQswnNPMbo8mLL6YdIPSM697D6DPuiKGEuyJWsSRiHnO23AtDFzRgXy+EGCH833hjthCDPxYx1o1Tah6BX/0qHfVw12AjAijWX4KidDxh4UJIMbjz85+n0VRxPyS6qhucB3dE5oaFEkF/XEuZe46EmEujx9t0CBAodMBdn/E8JIgaRBsT0Isk/qPBVccG+iCYhZ9sEAs/VO6wxSopM2W3efpCjFC/HOeBZ0Iz7hb4ylN+W99Y54xTB8oy6sKYPruYvyXEYtJUXn0kwOAQf0cILjwJ3EEs+z7jGMEQOK+s1NZgHbgb0vnBpefJJ1P3Hjo/1gLGiDSdm1DCfWr/v/j3acQ8RvCZi/TTh4rNnA9lWMG+3gixN98MCzHah7liSs0jcOddxnhROpNCsjQAa7MNcbttXoWKl4hgt7yH3n9/8BocxhgIeuWVmf28nxgECqW/vMUY5o+FkoRYiEoP92GRwUJEh8CNxhRCwYgu7jWcy3fe/DAEHgLHWtrIGxEUcg3kXsNEDPf2E3nh946VyyZfiHFPyusvXsgcN7tYZaxzRq0D7PHz990+bV3q+IaVXBPrIK97doUA7yUGWPjb5u/Jd99GjGHB5xifslIbhRgjx3RqfFceRqMZdcbAhbUM18RZxq5Tp8zZf3Wl+S9Ld8wEgGBuEiP33//+wAh2WczHybcXQgxXzZ8+NFuIEaiDeXVYXpSaRwCXxFA0UEpKEJo332xemSOVCHsBLoehhJXePYaFjEEjP9nF4DNWMEn+HtyBOv/60O/y/scI3U37KiHAyCwdBuZm0Snw1yixhaDzgFsNcxyYLOpO9LTn2G868sw3I18sYUU69uMsVkiUREYUKBeihg9BLwjCwTZCEVdL6kW0ITe5oinWOaPWYdyFMd16xN6GVZH2in1f5ScCXSPA+4dOtp0T5taPY7yDst637rnjbrdRiDEPwx1pduvOyLJ18eE8LGYMzNv0T+v/1vy3f/mfps+x+5N5Wsxtcd2rpg/Wv9ELIcZA6uWXm//4f31jRiTj4obFBTc3pWYSyFsDj8GNhv5NxYDJIu6JC2IgM6xk37lp5gADRwwUMZeMgSLeSwg5BpVwsc5KsohlkenRfmsJsgEysHLhPugv4GjdaYi8E+pU+Mg++OCDRCDhckeQjDzLmb12nMUKsWohHLI+uFBiSeO4dV2097N1Z0HVWOeMWgfEKu5JTUoSYk1qDZWlywQIL86AUVmpjUKMzo2zcsoAGl6VtlMDtjVrUssYI9OINFwS99w32+09yYTgAs8+O5BfU370QogB+8gR898vnVe72yidaJY6wIKR5TLWlGej9nLgNuosczBdHqxkuCa6IyHTB7uxwaAP75VQIjAHg0FuQowxOIQgw2LPtaHAHu41EmIujR5u0wFgsUYmllt3QUKYYl1iDRK7DxGFG42dYF4UFaJk8+bNyT24HlcdGyY/K49RFytkcUmEDJa3d955J/nccP0NyZw3ftv7EeoXF0nXioeopFy2nrHOKVqHSRbGzOIXY7+EWAyKykMEhhPgXcHf2ziJdyvXFvmMk39d1yCqcEMMJeaF+dOLmZfBvqTDg6sUPkOhRIdyAiFGhx3hx9wQvmN24PsixBjEpeOZdN5tCPtQW5W0j7k9dJ7pKBN8Yf36NLALz1WJ4yEl1aaibLFkMtcSMUaEbH6/8cbMGnAVFaOO2/C88Kz47yMEF5auYSKrSJklxIpQ6vA5LNhIwAoi/bnJLopsrWR21XUED1G+/M+wEV2EHJYprD/cj/v6ATns/UddrJDrbPh6m4c/R4z9WMPosGDxw0KHqOS3DWkf85wideB+Ey2MaStbwjdc5JpYAlhlKQIeAd6loeiK3mlj/2yjRYxOD2LHWUElqb9dpyd3AB6hhaubnwizzVwX1q0aI9Fpp+OFqxLl4JvfscLk906IjdEGMS6hvRBi7rPFPEMsrYjrKAmBifWVKJE8iwQhmTWZMcqdqssE8UVkS/6GsIKxPp431aO6wlR7p48+Sv/WEetYULF4EcDjuefilENCLA7HVuZihcmmTZtmlR+rESO1uCjyH4QNb5818oprX5FEvoSmxzLlL3bqXj/qYoVFhBj5ky/WP+qFKAwFyIh5Tt6Cm5QHUTjWwpgurBK2JcRKgKosRaAGAm0UYoSEpmPMSDTuY8wX4zedHzs/LBMlKo05LQTnsBYXxBcdxzFDbSO8EF2+AOQ3+7PcKDPLGDggIRaAEnvX+fQZ4rHwE9awuZfObmP/vKG/Dx5MhQrWI4JYYJ3FSsui3gSNUWolAXQ0TUk0V1wSQ8/QuBWTEBuXnK6bmECReWZFb+ILsaLX6bwwAQmxMBftFYFxCeD+jJs0c1ERR1WlVgqxC3AQOLiOYalAkH3+eUFqKCTcEBm5J3Q9o/hYJQosrBy6A2UIRUPjXPZzPC8RFJB5bcx9Q7gxsu4LSgmxPIJxjlmxlZUbbZO1DlTWNQP7eb541kKWIgYBQvOsBjLQjz4SkBDrY6t3sM4SYnEbVUIsLk/l1k8CzAFl3UKWBsEl2/UoYB/HynYBbooQw72HEWXmVfmWpaY/HW6AEL+sCCyOZyVEGMKLSfvU/cSJlAOdfqKr2SQhZkmU941HDlav0FwwLB5ZxwqXCMsr1thQ+vWv0xD9oWPa12sCEmK9bv7uVF5CLG5bSojF5anc+keAqLGsUYjgYv1C5oMSeZYP24iwq6++OgkyxNIZZaW6hRguPIgQhAdBOLAKEU3MD7hRVv1j5MtcEOaFhBL78+aK4FZJ/d0gUeSDGICDnZ7dByGWMNi2LY2aiOWIkPUVhz7HuprM6zs/2JpYXBHMEyXqQjj3UCJMPxZapf4QwBUVV1VM+zluqRJi/XkkKq0p//kzF+vaa6+r5EPkQ0acq7of9yGgSVeThFhXW1b1qooAaxkSNChvoU6CGDFflvm4ZaU6hRjWoOuvT90K2baJ0OGIkA8/tHua/X36dDq3yBeP/KYeHM9KdPyz1kR78MEZEdd5IcYDQPCK730vXUeM6Hu7dqWufBW67OHeSiAYxDEBV5jvgwC7dkmEeT+MOvBAuA+7fTAQad/+tv2l7y4TQORv2ZIKb9qcDyIc9+hAkhALQNGuyQkwF4LOPNERq/jccccdySLOVdyLexDyn45WV5ONltnV+qleIlA2AZbTeOmll4beZu/evYlVbOiJY55QpxDDFY9ObyjlWZlC59e9j0FtOus2dD3f/B4WqAMroC/gbF1wTbRzzzovxBBd3/9+MjBBx3M6YSlAvCDMKkpY5ojMiUspFk3EWLSghgTmIGKiK8aIOEiwDhgodZ/AU0+lwYHciB4837itbts2q/4SYrOQaEcMAlaIxciriXkwgt1lIdZE5iqTCLSJAFFZiYpq1ygMlZ0OIW6LeA+UleoUYlgcsuZPIWBwU2xTorOOuKTjzneRzjuBPLKCeWCVsUuedV6IYRrcudNMryPmNvyE67u5WdW+jQsi7onXXJNG6cT9EmsInXOl7hNAgNPergiztWYOIS65XpIQ84DoZxwCEmJxOCoXERCBdhKwy4MwYIOFmWU7WDuRD9ssCbJy5crEc4AlM8pKdQoxrA6s2RRKWIkmnpMTyrhh++iPEXbftYrRV2NOEhY1K+Y6L8QQJG+8ERZijz/ePaHCSAPTF1DaoU55w55TFScSAdqaxa+z0jdnr5EgIZYFS/snIiAhNhE+XSwCItABAizsvmLFioFoiW7kRCzrnFNmqlOI2blVfkhwLIGIMCIO9iExJw7RxQdXRdZHo/5u/7zzQox5YI89FhZiWJCsabAPD4Tq2F0CNihLaKkMFpVnOQ07+nKBgoRYdx+HWmsmIVYNfkbd7aLRjLyPEn1tw4YNiVuUX1JcqaampqYXvl68eLHZunXrwNpHZ86cSRbkXrRokeElcsP1N5hXX33Vz2r6d9a9pk/Qhgh0mMAXX3xhjh07Zt5+++3kg1Xs88KLYk0Gpk4hRslxT0R4ILoQJNYShlue1x+ZrKINvxorGCH8bQh7v7idF2KJafCyRHDxf0aSgEJQA9z4+vQw+I2v390iwFwwFvP2ExbSQFRNCTEflH5HISAhFgVjbiaMpDO6zjwUggIQoY0/aNYuGpb4T59Ik8xP8dMTTzyR5Lt27Vqza9euRHBxn40bH58+dc2aNUlobs597bXXzN13353pYpV3r+kMtSECIlAKgbqFGJVCgOGiyJwwawlTv3uwuTsvxKguobyvucZ8MmeOMQS1wIWLSIq/+c0gDP0SgTYT4DlnnhiDDDzbBOpgjiD7mCfmJQkxD4h+xiEgIRaHY14uuDxhBbPBAM6ePZusWcT6RFnp0KFDyTV2cVlfiBFOm2hviDA3rV+/PlkegOOM7iPM/u6FF6ZPwdVo6dKlSShuu3PYvex5+hYBESiPQBOEWHm1607OvRBixiRRE5cjxN54o9JIid15UlSTVhBAgBGghsEGAnTc+5NBX2SnEhJiDgxtxiMgIRaPZSgnK4b8MPMIKxaQzUq4R+FmyCdkEaMzgMjCyuUmQmyz//jx44nFbdWqVYmrlXsO813Yb9Owe9nz9C0CIlAeAQmx8thm5YwFkMiKBCtx54Flnc/+vgixYNTEPDA6JgIdJyAh1vEGrqt6EmLlkkfkIIyIvuam7du3J5YrayVzj/nbS5YsmeWayH+SiC1/EVrmeGFFQwC6CQsZrpAsbj1nzpzEldE9brdD97LH9C0CIlAeAQmx8tj6OTPtD9fLxYvTwXDcMYmYmKwVxiKvOUlCLAeODolAhwlIiHW4ceusmoRYufSZ9I8QY9K/m3bv3p3sh/+wVFQcMU8MEfbAAw/MyhLLGuXg8zf33TftJumfWPRe/nX6LQIiMBkBCbHR+J04ka77hYh68EFj3n23+PVERHzkkcG4E7yKWfwZC1lekhDLo6NjItBdAhJi3W3bWmsmIVYu/mFC7NSpU0MLMEwckQeBQBBZfGP98hPnHDhwwGzZsiUJFOLPObPnD7uXPU/fIiACcQlIiBXnSWRHa8Hat8+Y555LIz4iyIalJCjgtwZFmL2GSImIsbwkIZZHR8dEoLsEJMS627a11kxCrFz8WMIQSO+9997AjXBNZD+dr2EpTxxhWZs/f74hPD2LzRKMY1gigiKWM9+tkevy7jUsXx0XAREYn4CEWDF2Vkj5QWfxxmb9L4RZXsJyRkj+UCKPuZeGjszskxCbYaEtEegTAQmxPrV2hXWVECsXNmsQIbh27NgxcCMiJuYF63BPzhJH1r3x3h//KFl8072GbQJ5LFu2bJbYw4WRMoXWR8q6l5+3fouACMQlICFWjCfWMC9Y7PSFecfsSceOpYLN/na/Oca8sbwkIZZHR8dEoLsEJMS627a11kxCrHz8RClcuXLltLUK10EWX84LX++WKiSOyINoioSvz7KC7d+/PxFcuEe6iTliXBtKoXuFztM+ERCBuAQkxIrxJKBGElQjcDqLUDP/KzedT8VWyHKGwFu/PvdqRU3Mx6OjItBZAhJinW3aeismIVY+f7ug88MPP2wIL7969epkDbATzDa/kAimgWBjjTE/hcSRFVnr1q2bDnNvw93zTdREIjJiEUN0TU1NJZESEWFYw/xw+vaeoXvZY/oWAREoj0DfhNihQ+ni0czJsotH//M/D+f7yivpdaEzEWgE4RiWCFvPHDNEF4KM8PUIuOuvN8YLODsrK1nEZiHRDhHoBQEJsV40c/WVlBCrhjnzt5YvX54IMATX4cOHB25sBZIfdp6TQuIIV0cEVdbn5MmTSf60L66LzCPjJYIww2Uxy4oWutdAQfVDBESgFAJ9EmI2uMb27cYgirBkIcaYu/W//3c+XoTS5Zen17hnfvRRKq74LpL+8R9TIYYAI/IiZRp2b/KVEBtCl2nKb71lzLPPGrNtmzG//vWQC3RYBNpBQEKsHe3UulJKiLWuyVRgERCBDhLoqhBjzS53lQ4EENYovt3E4JC1jLlJDrPjAAAgAElEQVT7Q9uIN+ZycT5WLYQU4mz37tDZcfdJiOXw/O1vjfne94y58UZjfvqQMfffb8zCK9PvIubOnKx1SATqJiAhVncLdPT+EmIdbVhVSwREoFUEuibEcPkjiiGii8+VV6YugHmuhYXmeF1o1XPn0vymptK1v1yxV2bDS4jl0F21ypgNG4z5059mTsLdHnGGhUxJBFpMQEKsxY3X5KJLiDW5dVQ2ERCBvhDokhBDUCG8+LaJNbqwYq1Zky7AbPe733mh5d3z6tyWEMugz5qYl10W9u/81a+MWbo040LtFoF2EJAQa0c7ta6UEmKtazIVWAREoIMEuiTECHrxi1/MbiQ7jytr0WSsW+vWzb6uSXskxDJag+gr3/52+CBWsTl/Fj6mvSLQEgISYi1pqLYVU0KsbS2m8oqACHSRQFeEGAEvLrnEZAYEwlKGy+Lmzca404ZsJMOiwTbqegYkxDLI/+Y36Xyw0OG8Y6Hzm7iPICSsJs48OKVeEpAQ62Wzl19pCbHyGesOIiACIjCMQNeEWFYEQoJqYDwhQiKuikQt/M5N4UiIw5jVcVxCLIc6QTp27Zp9AkE7Hnts9v6sPQieN95IH5Q//CHrrGr2I8Cefz51u+Th/ealxlxzTRoZspoS6C4NISAh1pCG6FoxJMS61qKqjwiIQBsJdEWIwR5h5c4Ps+2B1QuLmKFza4z58MM00iHzxwJLKNrLGvVdphAjwiTz5BCqw9YzKxvKuXPnkiVPRroPoeoRK/f+xJidO9Pw9d//fuqyWKSBsTbdeVcqegj8gbAj6iKirK701FNp+Y8fnykB4fkp1y9/ObNPW50nICHW+Saup4ISYvVw111FQAREwCXQJSGGsCJSIhESiW6IdYzQ8jZyolvvtm3HEGIff2wMi08Tdn/jRmOOHUu/YYaIZQ4d28yZqyuNJcQo7O9+Z8yWLWlUFivIXB/UvAoh2gh774q2gwdTcUfAj6oT5cACRiASP/FAEw1SqTcEJMR609TVVlRCrFreupsIiIAIhAg0UYghEOhvEnhjVAsN1i/cD5kvxgeBEQrgEWLR5H2TCjEWsUZksf4ZQhUhNvfSVKS6a6sh1gh68uKL9dAYW4iNW9wjR4y56qrBiYM2LxaGxlJWdaJMWdEerUirukx9uh9zC3FrJQgMIv3xxwdFesUsJMQqBt6X20mI9aWlVU8REIEmE2iSEMNFDmsNFizmcCGoxl0wGWsYVrGupEmEGOIKEca3TRiLEGLwRby6CddN5tHVkSoXYswtY22DUMLlMUsQhc6PtY/7Mh8slLD8YS1TKocAbp8sh4BrKFZR3EGxsCLWQxbKckoxkKuE2AAO/YhFQEIsFknlIwIiIALjE2iSEEN4PfjgoIBCFCAWcDvsc5pEiOFqCFc3EZcCwYurIlYyPyHSXE89/3hZvysXYswDY15YKNERr8MNEJXMQ48g8xNWuqzy+ufq92gEWBAcwRWag4dVDEFWQ5IQqwF6H24pIdaHVlYdRUAEmk6gKUIMd0SsMKFpPS+/nFrKms6yzPJNIsQQWv68r9OnZ+bT+QYhLIm4dWZFoCyznpULMSxMWEBwR/MTYLCM1JGw1CEK3nwzVcSUExGWJdDqKGPX7klgFJiHEiMXsK8hSYjVAL0Pt5QQ60Mrq44iIAJNJ9AUIcacMNwSQwmRxhpgfU6TCLHnngsvWM1cMBu4w2WL8P23K9w91W1XLsSomhU4fNMZxxJmoyfWYRa0uBFhRHBkUWrcEf9qZdhKZs/X92QECMzSwMXBJcQma1ZdnUFAQiwDjHaLgAiIQIUEmiLE9u3L7vwTVp2Ifn1OkwgxgnEwR8yfC0bQDixfWMxOnEijKOKqyMA/4reOVIsQo6IEyCAwB3OzcEd89tn4JsGQubcOyLpnmICdfxcS37grIoprSBJiNUDvwy0lxPrQyqqjCIhA0wk0RYgRHRGxEBIAeIghEPqcJhFicEPoIrBguXmzMWvXprxxWWQfFkcsZOzHC6uuVJsQK7PCjCRgaXEtW+76YGXeW3mPRoB5YAhyRJlNuK0StCW0aLg9p8RvCbES4fY5awmxPre+6i4CItAUAk0RYvD4+c9TsYAr3UcfpWHniZ6INSw0SN0UhlWUY1IhRhmZF2ZD1+N+6Iatr6IORe7ROSGGzy0KmG8eYjvXi3lpCDSlZhH4wx/S0PW0Ge6phK+nrZ5/vrZySojVhr7bN5YQ63b7qnYiIALtINAkIQYxBBgWGtb/Yp4SFps6gkbU3XpYBln7i/pjzfr444/N1VdfXXexSr9/p4TYeWPMwiuNCS0KjXWFTr5SMwlgBSOiJuHrf/vbWssoIVYr/u7eXEKsu22rmomACLSHQFVCDDGFqCBEPdERsXR1YaHl6C19Pp2zxYA8boKPPJJaBHEdvPba66LfrmkZdkqI0ZlHiIUSlhdcFTVvLERH+xwCEmIODG3GIyAhFo+lchIBERCBcQlUIcQQYQgwLFysB0ZgCNwQWceK+UpKMwRwGcQayJw5m86fP58E1Jj3Fyfsrs5+ZwkxQuoTbIRPayykCLGscOgIMIRYayrT2Ueu8RWTEGt8E7WzgBJi7Ww3lVoERKBbBKoQYi++mFrADK5aTrJrWdUZHMIpTiM2EWEhSyGuiXP+/HeJiG1EQUsqxCwhdj61pBLIhWAifNjmmWp8QmRlrVGGy1tNUfgaz00FHCAgITaAQz9iEZAQi0VS+YiACIjA+ASqEGK4Ie7ZEy4j88GwAimlBHBJDAXRIFjHN+buTeaLdZmVL8RwZ0WcYkW1iflzCDLm0DU+EeQBwfXrX88UlVDodrHmmb3aEoEgAQmxIBbtnJSAhNikBHW9CIiACExOoCwhhjsdEfpwR2StqixLz4MPGkOURKWUAALDX++LIwgxXBM//LDbpFwhhvce1i9XhNnawwHX1lakHTtSyxjiizljfBMIoqaEmydM5RVZUwOMeFsJsRGB6fRiBCTEinHSWSIgAiJQJoEyhBgiDCsY4gtL2J13ph+CdLB4sJsITR9yxXPPmbVNDx1/Rnetn1kntXMHc+ZgB0M3/df/ejoRYv5+95wubLtCjCbGQpiV5l46OJcu67xG7Kc5T52qNQIfrsBYoBkYQcTyTUAYdz5iI1ipEAMEJMQGcOhHLAISYrFIKh8REAERGJ9AGUKMJZMQYXbEHVcyOtR2SSV+c2zjxjQiYGFxgQDbssWYb16aWhb4ZqFc1+1rfBSNuBJrBVZE+DEPCqviunWpZWju3B80ooxlFsIVYnYOoT+3kPvz/CAk4KU0nABLmBF5k4EQywwBxrPFYAh/WkrNJCAh1sx2aX2pJMRa34SqgAiIQAcIlCHEGGX35+9g9cIihqsZHUKEGZaf0HyoTKz335+uvWSje2BlwO2LzI4fz7ysdQfOp1El6SRjwXjySWOOHj3ay3XEcNUMzS9EoBKJU6kYAf4esUyHEhwZJFFqJgEJsWa2S+tLJSHW+iZUBURABDpAoAwhRocv1LHDioG44Hho3k8uTsQXEegY2vfTs88ac+9P/L2d+s0csT4u6Pzuu6l4J2gHzwwfhCmCvuvz5WI+wKHBEZs/7rC+y7A9pu/6CUiI1d8GnSyBhFgnm1WVEgERaBmBMoQYLodZHTvc7lhDbOREcIO//uvwZbgmLl0aPtaRvX0VYjQf4gvLIPOa+CAqrFG0I81bejUYAMkK+S8hVjr+iW4gITYRPl2cRUBCLIuM9ouACIhAdQTKEGKJ8epbgy5lzAMjOiLuiXaOyki1RIitWhW+5MgRCbEwmdbtdeeIta7wDS6wjWDqF5G/S+aI7dvnH9HvphCQEGtKS3SsHBJiHWtQVUcERKCVBMoQYoA4dCgVXXTymAvGvDACUIzskmipEnEO18RQpMTHHzeG+WMdTn22iHW4WSurGm7B/C1iWbTWRP4W+dtkjljhgDmVlVg3sgQkxCwJfUclICEWFacyEwEREIGxCJQlxCgMnT/m8RBsgUiJE3f2NmxIF8dF5RHmDVH21FNpsA7buxyLQvMvkhBrfhs1vYREScRlmPl1RJwkxg3z7ULTLptelz6VT0KsT61dYV0lxCqErVuJgAiIQAaBMoVYxi3H3/2nPxmzc6cx11xjzJw/S8PY33nXzBD/+Dk3/koJscY3UasKqLXD2tNcEmLtaatWlVRCrFXNpcKKgAh0lECrhJjbBgzj92jxoyYIMYKs4N7GQsq4mhKUZaz5fm47etuaI+YB0c/eE5AQ6/0jUA4ACbFyuCpXERABERiFQGuF2CiV7MC5dQsxXNpY04v14Fho+aOP0mUIEGYxxZiEWAceVlUhKgEJsag4lZklICFmSehbBERABOojICFWH/tR7lynECOoA/OJQu5srAlHNMxYSUIsFknl0xUCEmJdacmG1UNCrGENouKIgAj0koCEWDuavU4hxvpTrN0VSgRiIfJerCQhFouk8ukKAQmxrrRkw+ohIdawBlFxREAEeklAQqwdzV6nEMPi9cgjYU64KrJIt5uIjsl8MhYRRsC9/HIaQdM9J2tbQiyLjPb3lYCEWF9bvuR6S4iVDFjZi4AIiEABAhJiBSA14JQ6hRhii/lh5vxsEMwd42PT55+n68WxZhyWtO3bU6FGcI8iKwxIiFmS+haBlICEmJ6EUghIiJWCVZmKgAi0lMDXX39teC+eOnXKII6qShJiVZGe7D51CjEsXAirBx901pw6b8wrr8xewg0LGOf5om3z5tmWsxARCbEQFe3rMwEJsT63fol1/+qrr8wywi11NG3evNk88cQTHa2dqiUCIhCDwMcff2weffRRs3DhQnPxxRebiy66aPrDPo6dIFJCiUlCrES4TtZEFvz44+Iues6lyWadQowCYOlasyYNXY8ou/LKNJQ9C3ZPp/PpcaIq+onFvQl7Tz55aRQhFgoekpe3jolAGwlIiLWx1VRmERABERCBRhP44IMPzJw5cxIR9tBDD5nt27eb3bt3Jx+2EWFXX321mTdvnjl8+HBpdZEQKw1tkjHueASzsGtvXXJJOm8qJFbySlK3ELNlo9wHDhiTjA94roqITeqXlRYvvnBd1gmGUPjnDB3PrMTyccxXu+xbKVO+scBJlGUR0/62E5AQa3sLqvwiIAIiIAKNI3DzLTebW2+91fz+yy8zy4bnwOrVq81tt92Wec6kByTEJiWYfT3iAMvRk0/OWMKskGDOFVaioqkpQmxYeRFGoblg1BsxyndeyhNirN+NNQ7LnBWyfOMOiYPNKDzzyqBjItAkAhJiTWoNlUUEREAERKATBLB0vfTSS0Prsnfv3sQqNvTEMU+QEBsTXIHLiDaIaAilv7zFmN27Q0fC+9oixAjcwdpi7iLPCCisVlks3BrnCTF4wc2ff8b1RG4kUqOSCHSNgIRY11p0jPrs2bPHLF++POkMMIo7zE2G/9i3bt1qlixZkrgY3HD9Dea1114buDN5uvMh7PaaC2/qt99+O3jcnrdr166B/PixYcMGg4vPqGnU+p05c8Y8/PDDZtGiRdP1e/XVVwduW+U5AzfWDxEQgVYQYI7sD++6yxCkIysRJIF32ndvuinrlIn3S4hNjDAzAxu6PXQCwSvcaIOhc9x9bRFiCDCEGJZAXAipIxETEUrD5odR3zwhRn5TUy6VmW1EbxIkZGaXtkSgEwQkxDrRjONX4q233koEER0GRm9xpeGhYJJ5Vtq0aVNyzfr16w2C6d4f/yj5/frrr09f8rOfPWfmz5+fCDZEm/3s27cvOefTTz+d3meP8f03992X5HX06NHpvNjgP6kFCxaMLMTGqR9ikbkdBONAYN59992z6lflOQMg9EMERKAVBOxgFINb27ZtMwcPHjS81/iwvWPHDrNy5cpZ75bYlZMQi010Jj+EGOHbQwl3xY0bQ0fC+9oixGzp33/fGMQmH+aUFU3jCjFC5bNumZIIdI2AhFjXWnTE+qxYscLQUbCjtmfPnk0mlzORPCsR7Wud80ZkVJcRXToVNmFRIt9REmXgGgSeTYcOHUr22Yhjo1rERq3fF198kXSM/u6FF2wRDPVbunRpMpeDnVWeM10IbYiACLSOAANBvIOspd//Zm4Y55SZJMTKo0t492SxYy+oBa56zBFjfa6iqW1CrGi9/PPyhBiuh4lron/RBddEeCuJQNcISIh1rUVHqI8VFIzWugmxg9jKSlimNm58fOAwE86xptm0atUqs5bhQmMKr5mDRW7x4sUDk9uPHTs2bTkb1SI2Tv2wBFJ27usmOkzsJ1V5jlsGbYuACLSTAO8i3im4ZPPBKvZ5ET+uCNWVEIsAMSMLgkcQXAJXPaIM8pv/OhBnRFIMzXXKyCrx+iCKZtdTnhCDHwKWcV4brIM/E1wSRw1+0nWOql93CEiIdactR64JHQNGaHGTcROhlbFAWSuZe4xtrGWIIq5jrhQuibjyuRPTr732ukSYMY+MezDf6umnn87Mk44KroyEd85K5DWKRWzc+tn7E9EM0bVz586kfqF5a1WeY8ulbxEQge4QwAuB919ZSUKsLLJpvsyZwgXx8svT0O7MncJdb9QIf7KIpTyt8CICI0z5doVZua2p3EWgegISYtUzb8wdbcAMfz4WYgjxdNoOSXkl5j92gnu4bjbW+sWpCDiEGcIKaxvzwhBQnO9b0mzWzMfC/S9L/HHeqEJs3PrZMjFnzdaRuWuhslV5ji2XvkVABLpDAGs775lx0tTUVPKe5V2b9xk3/3HKpGvGIyAhNsgN907C5I8qaAdz0S8RaD4BCbHmt1FpJRwmVE6dOjXr3syXuuOOOxKLGJazd955x2zevDkJ8EEQDxJCjYnqJ0+eHLieeWUINKxIbmI0mFDPfuRF9xy2YwuxUP3ce3L8wIEDZsuWLUn9Qta4Ks9xy6ZtERCBbhCwQYrGqQ3vUt6feR9cICXExqFb7TUSYtXy1t1EoCkEJMSa0hI1lANLGP9Bv/feewN3R2CxH0HlJ9wROWajH9rjzzzzTOLOmDfvwUYw9C1wBMZgNBff8bw0qhAbp35Z98dih7tm3uKsVZ6TVU7tFwEREAGXAJZ8CTGXSDO3JcSa2S4qlQiUTUBCrGzCDc7fjpQSRtlNzAHLCtbBelr8p+67LWI5Yv+RI0cMViIsZb4rnxVihK53E+vtuFEY3WPu9qhCbJz6YZWjPL4IZX4Y9SPPKs9x669tERCB9hLgfch7k/ej/34ps1YSYmXSjZe3hFg8lspJBNpEQEKsTa1VQlmZn0DYeVwOSbi6ELkwK3w9QgtB4rsRYg1iPxYjGyTDt5ohtq644orpe3E/gmFwXZEQzqMKMfIftX779+9PyoPbppuYI0aAElKV57hl0LYIiEC7CPB+swNbdgkO3nd8GOzi2AnC7ZWYeLfzH33eHLI+HsNN3raFvtNnUhzEQc9Aec9A3nvWn7Iz7L+E8WYVD8tVx2shYK1UrPu1d+/eZK0s5mu5nQPmMCBoiO7Ff+q33367mTt3brLgMZYi5k7RydiwYcN0HRB3PHTMr8KKds899yT/6fkCzrpBFokaNo4QG7V+jB5jEUN0MRGe+tlFpm2Y/yrPmQaqDREQgVYR+OCDD5I5sQgu3pG86wiExIdtRBjhynnfHj58uNS6Ed02bx5ZH48xp5l3O3OZ9Rlk8MO77jJMNxCXQS7wuOH6G6bnwIvPIB8GN+g7issgFwbveddnvWfzprxk/ccgIZZFpqX7CT9PFEQ6BAguv1NghYgVSzw0RD/EcsZIK9EOESkIFJtQ9wiz6667LhFtLPjsW8g4lxc+5xRJ4wgx8h21frgP3fvjHyVCkvohzBCQ1mpInlWeU4SNzhEBEWgWARanZ23FvP9keU+yBiPvXaVqCTDAuH79+mpv2pK7EQWZZVuUZhOgP+D3kWaf1c89CLFhc/37SAZxSn85ZpIQi0lTeYmACIiACHSOAANb7tqKWRXEE4FzlaolICGWzVtCLJuNhFg2GwmxMBsJsTAX7RUBERABERCB0gjQYcPi73oK+DfDyo7bIh4DStUSkBDL5i0hls1GQiybjYRYmI2EWJiL9oqACIiACIhAaQRYS5GJ77go4rrN0h8sqcGHbaLVMpeWc3CfVqqWgIRYNm8JsWw2EmLZbCTEwmwkxMJctFcEREAEREAESiVAsKAVK1ZkRudjbliRiLGlFrKnmUuIZTe8hFg2GwmxbDYSYmE2EmJhLtorAiIgAiIgApUQINARy3qwLAYfrGKsSahUHwEJsWz2EmLZbCTEstlIiIXZSIiFuWivCIiACIiACIhATwlIiGU3vIRYNhsJsWw2EmJhNhJiYS7aKwIiIAIiIAIi0FMCEmLZDS8hls1GQiybjYRYmI2EWJiL9oqACIiACIiACPSUwDvvvJMszNvT6udW+9VXXzVHjhzJPaevBzdv3pysI9rX+ufVm0Xq86LE5l3b5WNnzpxJ1t6NWUetIxaTpvISAREQAREQAREQAREQAREQgQIEJMQKQNIpIiACIiACIiACIiACIiACIhCTgIRYTJrKSwREQAREQAREQAREQAREQAQKEJAQKwBJp4iACIiACIiACIiACIiACIhATAISYjFpKi8REAEREAEREAEREAEREAERKEBAQqwAJJ0iAiIgAiIgAiIgAiIgAiIgAjEJSIjFpKm8REAEREAEREAEREAEREAERKAAAQmxApB0igiIgAiIgAiIgAiIgAiIgAjEJCAhFpOm8hIBERABERABERABERABERCBAgQkxApA0ikiIAIiIAIiIAIiIAIiIAIiEJOAhFhMmspLBERABERABERABERABERABAoQkBArAEmniIAIiIAIiIAIiIAIiIAIiEBMAhJiMWkqLxEQAREQAREQgagE9uzZY5YvX27mzZtnbr7lZnP48OHc/L/++mszNTVlvnvTTWbu3Llm8eLFZuvWreaPf/xj7nVtPDgqG7eO58+fNytXrjR33HGHu7sz2+OwOX78uFm9erWZP3++WbhwoXniiScMz1PX0qhs+Nvhb2jJkiXmG9/4hrnh+hvMa6+91jUs0/XZsGGDeeihh6Z/522MytLPS0LMJ6LfIiACIiACIiACjSDw1ltvmYsuusj88K67zEsvvWRuvfXWpCP48ccfZ5aPzjPXrF271uzatcs8/PDDye+NGx/PvKaNB8Zh49Zz586dCZcuCrFx2CDCFixYkIhTnjU64jxHmzZtcrG1fnscNjCAxfr165O/qXt//KPk9+uvv956Hn4FPvnkk+Q5KCLExmHp309CzCei3yIgAiIgAiIgAo0gsGLFisQKZq0SZ8+eTSwVjz76aLB8X331VWI5Q4S5iQ7kxRdfbDjelTQqG7fen332WcIJK2MXhdg4bHhmsLjaZw1eWEZuv/12F13rt8dhg3Vw3bp103XHmorFGYtqV9KhQ4eS9uc9gegsIsTGYenzkhDziei3CIiACIiACIhA7QS++OKLpEO0bdu2gbLQQaJjGEqMZtOJ8t2m9u7dm+zH6tGFNA4bW2860XQg16xZk1gYuybExmFz7ty5xNL66quvJphcMWa5deF7HDbUG0uhb1HGhRMLdVfSsWPHEvdLXDCp7zAhNi5Ln5eEmE9Ev0VABERABERABGonQMcIUXXw4MGBsmzfvj2xboU6y3SoEVu///LLgWuwbDDSTeepC2kcNrbeO3bsSDqan3/+eSeF2DhsTpw4kTxruLIiLubMmTM9R6xLcwvHYcNzgwUaccLf4pkzZwwuiTDChbOLiblww4TYuCx9XhJiPhH9FgEREAEREAERqJ3A22+/nXSOjx49OlCW3bt3J/tPnz49sD/rB51rRNgDDzyQdUrr9o/L5uTJk0kAEwIMkBAdXbOIjcPmvffeS54pAlEgOvbt25cE6uC5QcR3JY3DhrojRgmYw8CI/fjuv11hRD2KCLFxWfqcJMR8IvotAiIgAiIgAiJQO4FhHZ1Tp07llpHjBPmg48h3l+aHjcMGC+Jtt92WuCRacH0UYqHnBuHFc+JbQZhbiOWnK8/OOM8NrqyIdSxiWKPfeecds3nz5sSVs2uBTOzfRQwhFnrObP7ut4SYS0PbIiACIiACIiACjSCAJYzOMdYKN9EZZH+eyxhWM0KQL1q0KHGjojPZpTQOG6IkwoSIk7ho8iE4BcEo2O6K2BiHDUsi8EwRBc9NWcLFPadN2+OwwR0RNohVNz3zzDOJpRkX166lIkJsHJYhThJiISraJwIiIAIiIAIiUCsBOnh0AJnT5CZcx7KCdXCedV0kxDZzxrqYxmGDdQeeWR9cOLuQxmGD9QIu1mXTcrCWMlw6u5DGYUMAE9j4rsAHDhxI9h85cqQLaAbqUESIjcNy4CYXfkiIhahonwiIgAiIgAiIQO0EcKUjRLa1aGG1YYHmvPD1uFAxf8VeU3slSirAqGywhOFW5n5YmBf3RPb5He2Sil1JtqOyoVDMgSISoPvcIOZ5nkKBYSqpSAk3GZUNQgsh5kcitev1+YFxSihy5VkWEWIUalSWoYpIiIWoaJ8IiIAIiIAIiEDtBOyCqSzKTAh6OsqsfUWUO5sIN02HiDXG9u/fn3QaWfOI/f6nK1ETqfuobCwv97uLc8TGZYM1DMHBfEKsQIh5ftuQ9i63Nm+P+twgTHFfnTt3bhLABMspc+m6FsjEbdMsIea+a4o+Z26+oW0JsRAV7RMBERABERABEWgEAUJlY61AgCG4mM/jpr+5776kw4zIwo2RznPWpysuZrb+o7Cx17jfXRVi1HEcNlzDQsWIjmXLls2yArns2rw9KhusXqwjhjWayJJLly41rO/XJUuh255ZQsx919jzh7G052V9S4hlkdF+ERABERABERABERABERABESiJgIRYSWCVrQiIgAiIgAiIgAiIgAiIgAhkEZAQyyKj/SIgAiIgAiIgAiIgAiIgAiJQEgEJsZLAKlsREAEREAEREAEREAEREOpmb7YAAAXcSURBVAERyCIgIZZFRvtFQAREQAREQAREQAREQAREoCQCEmIlgVW2IiACIiACIiACIiACIiACIpBFQEIsi4z2i4AIiIAIiIAIiIAIiIAIiEBJBCTESgKrbEVABERABERABERABERABEQgi4CEWBYZ7RcBERABERABERABERABERCBkghIiJUEVtmKgAiIgAiIgAiIgAiIgAiIQBYBCbEsMtovAiIgAiIgAiIgAiIgAiIgAiURkBArCayyFQEREAEREAEREAEREAEREIEsAhJiWWS0XwREQAREQAREQAREQAREQARKIiAhVhJYZSsCIiACIiACIiACIiACIiACWQQkxLLIaL8IiIAIiIAIiIAIiIAIiIAIlERAQqwksMpWBERABERABERABERABERABLIISIhlkdF+ERABERABERABERABERABESiJgIRYSWCVrQiIgAiIgAiIgAiIgAiIgAhkEZAQyyKj/SIgAiIgAiIgAiIgAiIgAiJQEgEJsZLAKlsREAEREAEREAEREAEREAERyCIgIZZFRvtFQAREQAREQAREQAREQAREoCQCEmIlgVW2IiACIiACIiACIiACIiACIpBFQEIsi4z2i4AIiIAIiIAIiIAIiIAIiEBJBCTESgKrbEVABERABERABERABERABEQgi4CEWBYZ7RcBERABERABERABERABERCBkghIiJUEVtmKgAiIgAiIgAiIgAiIgAiIQBYBCbEsMtovAiIgAiIgAiIgAiIgAiIgAiURkBArCayyFQEREAEREAEREIG+Evj000/NvHnzzG233WbOnz8/gOHcuXNmyZIlZvHixeb3X36ZHPv666/N1NSU+e5NN5m5c+cmx7Zu3Wr++Mc/DlyrHyLQJQISYl1qTdVFBERABERABERABBpCYMeOHeaiiy4yO3fuHCjRxo2PJ/sPHTo0vf+JJ55I9q1du9bs2rXLPPzww8lvzlUSga4SkBDrasuqXiIgAiIgAiIgAiJQIwEsYStWrDDz5883p0+fTkpy9OhRc/HFF5v169dPl+yrr75KrGeIMDdxDudyXEkEukhAQqyLrao6iYAIiIAIiIAIiEADCOCiiKvh3XffnbgZLlu2zFx77XUG90SbPvnkk8T69dprr9ldyffevXuT/cePHx/Yrx8i0BUCEmJdaUnVQwREQAREQAREQAQaSMC6KK5evTqxcB0+fHiglIgyxJadL2YPbtiwITn/iy++sLv0LQKdIiAh1qnmVGVEQAREQAREQAREoFkEcFG89dZbE+sW4qpIYp4YbokPPPBAkdN1jgi0koCEWCubTYUWAREQAREQAREQgXYQwKK1cOHCRIitXLlyVhRFtxanTp0yP7zrruRcvjU/zKWj7a4RkBDrWouqPiIgAiIgAiIgAiLQIAIE4SCU/bZt2xKBhatiKO3evTsJ7LFo0SLz+uuv5wq20PXaJwJtIyAh1rYWU3lFQAREQAREQAREoCUE9u3bl4gvRBgJKxfBOwji4SZEGKHu7/3xjwYCebjnaFsEukZAQqxrLar6iIAIiIAIiIAIiEADCOCSeMUVVySLNLNgM4kw9oSzZ6Fnuw/3wwULFhgsZ/7izw2ohoogAqURkBArDa0yFgEREAEREAEREIH+ErjnnnuSgBvHjh0bgMACz1i/rJVs//79ye9169aZrVu3zvooauIAPv3oEAEJsQ41pqoiAiIgAiIgAiIgAk0gsGfPnkRcbdq0aVZxsHphEcNFkTXEbHh7xFnoc/LkyVl5aIcIdIGAhFgXWlF1EAEREAEREAEREAEREAERaBUBCbFWNZcKKwIiIAIiIAIiIAIiIAIi0AUCEmJdaEXVQQREQAREQAREQAREQAREoFUEJMRa1VwqrAiIgAiIgAiIgAiIgAiIQBcISIh1oRVVBxEQAREQAREQAREQAREQgVYRkBBrVXOpsCIgAiIgAiIgAiIgAiIgAl0gICHWhVZUHURABERABERABERABERABFpF4P8AJaeoN4JBPj4AAAAASUVORK5CYII=)"
      ]
    },
    {
      "cell_type": "markdown",
      "metadata": {
        "id": "UiHVGRLetVma"
      },
      "source": [
        "## a. Decision Tree\n",
        "\n"
      ]
    },
    {
      "cell_type": "code",
      "metadata": {
        "id": "aDuVQyjPtXLH"
      },
      "source": [
        "from sklearn.tree import DecisionTreeRegressor"
      ],
      "execution_count": 117,
      "outputs": []
    },
    {
      "cell_type": "code",
      "metadata": {
        "id": "qSC7mApJtro_"
      },
      "source": [
        "# Importing the dataset\n",
        "df_train_DT = pd.read_csv(working_directory + 'Train_26_8.csv')\n",
        "df_results_DT = pd.read_csv(working_directory + 'Results_26_8.csv')\n",
        "df_test_DT = pd.read_csv(working_directory + 'Results_26_8.csv')\n",
        "\n",
        "pd.options.display.float_format = '{:,.2f}'.format # Setting float format to 2 decimals\n",
        "\n",
        "X_DT_Graph = df_train_DT[['IP_ML']].values\n",
        "X_DT = df_train_DT.iloc[:, :-1].values\n",
        "y_DT = df_train_DT.iloc[:, -1].values\n",
        "\n",
        "X_train, X_test, y_train, y_test = train_test_split(X_DT, y_DT, \n",
        "                                                    test_size=0.3, \n",
        "                                                    random_state=42)"
      ],
      "execution_count": 129,
      "outputs": []
    },
    {
      "cell_type": "code",
      "metadata": {
        "id": "0vEJVM_6uFI1"
      },
      "source": [
        "tree = DecisionTreeRegressor(max_depth=5)\n",
        "tree_graph = DecisionTreeRegressor(max_depth=5)"
      ],
      "execution_count": 137,
      "outputs": []
    },
    {
      "cell_type": "code",
      "metadata": {
        "id": "4bSkjJcDuMsu",
        "colab": {
          "base_uri": "https://localhost:8080/"
        },
        "outputId": "47b2393f-b119-4504-9a49-d3aff8aa446c"
      },
      "source": [
        "tree.fit(X_DT, y_DT)\n",
        "tree_graph.fit(X_DT_Graph, y_DT)"
      ],
      "execution_count": 145,
      "outputs": [
        {
          "output_type": "execute_result",
          "data": {
            "text/plain": [
              "DecisionTreeRegressor(ccp_alpha=0.0, criterion='mse', max_depth=5,\n",
              "                      max_features=None, max_leaf_nodes=None,\n",
              "                      min_impurity_decrease=0.0, min_impurity_split=None,\n",
              "                      min_samples_leaf=1, min_samples_split=2,\n",
              "                      min_weight_fraction_leaf=0.0, presort='deprecated',\n",
              "                      random_state=None, splitter='best')"
            ]
          },
          "metadata": {},
          "execution_count": 145
        }
      ]
    },
    {
      "cell_type": "code",
      "metadata": {
        "id": "nriV7RtV0VM3"
      },
      "source": [
        "y_train_pred = forest.predict(X_train)\n",
        "y_test_pred = forest.predict(X_test)"
      ],
      "execution_count": 146,
      "outputs": []
    },
    {
      "cell_type": "code",
      "metadata": {
        "colab": {
          "base_uri": "https://localhost:8080/"
        },
        "id": "5-DUbX_lzqmB",
        "outputId": "c602c46b-dbf1-4ebf-dcd9-fe15f796f11b"
      },
      "source": [
        "print(\"R^2 train: {0:.4f}, test: {1:.4f}\".\\\n",
        "      format(r2_score(y_train, y_train_pred),\n",
        "             r2_score(y_test, y_test_pred)))"
      ],
      "execution_count": 147,
      "outputs": [
        {
          "output_type": "stream",
          "name": "stdout",
          "text": [
            "R^2 train: 0.6438, test: -0.4634\n"
          ]
        }
      ]
    },
    {
      "cell_type": "code",
      "metadata": {
        "id": "XdPYjEnBuQhv"
      },
      "source": [
        "sort_idx = X_DT_Graph.flatten().argsort()"
      ],
      "execution_count": 148,
      "outputs": []
    },
    {
      "cell_type": "markdown",
      "metadata": {
        "id": "u_1UixMsw_9T"
      },
      "source": [
        "#### Plotting for analysis\n",
        "\n",
        "In classification algorithms, even if we are using them for regression problems, there is a common scatterplot to visually check the performance of the algorithm. \n",
        "\n",
        "In the following figure, it is ilustrated a decision tree. The intention is to cross almost all observations with the line created by the algorithm (Prediction)\n",
        "\n",
        "\n",
        "\n",
        "![image.png](data:image/png;base64,iVBORw0KGgoAAAANSUhEUgAAAfwAAAEkCAYAAADKP4NRAAAgAElEQVR4Ae2dC3gV1bn+w0VbFQuKHqloIAkEJAkgEqyKF0ikFBC8AOINCviHmoAeFfBSr0CJcqnYom2qIKJFBTy1lYD1HG0FT6BcjrWF1loRChUVAoqCgmK+//OusIbZs/fsPbMzs/fM3u96nsnMrPv6fSvzzlqz9kyO0JEACZAACZAACWQ8gZyMbyEbSAIkQAIkQAIkIBR8dgISIAESIAESyAICFPwsMDKbSAIkQAIkQAIUfPYBEiABEiABEsgCAhT8LDAym0gCJEACJEACFHz2ARIgARIggaQJ5ORQRpKGl+KEtFSKgbM4EiABEsgkAhT88FiTgh8eW7GmJEACJBA4AhT8wJnEtkIUfFs0DCABEiABEkhEgIKfiFBwwin4wbEFa0ICJEACoSNAwQ+PySj44bEVa0oCJEACgSNAwQ+cSWwrRMG3RcMAEiABEiCBRAQo+IkIBSecgu+jLerr6+WHP/yhtGrVSkpLS2XVqlVSWFjoY4mpzfriiy+WJ554wvNCf/KTn8jYsWM9zzfdGf7yl7+UW265JSXVOOGEE2TLli1xy8q0/hi3sSEKvPTSS+XZZ59tdI3nzJkjP/7xjxudT6IMKPiJCAUnnIJvsUW7du3k29/+tuCC+R//8R9KsD///HNLLGenuKC2bdtW9u/fHzMByvrv//7vmGHw/MMf/qDS20ZIEPDUU09J06ZNVVtOPPFE6datm7z88ssJUjkP9kLwG9tG57VtiLlz504ZM2aMtGnTRlq0aCGdOnWS++67z9ZGTvIH5wsuuCBu1EOHDskZZ5wh//73v1W8rVu3Ci6U6Ge6rw0cOFBeffXVuPkEPRB9Xrfp+OOPj2gj/P/1r3/52oR//vOfRpmwb/v27WXmzJm+lhnUzA8cOCCnn3661NXV+VpFCr6veD3NnIJvwWkWYVyci4qK5I477rDEEsHo/ZtvvonyN3s888wzcYXAXJY5nT5urBiahQh1/dnPfibHHXec7NmzRxdh7L/++mvj2OlB2AQf7Qbza665RiC4cNu3b5ebb75Z3n77bafNjopn5hwVeMRjyZIlUl5ebgRrwdfcP/zwQ5k7d64SS+SXCc7axlhtQr9M9H8UK52dnxZ8Hb527VrV519//XXt5dle286zDH3ICDOMjzzyiA85H82Sgn+URdCPKPgWC1lFeNKkSYKRFxwE7u6775bzzz9fzQLg4vLBBx/IZZddJieddJIUFBTIr371KxX3ySeflG9961vGCBujSLOAX3/99dKkSRNjNuHhhx+OqAlmBTDTgDh6xISyDh48qKaFv/vd7wo2TBHDL5azChHyxD/n+vXrjbo89NBDctpppwnqA4f6ox1oD9qFMrXD6BMj4u985ztSWVkpF110kTGlf//998t1112noypBRVn6ogixxcUHdcYjjiFDhqhRdaw2WvP67W9/K126dJGWLVsqG/ztb38zyoG9Zs2aJSUlJapew4cPly+//NIINx9gerO4uDiuwPzv//6v9OzZU+WFPc61A8+8vDw1M4CRI6ZdUReznVHHWG706NEybdo0I8hODNEWzCxpEQT/K6+8Uk455RQ1Wn300UeNPA4fPix4/JGfn6/q1KNHD3UDgwhgj/4JV1NTI2eddZaKgxEfyoAz90ecoy3o42gDeIO7dqNGjZKKigoZMGCAyqdXr17y3nvv6eCYe7s2Yjbknnvuke9973uqjyPeJ598ovoHZl4wK3bvvfcaDJA5Hh2h76Hv9O/f32intWCr4CP87LPPlp/+9KdG1B07dsjll19uMJ03b54RhlEx+jEYgFlVVZW6SdQRUDfMGKAfHXPMMco7Xn5r1qxR5WOGDXbF9QQO5eDG8+STT1Zl4ZHf7t27VRj46Js+9IMHH3xQcnNz5dRTTxXYYd++fSqebuvTTz+tmKGPoL5mt3DhwogbTXOYV8cUfK9I+p8PBd/C2Cz4GP3hwoeLExwuhmeeeaZs2rRJCdlXX32lRO+mm25SIvPWW2+pi8j//M//qPhWwbVeYM1lWaqhTq3x4YkL4bnnnisff/yx7Nq1S8477zyjftY8zOVDeDGCxDTnp59+qi72zZo1kylTpqgbhi+++EJee+01ad26tWzcuFH5TZgwQS688EKVLS5GuGgtXbpU0G5cQJFeP8O3irT1Yg+hgBjv3btXpf/jH/9o20ZzXv/4xz8EU8O42UC5uDHCDQmmyOHAEBdLCCNuKjp37iy/+MUvVJj1D7jhxsvOIT0EZdGiRcq+ixcvVueYEsXNEtr/zjvvqOR4NIB+AGfmbJc3bh4wytfOykf747k7LqAQX1zsIeK44KO9CMMNxyuvvKKia+FBnTDj9Oc//9mYvjULPkQUU+1w4A/7wpn7F9iCK24gUBb6AvqKbi+EBjeBf/rTnxSba6+9Vq6++mqVj90fuzZC0GA3tBHlom/iphr/RxBCzHag3bhphkOfw9oX1AVx0T969+4ds1gtgggEkzfffFPdVPzud79T8XGThEdbup2Ij7ro/9nbb79d+vTpo25A8P+PGT6EawfBR90g8vifSZQf7I5+BPfZZ58JZhzgcJOBm16dB27C9aNDs+BXV1dLx44d5f3331fpBw8erG6MkIdu6/jx49X1B3Y99thj5d1331Vl4A/shRsFPx0F30+63uZNwbfwxD83RtS4w8ddNS5C+KeEg+BDcLXDBQHPyPGPrN2dd96p7sJxbhUC8wUW4SjL7TN8jOYwYtMOF3/zBUn7Y4/yIcpoC4QcgqfLQ10wQjGPhvFse/LkyUYWuAA1b95cjdYxikB67XAxxcXPieBDHDFTAbGxOisThJsFf+rUqTJs2DAjGUQQo1Skg0Pb8ehEO9QfF8BYrkOHDrY3A4gPocfNg9lhFAqOEHxwXLZsmdEfdDyrnbW/eY+yV65caXjZiSHsgQsohArigBtMs5sxY4ZxwYcIvvTSS+Zg49gs+MgDCwb1yFBHMrPHDQFmevTMAuKMGDFC2QLHEHzzQkr0QYy44zm7NkLQcBOjHR6dYabHPFMFW+hHINhjpKodRB/CptdDaH/stQjCVsgTHHBTi/4KB664aTI79LEbb7xReYGVFn944ObR/P+FPo//Be0S5YcbcrTV+hwdQg4Of/nLX3RWxt4s+JhFQ1ztcJOJtsNOuq24QdIOsxm4QdION1V6JkL7eb2n4HtN1L/8KPgWtvFEGIKvp+yRDBdkTKOZHS4Q+kJlFQLzBRZp4pWFcGt8+OEipkeWOP/73/9u+w9tLR/xtUPeEE6zw1SpeXoTYRABXNQwVTh06FBzdDUl60TwMcrADUcsF6uNZsH/0Y9+ZEyD6vS48dCrmK0MzWl1fL1PNMLH4w1rGzGKnT59usoCN1ewLcQEMxZgDxePsy4bNxJORviYJscFFBfqF154wbhhQ5nYMOr+wQ9+oLLFeoy//vWvuoiIvVnw161bJxgZYvYCAlJbW6vimtk///zz6lGGOROsXdFCCME3r/g2pzWnMR/HE/wFCxYYUfHYBDeEuo3YYzYFj2ngMMLVN+E6Dv4P9GjZyMgk+PDD6BszQnj8gJkEuF//+tcxmQ4aNEiF4wYXs0raLV++PErwzesBEuWHWQn0IfR/9AF9s45ZFPRVzEjh/xCscSMDZxZ83CjqGR2E4SYctv3oo48Mwdd1tabFOUf4Zjo8puBb+oBVQMzBEHwtcPCPNcK/6667HI/w8RxYj7jN5ehjTHtjRGF21hH+73//+4gLkjluPCGKdcG2jvAxqtUjfIyw4o3wMb18xRVXGMXj2SUuTLiI6RE+ntNaXaw2mkXbOsLHSM06wjczNKe1lgXBgoiYR7HmOLFG+BihgaPZYcbntttuM6aVwQYX6XgOo2N944B4dmJofoYPYcYF3845HeHr9BA9PIrBrwXgzH0g1ggfz5jBE85rwTczxf8RBN3OLn379hXckDhxetRrjot++/Of/1x5oZ0QWTsHNnicoV2sET64aZcoPx0PbUMbcKNinlVDOKbrYUs9i2EWfOsIf/PmzVEjfF0G9ua0OEeeegBijuflMf7P6cJBgJay2MmN4CMpniViARv+ibHSGwtz9E+rrIJrvsAiLS5E5uk6S1XUCBIXCDxz1w6iBRHC83s8V8c/uHnkpeNhby3fHGatC8IwlYkZC6xFwPQqVq9rIUNZGF2++OKLSsSxHsD8DB9txigGP7tCfTGi1IKPvDEihoDoZ/hvvPGGqg5GydY2mkUbIyQ8w0fdIFgQREzJmp/hOxV8vUofCxS3bdumyse08K233qpsh2lXjCAxasONCi7QOEfbMaLCIjbcBOHijbUAuAGEw1Q9+o2uk/K0/AE3/L5aO6vgI3+IEhjPnz9fRcMIFc+LMfOgn/ViRI8ROxxusnADg2e2uBFC/9NTx2AP8UOdMBui+xCei6OucOY+gHi4mcRMDjgjDHXRsxh+Cj7qgv4BO+CxA/ii7rqPYGYE7cSsBxxuHM3T1srzyJ9Ygv+b3/xG3TijT8OuXbt2ldmzZ6v/WTDGtPqGDRtUDriRKysrU2XgOT0W52leiIAbcLDRLlF+uIlE/4FDP8GsDFjjpgK2RFthM6wV0I+mzKKNGw48OkF/waNDLDaELeBitdWcFnGwWBS/x/fTUfD9pOtt3hR8C0+3go+LAhYcYUETLpj4B9XOKrjmCyzi4PkrnhlCVPTKaZ1W7/EPq1fyYmEabiwmTpyofkeOxVg4to4YdFpr+dofe2tddBjqj3agPWgX2qcdLliYXo21Sh9xsIobbdG/VjALPsR25MiR6oYIU8vm2QBrG82Cj3z/67/+S62YRrkY8ZgfaVjtZU2r6673YIjy8KgCgoaL6QMPPKAWiyHO6tWrlciiLIgtzuEwS4Gy4Y82Quwx2oLDBRyCBWZ2jy4gorA1yofTgo+RLW5osLAKU/Xm5/yIh/h4lo76ghtuEvUNDsQKK/8xU4S2YIGYtpdZ8L///e+rtJgmRxzdJmsfAFfdRqxQB3ft/BZ83AiOGzdOCSoYd+/eXT3S0OWjL0MU0QZw1I8adLjexxJBiCrs/Pjjj6touMnDAlLNFDfQepoeU+ZYkAgbgwFmmDD61s4q+PCPlx9sh5to2Af114sHIe76UQXqgV/bwJ5wZtGGH24uMfOAfG644Qbj5i1WW81pcZOIX8XoGw7dBq/3FHyvifqXHwXfP7bMmQQiCGA2J1Vv2osomCdJE8C7K/BIIYwOj2/wiNFvR8H3m7B3+VPwvWPJnEiABEJOAKN1LCLErAAeIeDxkX7+H/Km+VZ9Cr5vaD3PmILvOVJmSAIkEFYCeNcB3r2BxyyYvseLcvA4hs6eAAXfnk3QQij4QbMI60MCJEACISJAwQ+PsSj44bEVa0oCJEACgSNAwQ+cSWwrlPGCj1XT55xzDjcyYB9gH2AfcNgH7H5tEktJKPixqATTL+MFH2JPRwIkQAIk4JyAm+smBd8513THpOCn2wIsnwRIgAQCRoCCHzCDeFQdCr5HIJkNCZAACWQKAQp+plgysh0U/EgePCMBEiCBrCdAwc/MLkDBz0y7slUkQAIkkDQBCn7S6AKdkIIfaPOwciRAAiSQegIU/NQzT0WJngo+3t2Mt1ThIxH4aAQ+6oJPP+J71PjMJz5YgQ+NwOHLVTjHh1YQjo+JaDdjxgzlj49WmL8FjQ+LwA9p8FUvJ85Nx3WSH+OQAAmQQKAJPPusCL6I2KRJwx7nLp2b6yZX6buEm8bongk+3kGNr3bhC01ww4YNU59nxf65555TfuPHjze+WPXYY48JzuEQDvGHwxfI8PlK3BDgZgFfbsMXo7DhGK++xE0D4uivlamENn/cdFybLOhNAiRAAuEgAHE//ngRfKNebzh3KfpurpsU/HB0DdTSU8HHJxzxGVR8IxqfVsXoHC9wwDlcbW2t9OvXTx1jj3M4hCMevumN0T027XQ8c1qEWePp+Na9m45rTctzEiABEvCawIsvitx7r09by7lyb86Dans4Z/JR0ceI34Vzc92k4LsAm+aongk+2jF37lzB973x3WZ8UxrfYcb0u3bbt29X0/04x7S//nY3zjF6R/zKykrBt6K1GzNmjCxdulRtY8eO1d6yaNEiFdfwMB3gM6TosNhyc3NNITwkARIggfQSaN26QYcx4+75lvONNDmytcnZeVTwUZALR8F3AStEUT0T/L1790qfPn1k165d6utSQ4YMUaJsFfzi4mKFB8/6rYJfV1cnFRUVUYK/bNkyWbJkiVgFf8KECQlRu+m4CTNjBBIgARJoJIFWrURuuaWRmdglx0heT+Wb9xzh2xHLKn/PBB+CjNG4dk8//bT86Ec/4pS+BsI9CZAACYhIy5Y+Cj6f4bOPxSHgmeCvXbtWrdA/cOCAehY/cuRI+dnPfiZDhw6NWLSHxXpw8+bNi1i0h8V9cJs2bYpYtJeXl6cW7OE5P46xkE8v2kPcRI4j/ESEGE4CJJBKAr4KPhoC0ecq/VSaNDRleSb4aPF9990nnTp1Us/nr7/+erXSHqvqS0tL1bN8iD9W38PhJ3s4x5Q/whFPu+nTp6tn+vgJ3ooVK7S31NTUSMeOHVUY4jhxFHwnlBiHBEggVQQg+P/5n6kqLbly3Fw3uWgvOcbpSOWp4KejAYnKdNNxE+XFcBIgARJoLIHvfIeC31iGTJ8cAQp+ctyYigRIgASSIgDBv/XWpJKmLJGbgRJH+CkzS6MLouA3GiEzIAESIAHnBE48kYLvnBZjekmAgu8lTeZFAiRAAgkIUPATAGKwbwQo+L6hZcYkQAIkEE0Agn/bbdH+QfLhlH6QrOFdXSj43rFkTiRAAiSQkECLFhT8hJAYwRcCFHxfsDJTEiABEohNAIJ/++2xw4LiyxF+UCzhbT0o+N7yZG4kQAIkEJfACSdQ8OMCYqBvBCj4vqFlxiRAAiQQTYCCH82EPqkhQMFPDWeWQgIkQAKKAAR/0qRgw+CUfrDtk2ztKPjJkmM6EiABEkiCwPHHU/CTwMYkHhCg4HsAkVmQAAmQgFMCEPzJk53GTk88jvDTw93vUin4fhNm/iRAAiRgInDccRR8Ew4eppAABT+FsFkUCZAACVDw2QfSRYCCny7yLJcESCArCUDwp0wJdtM5pR9s+yRbOwp+suSYjgRIgASSIPDtb1Pwk8DGJB4QoOB7AJFZkAAJkIBTAhD8O+5wGjs98TjCTw93v0v1TPDfeecd6datm7GdeOKJ8sgjj8iePXukvLxcOnTooPZ79+5Vbaqvr5eJEydKQUGBlJSUyMaNG422Lly4UMVHGhxrt2HDBikuLlZpkBZ5JHJuOm6ivBhOAiRAAo0l8K1vUfAby5DpkyPgmeCbiz98+LCcdtppsm3bNpk8ebJUVVWpYOynHHl4VVNTI/3791eivWbNGunVq5eKgxuEvLw8daOAmwMc65uE0tJSqa2tVWmQdsWKFeZiYx5T8GNioScJkECaCFDw0wSexYovgv/73/9ezj//fIW3sLBQdu7cqY6xxzncuHHjZPHixeoYf3Q8+CFMOx0PaTt16qS9VVpzPCPAckDBtwDhKQmQQFoJHHusyJ13prUKCQt3c93MyfFFRhLWkRHcE/DFUqNHj5af//znqjYtW7aMqFWrVq3U+cCBA2X16tVGWN++fWX9+vUya9YsmTZtmuE/depU5YewsrIyw3/VqlWCPGK56upqQYfFlpubGysK/UiABEggLQQo+GnBzkJFvB/hHzp0SFq3bi0fffSRAmwn+AMGDIgSfDyjnzlzZpTgz549W9atWxcl+IMGDUpoRDd3qgkzYwQSIAESaCQBCP5ddzUyE5+Tu7lucoTvszE8zN7zEf5LL70kl156qVFFPVUPD07pG1h4QAIkkKUEjjmGgp+lpk97sz0X/KuvvloWLFhgNGzSpEkRi/awiA9u+fLlEYv2sCAPDov22rdvrxbqYbEejuEH17NnT8ECP6zOx6I9LPxL5NzcqSbKi+EkQAIk0FgCFPzGEmT6ZAl4KvgHDhyQk08+WT799FOjPnV1dYLn8/iJHfZavCHaFRUVkp+fr35qh2f02s2fP1/99A4/2TPfPCBOUVGRSlNZWcmf5Wlg3JMACYSGQPPmInffHezquhkocUo/2LY0185TwTdnHJRjNx03KHVmPUiABDKXAAU/c20b9JZR8INuIdaPBEggowhA8H/842A3yc1AiSP8YNvSXDsKvpkGj0mABEjAZwLNmlHwfUbM7G0IUPBtwNCbBEiABPwgQMH3gyrzdEKAgu+EEuOQAAmQgEcEmjYVuecejzLzKRtO6fsENs3ZUvDTbAAWTwIkkF0EKPjZZe8gtZaCHyRrsC4kQAIZTwCCf++9wW4mR/jBtk+ytaPgJ0uO6UiABEggCQJNmlDwk8DGJB4QoOB7AJFZkAAJkIBTAhR8p6QYz2sCFHyviTI/EiABEohDAF+Tve++OBECEMQp/QAYwYcqUPB9gMosSYAESMCOAAXfjgz9/SZAwfebMPMnARIgARMBCP7995s8AnjIEX4AjeJBlSj4HkBkFiRAAiTglAAF3ykpxvOaAAXfa6LMjwRIgATiEKDgx4HDIF8JUPB9xcvMSYAESOAogfp6EQj+Aw8c9QviEaf0g2iVxteJgt94hsyBBEiABBwRoOA7wsRIPhGg4PsEltmSAAmQgJWAFvwHH7SGBOucI/xg2cOr2ngq+J988olcddVV0qlTJ+ncubPU1tbKnj17pLy8XDp06KD2e/fuVXWvr6+XiRMnSkFBgZSUlMjGjRuNNi1cuFDFRxoca7dhwwYpLi5WaZAWeSRybjpuorwYTgIkQAKNIfDNNw1T+hT8xlBk2mQJeCr4I0eOlCeeeELV5dChQ4IbgMmTJ0tVVZXyw37KlCnquKamRvr3769Ee82aNdKrVy/ljxuEvLw8daOAmwMc65uE0tJSdRMBoUfaFStWqDTx/lDw49FhGAmQQCoJUPBTSZtlWQl4Jvj79u2T9u3bR426CwsLZefOnapc7HEON27cOFm8eLFRHx0PfgjTTsdDWswcaGeNp/2tewq+lQjPSYAE0kXg8OGGEf7UqemqgbNy3Vw3c7AKkS4UBDyz1FtvvSUYgY8aNUq6d+8uY8eOlf3790vLli0jQLRq1UqdDxw4UFavXm2E9e3bV9avXy+zZs2SadOmGf5Tp05VfggrKysz/FetWiXII5arrq4WdFhsubm5saLQjwRIgARSToCCn3LkLNBEwDPBhyA3a9ZM1q5dq7K/+eab5Z577rEV/AEDBkQJPp7Rz5w5M0rwZ8+eLevWrYsS/EGDBpmaEvvQzZ1q7BzoSwIkQALeENCCbxrTeJOxx7m4uW5yhO8xfB+z80zwP/zwQ2nXrp1RVYzAIep6qh4BnNI38PCABEggCwl8/XXDlD4FPwuNH4Ameyb4aEvv3r3lnXfeUc26//77ZdKkSWozL9rDIj645cuXRyzaw+MAOCzaw1oALNTDhmP4wfXs2VOwwE8v2sPCv0TOzZ1qorwYTgIkQAKNIaAFf/r0xuTif1o3102O8P23h1cleCr4eI6PjoKf2Q0ZMkQJdl1dneD5PH5ih70Wb4h2RUWF5Ofnq5/a4ZGAdvPnz1c/vcNP9hYsWKC91TP+oqIilaaysjJqgaAR0XTgpuOakvGQBEiABDwn8NVXDSN8Cr7naJmhAwKeCr6D8lIehYKfcuQskARIwIYABd8GDL1TQoCCnxLMLIQESIAERLTg/+QnwabhZqDEKf1g29JcOwq+mQaPSYAESMBHAocONUzpU/B9hMysbQlQ8G3RMIAESIAEvCWgBX/GDG/z9To3jvC9JhqM/Cj4wbADa0ECJJAFBA4ebBjhU/CzwNgBbCIFP4BGYZVIgAQykwAFPzPtGpZWUfDDYinWkwRIIPQEtOAf+Z5YYNvDKf3AmqZRFaPgNwofE5MACZCAcwJfftkwpU/Bd86MMb0jQMH3jiVzIgESIIG4BLTgP/RQ3GhpD+QIP+0m8KUCFHxfsDJTEiABEogm8MUXDSN8Cn40G/r4T4CC7z9jlkACJEACigAFnx0hnQQo+Omkz7JJgASyioAW/IcfDnazOaUfbPskWzsKfrLkmI4ESCBzCDz7rAg+792kScMe5z64AwcapvQp+D7AZZYJCVDwEyJiBBIggYwmAHE//vgGJc7Jadjj3AfR14I/c2awiXKEH2z7JFs7Cn6y5JiOBEggIYF33xWZMyfg20lTZU7OrdEb/D2uO36Oh3sKCn7CrsMIPhCg4PsAlVmSAAk0EBg1KnLgrAfQ2b5/4YVg9xCO8INtn2RrR8FPlhzTkQAJJCRw7bUi+fki+/YFeDuzSPblnBi9wd+Heu/fnxBb2iNQ8NNuAl8q4Kngt2vXToqLi6Vbt26iO8yePXukvLxcOnTooPZ79+5VDamvr5eJEydKQUGBlJSUyMaNG40GLly4UMVHGhxrt2HDBpU/0iAt8kjkdD0SxWM4CZCA9wSuuUakY0fv8/U0xxQ+w/e03j5m5ua6mYPpGrpQEPDUUhD83bt3RzR88uTJUnXkPZLYT5kyRYXX1NRI//79lWivWbNGevXqpfxxg5CXlyfY4+YAx/omobS0VGpra1UapF2xYkVEWbFO3HTcWOnpRwIkkDwBCH5hYfLpU5YSop+CVfopa08jC3Jz3aTgNxJ2CpP7LviFhYWyc+dO1STscQ43btw4Wbx4sdFUHQ9+CNNOx0PaTp06aW+V1hzPCLAcuOm4lqQ8JQESaCSBESNCIviNbGemJXdz3aTgh8f6ngp++/bt5eyzz5YePXpIdXW1otCyZcsIGq1atVLnAwcOlNWrVxthffv2lfXr18usWbNk2rRphv/UqVOVH8LKysoM/1WrVgnyiOVQNjosttzc3FhR6EcCJJACAhB80316CkpkEV4QoOB7QTF4eXgq+B988IFq4ccffyxdu3aVN954Q+wEf8CAAUCJRuEAACAASURBVFGCj2f0M2fOjBL82bNny7p166IEf9CgQQmJuum4CTNjBBIgAVcErr6agu8KWEAiu7lucoQfEKM5qIangm8u7/7771cjcz1VjzBO6ZsJ8ZgEMp8ABL9z58xvZ6a1kIKfaRZtaI9ngr9//3757LPPVK44Pu+882TlypUyadKkiEV7WMQHt3z58ohFe1iQB4fFeng0gIV62HAMP7iePXsKFvhhdT4W7WHhXyLnpuMmyovhJEAC7ggMH07Bd0csGLHdXDc5wg+GzZzUwjPB37Jli5rGx1R+ly5dZPr06ar8uro6wfN5/MQOey3eEO2KigrJz89XP7XDM3rt5s+fr36uh5/fLViwQHurZ/xFRUUqTWVlJX+WZ5DhAQkEkwAE/6yzglk31sqeAAXfnk2YQzwT/KBCcNNxg9oG1osEwkpg2DAKfhht5+a6yRF+eCxMwQ+PrVhTEggdgaFDRbp0CV21s77CFPzM7AIU/My0K1tFAoEgQMEPhBlcV4KC7xpZKBJQ8ENhJlaSBMJJ4KqrRIqKwln3bK41BT8zrU/Bz0y7slUkEAgCFPxAmMF1JSj4rpGFIgEFPxRmYiVJIJwErrxSpLg4nHXP5lpT8DPT+hT8zLQrW0UCgSBAwQ+EGVxXgoLvGlkoElDwQ2EmVpIEwkngiitESkrCWfdsrjUFPzOtH1Pw33zzzajWxvKLihRADzcdN4DVZ5VIINQEKPjhNJ+b6yZ/hx8eG8cUfHzxzupi+VnjBPHcTccNYv1ZJxIIM4HLLxfp2jXMLcjOuru5blLww9NHIgS/trZW8GW6M844Q+bMmWNs+BAOXpkbRuem44axfawzCQSZAAU/yNaxr5ub6yYF355j0EIiBP+Pf/yjPPDAA9KmTRu1xzE2iP+7774btLo7qo+bjusoQ0YiARJwTGDIEJFu3RxHZ8SAEHBz3aTgB8RoDqoRIfg6/rZt2/Rh6PduOm7oG8sGkEDACFDwA2YQh9Vxc92k4DuEGoBoEYJ/yy23qCoNGjRILrvssqgtAPV1XQU3Hdd15kxAAiQQl8DgwSLdu8eNwsAAEnBz3aTgB9CANlWKEPyNGzeqaJjaj7XZ5BFobzcdN9ANYeVIIIQEKPghNJqIuLluUvDDY+MIwcf36uGmTJkSnhYkqKmbjpsgKwaTAAm4JHDZZSIxfvTjMhdGTzUBN9dNCn6qrZN8eRGCf9ZZZ6mRfefOneX//u//BCN+85Z8MelL6abjpq+WLJkEMpMABT+cdnVz3aTgh8fGEYK/dOlS6d+/v7Ro0UIuueSSiK1Pnz6OWnX48GHp3r27DBw4UMV///33pVevXtKhQwcZPny4HDp0SPkfPHhQnRcUFKjwrVu3GvnPmDFD4F9YWCivvPKK4b9y5Urlh7CqqirDP96Bm44bLx+GkQAJuCcwaJBIjx7u0zFFegm4uW5S8NNrKzelRwi+Tjh16lR96HqPn/Bdc801huAPGzZMnnvuOZXP+PHj5fHHH1fHjz32mOAcDuG4GYDbvHmz+s0/bghws5Cfny+4icCG4y1btqibBrwXAHETOTcdN1FeDCcBEnBHgILvjldQYru5blLwg2K1xPWIKfhI9tvf/lZuv/12tb388suJcxKRHTt2CNYBvPbaa0rw6+vrpXXr1vL111+r9HixT79+/dQx9jiHQzjiIT5G99i00/HMaRFmjafjW/duOq41Lc9JgAQaRwATfeec07g8mDr1BNxcNyn4qbdPsiXGFPw777xTCff8+fMFW3l5ucAvkbvqqqtkw4YN8oc//EEJ/u7du9XUvE63fft2KSoqUqfY4wZBO4zeEb+yslKeeeYZ7S1jxowRPGrANnbsWMN/0aJFKq7hYTqorq5Wq0zRaXNzc00hPCQBEkglAQp+Kml7VxYF3zuWQcoppuCXlJTIN998Y9QT0+nwi+cwC3DTTTepKFrwd+3aFSX4xUc+jt2lS5cowa+rq5OKiooowV+2bJksWbIkSvAnTJgQr0oqzE3HTZgZI5AACbgiMGCASM+erpIwcgAIuLlucoQfAIM5rIKt4O/Zs8fIAseJBB8zAG3btpV27drJaaedJscdd5xce+21nNI3KPKABLKPAAU/nDan4IfTbolqHVPwFy9erKbCR40aJSNHjpT27dsbC+8SZYhwPcLH8dChQ420WKSHxXpw8+bNi1i0h8V9cJs2bYpYtJeXl6cW7OE5P46xkA8r/bFoD3ETOTcdN1FeDCcBEnBH4Ac/ECktdZeGsdNPwM11kyP89NvLaQ2iBB8L5/CsfefOnWrh3ksvvSQffvih0/xUPLPgY1V9aWmpmtqH+GP1PdyXX36pbgbwEzuEI55206dPVyvy8bO8FStWaG+pqamRjh07qjDEceLcdFwn+TEOCZCAcwIUfOesghTTzXWTgh8ky8WvS5TgI3qPDPrhrJuOGx8VQ0mABNwS6N9fpFcvt6kYP90E3Fw3Kfjptpbz8mMKPhbOrVu3znkuAY7ppuMGuBmsGgmEkgAE/9xzQ1n1rK60m+smBT88XSWm4OMVu02bNlVT51ish5X1iRbtBbXJbjpuUNvAepFAWAl8//sU/DDazs11k4IfHgvHFPxt27ZJrC08zTpaUzcd92gqHpEACXhBAIL/ve95kRPzSCUBN9dNCn4qLdO4siIEHwvpHnnkEfVCm1/+8pfGG/IaV0R6U7vpuOmtKUsngcwjgBdrUvDDZ1c3100KfnjsGyH4eJ/9ddddJxD7IUOGyM033xyeltjU1E3HtcmC3iRAAkkSgOCfd16SiZksbQTcXDcp+Gkzk+uCIwRfvwUPueB372dnwIes3XRc1/SYgARIIC6BSy+l4McFFNBAN9dNCn5AjRijWhGCbxV463mM9IH3ctNxA98YVpAEQkagvFzk/PNDVmlWV32LxCkGCr5TUumPFyH4WJl/4oknqq1FixbSrFkz4xj+YXQU/DBajXXOFAIU/HBa0s11k4IfHhtHCH54qu28pm46rvNcGZMESMAJgbIykQsucBKTcYJEwM11k4IfJMvFrwsFPz4fhpIACTSCAAW/EfDSmJSCn0b4PhZNwfcRLrMmgWwn0LevSO/e2U4hfO2n4IfPZk5qTMF3QolxSIAEkiJAwU8KW9oTUfDTbgJfKkDB9wUrMyUBEgCBPn1ELryQLMJGgIIfNos5qy8F3xknxiIBEkiCAAU/CWgBSELBD4ARfKgCBd8HqMySBEiggcAll4hcdBFphI0ABT9sFnNWXwq+M06MRQIkkAQBCn4S0AKQhIIfACP4UAXPBB8f3iktLZWuXbtKly5d5L777lPVff/996VXr17SoUMHwbv6Dx06pPwPHjyozgsKClT41q1bjebNmDFD4F9YWCivvPKK4b9y5Urlh7CqqirDP96Bm44bLx+GkUAgCDz7rEi7diJNmjTscR5gd/HFItjowkXAzXWTv8MPj209E/z6+nr5/PPPVcu/+uorJeJr1qyRYcOGyXPPPaf8x48fL48//rg6fuyxxwTncAjHzQDc5s2b1U0Dbghws5Cfny+HDx9WG463bNmibhpwY4G4iZybjpsoL4aTQFoJQNyPP14kJ+fohvMAiz4FP609JunC3Vw3KfhJY055Qs8E31zzAwcOqA/vrF27Vlq3bm18Zre2tlb64fNZImqPczh8qAfxcNOA0T027RAf8cxpEWaNp+Nb9246rjUtz0kg3QRee02kuvrIdvKdUp3z/6I3+Os4Adt37CiCaX26cBFwc92k4IfHtp4KPkbi3bp1kxNOOEGmTJkiu3fvVlPzGsf27dulqKhInWK/Y8cOHaRG8ohfWVkpzzzzjOE/ZswYWbp0qdrGjh1r+C9atEjFNTxMB9XV1erjD+i0ubm5phAekkB4CNTXixx77NHBvHlgH6bja64JD3PWtIEABT8ze4Kngq8RffLJJ3LJJZfIqlWrogRff4IXz/mtgl9XVycVFRVRgr9s2TJZsmSJWAV/woQJukjbvZuOa5sJA0ggDQQOH24Q+0mTRD74QOSDtqXyQc53ozf4Izyg29dfpwEei2wUATfXTY7wG4U6pYl9EXy04IEHHpCZM2dySj+l5mRhmUTg4MEGwTeecIXwGX4m2SOb2kLBz0xreyb4u3btEozs4b744gvp3bu3vPzyyzJ06NCIRXtYrAc3b968iEV7WNwHt2nTpohFe3l5eWrBHp7z4xgL+bDSH4v2EDeRc9NxE+XFcBJIJYH9+xsEf+ZMU6kQ/RCt0jfVnIchIuDmuskRfngM65ngv/3229K9e3cpKSlRz+kffPBBRQGr6vFzPfyUDuKP1fdw+BkfzuGPcMTTbvr06eqZPn6Wt2LFCu0tNTU10rFjRxWGOE6cm47rJD/GIYFUEfj00wbBnzMnVSWyHBJoIODmuknBD0+v8Uzwg9pkNx03qG1gvbKAQIyR+549DYL/6KNZ0H42MVAE3Fw3KfiBMl3cylDw4+JhIAmkgIDNs/mPH1uqfnJ/5ClYCirCIkiggQAFPzN7AgU/M+3KVgWQAJ5CtW0bY2u2U9rm7Ija2jT7WAk+fmNPRwKpJEDBTyXt1JVFwU8da5aU5QTKykROO00Er5OI2HKelLE5T8TYnpSbbhIxva4iywmy+akiQMFPFenUlkPBTy1vlpbFBPBd+JhvncOq+1hv0oE/HQmkgQAFPw3QU1AkBT8FkFlEFhCIsejO2upzz8Urpa2+0vAu/JC9Iz9GK+iVQQQo+BlkTFNTKPgmGDwkgaQI2Cy6s37UpkcPkUGDbEpwcMNgk5LeJOA5AQq+50gDkSEFPxBmYCWCTODFF0XwSYYzzrDZmn0gZ+Rsj97gb0rTvLnIlVcGuaWsGwk0EKDgZ2ZPoOBnpl3ZKg8J4F32zZqJjBljs+XMlzE5T8bY5kelef11DyvGrEjAJwIUfJ/ApjlbCn6aDcDig0/g1ltFWrSIU08uuosDh0FhJEDBD6PVEteZgp+YEWNkOYFbbhFp2TIOBIfP8OPkwCASCBQBCn6gzOFZZSj4nqFkRplKAF9hPumkBK3jorsEgBgcJgIU/DBZy3ldKfjOWTFmlhLAy29OOSVLG89mZyUBCn5mmp2Cn5l2Zas8JDBuXMMb8jzMklmRQKAJUPADbZ6kK0fBTxodE2YLAbwG9/TTs6W1bCcJiFDwM7MXUPAz065sVSICLp65jx4tcuaZiTJkOAlkDgEKfubY0twSCr6ZBo+zg4DLVfUjR4q0b58daNhKEgABCn5m9gPPBH/79u1yySWXSOfOnaVLly4yd+5cRWzPnj1SXl4uHTp0UPu9e/cq//r6epk4caIUFBRISUmJbNy40SC8cOFCFR9pcKzdhg0bpLi4WKVBWuSRyLnpuInyYngKCLgYeZtr88YbIgUFDW/Ew1vx4m7NdkhuzrboDf4x0uI198ibjgSyhYCb62YOPvxEFwoCnllq586dhmh/9tln0rFjR9m8ebNMnjxZqqqqFAzsp0yZoo5ramqkf//+SrTXrFkjvXr1Uv64QcjLyxPscXOAY32TUFpaKrW1tSoN0q5YsSIhZDcdN2FmjOAvAZcjb3NlHnqo4YNzN9wg8sMfJthyFsgP7TabtE89ZS6NxySQ2QTcXDcp+OHpC54JvrXJgwcPlldffVUKCwsFNwNw2OMcbty4cbJ48WJ1jD86HvwQpp2Oh7SdOnXS3iqtOZ4RYDlw03EtSXnqI4HNm0UgohFb69vlqZxR0Rv8rXEt54MHizRpIuJg0keEb8bz0bLMOhMIuLluUvDDY3FfBH/r1q1y5plnyr59+6Sl5RVlrVq1UnQGDhwoq1evNkj17dtX1q9fL7NmzZJp06YZ/lOnTlV+CCsrKzP8V61aJcgjlquurlbPoNBpczFHSxc4AuefH/sT8LE+C+/Uz/Fz9kbMJAQOJCtEAj4QoOD7ADUAWXou+J9//rn06NFDXsQnxgSvJI18J6kW/AEDBkQJPp7Rz5w5M0rwZ8+eLevWrYsS/EG23xo9StZNxz2aikd+Ezj7bBHcv23datraXiBbc9pFb/A3x7M5/vxzF7VOcq2AixIYlQRCS8DNdZMj/PCY2VPB/+qrr6Rfv34yZ84cg4CeqocHp/QNLFl/0LWryOWXWzBw5G0BwlMSSA8BCn56uPtdqmeCjxXzN9xwg9yCL42Y3KRJkyIW7WERH9zy5csjFu1hQR4cFuu1b99eLdTDYj0cww+uZ8+eggV+KAuL9rDwL5Fz03ET5cVw7wgUF9t8G54jb+8gMycSSJKAm+smR/hJQk5DMs8EH8/jYXj8xK5bt25qgyDX1dUJns/jJ3bYa/GGaFdUVEh+fr76qR2e0Ws3f/589dM7/GRvwYIF2ls94y8qKlJpKisr+bM8g0z4Drp0ERk6NHz1Zo1JIBsIUPAz08qeCX5Q8bjpuEFtQybWq3NnkeHDM7FlbBMJhJ+Am+smR/jhsTcFPzy2yqiaduwocs01GdUkNoYEMoYABT9jTBnREAp+BA6epIoA3lx33XWpKo3lkAAJuCFAwXdDKzxxKfjhsVVG1TQvTwRvxaMjARIIHgEKfvBs4kWNKPheUGQergngfUh4BS4dCZBA8AhQ8INnEy9qRMH3giLziCTg4Kd1Z5whMmZMZDKekQAJBIMABT8YdvC6FhR8r4lme34OX55z+ukiN96Y7bDYfhIIJgEKfjDt0thaUfAbSzDL0j/9tEh+fpyt+TbJz3kveoO/KV3TpviAUpbBY3NJICQEKPghMZTLalLwXQLL9uijR4scd5zI9dfbbDmL5Hq7zZQGC/Zqa7OdJttPAsEkQMEPpl0aWysKfmMJZll6LLQ788w4jeanZ+PAYRAJhIMABT8cdnJbSwq+W2JZHn/UqIbPydticPgM3zY9A0iABNJOgIKfdhP4UgEKvi9YMzdTTMUn/O68g1X6mUuILSOB8BOg4IffhrFaQMGPRYV+tgTw7B6L7+hIgAQylwAFPzNtS8HPTLv61qprrxXBa3HpSIAEMpcABT8zbUvBz0y7+tYqfPCmQwffsmfGJEACASBAwQ+AEXyoAgXfB6iZnOWIESKFhZncQraNBEiAgp+ZfYCCn5l29a1V+IZ9p06+Zc+MSYAEAkCAgh8AI/hQBc8Ef/To0XLqqadKUVGRUc09e/ZIeXm5dOjQQe337t2rwurr62XixIlSUFAgJSUlsnHjRiPNwoULVXykwbF2GzZskOLiYpUGaZGHE+em4zrJL9vjDBsmctZZ2U6B7SeBzCbg5rqZk+OZjGQ21AC0zjNLvfHGG0q4zYI/efJkqaqqUs3EfsqUKeq4pqZG+vfvr0R7zZo10qtXL+WPG4S8vDzBHjcHONY3CaWlpVJbW6vSIO2KFSsc4XPTcR1lmOWRrrpKpEuXLIfA5pNAhhNwc92k4IenM3gm+Gjy1q1bI0b4hYWFsnPnTkUDe5zDjRs3ThYvXqyO8UfHgx/CtNPxkLaTaR7ZGk/Hj7V303FjpadfJIErrxQxTeJEBvKMBEggIwi4uW5S8MNjcl8Fv2XLlhEkWrVqpc4HDhwoq1evNsL69u0r69evl1mzZsm0adMM/6lTpyo/hJWVlRn+q1atEuRh56qrqwUdFlsuPrxO5xmBK64QKSnxLDtmRAIkEEACFPwAGsWDKqVF8AcMGBAl+HhGP3PmzCjBnz17tqxbty5K8AcNGuSo+W46rqMMszzSkCEiXbtmOQQ2nwQynICb6yZH+OHpDL4Kvp6qBw5O6SfRKQL4itrBg0W6d0+iLUxCAiQQGgIU/NCYylVFfRX8SZMmRSzawyI+uOXLl0cs2sOCPDgs1mvfvr1aqIfFejiGH1zPnj0FC/ywOh+L9rDwz4lz03Gd5JeyOAH9CA0mVs4+O2UUWBAJkEAaCLi5bnKEnwYDJVmkZ4I/YsQIadOmjTRv3lzatm0rTz75pNTV1Qmez+Mndthr8YZoV1RUSH5+vvqpHZ7Razd//nz10zv8ZG/BggXaWz3jxy8AkKaysjL0P8s7cEBk6VIRrF2MuZ0yURbnjIje4G9J8+67BibfD7B0okcP34thASRAAmkkQMFPI3wfi/ZM8H2sY6OydtNxG1WQy8RPPimCn696sfXu7bJwa3QXjw4GDMBsizUDnpMACWQSATfXTY7ww2N5Cn6abDV3boPY/+lPIu+8E2M7vY+8k1MYvcHfFL+8PM6qeSdC7vLRQf/+IkeewKSJHIslARLwmwAF32/C6cmfgp8e7jJ7doPgf/aZTQUcCjHebd+xY4w84qS/6aaG9+HjtQiFzd+Twpx3ojf4I9yyHX+8yLnnxiiPXiRAAhlDgIKfMaaMaAgFPwJH6k4eeqhB8PEs39Y5GKGPGiXSooXI+PGWrcWzMj7nF9Fbi2fl299ueB8+bhZG5Cy23xAeYzO9M8m26gwgARIILwEKfnhtF6/mFPx4dHwM+8lPGgT/0KHGFfLEEyJt2oicdpply/lQTrPZvvtdkRdfPFJuu3YNFbEuJoA/HQmQQFYSoOBnptkp+F7a1cGIXBf34IMNOvvNN9rH471TIY8z9e9xjZgdCZBASAhQ8ENiKJfVpOC7BGYb3aVw3nuvSJMmtrk1PsBNfVzcqDS+YsyBBEgg6AQo+EG3UHL1o+Anx02lmjev4Vk4vuvTqfl70inn79Eb/BFu2U4+WaR580YU7iQphdwJJcYhARKwEKDgW4BkyCkFvxGGxFvnTjpJ5OqrRa7Oec5+Q3iMbfr0RhTOpCRAAiTgEwEKvk9g05wtBb8RBujXz/QTNafPzBtRHpOSAAmQQCoIUPBTQTn1ZVDwnTC3mRrv00fkwguPZODmmbmTMhmHBEiABNJEgIKfJvA+F0vBTwQ4jpBfcIFIWZkpA5sbA1MMHpIACZBA4AlQ8ANvoqQqSMFPgO3u7/xcOuf8LXpr/k/1Ahu8apaOBEiABDKJAAU/k6x5tC0U/KMsYh4V5/xF2ubskOE5z0dvw0VeeilmMnqSAAmQQGgJUPBDa7q4Fafgx8XT8K55rMCP+qwd30SXgByDSYAEwkqAgh9Wy8WvNwU/Fh/Ts/j2TbfJDU2fiRR8fEEGcehIgARIIAMJUPAz0KgiQsG32tWySO/0nH/L2CbzRVq3bng1Hkb2FHsrNZ6TAAlkEAEKfgYZ09SU0An+ypUrpbCwUAoKCqSqqsrUlNiHbjquyuHI7+nPyVkvXXI2SbOcr+VHOY+LcAo/NmD6kgAJZBwBN9fNHHx4iy4UBEJlqcOHD0t+fr5s2bJFDh06JF27dpXNmzfHBe2m46qM8IL7nBy5LucZGZqzRIblvCBv5pzv84vv4zaBgSRAAiSQUgJurpsU/JSaplGFhUrwa2trpR9eb3fEzZgxQ7DFc246rsrnyAifi/TiUWUYCZBAJhNwc92k4IenJ4RK8JcuXSpjx4416C5atEgqKyuNc31QXV0t6LDYcnNztbezveUZvhJ+LtJzxo6xSIAEMoIABT8jzBjViFAJ/pIlS6IEf8KECVGNMnu46bhGOog+RvqY3seei/QMNDwgARLIfAJurpsc4YenP4RK8FMypR8e27GmJEACJOALAQq+L1jTnmmoBP/rr7+WvLw8ef/9941Fe5s2bYoL0U3HjZsRA0mABEggSwi4uW5yhB+eThEqwQfWmpoa6dixo1qtP93BB+XddNzwmI01JQESIAH/CLi5blLw/bOD1zmHTvDdAnDTcd3mzfgkQAIkkIkE3Fw3Kfjh6QEU/PDYijUlARIggZQQoOCnBHPKC6Hgpxw5CyQBEiCBYBOg4AfbPsnWLuMFv3Xr1sZv8tGJnW74/b7TuEGPx7Y4t3uqbEmbBM8msD3t0mAXXDedOk7pOyWV/ngZL/jJIsY/f6Y4tiV4lqRNgmcT1Ih2cW8XCr57ZulKQcG3Ic9/fBswafbOFLtkSjvQHdiWNP9T2BSfKrtQ8G0MEEBvCr6NUVL1z2JTvKfebIunOD3JjDbxBKPnmdAu7pFS8N0zS1cKCr4NebyPP1Mc2xI8S9ImwbMJakS7uLcLBd89s3SloOCnizzLJQESIIEMIEDBD48RKfjhsRVrSgIkQAKBI0DBD5xJbCtEwbdFwwASIAESIIFEBCj4iQgFJ5yCb7HFypUrpbCwUAoKCqSqqsoSGpzTdu3aSXFxsXTr1s1YJb1nzx4pLy+XDh06qP3evXtVhevr62XixImqTSUlJbJx40ajIQsXLlTxkQbHqXCjR4+WU089VYqKiozivKz7hg0bFBvYEO1G+/1ysdpy//33y+mnn65sA/vg+w/azZgxQ9kBfeyVV17R3mLX7/ChqF69eikbDR8+XH00ykjk4cH27dvlkksukc6dO0uXLl1k7ty5Kvcw2sWuLWG0y5dffimlpaXStWtXZZf77rtP2cWuXxw8eFDQT9D30W+2bt1q9BK3fc9ImOCAgp8AUICCKfgmYxw+fFh9lGfLli3G1/g2b95sihGcQwj+7t27Iyo0efJk4yYFNytTpkxR4RCc/v37K+Fbs2aNuhAgABdzfH0Qe9wc4FjfJERk7PHJG2+8oW46zILvZd1xgcSnlCH0aPeKFSs8bsHR7GK1BcIya9aso5GOHKEv4cKNizIu2Pn5+YI+F6/fDRs2TJ577jmVw/jx4+Xxxx+PytcLj507dxo3gp999pn6QBXqG0a72LUljHZBH/7888+Vib/66iv1v4v/Ybt+8dhjjwn6CRz6DcQfLpm+pxI6+EPBdwApIFEo+CZDQCT69etn+OCOGFsQXSzBx6gRFzs47HEON27cOFm8eLE6xh8dD34I084aT/v7scfIwyz4uk4oqzF1R9pOnToZVba20Qjw8MDaFjthsfYn9DX0Obt+h4s93niGz0LDWeN52ISorAYPHiyvvvqq0VcQIWx20Y3SbQm7XQ4cOCBnn322rF271rZf6D6FtqPfoP+gH7nte5qdkz0F3wmlYMSh4JvssHTpUhk7dqzhipcGugAACO1JREFUs2jRIqmsrDTOg3TQvn179c/fo0cP46dELVu2jKhiq1at1PnAgQNl9erVRljfvn1l/fr1ahQ6bdo0w3/q1KkxR6ZGBA8PrCLpVd3RrrKyMqOmq1atErTfT2dtC4QFN2R4fIIpfz1rgr70zDPPGFUZM2aMoM/Z9TvM4GBqVjtMVZtvkrS/13u058wzz5R9+/ZJmO0CLua2hNUumAHCo6ETTjhBzdrF6xfoHzt27DC6BGaREN9t3zMycHBAwXcAKSBRKPgmQyxZsiRK8CdMmGCKEZzDDz74QFXm448/VtPEmFq2uzgPGDAgSvDxnHvmzJliFfzZs2enpJFWkfSq7uvWrYsS/EGDBvnaJmtbPvroIzVN/80338jdd9+tRB8VqKioiBL8ZcuWiV2/27VrV5TgY92Gnw7Tx7iJfPHFF1UxYbaLtS1htguM8cknn6h1FriJtd4I6n6B9RdWwa+rq3Pd99z0MQq+G1rpjUvBN/G3Tplap8FMUQN1qKcqvZoWT0XjrCLpVd2DMKVv5mdup7U/6elXu36X6il9PCNGnebMmWM0Iax2idUWo1FHRv56tiTodjHX+4EHHlA36naPenSfQhpO6ZvJ8RgEKPimfoB/ECxcw4KqQ4cOqZHzpk2bTDGCcbh//37Bwio4HJ933nlqlfekSZMiFu1hwRXc8uXLIxbtYVEbHBbr4dEAppyx4Rh+qXBmIUR5Xta9Z8+egoVNEEws2jOvkvejbda24KZDu5/+9Kdy9dVXq1P0JfOiPfQ1TNfG63dDhw6NWLSHRVl+OLC64YYb5JZbbonIPox2sWtLGO2CWR6M7OG++OIL6d27t7z88sti1y/mzZsXsWgPi/vgkul7KqGDPxzhO4AUkCgUfIshIA4dO3ZUK6inT59uCQ3GKX5FAOHQP9XR9cTUHZ7P4yd22GvxxgUQ08l4noepPzzn1m7+/PlqehBThAsWLNDevu5HjBghbdq0kebNm0vbtm3lySefFC/rjvZh9Ib24tkl2u+Xi9WW66+/XnHGM/zLLrvMWEiJOsBWqBdGzuZfD9j1O9gaN2iwDy7yWOHvh8MaD1y4UWc8L9Y/JwyjXezaEka7vP3229K9e3dlF/TpBx98UJnfrl/gZ3zoJ+gv6DeIp53bvqfTJdpT8BMRCk44BT84tmBNSIAESCB0BCj44TEZBT88tmJNSYAESCBwBCj4gTOJbYUo+LZoGEACJEACJJCIAAU/EaHghFPwg2ML1oQESIAEQkeAgh8ek1Hww2Mr1pQESIAEAkeAgh84k9hWiIJvi4YBJEACJEACiQhQ8BMRCk44BT84tmBNfCLQtGlT9TMz/KwJP1nCO8mTdU899VTSr1tGWv2GRJSP1zh79XEm/MTvnHPOUV+7w7cEbr/9dtdNfOutt3x/Z4HrSjFB4AlQ8ANvIqOCFHwDBQ8ylQDeQa7dtddeG/EmOfjjd/p4Da4T1xjBv/jiiyPegeCkPCdx/vrXv6rf9v/9739X0fEin2Re0NOYtjmpJ+NkJgEKfnjsSsEPj61Y0yQJmAX/F7/4hdx0003qoyr49juO8WKTbdu2qS8K4sVEmAnQnxZGkXghEV7GdNFFF8mNN95ojPBHjRqlPnyjq2Uu5+GHH1Yv38HLke644w4VD+F44Q5eaoO3pplvAPBVv1hlIw3ex498zj33XMH74K0Ob8jDC5RiObQLL2HCC3Ww/9e//qWi4f39aCfyvfDCC9WbJfHBnFNOOUXV7/nnn4+VHf1IIIoABT8KSWA9KPiBNQ0r5hUBLcQY+eJTqfimPF6H26RJE/UKXpSDqXYIHl5linh9+vSR3/zmN+otedofr1s+//zzEwo+ptfxumP96EC/8dAs8ChTn9uVjTi4mP7ud79TKPCqZPPHjpSniPpq4p///Gd9GrHHh4MWLlyo/HBTMGTIEHWMm4t///vf6li/upUj/Ah0PHFIgILvEFQAolHwA2AEVsFfAvoZPkbW+PohhBuCj28HaPfSSy+pd8nrc7zu99Zbb1WijxG0do8++mhCwb/tttvkV7/6lU5i7LXAaw99blc24h177LHGq4Ex6jZ/vlnng2+k2wk+PrKCD8nAYY9zuPHjx0t5ebmqJ16fC0fBVxj4xyUBCr5LYGmMTsFPI3wWnRoCeoRvLs36wRuM5s3Cbhb8kSNHGknNgg/xfeGFF1QY1gEcc8wx6hg3Ck888YSRRh9ogbee25WNeOa6L126VPAYwerwjni7KX2r4GPKXru1a9fKvffeK2eccYb6lgEFX5Ph3g0BCr4bWumNS8FPL3+WngICZtHUxVkFH19Sy83Nld27d6sv2JWVlQlG3tofo2CMkPG1MnyQBw7T6/pZP0RbX/hWrlwZc0of0+uvv/66roIxpa/LsJaNiOa62wk+PrCCj6X84x//UHljAaL+xC0+3rNo0SLlD0G//PLL1fF7772n9viDNQxYob9s2TIx39wYEXhAAnEI6H4fJwqDAkKAgh8QQ7Aa/hEwi6YuxSr48P/1r39tLJzTnxaGv3nR3s0332wIPhbQYSEdvkp25513RohzVVWVnHXWWWoB3F133aWKhaDaLdqzK9tcdzvBR+b4ZGqPHj3Uz/JQLj5rC4d2Yj2CddHeFVdcYbQVbcIMBdYa4NPCePTBRXsKH/84IEDBdwApIFEo+AExBKtBAiRAAmEkQMEPj9Uo+OGxFWtKAiRAAoEjQMEPnElsK0TBt0XDABIgARIggUQEKPiJCAUnnIIfHFuwJiRAAiQQOgIU/PCYjIIfHluxpiRAAiQQOAIU/MCZxLZCFHxbNAwgARIgARJIRICCn4hQcMIp+MGxBWtCAiRAAqEjQMEPj8ko+OGxFWtKAiRAAoEjQMEPnElsK0TBt0XDABIgARIgARLIHAIU/MyxJVtCAiRAAiRAArYEKPi2aBhAAiRAAiRAAplDgIKfObZkS0iABEiABEjAlgAF3xYNA0iABEiABEggcwhQ8DPHlmwJCZAACZAACdgSoODbomEACZAACZAACWQOAQp+5tiSLSEBEiABEiABWwL/H8+ZQzf53s7tAAAAAElFTkSuQmCC)"
      ]
    },
    {
      "cell_type": "code",
      "metadata": {
        "id": "ZO6P3s3_uTpk",
        "colab": {
          "base_uri": "https://localhost:8080/",
          "height": 498
        },
        "outputId": "a97d374b-7130-4bff-b425-01f7432caf36"
      },
      "source": [
        "# creating scatterplot with dataset, using columns IP_ML and SP to analyze how decision tree works with this two variables. \n",
        "plt.figure(figsize=(10,8))\n",
        "plt.scatter(X_DT_Graph[sort_idx], y_DT[sort_idx])\n",
        "plt.plot(X_DT_Graph[sort_idx], tree_graph.predict(X_DT_Graph[sort_idx]), color='k')\n",
        "\n",
        "plt.xlabel('IP_ML')\n",
        "plt.ylabel('SP');"
      ],
      "execution_count": 149,
      "outputs": [
        {
          "output_type": "display_data",
          "data": {
            "image/png": "[encoded data removed]",
            "text/plain": [
              "<Figure size 720x576 with 1 Axes>"
            ]
          },
          "metadata": {
            "needs_background": "light"
          }
        }
      ]
    },
    {
      "cell_type": "code",
      "metadata": {
        "id": "Q75kiD1xCn9F",
        "colab": {
          "base_uri": "https://localhost:8080/"
        },
        "outputId": "c92e70c8-82f9-4c2c-cdfb-eb478a0b9c7d"
      },
      "source": [
        "df_train_DT.columns"
      ],
      "execution_count": 150,
      "outputs": [
        {
          "output_type": "execute_result",
          "data": {
            "text/plain": [
              "Index(['IP_ML', 'QA', 'ENG', 'TechDebt', 'ID_Area', 'ID_Type', 'SP'], dtype='object')"
            ]
          },
          "metadata": {},
          "execution_count": 150
        }
      ]
    },
    {
      "cell_type": "code",
      "metadata": {
        "id": "EKwsaKIWCGC1",
        "colab": {
          "base_uri": "https://localhost:8080/",
          "height": 497
        },
        "outputId": "750ed0b4-e915-41c8-f1f4-2c7b3bbb0b85"
      },
      "source": [
        "X_DT = df_train_DT[['ID_Area']].values\n",
        "tree = DecisionTreeRegressor(max_depth=5)\n",
        "tree.fit(X_DT, y_DT)\n",
        "sort_idx = X_DT.flatten().argsort()\n",
        "\n",
        "\n",
        "# Scatterplot of Areas and SP\n",
        "plt.figure(figsize=(10,8))\n",
        "plt.scatter(X_DT[sort_idx], y_DT[sort_idx])\n",
        "plt.plot(X_DT[sort_idx], tree.predict(X_DT[sort_idx]), color='k')\n",
        "\n",
        "plt.xlabel('Area ID')\n",
        "plt.ylabel('SP');"
      ],
      "execution_count": 151,
      "outputs": [
        {
          "output_type": "display_data",
          "data": {
            "image/png": "[encoded data removed]",
            "text/plain": [
              "<Figure size 720x576 with 1 Axes>"
            ]
          },
          "metadata": {
            "needs_background": "light"
          }
        }
      ]
    },
    {
      "cell_type": "code",
      "metadata": {
        "id": "T8uCUapPC5nd",
        "colab": {
          "base_uri": "https://localhost:8080/",
          "height": 497
        },
        "outputId": "d864c469-c16e-48b1-af56-bdedc74c3aca"
      },
      "source": [
        "X_DT = df_train_DT[['ID_Type']].values\n",
        "tree = DecisionTreeRegressor(max_depth=5)\n",
        "tree.fit(X_DT, y_DT)\n",
        "sort_idx = X_DT.flatten().argsort()\n",
        "\n",
        "\n",
        "# Scatterplot of Type of work and SP \n",
        "plt.figure(figsize=(10,8))\n",
        "plt.scatter(X_DT[sort_idx], y_DT[sort_idx])\n",
        "plt.plot(X_DT[sort_idx], tree.predict(X_DT[sort_idx]), color='k')\n",
        "\n",
        "plt.xlabel('Type ID')\n",
        "plt.ylabel('SP');"
      ],
      "execution_count": 152,
      "outputs": [
        {
          "output_type": "display_data",
          "data": {
            "image/png": "[encoded data removed]",
            "text/plain": [
              "<Figure size 720x576 with 1 Axes>"
            ]
          },
          "metadata": {
            "needs_background": "light"
          }
        }
      ]
    },
    {
      "cell_type": "markdown",
      "metadata": {
        "id": "UW_0lgf-zFqQ"
      },
      "source": [
        "### CONCLUSION\n",
        "\n",
        "Scatterplot using different variables, shows how prediction using these variables will perform an inaccurate prediction. This also demostrates the weak correlation between independent and dependent variables. "
      ]
    },
    {
      "cell_type": "markdown",
      "metadata": {
        "id": "uv-B7a4sDQYQ"
      },
      "source": [
        "## b. Random Forest"
      ]
    },
    {
      "cell_type": "code",
      "metadata": {
        "id": "unzEDzJSDLLH"
      },
      "source": [
        "from sklearn.model_selection import train_test_split\n",
        "from sklearn.metrics import mean_squared_error, r2_score\n",
        "\n",
        "# Importing the dataset\n",
        "df_train_RF = pd.read_csv(working_directory + 'Train_26_8.csv')\n",
        "df_results_RF = pd.read_csv(working_directory + 'Results_26_8.csv')\n",
        "df_test_RF = pd.read_csv(working_directory + 'Results_26_8.csv')\n",
        "\n",
        "pd.options.display.float_format = '{:,.2f}'.format # Setting float format to 2 decimals\n",
        "\n",
        "X_RF = df_train_RF.iloc[:, :-1].values\n",
        "y_RF = df_train_RF.iloc[:, -1].values"
      ],
      "execution_count": 153,
      "outputs": []
    },
    {
      "cell_type": "code",
      "metadata": {
        "id": "ISMPo82dDjQd"
      },
      "source": [
        "X_train, X_test, y_train, y_test = train_test_split(X_RF, y_RF, \n",
        "                                                    test_size=0.3, \n",
        "                                                    random_state=42)"
      ],
      "execution_count": 154,
      "outputs": []
    },
    {
      "cell_type": "code",
      "metadata": {
        "id": "B5EHYt5eD8yI"
      },
      "source": [
        "from sklearn.ensemble import RandomForestRegressor"
      ],
      "execution_count": 58,
      "outputs": []
    },
    {
      "cell_type": "code",
      "metadata": {
        "id": "x599mGn0D9Ql"
      },
      "source": [
        "forest = RandomForestRegressor(n_estimators=500, criterion='mse', \n",
        "                               random_state=42, n_jobs=-1)"
      ],
      "execution_count": 59,
      "outputs": []
    },
    {
      "cell_type": "code",
      "metadata": {
        "id": "q7yXQCweEATn",
        "colab": {
          "base_uri": "https://localhost:8080/"
        },
        "outputId": "8f4c0390-6abe-485c-fc88-396ba9fcf6e6"
      },
      "source": [
        "forest.fit(X_train, y_train)"
      ],
      "execution_count": 60,
      "outputs": [
        {
          "output_type": "execute_result",
          "data": {
            "text/plain": [
              "RandomForestRegressor(bootstrap=True, ccp_alpha=0.0, criterion='mse',\n",
              "                      max_depth=None, max_features='auto', max_leaf_nodes=None,\n",
              "                      max_samples=None, min_impurity_decrease=0.0,\n",
              "                      min_impurity_split=None, min_samples_leaf=1,\n",
              "                      min_samples_split=2, min_weight_fraction_leaf=0.0,\n",
              "                      n_estimators=500, n_jobs=-1, oob_score=False,\n",
              "                      random_state=42, verbose=0, warm_start=False)"
            ]
          },
          "metadata": {},
          "execution_count": 60
        }
      ]
    },
    {
      "cell_type": "code",
      "metadata": {
        "id": "Lqu3EOxDEC0G"
      },
      "source": [
        "y_train_pred = forest.predict(X_train)\n",
        "y_test_pred = forest.predict(X_test)"
      ],
      "execution_count": 61,
      "outputs": []
    },
    {
      "cell_type": "code",
      "metadata": {
        "id": "qNwYhS6hEGfO",
        "colab": {
          "base_uri": "https://localhost:8080/"
        },
        "outputId": "49500be8-ea35-489a-9b9a-c9058afd8fb1"
      },
      "source": [
        "print(\"MSE train: {0:.4f}, test: {1:.4f}\".\\\n",
        "      format(mean_squared_error(y_train, y_train_pred), \n",
        "             mean_squared_error(y_test, y_test_pred)))"
      ],
      "execution_count": 63,
      "outputs": [
        {
          "output_type": "stream",
          "name": "stdout",
          "text": [
            "MSE train: 3.4896, test: 11.4662\n"
          ]
        }
      ]
    },
    {
      "cell_type": "code",
      "metadata": {
        "id": "oiJbbSh-EIa9",
        "colab": {
          "base_uri": "https://localhost:8080/"
        },
        "outputId": "76d85444-a865-4964-e0cc-c67e158c0d3a"
      },
      "source": [
        "print(\"R^2 train: {0:.4f}, test: {1:.4f}\".\\\n",
        "      format(r2_score(y_train, y_train_pred),\n",
        "             r2_score(y_test, y_test_pred)))"
      ],
      "execution_count": 64,
      "outputs": [
        {
          "output_type": "stream",
          "name": "stdout",
          "text": [
            "R^2 train: 0.6438, test: -0.4634\n"
          ]
        }
      ]
    },
    {
      "cell_type": "markdown",
      "metadata": {
        "id": "qmJwrevcEU-g"
      },
      "source": [
        "## c. AdaBoost"
      ]
    },
    {
      "cell_type": "code",
      "metadata": {
        "id": "P7EFlQ9TEYY1"
      },
      "source": [
        "from sklearn.ensemble import AdaBoostRegressor\n",
        "\n",
        "\n",
        "# Importing the dataset\n",
        "df_train_ada = pd.read_csv(working_directory + 'Train_26_8.csv')\n",
        "df_results_ada = pd.read_csv(working_directory + 'Results_26_8.csv')\n",
        "df_test_ada = pd.read_csv(working_directory + 'Results_26_8.csv')\n",
        "\n",
        "pd.options.display.float_format = '{:,.2f}'.format # Setting float format to 2 decimals\n",
        "\n",
        "X_ada = df_train_ada.iloc[:, :-1].values\n",
        "y_ada = df_train_ada.iloc[:, -1].values"
      ],
      "execution_count": 155,
      "outputs": []
    },
    {
      "cell_type": "code",
      "metadata": {
        "id": "iugBukbVEe8-"
      },
      "source": [
        "ada = AdaBoostRegressor(DecisionTreeRegressor(max_depth=4), \n",
        "                        n_estimators=500, random_state=42)"
      ],
      "execution_count": 156,
      "outputs": []
    },
    {
      "cell_type": "code",
      "metadata": {
        "id": "676jDDQ6ELzN",
        "colab": {
          "base_uri": "https://localhost:8080/"
        },
        "outputId": "558eaadf-f462-48af-8025-c5c701bd179a"
      },
      "source": [
        "ada.fit(X_train, y_train)"
      ],
      "execution_count": 157,
      "outputs": [
        {
          "output_type": "execute_result",
          "data": {
            "text/plain": [
              "AdaBoostRegressor(base_estimator=DecisionTreeRegressor(ccp_alpha=0.0,\n",
              "                                                       criterion='mse',\n",
              "                                                       max_depth=4,\n",
              "                                                       max_features=None,\n",
              "                                                       max_leaf_nodes=None,\n",
              "                                                       min_impurity_decrease=0.0,\n",
              "                                                       min_impurity_split=None,\n",
              "                                                       min_samples_leaf=1,\n",
              "                                                       min_samples_split=2,\n",
              "                                                       min_weight_fraction_leaf=0.0,\n",
              "                                                       presort='deprecated',\n",
              "                                                       random_state=None,\n",
              "                                                       splitter='best'),\n",
              "                  learning_rate=1.0, loss='linear', n_estimators=500,\n",
              "                  random_state=42)"
            ]
          },
          "metadata": {},
          "execution_count": 157
        }
      ]
    },
    {
      "cell_type": "code",
      "metadata": {
        "id": "xVI2FY99FGRf"
      },
      "source": [
        "y_train_pred = ada.predict(X_train)"
      ],
      "execution_count": 158,
      "outputs": []
    },
    {
      "cell_type": "code",
      "metadata": {
        "id": "Mij3SOMvFJB-"
      },
      "source": [
        "y_test_pred = ada.predict(X_test)"
      ],
      "execution_count": 159,
      "outputs": []
    },
    {
      "cell_type": "code",
      "metadata": {
        "id": "5QKlAbVkFKyo",
        "colab": {
          "base_uri": "https://localhost:8080/"
        },
        "outputId": "82037529-fa3d-40fa-a8b7-ec5254fef88e"
      },
      "source": [
        "print(\"MSE train: {0:.4f}, test: {1:.4f}\".\\\n",
        "      format(mean_squared_error(y_train, y_train_pred), \n",
        "             mean_squared_error(y_test, y_test_pred)))"
      ],
      "execution_count": 160,
      "outputs": [
        {
          "output_type": "stream",
          "name": "stdout",
          "text": [
            "MSE train: 7.2339, test: 8.2800\n"
          ]
        }
      ]
    },
    {
      "cell_type": "code",
      "metadata": {
        "id": "gEr9SW4lFM7P",
        "colab": {
          "base_uri": "https://localhost:8080/"
        },
        "outputId": "18a35e92-1c3e-4f18-adfc-524b37ae1ea1"
      },
      "source": [
        "print(\"R^2 train: {0:.4f}, test: {1:.4f}\".\\\n",
        "      format(r2_score(y_train, y_train_pred),\n",
        "             r2_score(y_test, y_test_pred)))"
      ],
      "execution_count": 161,
      "outputs": [
        {
          "output_type": "stream",
          "name": "stdout",
          "text": [
            "R^2 train: 0.2616, test: -0.0567\n"
          ]
        }
      ]
    },
    {
      "cell_type": "code",
      "metadata": {
        "id": "GQ2oINZpFQ-A",
        "colab": {
          "base_uri": "https://localhost:8080/"
        },
        "outputId": "5d425ab8-c678-4c5a-dc4d-7c1805ff5144"
      },
      "source": [
        "ada.feature_importances_"
      ],
      "execution_count": 162,
      "outputs": [
        {
          "output_type": "execute_result",
          "data": {
            "text/plain": [
              "array([0.27404049, 0.21813322, 0.19092565, 0.01080373, 0.1365631 ,\n",
              "       0.16953381])"
            ]
          },
          "metadata": {},
          "execution_count": 162
        }
      ]
    },
    {
      "cell_type": "code",
      "metadata": {
        "id": "aXo0-cBIFTw3"
      },
      "source": [
        "result = pd.DataFrame(ada.feature_importances_, df_train_ada.iloc[:, :-1].columns)\n",
        "result.columns = ['feature']"
      ],
      "execution_count": 163,
      "outputs": []
    },
    {
      "cell_type": "code",
      "metadata": {
        "id": "yFqokAJJFXXm",
        "colab": {
          "base_uri": "https://localhost:8080/",
          "height": 238
        },
        "outputId": "7d3dc86e-9ed2-4e3d-e40d-60c4acfacd09"
      },
      "source": [
        "result.sort_values(by='feature', ascending=False)"
      ],
      "execution_count": 164,
      "outputs": [
        {
          "output_type": "execute_result",
          "data": {
            "text/html": [
              "<div>\n",
              "<style scoped>\n",
              "    .dataframe tbody tr th:only-of-type {\n",
              "        vertical-align: middle;\n",
              "    }\n",
              "\n",
              "    .dataframe tbody tr th {\n",
              "        vertical-align: top;\n",
              "    }\n",
              "\n",
              "    .dataframe thead th {\n",
              "        text-align: right;\n",
              "    }\n",
              "</style>\n",
              "<table border=\"1\" class=\"dataframe\">\n",
              "  <thead>\n",
              "    <tr style=\"text-align: right;\">\n",
              "      <th></th>\n",
              "      <th>feature</th>\n",
              "    </tr>\n",
              "  </thead>\n",
              "  <tbody>\n",
              "    <tr>\n",
              "      <th>IP_ML</th>\n",
              "      <td>0.27</td>\n",
              "    </tr>\n",
              "    <tr>\n",
              "      <th>QA</th>\n",
              "      <td>0.22</td>\n",
              "    </tr>\n",
              "    <tr>\n",
              "      <th>ENG</th>\n",
              "      <td>0.19</td>\n",
              "    </tr>\n",
              "    <tr>\n",
              "      <th>ID_Type</th>\n",
              "      <td>0.17</td>\n",
              "    </tr>\n",
              "    <tr>\n",
              "      <th>ID_Area</th>\n",
              "      <td>0.14</td>\n",
              "    </tr>\n",
              "    <tr>\n",
              "      <th>TechDebt</th>\n",
              "      <td>0.01</td>\n",
              "    </tr>\n",
              "  </tbody>\n",
              "</table>\n",
              "</div>"
            ],
            "text/plain": [
              "          feature\n",
              "IP_ML        0.27\n",
              "QA           0.22\n",
              "ENG          0.19\n",
              "ID_Type      0.17\n",
              "ID_Area      0.14\n",
              "TechDebt     0.01"
            ]
          },
          "metadata": {},
          "execution_count": 164
        }
      ]
    },
    {
      "cell_type": "code",
      "metadata": {
        "id": "KZY2A-F4GUdG",
        "colab": {
          "base_uri": "https://localhost:8080/",
          "height": 302
        },
        "outputId": "9abbf866-d205-4be2-bb88-2020244a2be2"
      },
      "source": [
        "result.sort_values(by='feature', ascending=False).plot(kind='bar');"
      ],
      "execution_count": 165,
      "outputs": [
        {
          "output_type": "display_data",
          "data": {
            "image/png": "[encoded data removed]",
            "text/plain": [
              "<Figure size 432x288 with 1 Axes>"
            ]
          },
          "metadata": {
            "needs_background": "light"
          }
        }
      ]
    },
    {
      "cell_type": "markdown",
      "metadata": {
        "id": "3TurONq92bTE"
      },
      "source": [
        "## d. Conclusion\n",
        "\n",
        "Using Classification algorithms for regression problems is an option. However, when regression is required, there should be a linear correlation between variables. In this particular scenario, it's clear that independent and dependent variables are not lineary correlated, so regression is not an option, and using classification algorithms is not the exception. "
      ]
    },
    {
      "cell_type": "markdown",
      "metadata": {
        "id": "R8QZ0-ZmAofz"
      },
      "source": [
        "# 5 - Testing results\n",
        "\n",
        "Testing results and comparing with real estimations. Conclusions about how powerful is to use an algorithm to predict effort for business requierements"
      ]
    },
    {
      "cell_type": "code",
      "metadata": {
        "colab": {
          "base_uri": "https://localhost:8080/",
          "height": 424
        },
        "id": "EeZMTh9d3q8R",
        "outputId": "5c0fcd40-f952-4f24-a651-c71685e915ec"
      },
      "source": [
        "# comparing results (Real versus prediction)\n",
        "pred_test = pd.DataFrame(data=y_test_pred)\n",
        "train_test = pd.DataFrame(data=y_train)\n",
        "h_stack_test = pd.concat([train_test, pred_test], axis=1)\n",
        "h_stack_test.columns = ['REAL','PRED'] \n",
        "h_stack_test\n",
        "# final_result = h_stack_test.rename(columns={0: 'REAL', 0: 'PRED'})\n",
        "# final_result"
      ],
      "execution_count": 180,
      "outputs": [
        {
          "output_type": "execute_result",
          "data": {
            "text/html": [
              "<div>\n",
              "<style scoped>\n",
              "    .dataframe tbody tr th:only-of-type {\n",
              "        vertical-align: middle;\n",
              "    }\n",
              "\n",
              "    .dataframe tbody tr th {\n",
              "        vertical-align: top;\n",
              "    }\n",
              "\n",
              "    .dataframe thead th {\n",
              "        text-align: right;\n",
              "    }\n",
              "</style>\n",
              "<table border=\"1\" class=\"dataframe\">\n",
              "  <thead>\n",
              "    <tr style=\"text-align: right;\">\n",
              "      <th></th>\n",
              "      <th>REAL</th>\n",
              "      <th>PRED</th>\n",
              "    </tr>\n",
              "  </thead>\n",
              "  <tbody>\n",
              "    <tr>\n",
              "      <th>0</th>\n",
              "      <td>1</td>\n",
              "      <td>6.20</td>\n",
              "    </tr>\n",
              "    <tr>\n",
              "      <th>1</th>\n",
              "      <td>8</td>\n",
              "      <td>4.54</td>\n",
              "    </tr>\n",
              "    <tr>\n",
              "      <th>2</th>\n",
              "      <td>0</td>\n",
              "      <td>6.75</td>\n",
              "    </tr>\n",
              "    <tr>\n",
              "      <th>3</th>\n",
              "      <td>5</td>\n",
              "      <td>4.82</td>\n",
              "    </tr>\n",
              "    <tr>\n",
              "      <th>4</th>\n",
              "      <td>5</td>\n",
              "      <td>6.75</td>\n",
              "    </tr>\n",
              "    <tr>\n",
              "      <th>...</th>\n",
              "      <td>...</td>\n",
              "      <td>...</td>\n",
              "    </tr>\n",
              "    <tr>\n",
              "      <th>375</th>\n",
              "      <td>8</td>\n",
              "      <td>nan</td>\n",
              "    </tr>\n",
              "    <tr>\n",
              "      <th>376</th>\n",
              "      <td>8</td>\n",
              "      <td>nan</td>\n",
              "    </tr>\n",
              "    <tr>\n",
              "      <th>377</th>\n",
              "      <td>5</td>\n",
              "      <td>nan</td>\n",
              "    </tr>\n",
              "    <tr>\n",
              "      <th>378</th>\n",
              "      <td>1</td>\n",
              "      <td>nan</td>\n",
              "    </tr>\n",
              "    <tr>\n",
              "      <th>379</th>\n",
              "      <td>5</td>\n",
              "      <td>nan</td>\n",
              "    </tr>\n",
              "  </tbody>\n",
              "</table>\n",
              "<p>380 rows × 2 columns</p>\n",
              "</div>"
            ],
            "text/plain": [
              "     REAL  PRED\n",
              "0       1  6.20\n",
              "1       8  4.54\n",
              "2       0  6.75\n",
              "3       5  4.82\n",
              "4       5  6.75\n",
              "..    ...   ...\n",
              "375     8   nan\n",
              "376     8   nan\n",
              "377     5   nan\n",
              "378     1   nan\n",
              "379     5   nan\n",
              "\n",
              "[380 rows x 2 columns]"
            ]
          },
          "metadata": {},
          "execution_count": 180
        }
      ]
    },
    {
      "cell_type": "markdown",
      "metadata": {
        "id": "GqNW0Kg_4g7c"
      },
      "source": [
        "### Results with AdaBoost, but similar to previous algorithms\n",
        "\n",
        "In the table above, the column on the left is the real data and the right column is the prediction of the algorithm. Even sometimes the prediction gets really close to reality, measuring R2 is not reflecting how the algorithms is really perfoming due real observations are clearly a multiclass, and the prediction is a number inside the multiclass range (from 0 to 13). \n",
        "\n",
        "In the case of this project, this is a good result, those real observations in 0 are being predicted as more than 0 (Logically) and in the rest of the cases, the predictions are usually grather than the original estimations. \n",
        "\n",
        "Most of the times, business requirements take more time than estimated. This could be that the algorithm is detecting a pattern in the observations?\n",
        "\n",
        "Next steps are to improve and validate that hypotesis, increasing the level of trust with the algorithm. "
      ]
    },
    {
      "cell_type": "code",
      "metadata": {
        "colab": {
          "base_uri": "https://localhost:8080/"
        },
        "id": "sGzgTUeY4Cgc",
        "outputId": "7381b151-721b-43e6-ee3f-8a69eeb825ad"
      },
      "source": [
        "pos_pred = 0\n",
        "neg_pred = 0\n",
        "comp = False\n",
        "\n",
        "for i in range(0, len(pred_test)):\n",
        "\n",
        "  comp = h_stack_test.iloc[i].REAL < h_stack_test.iloc[i].PRED\n",
        "\n",
        "  if comp == True:\n",
        "    #print(comp)\n",
        "    pos_pred += 1\n",
        "  else:\n",
        "    #print(comp)\n",
        "    neg_pred += 1\n",
        "\n",
        "\n",
        "print('Predictions are higher than real estimation: ', pos_pred)\n",
        "print('Predictions are lower than real estimation: ', neg_pred)"
      ],
      "execution_count": 193,
      "outputs": [
        {
          "output_type": "stream",
          "name": "stdout",
          "text": [
            "Predictions are higher than real estimation:  97\n",
            "Predictions are lower than real estimation:  66\n"
          ]
        }
      ]
    }
  ]
}
