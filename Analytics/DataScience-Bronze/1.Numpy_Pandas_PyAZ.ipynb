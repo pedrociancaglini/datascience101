{
  "nbformat": 4,
  "nbformat_minor": 5,
  "metadata": {
    "colab": {
      "name": "arrays_ciancaglini_corregido.ipynb",
      "provenance": []
    },
    "kernelspec": {
      "display_name": "Python 3",
      "language": "python",
      "name": "python3"
    },
    "language_info": {
      "codemirror_mode": {
        "name": "ipython",
        "version": 3
      },
      "file_extension": ".py",
      "mimetype": "text/x-python",
      "name": "python",
      "nbconvert_exporter": "python",
      "pygments_lexer": "ipython3",
      "version": "3.9.1"
    }
  },
  "cells": [
    {
      "cell_type": "markdown",
      "metadata": {
        "id": "c88daef4"
      },
      "source": [
        "## Excercise 1:  \n",
        "#### Create an array of 100 random elements. Calc median. \n",
        "\n",
        "Author: Pedro Ciancaglini"
      ],
      "id": "c88daef4"
    },
    {
      "cell_type": "code",
      "metadata": {
        "id": "8deb60e3",
        "scrolled": true
      },
      "source": [
        "# Importing required libraries\n",
        "import numpy as np"
      ],
      "id": "8deb60e3",
      "execution_count": null,
      "outputs": []
    },
    {
      "cell_type": "code",
      "metadata": {
        "colab": {
          "base_uri": "https://localhost:8080/"
        },
        "id": "rH11OUqLjKV0",
        "outputId": "96ba9e58-315a-4038-ae48-9ad68d2be30b"
      },
      "source": [
        "# Creating our random array with 100 elements\n",
        "random_array = np.random.randint(100,size=100)\n",
        "random_array"
      ],
      "id": "rH11OUqLjKV0",
      "execution_count": null,
      "outputs": [
        {
          "output_type": "execute_result",
          "data": {
            "text/plain": [
              "array([51, 98, 38, 39, 46, 26, 95, 96,  2, 72, 26, 49,  8, 21, 99, 67, 87,\n",
              "       11, 76, 84, 86, 91, 92,  9, 56, 79, 24, 85,  8, 27, 75, 90, 25, 34,\n",
              "       75, 61, 65, 61, 52, 41, 34,  3, 88,  3, 87, 16, 40, 57, 59, 29,  3,\n",
              "        7, 80, 24, 91, 58, 36, 76, 76, 23, 14, 79, 93, 75, 48, 12, 63, 71,\n",
              "       58, 99, 12, 98, 60, 42, 82, 18, 95, 72, 21, 85, 37, 16, 22,  2, 55,\n",
              "       36, 66, 37,  2, 12, 30, 93, 20,  5, 73, 57, 30, 37, 51, 70])"
            ]
          },
          "metadata": {},
          "execution_count": 5
        }
      ]
    },
    {
      "cell_type": "code",
      "metadata": {
        "colab": {
          "base_uri": "https://localhost:8080/"
        },
        "id": "hIDqIeQsidLO",
        "outputId": "22a9c1a3-92c3-4184-8810-940b7315aaeb"
      },
      "source": [
        "# Calculating median\n",
        "median_array = np.median(random_array)\n",
        "median_array"
      ],
      "id": "hIDqIeQsidLO",
      "execution_count": null,
      "outputs": [
        {
          "output_type": "execute_result",
          "data": {
            "text/plain": [
              "58.0"
            ]
          },
          "metadata": {},
          "execution_count": 3
        }
      ]
    },
    {
      "cell_type": "code",
      "metadata": {
        "id": "9b57b8e6",
        "scrolled": true,
        "colab": {
          "base_uri": "https://localhost:8080/"
        },
        "outputId": "10a02e9f-ce71-4889-d6a9-25dbb9634e45"
      },
      "source": [
        "# With reshape, you can create a Matrix from an Array \n",
        "reshaped_array = random_array.reshape(10,10) # 10x10 Matrix\n",
        "print(reshaped_array)"
      ],
      "id": "9b57b8e6",
      "execution_count": null,
      "outputs": [
        {
          "output_type": "stream",
          "text": [
            "[[51 98 38 39 46 26 95 96  2 72]\n",
            " [26 49  8 21 99 67 87 11 76 84]\n",
            " [86 91 92  9 56 79 24 85  8 27]\n",
            " [75 90 25 34 75 61 65 61 52 41]\n",
            " [34  3 88  3 87 16 40 57 59 29]\n",
            " [ 3  7 80 24 91 58 36 76 76 23]\n",
            " [14 79 93 75 48 12 63 71 58 99]\n",
            " [12 98 60 42 82 18 95 72 21 85]\n",
            " [37 16 22  2 55 36 66 37  2 12]\n",
            " [30 93 20  5 73 57 30 37 51 70]]\n"
          ],
          "name": "stdout"
        }
      ]
    },
    {
      "cell_type": "code",
      "metadata": {
        "id": "c0ef2843",
        "colab": {
          "base_uri": "https://localhost:8080/"
        },
        "outputId": "673bc965-cb5e-4f49-f07a-bb229da13df4"
      },
      "source": [
        "##### Function to select an element from the random array ######\n",
        "def selection(arr):\n",
        "   \n",
        "    choose = int(input(\"Select a vector in the array to operate> \")) \n",
        "\n",
        "    while choose > len(arr):                                             \n",
        "        choose = int(input(\"It must be a vector in the array> \"))\n",
        "    \n",
        "    return arr[choose,]                                                  \n",
        "\n",
        "print(selection(reshaped_array))                                          "
      ],
      "id": "c0ef2843",
      "execution_count": null,
      "outputs": [
        {
          "output_type": "stream",
          "text": [
            "Select a vector in the array to operate> 1\n",
            "[26 49  8 21 99 67 87 11 76 84]\n"
          ],
          "name": "stdout"
        }
      ]
    },
    {
      "cell_type": "markdown",
      "metadata": {
        "id": "c6b0b914"
      },
      "source": [
        "**Exercise 2>** \n",
        "#### Creating vectorial operational functions and sum on a serie"
      ],
      "id": "c6b0b914"
    },
    {
      "cell_type": "code",
      "metadata": {
        "id": "3ce81b97",
        "scrolled": true
      },
      "source": [
        "# function to make a sum in serie of the whole vector\n",
        "def addition(arr):                                   \n",
        "    res = 0                               \n",
        "    \n",
        "    for i in arr:                              \n",
        "        res += i\n",
        "\n",
        "    print(\"Result via loop: \", res)             \n",
        "    print(\"Result by using native Numpy Function> \", arr.sum()) "
      ],
      "id": "3ce81b97",
      "execution_count": null,
      "outputs": []
    },
    {
      "cell_type": "code",
      "metadata": {
        "id": "68585a8f",
        "scrolled": true,
        "colab": {
          "base_uri": "https://localhost:8080/"
        },
        "outputId": "761655e3-5eb9-4c26-90c5-a09f57fbefe0"
      },
      "source": [
        "addition(seleccion(reshaped_array)) "
      ],
      "id": "68585a8f",
      "execution_count": null,
      "outputs": [
        {
          "output_type": "stream",
          "text": [
            "Select a vector in the array to operate> 1\n",
            "Result via loop:  528\n",
            "Result by using native Numpy Function>  528\n"
          ],
          "name": "stdout"
        }
      ]
    },
    {
      "cell_type": "code",
      "metadata": {
        "colab": {
          "base_uri": "https://localhost:8080/"
        },
        "id": "0873f2ac",
        "outputId": "5d9d353d-2d95-4c9f-8611-9a65e841c90e"
      },
      "source": [
        "%time \n",
        "arr = np.random.randint(1000, size=(100,100))\n",
        "addition(arr)"
      ],
      "id": "0873f2ac",
      "execution_count": null,
      "outputs": [
        {
          "output_type": "stream",
          "text": [
            "CPU times: user 4 µs, sys: 0 ns, total: 4 µs\n",
            "Wall time: 8.11 µs\n",
            "Result via loop:  [47684 48972 50972 45614 45766 46420 47480 51204 49322 45182 50151 46992\n",
            " 53116 50226 51151 54692 52951 54295 54703 46391 44582 47885 51654 49573\n",
            " 50229 53232 48144 44692 50295 49458 48692 46484 58572 49612 51746 47506\n",
            " 49641 52250 49953 49244 50752 49705 50979 43229 49056 45620 49316 46872\n",
            " 49405 50103 46404 49018 50768 44889 52559 52406 52353 53775 47997 49797\n",
            " 45216 54151 44387 50619 51558 47217 42128 54379 51756 45952 49479 49965\n",
            " 51331 49431 51492 49377 47846 47757 46076 45542 47849 52402 43910 49585\n",
            " 50193 48556 48500 52446 51318 52383 44455 49495 47866 49170 46211 53947\n",
            " 51474 50081 51560 48955]\n",
            "Result by using native Numpy Function>  4937746\n"
          ],
          "name": "stdout"
        }
      ]
    },
    {
      "cell_type": "code",
      "metadata": {
        "colab": {
          "base_uri": "https://localhost:8080/"
        },
        "id": "4c3321f5",
        "outputId": "2a10c974-3128-49ab-ff99-906747bd2313"
      },
      "source": [
        "%time       # One important metric in Data Science is the quantity of time need to run an algorithm. Measuring execution time is important. \n",
        "arr.sum()"
      ],
      "id": "4c3321f5",
      "execution_count": null,
      "outputs": [
        {
          "output_type": "stream",
          "text": [
            "CPU times: user 3 µs, sys: 0 ns, total: 3 µs\n",
            "Wall time: 7.87 µs\n"
          ],
          "name": "stdout"
        },
        {
          "output_type": "execute_result",
          "data": {
            "text/plain": [
              "4937746"
            ]
          },
          "metadata": {},
          "execution_count": 14
        }
      ]
    },
    {
      "cell_type": "markdown",
      "metadata": {
        "id": "271c6689"
      },
      "source": [
        "### Note:\n",
        "\n",
        "A great feature in Jupyter notebook are the magic functions, en this case, I used %time which allow us to take a quick look at how much time our cell is taking to run. \n",
        "\n",
        "Executing small vectors and comparing with a loop and a Numpy method is useful but while the vector or array is growing, it will take longer to analyze with loop and it will be faster with this magic function. This is when we are more convinced of the power of Numpy"
      ],
      "id": "271c6689"
    },
    {
      "cell_type": "markdown",
      "metadata": {
        "id": "eb1f3602"
      },
      "source": [
        "###### Vector operations - Addition and Product"
      ],
      "id": "eb1f3602"
    },
    {
      "cell_type": "code",
      "metadata": {
        "id": "35f1b592"
      },
      "source": [
        "def vector_addition(vec1,vec2):      \n",
        "    res = vec1 + vec2                 \n",
        "    return res                     "
      ],
      "id": "35f1b592",
      "execution_count": null,
      "outputs": []
    },
    {
      "cell_type": "code",
      "metadata": {
        "id": "737778a1",
        "colab": {
          "base_uri": "https://localhost:8080/"
        },
        "outputId": "b0b14119-501a-4f73-d55a-4e2deabd977e"
      },
      "source": [
        "print(vector_addition(selection(reshaped_array),selection(reshaped_array)))  # printing the sum of two different selected vectors"
      ],
      "id": "737778a1",
      "execution_count": null,
      "outputs": [
        {
          "output_type": "stream",
          "text": [
            "Select a vector in the array to operate> 1\n",
            "Select a vector in the array to operate> 2\n",
            "[112 140 100  30 155 146 111  96  84 111]\n"
          ],
          "name": "stdout"
        }
      ]
    },
    {
      "cell_type": "code",
      "metadata": {
        "id": "8179d6e6"
      },
      "source": [
        "# function for product with two vectors\n",
        "def vector_prod(vec1, vec2):             \n",
        "    res = np.matmul(vec1, vec2)      \n",
        "    return res                       "
      ],
      "id": "8179d6e6",
      "execution_count": null,
      "outputs": []
    },
    {
      "cell_type": "code",
      "metadata": {
        "id": "bd331a8d",
        "colab": {
          "base_uri": "https://localhost:8080/"
        },
        "outputId": "201a2abb-7dd4-4533-be35-299e2b3b117f"
      },
      "source": [
        "vector_prod(selection(reshaped_array),selection(reshaped_array))"
      ],
      "id": "bd331a8d",
      "execution_count": null,
      "outputs": [
        {
          "output_type": "stream",
          "text": [
            "Select a vector in the array to operate> 1\n",
            "Select a vector in the array to operate> 2\n"
          ],
          "name": "stdout"
        },
        {
          "output_type": "execute_result",
          "data": {
            "text/plain": [
              "24356"
            ]
          },
          "metadata": {},
          "execution_count": 20
        }
      ]
    },
    {
      "cell_type": "markdown",
      "metadata": {
        "id": "761b361a"
      },
      "source": [
        "## Excercise 3> \n",
        "#### Introducing to Pandas, Data Formats, Data Frames\n",
        "This file is a survey of salaries during february 2020. \n",
        "Calculating media and mean of net salaries (https://sueldos.openqube.io/encuesta-sueldos-2020.02/ )\n"
      ],
      "id": "761b361a"
    },
    {
      "cell_type": "code",
      "metadata": {
        "colab": {
          "base_uri": "https://localhost:8080/"
        },
        "id": "CbIkfscXr9Te",
        "outputId": "03070b66-4f50-4de8-fae3-1c3fefb88dbb"
      },
      "source": [
        "from google.colab import drive\n",
        "drive.mount('/content/drive')"
      ],
      "id": "CbIkfscXr9Te",
      "execution_count": null,
      "outputs": [
        {
          "output_type": "stream",
          "text": [
            "Mounted at /content/drive\n"
          ],
          "name": "stdout"
        }
      ]
    },
    {
      "cell_type": "code",
      "metadata": {
        "id": "42ce82af",
        "scrolled": true
      },
      "source": [
        "# importing pandas, reading CSV file and storing in pandas Data Frame, then storing in numpy array to play\n",
        "import pandas as pd \n",
        "pd_salary = pd.read_csv('/content/drive/MyDrive/Colab Notebooks/Notebooks/1.DSBZ/3.DataFrames/OpenQube2020.csv')\n",
        "np_salary = np.array(pd_salary)\n"
      ],
      "id": "42ce82af",
      "execution_count": null,
      "outputs": []
    },
    {
      "cell_type": "code",
      "metadata": {
        "id": "2abd8d28",
        "colab": {
          "base_uri": "https://localhost:8080/"
        },
        "outputId": "eb3bea97-9129-4a60-ed2f-95cf74e1b9a5"
      },
      "source": [
        "pd_salary[\"Salario mensual NETO (en tu moneda local)\"].median()"
      ],
      "id": "2abd8d28",
      "execution_count": null,
      "outputs": [
        {
          "output_type": "execute_result",
          "data": {
            "text/plain": [
              "60000.0"
            ]
          },
          "metadata": {},
          "execution_count": 32
        }
      ]
    },
    {
      "cell_type": "code",
      "metadata": {
        "id": "86ffdb00",
        "colab": {
          "base_uri": "https://localhost:8080/"
        },
        "outputId": "79730a0b-067f-47c6-c098-9d64d7d91a63"
      },
      "source": [
        "### Calc mean only from  \"Salario NETO\" column\n",
        "pd_salary[\"Salario mensual NETO (en tu moneda local)\"].mean()"
      ],
      "id": "86ffdb00",
      "execution_count": null,
      "outputs": [
        {
          "output_type": "execute_result",
          "data": {
            "text/plain": [
              "12619504102.123568"
            ]
          },
          "metadata": {},
          "execution_count": 33
        }
      ]
    }
  ]
}